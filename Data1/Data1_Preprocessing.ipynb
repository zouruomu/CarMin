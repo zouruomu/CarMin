{
 "cells": [
  {
   "cell_type": "code",
   "execution_count": 1,
   "id": "8b8e4d1c",
   "metadata": {},
   "outputs": [],
   "source": [
    "import warnings\n",
    "warnings.filterwarnings('ignore')\n",
    "import pandas as pd\n",
    "import numpy as np\n",
    "import matplotlib.pyplot as plt\n",
    "plt.rcParams['figure.dpi'] = 150\n",
    "import seaborn as sns\n",
    "from datetime import datetime\n",
    "import gc\n",
    "\n",
    "data_raw = pd.read_csv(\"./Data1_raw.csv\")\n",
    "data_demo = data_raw.copy()"
   ]
  },
  {
   "cell_type": "markdown",
   "id": "71bbd119",
   "metadata": {},
   "source": [
    "# Preprocessing Data1"
   ]
  },
  {
   "cell_type": "markdown",
   "id": "8ce5e27b",
   "metadata": {},
   "source": [
    "Dataset link: https://www.kaggle.com/datasets/ananaymital/us-used-cars-dataset?rvi=1"
   ]
  },
  {
   "cell_type": "markdown",
   "id": "cb10bc37",
   "metadata": {},
   "source": [
    "## Part 1: Quick look"
   ]
  },
  {
   "cell_type": "code",
   "execution_count": 2,
   "id": "28fd8003",
   "metadata": {},
   "outputs": [
    {
     "data": {
      "text/html": [
       "<div>\n",
       "<style scoped>\n",
       "    .dataframe tbody tr th:only-of-type {\n",
       "        vertical-align: middle;\n",
       "    }\n",
       "\n",
       "    .dataframe tbody tr th {\n",
       "        vertical-align: top;\n",
       "    }\n",
       "\n",
       "    .dataframe thead th {\n",
       "        text-align: right;\n",
       "    }\n",
       "</style>\n",
       "<table border=\"1\" class=\"dataframe\">\n",
       "  <thead>\n",
       "    <tr style=\"text-align: right;\">\n",
       "      <th></th>\n",
       "      <th>vin</th>\n",
       "      <th>back_legroom</th>\n",
       "      <th>bed</th>\n",
       "      <th>bed_height</th>\n",
       "      <th>bed_length</th>\n",
       "      <th>body_type</th>\n",
       "      <th>cabin</th>\n",
       "      <th>city</th>\n",
       "      <th>city_fuel_economy</th>\n",
       "      <th>combine_fuel_economy</th>\n",
       "      <th>...</th>\n",
       "      <th>transmission</th>\n",
       "      <th>transmission_display</th>\n",
       "      <th>trimId</th>\n",
       "      <th>trim_name</th>\n",
       "      <th>vehicle_damage_category</th>\n",
       "      <th>wheel_system</th>\n",
       "      <th>wheel_system_display</th>\n",
       "      <th>wheelbase</th>\n",
       "      <th>width</th>\n",
       "      <th>year</th>\n",
       "    </tr>\n",
       "  </thead>\n",
       "  <tbody>\n",
       "    <tr>\n",
       "      <th>0</th>\n",
       "      <td>ZACNJABB5KPJ92081</td>\n",
       "      <td>35.1 in</td>\n",
       "      <td>NaN</td>\n",
       "      <td>NaN</td>\n",
       "      <td>NaN</td>\n",
       "      <td>SUV / Crossover</td>\n",
       "      <td>NaN</td>\n",
       "      <td>Bayamon</td>\n",
       "      <td>NaN</td>\n",
       "      <td>NaN</td>\n",
       "      <td>...</td>\n",
       "      <td>A</td>\n",
       "      <td>9-Speed Automatic Overdrive</td>\n",
       "      <td>t83804</td>\n",
       "      <td>Latitude FWD</td>\n",
       "      <td>NaN</td>\n",
       "      <td>FWD</td>\n",
       "      <td>Front-Wheel Drive</td>\n",
       "      <td>101.2 in</td>\n",
       "      <td>79.6 in</td>\n",
       "      <td>2019</td>\n",
       "    </tr>\n",
       "    <tr>\n",
       "      <th>1</th>\n",
       "      <td>SALCJ2FX1LH858117</td>\n",
       "      <td>38.1 in</td>\n",
       "      <td>NaN</td>\n",
       "      <td>NaN</td>\n",
       "      <td>NaN</td>\n",
       "      <td>SUV / Crossover</td>\n",
       "      <td>NaN</td>\n",
       "      <td>San Juan</td>\n",
       "      <td>NaN</td>\n",
       "      <td>NaN</td>\n",
       "      <td>...</td>\n",
       "      <td>A</td>\n",
       "      <td>9-Speed Automatic Overdrive</td>\n",
       "      <td>t86759</td>\n",
       "      <td>S AWD</td>\n",
       "      <td>NaN</td>\n",
       "      <td>AWD</td>\n",
       "      <td>All-Wheel Drive</td>\n",
       "      <td>107.9 in</td>\n",
       "      <td>85.6 in</td>\n",
       "      <td>2020</td>\n",
       "    </tr>\n",
       "    <tr>\n",
       "      <th>2</th>\n",
       "      <td>JF1VA2M67G9829723</td>\n",
       "      <td>35.4 in</td>\n",
       "      <td>NaN</td>\n",
       "      <td>NaN</td>\n",
       "      <td>NaN</td>\n",
       "      <td>Sedan</td>\n",
       "      <td>NaN</td>\n",
       "      <td>Guaynabo</td>\n",
       "      <td>17.0</td>\n",
       "      <td>NaN</td>\n",
       "      <td>...</td>\n",
       "      <td>M</td>\n",
       "      <td>6-Speed Manual</td>\n",
       "      <td>t58994</td>\n",
       "      <td>Base</td>\n",
       "      <td>NaN</td>\n",
       "      <td>AWD</td>\n",
       "      <td>All-Wheel Drive</td>\n",
       "      <td>104.3 in</td>\n",
       "      <td>78.9 in</td>\n",
       "      <td>2016</td>\n",
       "    </tr>\n",
       "    <tr>\n",
       "      <th>3</th>\n",
       "      <td>SALRR2RV0L2433391</td>\n",
       "      <td>37.6 in</td>\n",
       "      <td>NaN</td>\n",
       "      <td>NaN</td>\n",
       "      <td>NaN</td>\n",
       "      <td>SUV / Crossover</td>\n",
       "      <td>NaN</td>\n",
       "      <td>San Juan</td>\n",
       "      <td>NaN</td>\n",
       "      <td>NaN</td>\n",
       "      <td>...</td>\n",
       "      <td>A</td>\n",
       "      <td>8-Speed Automatic Overdrive</td>\n",
       "      <td>t86074</td>\n",
       "      <td>V6 HSE AWD</td>\n",
       "      <td>NaN</td>\n",
       "      <td>AWD</td>\n",
       "      <td>All-Wheel Drive</td>\n",
       "      <td>115 in</td>\n",
       "      <td>87.4 in</td>\n",
       "      <td>2020</td>\n",
       "    </tr>\n",
       "    <tr>\n",
       "      <th>4</th>\n",
       "      <td>SALCJ2FXXLH862327</td>\n",
       "      <td>38.1 in</td>\n",
       "      <td>NaN</td>\n",
       "      <td>NaN</td>\n",
       "      <td>NaN</td>\n",
       "      <td>SUV / Crossover</td>\n",
       "      <td>NaN</td>\n",
       "      <td>San Juan</td>\n",
       "      <td>NaN</td>\n",
       "      <td>NaN</td>\n",
       "      <td>...</td>\n",
       "      <td>A</td>\n",
       "      <td>9-Speed Automatic Overdrive</td>\n",
       "      <td>t86759</td>\n",
       "      <td>S AWD</td>\n",
       "      <td>NaN</td>\n",
       "      <td>AWD</td>\n",
       "      <td>All-Wheel Drive</td>\n",
       "      <td>107.9 in</td>\n",
       "      <td>85.6 in</td>\n",
       "      <td>2020</td>\n",
       "    </tr>\n",
       "    <tr>\n",
       "      <th>...</th>\n",
       "      <td>...</td>\n",
       "      <td>...</td>\n",
       "      <td>...</td>\n",
       "      <td>...</td>\n",
       "      <td>...</td>\n",
       "      <td>...</td>\n",
       "      <td>...</td>\n",
       "      <td>...</td>\n",
       "      <td>...</td>\n",
       "      <td>...</td>\n",
       "      <td>...</td>\n",
       "      <td>...</td>\n",
       "      <td>...</td>\n",
       "      <td>...</td>\n",
       "      <td>...</td>\n",
       "      <td>...</td>\n",
       "      <td>...</td>\n",
       "      <td>...</td>\n",
       "      <td>...</td>\n",
       "      <td>...</td>\n",
       "      <td>...</td>\n",
       "    </tr>\n",
       "    <tr>\n",
       "      <th>3000035</th>\n",
       "      <td>2GNAXJEV0J6261526</td>\n",
       "      <td>39.7 in</td>\n",
       "      <td>NaN</td>\n",
       "      <td>NaN</td>\n",
       "      <td>NaN</td>\n",
       "      <td>SUV / Crossover</td>\n",
       "      <td>NaN</td>\n",
       "      <td>Fairfield</td>\n",
       "      <td>26.0</td>\n",
       "      <td>NaN</td>\n",
       "      <td>...</td>\n",
       "      <td>A</td>\n",
       "      <td>Automatic</td>\n",
       "      <td>t72936</td>\n",
       "      <td>1.5T LT FWD</td>\n",
       "      <td>NaN</td>\n",
       "      <td>FWD</td>\n",
       "      <td>Front-Wheel Drive</td>\n",
       "      <td>107.3 in</td>\n",
       "      <td>72.6 in</td>\n",
       "      <td>2018</td>\n",
       "    </tr>\n",
       "    <tr>\n",
       "      <th>3000036</th>\n",
       "      <td>1GNERFKW0LJ225508</td>\n",
       "      <td>38.4 in</td>\n",
       "      <td>NaN</td>\n",
       "      <td>NaN</td>\n",
       "      <td>NaN</td>\n",
       "      <td>SUV / Crossover</td>\n",
       "      <td>NaN</td>\n",
       "      <td>Vallejo</td>\n",
       "      <td>18.0</td>\n",
       "      <td>NaN</td>\n",
       "      <td>...</td>\n",
       "      <td>A</td>\n",
       "      <td>Automatic</td>\n",
       "      <td>t85763</td>\n",
       "      <td>LS FWD</td>\n",
       "      <td>NaN</td>\n",
       "      <td>FWD</td>\n",
       "      <td>Front-Wheel Drive</td>\n",
       "      <td>120.9 in</td>\n",
       "      <td>78.6 in</td>\n",
       "      <td>2020</td>\n",
       "    </tr>\n",
       "    <tr>\n",
       "      <th>3000037</th>\n",
       "      <td>3FA6P0HD3GR134062</td>\n",
       "      <td>38.3 in</td>\n",
       "      <td>NaN</td>\n",
       "      <td>NaN</td>\n",
       "      <td>NaN</td>\n",
       "      <td>Sedan</td>\n",
       "      <td>NaN</td>\n",
       "      <td>Napa</td>\n",
       "      <td>NaN</td>\n",
       "      <td>NaN</td>\n",
       "      <td>...</td>\n",
       "      <td>A</td>\n",
       "      <td>6-Speed Automatic Overdrive</td>\n",
       "      <td>t57569</td>\n",
       "      <td>SE</td>\n",
       "      <td>NaN</td>\n",
       "      <td>FWD</td>\n",
       "      <td>Front-Wheel Drive</td>\n",
       "      <td>112.2 in</td>\n",
       "      <td>83.5 in</td>\n",
       "      <td>2016</td>\n",
       "    </tr>\n",
       "    <tr>\n",
       "      <th>3000038</th>\n",
       "      <td>SAJAJ4BNXHA968809</td>\n",
       "      <td>35 in</td>\n",
       "      <td>NaN</td>\n",
       "      <td>NaN</td>\n",
       "      <td>NaN</td>\n",
       "      <td>Sedan</td>\n",
       "      <td>NaN</td>\n",
       "      <td>Fairfield</td>\n",
       "      <td>30.0</td>\n",
       "      <td>NaN</td>\n",
       "      <td>...</td>\n",
       "      <td>A</td>\n",
       "      <td>Automatic</td>\n",
       "      <td>t65977</td>\n",
       "      <td>20d Premium AWD</td>\n",
       "      <td>NaN</td>\n",
       "      <td>AWD</td>\n",
       "      <td>All-Wheel Drive</td>\n",
       "      <td>111.6 in</td>\n",
       "      <td>81.7 in</td>\n",
       "      <td>2017</td>\n",
       "    </tr>\n",
       "    <tr>\n",
       "      <th>3000039</th>\n",
       "      <td>JN8AT2MT1HW400805</td>\n",
       "      <td>37.9 in</td>\n",
       "      <td>NaN</td>\n",
       "      <td>NaN</td>\n",
       "      <td>NaN</td>\n",
       "      <td>SUV / Crossover</td>\n",
       "      <td>NaN</td>\n",
       "      <td>Napa</td>\n",
       "      <td>26.0</td>\n",
       "      <td>NaN</td>\n",
       "      <td>...</td>\n",
       "      <td>A</td>\n",
       "      <td>Automatic</td>\n",
       "      <td>t76529</td>\n",
       "      <td>2017.5 SV FWD</td>\n",
       "      <td>NaN</td>\n",
       "      <td>FWD</td>\n",
       "      <td>Front-Wheel Drive</td>\n",
       "      <td>106.5 in</td>\n",
       "      <td>72.4 in</td>\n",
       "      <td>2017</td>\n",
       "    </tr>\n",
       "  </tbody>\n",
       "</table>\n",
       "<p>3000040 rows × 66 columns</p>\n",
       "</div>"
      ],
      "text/plain": [
       "                       vin back_legroom  bed bed_height bed_length  \\\n",
       "0        ZACNJABB5KPJ92081      35.1 in  NaN        NaN        NaN   \n",
       "1        SALCJ2FX1LH858117      38.1 in  NaN        NaN        NaN   \n",
       "2        JF1VA2M67G9829723      35.4 in  NaN        NaN        NaN   \n",
       "3        SALRR2RV0L2433391      37.6 in  NaN        NaN        NaN   \n",
       "4        SALCJ2FXXLH862327      38.1 in  NaN        NaN        NaN   \n",
       "...                    ...          ...  ...        ...        ...   \n",
       "3000035  2GNAXJEV0J6261526      39.7 in  NaN        NaN        NaN   \n",
       "3000036  1GNERFKW0LJ225508      38.4 in  NaN        NaN        NaN   \n",
       "3000037  3FA6P0HD3GR134062      38.3 in  NaN        NaN        NaN   \n",
       "3000038  SAJAJ4BNXHA968809        35 in  NaN        NaN        NaN   \n",
       "3000039  JN8AT2MT1HW400805      37.9 in  NaN        NaN        NaN   \n",
       "\n",
       "               body_type cabin       city  city_fuel_economy  \\\n",
       "0        SUV / Crossover   NaN    Bayamon                NaN   \n",
       "1        SUV / Crossover   NaN   San Juan                NaN   \n",
       "2                  Sedan   NaN   Guaynabo               17.0   \n",
       "3        SUV / Crossover   NaN   San Juan                NaN   \n",
       "4        SUV / Crossover   NaN   San Juan                NaN   \n",
       "...                  ...   ...        ...                ...   \n",
       "3000035  SUV / Crossover   NaN  Fairfield               26.0   \n",
       "3000036  SUV / Crossover   NaN    Vallejo               18.0   \n",
       "3000037            Sedan   NaN       Napa                NaN   \n",
       "3000038            Sedan   NaN  Fairfield               30.0   \n",
       "3000039  SUV / Crossover   NaN       Napa               26.0   \n",
       "\n",
       "         combine_fuel_economy  ...  transmission         transmission_display  \\\n",
       "0                         NaN  ...             A  9-Speed Automatic Overdrive   \n",
       "1                         NaN  ...             A  9-Speed Automatic Overdrive   \n",
       "2                         NaN  ...             M               6-Speed Manual   \n",
       "3                         NaN  ...             A  8-Speed Automatic Overdrive   \n",
       "4                         NaN  ...             A  9-Speed Automatic Overdrive   \n",
       "...                       ...  ...           ...                          ...   \n",
       "3000035                   NaN  ...             A                    Automatic   \n",
       "3000036                   NaN  ...             A                    Automatic   \n",
       "3000037                   NaN  ...             A  6-Speed Automatic Overdrive   \n",
       "3000038                   NaN  ...             A                    Automatic   \n",
       "3000039                   NaN  ...             A                    Automatic   \n",
       "\n",
       "         trimId        trim_name  vehicle_damage_category wheel_system  \\\n",
       "0        t83804     Latitude FWD                      NaN          FWD   \n",
       "1        t86759            S AWD                      NaN          AWD   \n",
       "2        t58994             Base                      NaN          AWD   \n",
       "3        t86074       V6 HSE AWD                      NaN          AWD   \n",
       "4        t86759            S AWD                      NaN          AWD   \n",
       "...         ...              ...                      ...          ...   \n",
       "3000035  t72936      1.5T LT FWD                      NaN          FWD   \n",
       "3000036  t85763           LS FWD                      NaN          FWD   \n",
       "3000037  t57569               SE                      NaN          FWD   \n",
       "3000038  t65977  20d Premium AWD                      NaN          AWD   \n",
       "3000039  t76529    2017.5 SV FWD                      NaN          FWD   \n",
       "\n",
       "        wheel_system_display wheelbase    width  year  \n",
       "0          Front-Wheel Drive  101.2 in  79.6 in  2019  \n",
       "1            All-Wheel Drive  107.9 in  85.6 in  2020  \n",
       "2            All-Wheel Drive  104.3 in  78.9 in  2016  \n",
       "3            All-Wheel Drive    115 in  87.4 in  2020  \n",
       "4            All-Wheel Drive  107.9 in  85.6 in  2020  \n",
       "...                      ...       ...      ...   ...  \n",
       "3000035    Front-Wheel Drive  107.3 in  72.6 in  2018  \n",
       "3000036    Front-Wheel Drive  120.9 in  78.6 in  2020  \n",
       "3000037    Front-Wheel Drive  112.2 in  83.5 in  2016  \n",
       "3000038      All-Wheel Drive  111.6 in  81.7 in  2017  \n",
       "3000039    Front-Wheel Drive  106.5 in  72.4 in  2017  \n",
       "\n",
       "[3000040 rows x 66 columns]"
      ]
     },
     "execution_count": 2,
     "metadata": {},
     "output_type": "execute_result"
    }
   ],
   "source": [
    "data_raw"
   ]
  },
  {
   "cell_type": "code",
   "execution_count": 3,
   "id": "b95ead8b",
   "metadata": {},
   "outputs": [
    {
     "data": {
      "text/plain": [
       "Index(['vin', 'back_legroom', 'bed', 'bed_height', 'bed_length', 'body_type',\n",
       "       'cabin', 'city', 'city_fuel_economy', 'combine_fuel_economy',\n",
       "       'daysonmarket', 'dealer_zip', 'description', 'engine_cylinders',\n",
       "       'engine_displacement', 'engine_type', 'exterior_color', 'fleet',\n",
       "       'frame_damaged', 'franchise_dealer', 'franchise_make', 'front_legroom',\n",
       "       'fuel_tank_volume', 'fuel_type', 'has_accidents', 'height',\n",
       "       'highway_fuel_economy', 'horsepower', 'interior_color', 'isCab',\n",
       "       'is_certified', 'is_cpo', 'is_new', 'is_oemcpo', 'latitude', 'length',\n",
       "       'listed_date', 'listing_color', 'listing_id', 'longitude',\n",
       "       'main_picture_url', 'major_options', 'make_name', 'maximum_seating',\n",
       "       'mileage', 'model_name', 'owner_count', 'power', 'price', 'salvage',\n",
       "       'savings_amount', 'seller_rating', 'sp_id', 'sp_name', 'theft_title',\n",
       "       'torque', 'transmission', 'transmission_display', 'trimId', 'trim_name',\n",
       "       'vehicle_damage_category', 'wheel_system', 'wheel_system_display',\n",
       "       'wheelbase', 'width', 'year'],\n",
       "      dtype='object')"
      ]
     },
     "execution_count": 3,
     "metadata": {},
     "output_type": "execute_result"
    }
   ],
   "source": [
    "data_raw.columns"
   ]
  },
  {
   "cell_type": "markdown",
   "id": "0e786f4c",
   "metadata": {},
   "source": [
    "Lots of columns, many of which seem to have redundant information and/or lots of NULLs, let's take a closer look."
   ]
  },
  {
   "cell_type": "markdown",
   "id": "ef2542c1",
   "metadata": {},
   "source": [
    "## Part 2: Dropping useless data"
   ]
  },
  {
   "cell_type": "markdown",
   "id": "209e25bb",
   "metadata": {},
   "source": [
    "### No valid entries"
   ]
  },
  {
   "cell_type": "markdown",
   "id": "cd80350c",
   "metadata": {},
   "source": [
    "Some columns only contain null values: `combine_fuel_economy`, `is_certified`, `vehicle_damage_category` -> drop them!"
   ]
  },
  {
   "cell_type": "code",
   "execution_count": 4,
   "id": "8d881b61",
   "metadata": {},
   "outputs": [
    {
     "data": {
      "text/plain": [
       "combine_fuel_economy       True\n",
       "is_certified               True\n",
       "vehicle_damage_category    True\n",
       "dtype: bool"
      ]
     },
     "execution_count": 4,
     "metadata": {},
     "output_type": "execute_result"
    }
   ],
   "source": [
    "data_raw[[\"combine_fuel_economy\", \"is_certified\", \"vehicle_damage_category\"]].isnull().all()"
   ]
  },
  {
   "cell_type": "markdown",
   "id": "977e6bba",
   "metadata": {},
   "source": [
    "### Redundant info"
   ]
  },
  {
   "cell_type": "markdown",
   "id": "d29f3d40",
   "metadata": {},
   "source": [
    "`engine_cylinders` has the exact same entries as `engine_type` -> drop `engine_cylinders`"
   ]
  },
  {
   "cell_type": "code",
   "execution_count": 5,
   "id": "885ac3f3",
   "metadata": {},
   "outputs": [
    {
     "data": {
      "text/plain": [
       "True"
      ]
     },
     "execution_count": 5,
     "metadata": {},
     "output_type": "execute_result"
    }
   ],
   "source": [
    "(data_raw.engine_cylinders.dropna() == data_raw.engine_type.dropna()).all()"
   ]
  },
  {
   "cell_type": "markdown",
   "id": "2ead6ebe",
   "metadata": {},
   "source": [
    "`exterior_color` is just `listing_color` with more vehicle-specific detail that will bog down modelling -> here we'll just drop `exterior_color`"
   ]
  },
  {
   "cell_type": "code",
   "execution_count": 6,
   "id": "4f7bb013",
   "metadata": {},
   "outputs": [
    {
     "data": {
      "text/plain": [
       "Black                                  162463\n",
       "White                                  126560\n",
       "Summit White                            96432\n",
       "Silver                                  78908\n",
       "Gray                                    77562\n",
       "                                        ...  \n",
       "Blue Dusk Clearcoat Metallic                1\n",
       "Dark Performancesian Green Metallic         1\n",
       "BRILLANT                                    1\n",
       "WHITE MET                                   1\n",
       "Cosmic                                      1\n",
       "Name: exterior_color, Length: 28665, dtype: int64"
      ]
     },
     "execution_count": 6,
     "metadata": {},
     "output_type": "execute_result"
    }
   ],
   "source": [
    "data_raw.exterior_color.value_counts()"
   ]
  },
  {
   "cell_type": "markdown",
   "id": "6cce5201",
   "metadata": {},
   "source": [
    "`transmission_display` is just `transmission` with more vehicle-specific detail that will bog down modelling -> here we'll just drop `transmission_display`"
   ]
  },
  {
   "cell_type": "markdown",
   "id": "35118ae7",
   "metadata": {},
   "source": [
    "`is_cpo` (dealer certified pre-owned) heavily overlaps with `is_oemcpo` (manufacturer certified pre-owned) -> drop `is_cpo`"
   ]
  },
  {
   "cell_type": "markdown",
   "id": "c2ae97de",
   "metadata": {},
   "source": [
    "`wheel_system_display` is just a renaming of `wheel_system` -> drop `wheel_system_display`"
   ]
  },
  {
   "cell_type": "markdown",
   "id": "51b517b2",
   "metadata": {},
   "source": [
    "### Overly specific/otherwise useless info"
   ]
  },
  {
   "cell_type": "markdown",
   "id": "b02c66d4",
   "metadata": {},
   "source": [
    "The following columns contain either overly specific info (too many categoies) or info that has little to no bearing on the vehicle price:\n",
    "\n",
    "`back_legroom`, `bed`, `bed_height`, `bed_length`, `cabin`, `description`, `fleet`, `frame_damaged`, `front_legroom`, `interior_color`, `isCab`, `is_new`, `main_picture_url`, `major_options`, `owner_count`, `salvage`, `savings_amount`, `theft_title`\n",
    "\n",
    "We'll drop them."
   ]
  },
  {
   "cell_type": "markdown",
   "id": "a1790001",
   "metadata": {},
   "source": [
    "### Drop them!"
   ]
  },
  {
   "cell_type": "code",
   "execution_count": 7,
   "id": "6d3621ec",
   "metadata": {},
   "outputs": [],
   "source": [
    "data_demo = data_demo.drop(columns=[\"back_legroom\", \"bed\", \"bed_height\", \"bed_length\",\n",
    "                                    \"cabin\", \"description\", \"engine_cylinders\",\n",
    "                                    \"combine_fuel_economy\", \"exterior_color\", \"fleet\", \"frame_damaged\",\n",
    "                                    \"front_legroom\", \"interior_color\", \"isCab\", \"is_certified\",\n",
    "                                    \"is_cpo\", \"is_new\", \"main_picture_url\", \"major_options\",\n",
    "                                    \"owner_count\", \"salvage\", \"savings_amount\", \"theft_title\",\n",
    "                                    \"transmission_display\", \"vehicle_damage_category\",\n",
    "                                    \"wheel_system_display\"])"
   ]
  },
  {
   "cell_type": "markdown",
   "id": "43076059",
   "metadata": {},
   "source": [
    "## Part 3: Dealing with missing values"
   ]
  },
  {
   "cell_type": "markdown",
   "id": "6ed4469d",
   "metadata": {},
   "source": [
    "Even after dropping the most egregious columns when it comes to NULL values, there are still a lot of NULLs in the remaining columns that can mean different things in different contexts. Let's go through them:"
   ]
  },
  {
   "cell_type": "code",
   "execution_count": 8,
   "id": "8a1078a3",
   "metadata": {},
   "outputs": [
    {
     "data": {
      "text/plain": [
       "vin                           0\n",
       "body_type                 13543\n",
       "city                          0\n",
       "city_fuel_economy        491285\n",
       "daysonmarket                  0\n",
       "dealer_zip                    0\n",
       "engine_displacement      172386\n",
       "engine_type              100581\n",
       "franchise_dealer              0\n",
       "franchise_make           572635\n",
       "fuel_tank_volume         159269\n",
       "fuel_type                 82724\n",
       "has_accidents           1426595\n",
       "height                   159269\n",
       "highway_fuel_economy     491285\n",
       "horsepower               172386\n",
       "is_oemcpo               2864678\n",
       "latitude                      0\n",
       "length                   159269\n",
       "listed_date                   0\n",
       "listing_color                 0\n",
       "listing_id                    0\n",
       "longitude                     0\n",
       "make_name                     0\n",
       "maximum_seating          159269\n",
       "mileage                  144387\n",
       "model_name                    0\n",
       "power                    481426\n",
       "price                         0\n",
       "seller_rating             40872\n",
       "sp_id                        96\n",
       "sp_name                       0\n",
       "torque                   517793\n",
       "transmission              64185\n",
       "trimId                   115827\n",
       "trim_name                116294\n",
       "wheel_system             146732\n",
       "wheelbase                159269\n",
       "width                    159269\n",
       "year                          0\n",
       "dtype: int64"
      ]
     },
     "execution_count": 8,
     "metadata": {},
     "output_type": "execute_result"
    }
   ],
   "source": [
    "data_demo.isnull().sum()"
   ]
  },
  {
   "cell_type": "markdown",
   "id": "ed4b7968",
   "metadata": {},
   "source": [
    "In the case of `has_accidents`, NULL values are actually important and should not be blindly discarded, since not reporting accidents can indeed often mean that minor damage occured. Let's impute a third value \"Unreported\" for missings in this variable:"
   ]
  },
  {
   "cell_type": "code",
   "execution_count": 9,
   "id": "a04a14bd",
   "metadata": {},
   "outputs": [],
   "source": [
    "data_demo[\"has_accidents\"] = data_demo.has_accidents.fillna(\"Unreported\")"
   ]
  },
  {
   "cell_type": "markdown",
   "id": "81d0720f",
   "metadata": {},
   "source": [
    "Furthermore, NULLs in `is_oemcpo` (manufacturer certified pre-owned) are also meaningful (actually `is_oemcpo` only has True or NULL entries). The data was scrapped from a number of websites on which a tag will appear if the vehicle was certified and not otherwise: a missing value here is likely to mean that the car was not certified, as opposed to implying a truly unknown value. We can safely fill missings here with \"False\":"
   ]
  },
  {
   "cell_type": "code",
   "execution_count": 10,
   "id": "a60318e3",
   "metadata": {},
   "outputs": [],
   "source": [
    "data_demo[\"is_oemcpo\"] = data_demo.is_oemcpo.fillna(\"False\")"
   ]
  },
  {
   "cell_type": "markdown",
   "id": "4d2fa56a",
   "metadata": {},
   "source": [
    "Another variable with meaning missing values is `franchise_make`. Indeed, every row that has `franchise_dealer` as False (is not a franchise dealer) would logically have a missing value for what make the franchise was. However, we need to be cautious here, as even for those rows where the dealer was a franchise dealer, the `franchise_make` can still be null:"
   ]
  },
  {
   "cell_type": "code",
   "execution_count": 11,
   "id": "e755a832",
   "metadata": {},
   "outputs": [
    {
     "data": {
      "text/plain": [
       "(568970, 40)"
      ]
     },
     "execution_count": 11,
     "metadata": {},
     "output_type": "execute_result"
    }
   ],
   "source": [
    "data_demo[data_demo.franchise_dealer == False].shape"
   ]
  },
  {
   "cell_type": "code",
   "execution_count": 12,
   "id": "1d394618",
   "metadata": {},
   "outputs": [
    {
     "data": {
      "text/plain": [
       "(572635, 40)"
      ]
     },
     "execution_count": 12,
     "metadata": {},
     "output_type": "execute_result"
    }
   ],
   "source": [
    "data_demo[data_demo.franchise_make.isnull()].shape"
   ]
  },
  {
   "cell_type": "markdown",
   "id": "29eb878a",
   "metadata": {},
   "source": [
    "So we need a slightly less naive imputation strategy for `franchise_make` -> for those rows where `franchise_dealer` is False and `franchise_make` is NULL, we fill the NULL with \"Not-Franchise-Dealer\", and everywhere else we retain the NULL values:"
   ]
  },
  {
   "cell_type": "code",
   "execution_count": 13,
   "id": "abacfa86",
   "metadata": {},
   "outputs": [],
   "source": [
    "franchise_make_fillna_mask = (data_demo.franchise_dealer == False)&(data_demo.franchise_make.isnull())\n",
    "data_demo.loc[franchise_make_fillna_mask, \"franchise_make\"] = \"Not-Franchise-Dealer\""
   ]
  },
  {
   "cell_type": "markdown",
   "id": "edfb8643",
   "metadata": {},
   "source": [
    "Finally, `power`, `torque`, `city_fuel_economy`, and `highway_fuel_economy` all have a large number of missing values while not being critical variables. Simply dropping them would be to lose a lot of data over what is probably less important information. Therefore, we will fill NULLs in `power` and `torque` with \"Unknown\" and NULLs in `city_fuel_economy` and `highway_fuel_economy` with \"-1\":"
   ]
  },
  {
   "cell_type": "code",
   "execution_count": 14,
   "id": "4646056e",
   "metadata": {},
   "outputs": [],
   "source": [
    "data_demo[\"power\"] = data_demo.power.fillna(\"Unknown\")\n",
    "data_demo[\"torque\"] = data_demo.torque.fillna(\"Unknown\")\n",
    "data_demo[\"city_fuel_economy\"] = data_demo.city_fuel_economy.fillna(-1)\n",
    "data_demo[\"highway_fuel_economy\"] = data_demo.highway_fuel_economy.fillna(-1)"
   ]
  },
  {
   "cell_type": "markdown",
   "id": "140a6031",
   "metadata": {},
   "source": [
    "Now that every meaningful NULL value has been handled, we can drop the rows with unmeaningful, actually missing values:"
   ]
  },
  {
   "cell_type": "code",
   "execution_count": 20,
   "id": "772cf858",
   "metadata": {},
   "outputs": [],
   "source": [
    "data_demo = data_demo.dropna()"
   ]
  },
  {
   "cell_type": "markdown",
   "id": "20391a86",
   "metadata": {},
   "source": [
    "TODO:\n",
    "* Everything in `../Data2/Data2_Preprocessing.ipynb`\n",
    "* Clean `engine_type`"
   ]
  },
  {
   "cell_type": "markdown",
   "id": "6a729850",
   "metadata": {},
   "source": [
    "## Final preprocessing function"
   ]
  },
  {
   "cell_type": "code",
   "execution_count": 22,
   "id": "8bb581b9",
   "metadata": {},
   "outputs": [],
   "source": [
    "def preprocess_data1(data):\n",
    "    # dropping unused columns\n",
    "    data = data.drop(columns=[\"back_legroom\", \"bed\", \"bed_height\", \"bed_length\",\n",
    "                              \"cabin\", \"description\", \"engine_cylinders\",\n",
    "                              \"combine_fuel_economy\", \"exterior_color\", \"fleet\", \"frame_damaged\",\n",
    "                              \"front_legroom\", \"interior_color\", \"isCab\", \"is_certified\",\n",
    "                              \"is_cpo\", \"is_new\", \"main_picture_url\", \"major_options\",\n",
    "                              \"owner_count\", \"salvage\", \"savings_amount\", \"theft_title\",\n",
    "                              \"transmission_display\", \"vehicle_damage_category\", \"wheel_system_display\"])\n",
    "    \n",
    "    # filling NULLs\n",
    "    data[\"has_accidents\"] = data.has_accidents.fillna(\"Unreported\")\n",
    "    data[\"is_oemcpo\"] = data.is_oemcpo.fillna(\"False\")\n",
    "    franchise_make_fillna_mask = (data.franchise_dealer == False)&(data.franchise_make.isnull())\n",
    "    data.loc[franchise_make_fillna_mask, \"franchise_make\"] = \"Not-Franchise-Dealer\"\n",
    "    data[\"power\"] = data.power.fillna(\"Unknown\")\n",
    "    data[\"torque\"] = data.torque.fillna(\"Unknown\")\n",
    "    data[\"city_fuel_economy\"] = data.city_fuel_economy.fillna(-1)\n",
    "    data[\"highway_fuel_economy\"] = data.highway_fuel_economy.fillna(-1)\n",
    "    \n",
    "    # removing NULLs\n",
    "    data = data.dropna()\n",
    "    \n",
    "    # TODO: more stuff\n",
    "    \n",
    "    # return out preprocessed data\n",
    "    return data"
   ]
  },
  {
   "cell_type": "code",
   "execution_count": 23,
   "id": "cd99da1e",
   "metadata": {},
   "outputs": [],
   "source": [
    "preprocess_data1(data_raw).to_csv(\"./Data1_partially_preprocessed.csv\", na_rep=\"NULL\", index=False)"
   ]
  }
 ],
 "metadata": {
  "kernelspec": {
   "display_name": "Python 3 (ipykernel)",
   "language": "python",
   "name": "python3"
  },
  "language_info": {
   "codemirror_mode": {
    "name": "ipython",
    "version": 3
   },
   "file_extension": ".py",
   "mimetype": "text/x-python",
   "name": "python",
   "nbconvert_exporter": "python",
   "pygments_lexer": "ipython3",
   "version": "3.10.9"
  }
 },
 "nbformat": 4,
 "nbformat_minor": 5
}
