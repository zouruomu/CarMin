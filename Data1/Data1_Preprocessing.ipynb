{
 "cells": [
  {
   "cell_type": "code",
   "execution_count": 1,
   "id": "8b8e4d1c",
   "metadata": {},
   "outputs": [],
   "source": [
    "import warnings\n",
    "warnings.filterwarnings('ignore')\n",
    "import pandas as pd\n",
    "import numpy as np\n",
    "import matplotlib.pyplot as plt\n",
    "plt.rcParams['figure.dpi'] = 150\n",
    "import seaborn as sns\n",
    "from datetime import datetime\n",
    "import gc\n",
    "\n",
    "data_raw = pd.read_csv(\"./Data1_raw.csv\")\n",
    "data_demo = data_raw.copy()"
   ]
  },
  {
   "cell_type": "markdown",
   "id": "71bbd119",
   "metadata": {},
   "source": [
    "# Preprocessing Data1"
   ]
  },
  {
   "cell_type": "markdown",
   "id": "8ce5e27b",
   "metadata": {},
   "source": [
    "Dataset link: https://www.kaggle.com/datasets/ananaymital/us-used-cars-dataset?rvi=1"
   ]
  },
  {
   "cell_type": "markdown",
   "id": "cb10bc37",
   "metadata": {},
   "source": [
    "## Part 1: Quick look"
   ]
  },
  {
   "cell_type": "code",
   "execution_count": 2,
   "id": "28fd8003",
   "metadata": {},
   "outputs": [
    {
     "data": {
      "text/html": [
       "<div>\n",
       "<style scoped>\n",
       "    .dataframe tbody tr th:only-of-type {\n",
       "        vertical-align: middle;\n",
       "    }\n",
       "\n",
       "    .dataframe tbody tr th {\n",
       "        vertical-align: top;\n",
       "    }\n",
       "\n",
       "    .dataframe thead th {\n",
       "        text-align: right;\n",
       "    }\n",
       "</style>\n",
       "<table border=\"1\" class=\"dataframe\">\n",
       "  <thead>\n",
       "    <tr style=\"text-align: right;\">\n",
       "      <th></th>\n",
       "      <th>vin</th>\n",
       "      <th>back_legroom</th>\n",
       "      <th>bed</th>\n",
       "      <th>bed_height</th>\n",
       "      <th>bed_length</th>\n",
       "      <th>body_type</th>\n",
       "      <th>cabin</th>\n",
       "      <th>city</th>\n",
       "      <th>city_fuel_economy</th>\n",
       "      <th>combine_fuel_economy</th>\n",
       "      <th>...</th>\n",
       "      <th>transmission</th>\n",
       "      <th>transmission_display</th>\n",
       "      <th>trimId</th>\n",
       "      <th>trim_name</th>\n",
       "      <th>vehicle_damage_category</th>\n",
       "      <th>wheel_system</th>\n",
       "      <th>wheel_system_display</th>\n",
       "      <th>wheelbase</th>\n",
       "      <th>width</th>\n",
       "      <th>year</th>\n",
       "    </tr>\n",
       "  </thead>\n",
       "  <tbody>\n",
       "    <tr>\n",
       "      <th>0</th>\n",
       "      <td>ZACNJABB5KPJ92081</td>\n",
       "      <td>35.1 in</td>\n",
       "      <td>NaN</td>\n",
       "      <td>NaN</td>\n",
       "      <td>NaN</td>\n",
       "      <td>SUV / Crossover</td>\n",
       "      <td>NaN</td>\n",
       "      <td>Bayamon</td>\n",
       "      <td>NaN</td>\n",
       "      <td>NaN</td>\n",
       "      <td>...</td>\n",
       "      <td>A</td>\n",
       "      <td>9-Speed Automatic Overdrive</td>\n",
       "      <td>t83804</td>\n",
       "      <td>Latitude FWD</td>\n",
       "      <td>NaN</td>\n",
       "      <td>FWD</td>\n",
       "      <td>Front-Wheel Drive</td>\n",
       "      <td>101.2 in</td>\n",
       "      <td>79.6 in</td>\n",
       "      <td>2019</td>\n",
       "    </tr>\n",
       "    <tr>\n",
       "      <th>1</th>\n",
       "      <td>SALCJ2FX1LH858117</td>\n",
       "      <td>38.1 in</td>\n",
       "      <td>NaN</td>\n",
       "      <td>NaN</td>\n",
       "      <td>NaN</td>\n",
       "      <td>SUV / Crossover</td>\n",
       "      <td>NaN</td>\n",
       "      <td>San Juan</td>\n",
       "      <td>NaN</td>\n",
       "      <td>NaN</td>\n",
       "      <td>...</td>\n",
       "      <td>A</td>\n",
       "      <td>9-Speed Automatic Overdrive</td>\n",
       "      <td>t86759</td>\n",
       "      <td>S AWD</td>\n",
       "      <td>NaN</td>\n",
       "      <td>AWD</td>\n",
       "      <td>All-Wheel Drive</td>\n",
       "      <td>107.9 in</td>\n",
       "      <td>85.6 in</td>\n",
       "      <td>2020</td>\n",
       "    </tr>\n",
       "    <tr>\n",
       "      <th>2</th>\n",
       "      <td>JF1VA2M67G9829723</td>\n",
       "      <td>35.4 in</td>\n",
       "      <td>NaN</td>\n",
       "      <td>NaN</td>\n",
       "      <td>NaN</td>\n",
       "      <td>Sedan</td>\n",
       "      <td>NaN</td>\n",
       "      <td>Guaynabo</td>\n",
       "      <td>17.0</td>\n",
       "      <td>NaN</td>\n",
       "      <td>...</td>\n",
       "      <td>M</td>\n",
       "      <td>6-Speed Manual</td>\n",
       "      <td>t58994</td>\n",
       "      <td>Base</td>\n",
       "      <td>NaN</td>\n",
       "      <td>AWD</td>\n",
       "      <td>All-Wheel Drive</td>\n",
       "      <td>104.3 in</td>\n",
       "      <td>78.9 in</td>\n",
       "      <td>2016</td>\n",
       "    </tr>\n",
       "    <tr>\n",
       "      <th>3</th>\n",
       "      <td>SALRR2RV0L2433391</td>\n",
       "      <td>37.6 in</td>\n",
       "      <td>NaN</td>\n",
       "      <td>NaN</td>\n",
       "      <td>NaN</td>\n",
       "      <td>SUV / Crossover</td>\n",
       "      <td>NaN</td>\n",
       "      <td>San Juan</td>\n",
       "      <td>NaN</td>\n",
       "      <td>NaN</td>\n",
       "      <td>...</td>\n",
       "      <td>A</td>\n",
       "      <td>8-Speed Automatic Overdrive</td>\n",
       "      <td>t86074</td>\n",
       "      <td>V6 HSE AWD</td>\n",
       "      <td>NaN</td>\n",
       "      <td>AWD</td>\n",
       "      <td>All-Wheel Drive</td>\n",
       "      <td>115 in</td>\n",
       "      <td>87.4 in</td>\n",
       "      <td>2020</td>\n",
       "    </tr>\n",
       "    <tr>\n",
       "      <th>4</th>\n",
       "      <td>SALCJ2FXXLH862327</td>\n",
       "      <td>38.1 in</td>\n",
       "      <td>NaN</td>\n",
       "      <td>NaN</td>\n",
       "      <td>NaN</td>\n",
       "      <td>SUV / Crossover</td>\n",
       "      <td>NaN</td>\n",
       "      <td>San Juan</td>\n",
       "      <td>NaN</td>\n",
       "      <td>NaN</td>\n",
       "      <td>...</td>\n",
       "      <td>A</td>\n",
       "      <td>9-Speed Automatic Overdrive</td>\n",
       "      <td>t86759</td>\n",
       "      <td>S AWD</td>\n",
       "      <td>NaN</td>\n",
       "      <td>AWD</td>\n",
       "      <td>All-Wheel Drive</td>\n",
       "      <td>107.9 in</td>\n",
       "      <td>85.6 in</td>\n",
       "      <td>2020</td>\n",
       "    </tr>\n",
       "    <tr>\n",
       "      <th>...</th>\n",
       "      <td>...</td>\n",
       "      <td>...</td>\n",
       "      <td>...</td>\n",
       "      <td>...</td>\n",
       "      <td>...</td>\n",
       "      <td>...</td>\n",
       "      <td>...</td>\n",
       "      <td>...</td>\n",
       "      <td>...</td>\n",
       "      <td>...</td>\n",
       "      <td>...</td>\n",
       "      <td>...</td>\n",
       "      <td>...</td>\n",
       "      <td>...</td>\n",
       "      <td>...</td>\n",
       "      <td>...</td>\n",
       "      <td>...</td>\n",
       "      <td>...</td>\n",
       "      <td>...</td>\n",
       "      <td>...</td>\n",
       "      <td>...</td>\n",
       "    </tr>\n",
       "    <tr>\n",
       "      <th>3000035</th>\n",
       "      <td>2GNAXJEV0J6261526</td>\n",
       "      <td>39.7 in</td>\n",
       "      <td>NaN</td>\n",
       "      <td>NaN</td>\n",
       "      <td>NaN</td>\n",
       "      <td>SUV / Crossover</td>\n",
       "      <td>NaN</td>\n",
       "      <td>Fairfield</td>\n",
       "      <td>26.0</td>\n",
       "      <td>NaN</td>\n",
       "      <td>...</td>\n",
       "      <td>A</td>\n",
       "      <td>Automatic</td>\n",
       "      <td>t72936</td>\n",
       "      <td>1.5T LT FWD</td>\n",
       "      <td>NaN</td>\n",
       "      <td>FWD</td>\n",
       "      <td>Front-Wheel Drive</td>\n",
       "      <td>107.3 in</td>\n",
       "      <td>72.6 in</td>\n",
       "      <td>2018</td>\n",
       "    </tr>\n",
       "    <tr>\n",
       "      <th>3000036</th>\n",
       "      <td>1GNERFKW0LJ225508</td>\n",
       "      <td>38.4 in</td>\n",
       "      <td>NaN</td>\n",
       "      <td>NaN</td>\n",
       "      <td>NaN</td>\n",
       "      <td>SUV / Crossover</td>\n",
       "      <td>NaN</td>\n",
       "      <td>Vallejo</td>\n",
       "      <td>18.0</td>\n",
       "      <td>NaN</td>\n",
       "      <td>...</td>\n",
       "      <td>A</td>\n",
       "      <td>Automatic</td>\n",
       "      <td>t85763</td>\n",
       "      <td>LS FWD</td>\n",
       "      <td>NaN</td>\n",
       "      <td>FWD</td>\n",
       "      <td>Front-Wheel Drive</td>\n",
       "      <td>120.9 in</td>\n",
       "      <td>78.6 in</td>\n",
       "      <td>2020</td>\n",
       "    </tr>\n",
       "    <tr>\n",
       "      <th>3000037</th>\n",
       "      <td>3FA6P0HD3GR134062</td>\n",
       "      <td>38.3 in</td>\n",
       "      <td>NaN</td>\n",
       "      <td>NaN</td>\n",
       "      <td>NaN</td>\n",
       "      <td>Sedan</td>\n",
       "      <td>NaN</td>\n",
       "      <td>Napa</td>\n",
       "      <td>NaN</td>\n",
       "      <td>NaN</td>\n",
       "      <td>...</td>\n",
       "      <td>A</td>\n",
       "      <td>6-Speed Automatic Overdrive</td>\n",
       "      <td>t57569</td>\n",
       "      <td>SE</td>\n",
       "      <td>NaN</td>\n",
       "      <td>FWD</td>\n",
       "      <td>Front-Wheel Drive</td>\n",
       "      <td>112.2 in</td>\n",
       "      <td>83.5 in</td>\n",
       "      <td>2016</td>\n",
       "    </tr>\n",
       "    <tr>\n",
       "      <th>3000038</th>\n",
       "      <td>SAJAJ4BNXHA968809</td>\n",
       "      <td>35 in</td>\n",
       "      <td>NaN</td>\n",
       "      <td>NaN</td>\n",
       "      <td>NaN</td>\n",
       "      <td>Sedan</td>\n",
       "      <td>NaN</td>\n",
       "      <td>Fairfield</td>\n",
       "      <td>30.0</td>\n",
       "      <td>NaN</td>\n",
       "      <td>...</td>\n",
       "      <td>A</td>\n",
       "      <td>Automatic</td>\n",
       "      <td>t65977</td>\n",
       "      <td>20d Premium AWD</td>\n",
       "      <td>NaN</td>\n",
       "      <td>AWD</td>\n",
       "      <td>All-Wheel Drive</td>\n",
       "      <td>111.6 in</td>\n",
       "      <td>81.7 in</td>\n",
       "      <td>2017</td>\n",
       "    </tr>\n",
       "    <tr>\n",
       "      <th>3000039</th>\n",
       "      <td>JN8AT2MT1HW400805</td>\n",
       "      <td>37.9 in</td>\n",
       "      <td>NaN</td>\n",
       "      <td>NaN</td>\n",
       "      <td>NaN</td>\n",
       "      <td>SUV / Crossover</td>\n",
       "      <td>NaN</td>\n",
       "      <td>Napa</td>\n",
       "      <td>26.0</td>\n",
       "      <td>NaN</td>\n",
       "      <td>...</td>\n",
       "      <td>A</td>\n",
       "      <td>Automatic</td>\n",
       "      <td>t76529</td>\n",
       "      <td>2017.5 SV FWD</td>\n",
       "      <td>NaN</td>\n",
       "      <td>FWD</td>\n",
       "      <td>Front-Wheel Drive</td>\n",
       "      <td>106.5 in</td>\n",
       "      <td>72.4 in</td>\n",
       "      <td>2017</td>\n",
       "    </tr>\n",
       "  </tbody>\n",
       "</table>\n",
       "<p>3000040 rows × 66 columns</p>\n",
       "</div>"
      ],
      "text/plain": [
       "                       vin back_legroom  bed bed_height bed_length  \\\n",
       "0        ZACNJABB5KPJ92081      35.1 in  NaN        NaN        NaN   \n",
       "1        SALCJ2FX1LH858117      38.1 in  NaN        NaN        NaN   \n",
       "2        JF1VA2M67G9829723      35.4 in  NaN        NaN        NaN   \n",
       "3        SALRR2RV0L2433391      37.6 in  NaN        NaN        NaN   \n",
       "4        SALCJ2FXXLH862327      38.1 in  NaN        NaN        NaN   \n",
       "...                    ...          ...  ...        ...        ...   \n",
       "3000035  2GNAXJEV0J6261526      39.7 in  NaN        NaN        NaN   \n",
       "3000036  1GNERFKW0LJ225508      38.4 in  NaN        NaN        NaN   \n",
       "3000037  3FA6P0HD3GR134062      38.3 in  NaN        NaN        NaN   \n",
       "3000038  SAJAJ4BNXHA968809        35 in  NaN        NaN        NaN   \n",
       "3000039  JN8AT2MT1HW400805      37.9 in  NaN        NaN        NaN   \n",
       "\n",
       "               body_type cabin       city  city_fuel_economy  \\\n",
       "0        SUV / Crossover   NaN    Bayamon                NaN   \n",
       "1        SUV / Crossover   NaN   San Juan                NaN   \n",
       "2                  Sedan   NaN   Guaynabo               17.0   \n",
       "3        SUV / Crossover   NaN   San Juan                NaN   \n",
       "4        SUV / Crossover   NaN   San Juan                NaN   \n",
       "...                  ...   ...        ...                ...   \n",
       "3000035  SUV / Crossover   NaN  Fairfield               26.0   \n",
       "3000036  SUV / Crossover   NaN    Vallejo               18.0   \n",
       "3000037            Sedan   NaN       Napa                NaN   \n",
       "3000038            Sedan   NaN  Fairfield               30.0   \n",
       "3000039  SUV / Crossover   NaN       Napa               26.0   \n",
       "\n",
       "         combine_fuel_economy  ...  transmission         transmission_display  \\\n",
       "0                         NaN  ...             A  9-Speed Automatic Overdrive   \n",
       "1                         NaN  ...             A  9-Speed Automatic Overdrive   \n",
       "2                         NaN  ...             M               6-Speed Manual   \n",
       "3                         NaN  ...             A  8-Speed Automatic Overdrive   \n",
       "4                         NaN  ...             A  9-Speed Automatic Overdrive   \n",
       "...                       ...  ...           ...                          ...   \n",
       "3000035                   NaN  ...             A                    Automatic   \n",
       "3000036                   NaN  ...             A                    Automatic   \n",
       "3000037                   NaN  ...             A  6-Speed Automatic Overdrive   \n",
       "3000038                   NaN  ...             A                    Automatic   \n",
       "3000039                   NaN  ...             A                    Automatic   \n",
       "\n",
       "         trimId        trim_name  vehicle_damage_category wheel_system  \\\n",
       "0        t83804     Latitude FWD                      NaN          FWD   \n",
       "1        t86759            S AWD                      NaN          AWD   \n",
       "2        t58994             Base                      NaN          AWD   \n",
       "3        t86074       V6 HSE AWD                      NaN          AWD   \n",
       "4        t86759            S AWD                      NaN          AWD   \n",
       "...         ...              ...                      ...          ...   \n",
       "3000035  t72936      1.5T LT FWD                      NaN          FWD   \n",
       "3000036  t85763           LS FWD                      NaN          FWD   \n",
       "3000037  t57569               SE                      NaN          FWD   \n",
       "3000038  t65977  20d Premium AWD                      NaN          AWD   \n",
       "3000039  t76529    2017.5 SV FWD                      NaN          FWD   \n",
       "\n",
       "        wheel_system_display wheelbase    width  year  \n",
       "0          Front-Wheel Drive  101.2 in  79.6 in  2019  \n",
       "1            All-Wheel Drive  107.9 in  85.6 in  2020  \n",
       "2            All-Wheel Drive  104.3 in  78.9 in  2016  \n",
       "3            All-Wheel Drive    115 in  87.4 in  2020  \n",
       "4            All-Wheel Drive  107.9 in  85.6 in  2020  \n",
       "...                      ...       ...      ...   ...  \n",
       "3000035    Front-Wheel Drive  107.3 in  72.6 in  2018  \n",
       "3000036    Front-Wheel Drive  120.9 in  78.6 in  2020  \n",
       "3000037    Front-Wheel Drive  112.2 in  83.5 in  2016  \n",
       "3000038      All-Wheel Drive  111.6 in  81.7 in  2017  \n",
       "3000039    Front-Wheel Drive  106.5 in  72.4 in  2017  \n",
       "\n",
       "[3000040 rows x 66 columns]"
      ]
     },
     "execution_count": 2,
     "metadata": {},
     "output_type": "execute_result"
    }
   ],
   "source": [
    "data_raw"
   ]
  },
  {
   "cell_type": "code",
   "execution_count": 3,
   "id": "b95ead8b",
   "metadata": {},
   "outputs": [
    {
     "data": {
      "text/plain": [
       "Index(['vin', 'back_legroom', 'bed', 'bed_height', 'bed_length', 'body_type',\n",
       "       'cabin', 'city', 'city_fuel_economy', 'combine_fuel_economy',\n",
       "       'daysonmarket', 'dealer_zip', 'description', 'engine_cylinders',\n",
       "       'engine_displacement', 'engine_type', 'exterior_color', 'fleet',\n",
       "       'frame_damaged', 'franchise_dealer', 'franchise_make', 'front_legroom',\n",
       "       'fuel_tank_volume', 'fuel_type', 'has_accidents', 'height',\n",
       "       'highway_fuel_economy', 'horsepower', 'interior_color', 'isCab',\n",
       "       'is_certified', 'is_cpo', 'is_new', 'is_oemcpo', 'latitude', 'length',\n",
       "       'listed_date', 'listing_color', 'listing_id', 'longitude',\n",
       "       'main_picture_url', 'major_options', 'make_name', 'maximum_seating',\n",
       "       'mileage', 'model_name', 'owner_count', 'power', 'price', 'salvage',\n",
       "       'savings_amount', 'seller_rating', 'sp_id', 'sp_name', 'theft_title',\n",
       "       'torque', 'transmission', 'transmission_display', 'trimId', 'trim_name',\n",
       "       'vehicle_damage_category', 'wheel_system', 'wheel_system_display',\n",
       "       'wheelbase', 'width', 'year'],\n",
       "      dtype='object')"
      ]
     },
     "execution_count": 3,
     "metadata": {},
     "output_type": "execute_result"
    }
   ],
   "source": [
    "data_raw.columns"
   ]
  },
  {
   "cell_type": "markdown",
   "id": "0e786f4c",
   "metadata": {},
   "source": [
    "Lots of columns, many of which seem to have redundant information and/or lots of NULLs, let's take a closer look."
   ]
  },
  {
   "cell_type": "markdown",
   "id": "ef2542c1",
   "metadata": {},
   "source": [
    "## Part 2: Dropping useless data"
   ]
  },
  {
   "cell_type": "markdown",
   "id": "209e25bb",
   "metadata": {},
   "source": [
    "### No valid entries"
   ]
  },
  {
   "cell_type": "markdown",
   "id": "cd80350c",
   "metadata": {},
   "source": [
    "Some columns only contain null values: `combine_fuel_economy`, `is_certified`, `vehicle_damage_category`"
   ]
  },
  {
   "cell_type": "code",
   "execution_count": 4,
   "id": "8d881b61",
   "metadata": {},
   "outputs": [
    {
     "data": {
      "text/plain": [
       "combine_fuel_economy       True\n",
       "is_certified               True\n",
       "vehicle_damage_category    True\n",
       "dtype: bool"
      ]
     },
     "execution_count": 4,
     "metadata": {},
     "output_type": "execute_result"
    }
   ],
   "source": [
    "data_raw[[\"combine_fuel_economy\", \"is_certified\", \"vehicle_damage_category\"]].isnull().all()"
   ]
  },
  {
   "cell_type": "markdown",
   "id": "3408a28f",
   "metadata": {},
   "source": [
    "Drop them!"
   ]
  },
  {
   "cell_type": "code",
   "execution_count": 5,
   "id": "a7a91527",
   "metadata": {},
   "outputs": [],
   "source": [
    "data_demo = data_demo.drop(columns=[\"combine_fuel_economy\", \"is_certified\", \"vehicle_damage_category\"])"
   ]
  },
  {
   "cell_type": "markdown",
   "id": "977e6bba",
   "metadata": {},
   "source": [
    "### Redundant info"
   ]
  },
  {
   "cell_type": "markdown",
   "id": "d29f3d40",
   "metadata": {},
   "source": [
    "`engine_cylinders` has the exact same entries as `engine_type`:"
   ]
  },
  {
   "cell_type": "code",
   "execution_count": 6,
   "id": "885ac3f3",
   "metadata": {},
   "outputs": [
    {
     "data": {
      "text/plain": [
       "True"
      ]
     },
     "execution_count": 6,
     "metadata": {},
     "output_type": "execute_result"
    }
   ],
   "source": [
    "(data_raw.engine_cylinders.dropna() == data_raw.engine_type.dropna()).all()"
   ]
  },
  {
   "cell_type": "markdown",
   "id": "64adf9c2",
   "metadata": {},
   "source": [
    "Drop `engine_cylinders`."
   ]
  },
  {
   "cell_type": "code",
   "execution_count": 7,
   "id": "cd1296b0",
   "metadata": {},
   "outputs": [],
   "source": [
    "data_demo = data_demo.drop(columns=[\"engine_cylinders\"])"
   ]
  },
  {
   "cell_type": "markdown",
   "id": "2ead6ebe",
   "metadata": {},
   "source": [
    "`exterior_color` is just `listing_color` with more vehicle-specific detail that will bog down modelling:"
   ]
  },
  {
   "cell_type": "code",
   "execution_count": 8,
   "id": "4f7bb013",
   "metadata": {},
   "outputs": [
    {
     "data": {
      "text/plain": [
       "Black                                  162463\n",
       "White                                  126560\n",
       "Summit White                            96432\n",
       "Silver                                  78908\n",
       "Gray                                    77562\n",
       "                                        ...  \n",
       "Blue Dusk Clearcoat Metallic                1\n",
       "Dark Performancesian Green Metallic         1\n",
       "BRILLANT                                    1\n",
       "WHITE MET                                   1\n",
       "Cosmic                                      1\n",
       "Name: exterior_color, Length: 28665, dtype: int64"
      ]
     },
     "execution_count": 8,
     "metadata": {},
     "output_type": "execute_result"
    }
   ],
   "source": [
    "data_raw.exterior_color.value_counts()"
   ]
  },
  {
   "cell_type": "markdown",
   "id": "00a926bb",
   "metadata": {},
   "source": [
    "Here we'll just drop `exterior_color`."
   ]
  },
  {
   "cell_type": "code",
   "execution_count": 9,
   "id": "17aac03d",
   "metadata": {},
   "outputs": [],
   "source": [
    "data_demo = data_demo.drop(columns=[\"exterior_color\"])"
   ]
  },
  {
   "cell_type": "markdown",
   "id": "6cce5201",
   "metadata": {},
   "source": [
    "Likewise, `transmission_display` is just `transmission` with more vehicle-specific detail that will bog down modelling -> here we'll just drop `transmission_display`."
   ]
  },
  {
   "cell_type": "code",
   "execution_count": 10,
   "id": "02452324",
   "metadata": {},
   "outputs": [],
   "source": [
    "data_demo = data_demo.drop(columns=[\"transmission_display\"])"
   ]
  },
  {
   "cell_type": "markdown",
   "id": "35118ae7",
   "metadata": {},
   "source": [
    "`is_cpo` (dealer certified pre-owned) heavily overlaps with `is_oemcpo` (manufacturer certified pre-owned) -> drop `is_cpo`."
   ]
  },
  {
   "cell_type": "code",
   "execution_count": 11,
   "id": "39123f5c",
   "metadata": {},
   "outputs": [],
   "source": [
    "data_demo = data_demo.drop(columns=[\"is_cpo\"])"
   ]
  },
  {
   "cell_type": "markdown",
   "id": "c2ae97de",
   "metadata": {},
   "source": [
    "`wheel_system_display` is just a renaming of `wheel_system` -> drop `wheel_system_display`."
   ]
  },
  {
   "cell_type": "code",
   "execution_count": 12,
   "id": "d4342a2f",
   "metadata": {},
   "outputs": [],
   "source": [
    "data_demo = data_demo.drop(columns=[\"wheel_system_display\"])"
   ]
  },
  {
   "cell_type": "markdown",
   "id": "51b517b2",
   "metadata": {},
   "source": [
    "### Overly specific/otherwise useless info"
   ]
  },
  {
   "cell_type": "markdown",
   "id": "b02c66d4",
   "metadata": {},
   "source": [
    "The following columns contain either overly specific info (too many categoies) or info that has little to no bearing on the vehicle price:\n",
    "\n",
    "`back_legroom`, `bed`, `bed_height`, `bed_length`, `cabin`, `description`, `fleet`, `frame_damaged`, `franchise_make`, `front_legroom`, `interior_color`, `isCab`, `is_new`, `main_picture_url`, `major_options`, `owner_count`, `salvage`, `savings_amount`, `theft_title`\n",
    "\n",
    "We'll drop all of them."
   ]
  },
  {
   "cell_type": "code",
   "execution_count": 13,
   "id": "6d3621ec",
   "metadata": {},
   "outputs": [],
   "source": [
    "data_demo = data_demo.drop(columns=[\"back_legroom\", \"bed\", \"bed_height\", \"bed_length\",\n",
    "                                    \"cabin\", \"description\", \"fleet\", \"frame_damaged\", \"franchise_make\",\n",
    "                                    \"front_legroom\", \"interior_color\", \"isCab\", \"is_new\",\n",
    "                                    \"main_picture_url\", \"major_options\", \"owner_count\",\n",
    "                                    \"salvage\", \"savings_amount\", \"theft_title\"])"
   ]
  },
  {
   "cell_type": "markdown",
   "id": "43076059",
   "metadata": {},
   "source": [
    "## Part 3: Dealing with missing values"
   ]
  },
  {
   "cell_type": "markdown",
   "id": "6ed4469d",
   "metadata": {},
   "source": [
    "Even after dropping the most egregious columns when it comes to NULL values, there are still a lot of NULLs in the remaining columns that can mean different things in different contexts. Let's go through them:"
   ]
  },
  {
   "cell_type": "code",
   "execution_count": 14,
   "id": "8a1078a3",
   "metadata": {},
   "outputs": [
    {
     "data": {
      "text/plain": [
       "vin                           0\n",
       "body_type                 13543\n",
       "city                          0\n",
       "city_fuel_economy        491285\n",
       "daysonmarket                  0\n",
       "dealer_zip                    0\n",
       "engine_displacement      172386\n",
       "engine_type              100581\n",
       "franchise_dealer              0\n",
       "fuel_tank_volume         159269\n",
       "fuel_type                 82724\n",
       "has_accidents           1426595\n",
       "height                   159269\n",
       "highway_fuel_economy     491285\n",
       "horsepower               172386\n",
       "is_oemcpo               2864678\n",
       "latitude                      0\n",
       "length                   159269\n",
       "listed_date                   0\n",
       "listing_color                 0\n",
       "listing_id                    0\n",
       "longitude                     0\n",
       "make_name                     0\n",
       "maximum_seating          159269\n",
       "mileage                  144387\n",
       "model_name                    0\n",
       "power                    481426\n",
       "price                         0\n",
       "seller_rating             40872\n",
       "sp_id                        96\n",
       "sp_name                       0\n",
       "torque                   517793\n",
       "transmission              64185\n",
       "trimId                   115827\n",
       "trim_name                116294\n",
       "wheel_system             146732\n",
       "wheelbase                159269\n",
       "width                    159269\n",
       "year                          0\n",
       "dtype: int64"
      ]
     },
     "execution_count": 14,
     "metadata": {},
     "output_type": "execute_result"
    }
   ],
   "source": [
    "data_demo.isnull().sum()"
   ]
  },
  {
   "cell_type": "markdown",
   "id": "ed4b7968",
   "metadata": {},
   "source": [
    "In the case of `has_accidents`, NULL values are actually important and should not be blindly discarded, since not reporting accidents can indeed often mean that minor damage occured. Let's impute a third value \"Unreported\" for missings in this variable:"
   ]
  },
  {
   "cell_type": "code",
   "execution_count": 15,
   "id": "a04a14bd",
   "metadata": {},
   "outputs": [],
   "source": [
    "data_demo[\"has_accidents\"] = data_demo.has_accidents.fillna(\"Unreported\")"
   ]
  },
  {
   "cell_type": "markdown",
   "id": "81d0720f",
   "metadata": {},
   "source": [
    "Furthermore, NULLs in `is_oemcpo` (manufacturer certified pre-owned) are also meaningful (actually `is_oemcpo` only has True or NULL entries). The data was scrapped from a number of websites on which a tag will appear if the vehicle was certified and not otherwise: a missing value here is likely to mean that the car was not certified, as opposed to implying a truly unknown value. We can safely fill missings here with \"False\":"
   ]
  },
  {
   "cell_type": "code",
   "execution_count": 16,
   "id": "a60318e3",
   "metadata": {},
   "outputs": [],
   "source": [
    "data_demo[\"is_oemcpo\"] = data_demo.is_oemcpo.fillna(\"False\")"
   ]
  },
  {
   "cell_type": "markdown",
   "id": "edfb8643",
   "metadata": {},
   "source": [
    "Finally, `power`, `torque`, `city_fuel_economy`, and `highway_fuel_economy` all have a large number of missing values while not being critical variables. Simply dropping them would be to lose a lot of data over what is probably less important information. Therefore, we will fill NULLs in `power` and `torque` with \"Unknown\" and NULLs in `city_fuel_economy` and `highway_fuel_economy` with \"-1\":"
   ]
  },
  {
   "cell_type": "code",
   "execution_count": 17,
   "id": "4646056e",
   "metadata": {},
   "outputs": [],
   "source": [
    "data_demo[\"power\"] = data_demo.power.fillna(\"Unknown\")\n",
    "data_demo[\"torque\"] = data_demo.torque.fillna(\"Unknown\")\n",
    "data_demo[\"city_fuel_economy\"] = data_demo.city_fuel_economy.fillna(-1)\n",
    "data_demo[\"highway_fuel_economy\"] = data_demo.highway_fuel_economy.fillna(-1)"
   ]
  },
  {
   "cell_type": "markdown",
   "id": "2d71fe04",
   "metadata": {},
   "source": [
    "As a last note, this data also occassionally uses \"--\" to repesent NULL values:"
   ]
  },
  {
   "cell_type": "code",
   "execution_count": 18,
   "id": "c967d6aa",
   "metadata": {},
   "outputs": [
    {
     "data": {
      "text/plain": [
       "vin                        0\n",
       "body_type                  0\n",
       "city                       0\n",
       "city_fuel_economy          0\n",
       "daysonmarket               0\n",
       "dealer_zip                 0\n",
       "engine_displacement        0\n",
       "engine_type                0\n",
       "franchise_dealer           0\n",
       "fuel_tank_volume        1408\n",
       "fuel_type                  0\n",
       "has_accidents              0\n",
       "height                   468\n",
       "highway_fuel_economy       0\n",
       "horsepower                 0\n",
       "is_oemcpo                  0\n",
       "latitude                   0\n",
       "length                   457\n",
       "listed_date                0\n",
       "listing_color              0\n",
       "listing_id                 0\n",
       "longitude                  0\n",
       "make_name                  0\n",
       "maximum_seating          501\n",
       "mileage                    0\n",
       "model_name                 0\n",
       "power                      0\n",
       "price                      0\n",
       "seller_rating              0\n",
       "sp_id                      0\n",
       "sp_name                    0\n",
       "torque                     0\n",
       "transmission               0\n",
       "trimId                     0\n",
       "trim_name                  0\n",
       "wheel_system               0\n",
       "wheelbase                433\n",
       "width                    481\n",
       "year                       0\n",
       "dtype: int64"
      ]
     },
     "execution_count": 18,
     "metadata": {},
     "output_type": "execute_result"
    }
   ],
   "source": [
    "(data_demo == \"--\").sum()"
   ]
  },
  {
   "cell_type": "markdown",
   "id": "faa0f761",
   "metadata": {},
   "source": [
    "Let's replace these with null values so they can dropped in the next step:"
   ]
  },
  {
   "cell_type": "code",
   "execution_count": 19,
   "id": "0a50795f",
   "metadata": {},
   "outputs": [],
   "source": [
    "data_demo = data_demo.replace(\"--\", np.nan)"
   ]
  },
  {
   "cell_type": "markdown",
   "id": "140a6031",
   "metadata": {},
   "source": [
    "Now that every meaningful NULL value has been handled, we can drop the rows with unmeaningful, actually missing values:"
   ]
  },
  {
   "cell_type": "code",
   "execution_count": 20,
   "id": "772cf858",
   "metadata": {},
   "outputs": [],
   "source": [
    "data_demo = data_demo.dropna()"
   ]
  },
  {
   "cell_type": "markdown",
   "id": "7c6989b8",
   "metadata": {},
   "source": [
    "## Part 4: Basic cleaning and exploratory analysis"
   ]
  },
  {
   "cell_type": "markdown",
   "id": "b862fb88",
   "metadata": {},
   "source": [
    "### Cleaning price"
   ]
  },
  {
   "cell_type": "markdown",
   "id": "bc39a684",
   "metadata": {},
   "source": [
    "Let's begin with our target variable: price."
   ]
  },
  {
   "cell_type": "code",
   "execution_count": 21,
   "id": "61751378",
   "metadata": {},
   "outputs": [
    {
     "data": {
      "text/plain": [
       "<Axes: xlabel='price', ylabel='Density'>"
      ]
     },
     "execution_count": 21,
     "metadata": {},
     "output_type": "execute_result"
    },
    {
     "data": {
      "image/png": "[encoded data removed]",
      "text/plain": [
       "<Figure size 432x288 with 1 Axes>"
      ]
     },
     "metadata": {
      "needs_background": "light"
     },
     "output_type": "display_data"
    }
   ],
   "source": [
    "sns.distplot(data_demo.price)"
   ]
  },
  {
   "cell_type": "markdown",
   "id": "d110f276",
   "metadata": {},
   "source": [
    "There are some huge outliers! 3,000,000 is a lot to pay for a car... is this a mistake? Let's look at all cars above 1 million:"
   ]
  },
  {
   "cell_type": "code",
   "execution_count": 22,
   "id": "84ce4314",
   "metadata": {},
   "outputs": [
    {
     "data": {
      "text/html": [
       "<div>\n",
       "<style scoped>\n",
       "    .dataframe tbody tr th:only-of-type {\n",
       "        vertical-align: middle;\n",
       "    }\n",
       "\n",
       "    .dataframe tbody tr th {\n",
       "        vertical-align: top;\n",
       "    }\n",
       "\n",
       "    .dataframe thead th {\n",
       "        text-align: right;\n",
       "    }\n",
       "</style>\n",
       "<table border=\"1\" class=\"dataframe\">\n",
       "  <thead>\n",
       "    <tr style=\"text-align: right;\">\n",
       "      <th></th>\n",
       "      <th>make_name</th>\n",
       "      <th>model_name</th>\n",
       "    </tr>\n",
       "  </thead>\n",
       "  <tbody>\n",
       "    <tr>\n",
       "      <th>28720</th>\n",
       "      <td>Ferrari</td>\n",
       "      <td>599 GTB Fiorano</td>\n",
       "    </tr>\n",
       "    <tr>\n",
       "      <th>174408</th>\n",
       "      <td>Ferrari</td>\n",
       "      <td>Enzo</td>\n",
       "    </tr>\n",
       "    <tr>\n",
       "      <th>179396</th>\n",
       "      <td>McLaren</td>\n",
       "      <td>P1</td>\n",
       "    </tr>\n",
       "    <tr>\n",
       "      <th>230048</th>\n",
       "      <td>Ford</td>\n",
       "      <td>Edge</td>\n",
       "    </tr>\n",
       "    <tr>\n",
       "      <th>582945</th>\n",
       "      <td>Lotus</td>\n",
       "      <td>Elise</td>\n",
       "    </tr>\n",
       "    <tr>\n",
       "      <th>908807</th>\n",
       "      <td>Bugatti</td>\n",
       "      <td>Veyron</td>\n",
       "    </tr>\n",
       "    <tr>\n",
       "      <th>1410578</th>\n",
       "      <td>Ferrari</td>\n",
       "      <td>Enzo</td>\n",
       "    </tr>\n",
       "    <tr>\n",
       "      <th>2056790</th>\n",
       "      <td>Porsche</td>\n",
       "      <td>918 Spyder</td>\n",
       "    </tr>\n",
       "    <tr>\n",
       "      <th>2114147</th>\n",
       "      <td>Chevrolet</td>\n",
       "      <td>Volt</td>\n",
       "    </tr>\n",
       "    <tr>\n",
       "      <th>2125636</th>\n",
       "      <td>Dodge</td>\n",
       "      <td>Grand Caravan</td>\n",
       "    </tr>\n",
       "    <tr>\n",
       "      <th>2178384</th>\n",
       "      <td>Nissan</td>\n",
       "      <td>Rogue Sport</td>\n",
       "    </tr>\n",
       "    <tr>\n",
       "      <th>2178397</th>\n",
       "      <td>Chevrolet</td>\n",
       "      <td>Impala</td>\n",
       "    </tr>\n",
       "    <tr>\n",
       "      <th>2435960</th>\n",
       "      <td>McLaren</td>\n",
       "      <td>P1</td>\n",
       "    </tr>\n",
       "    <tr>\n",
       "      <th>2477629</th>\n",
       "      <td>Ferrari</td>\n",
       "      <td>F12 Berlinetta</td>\n",
       "    </tr>\n",
       "    <tr>\n",
       "      <th>2484755</th>\n",
       "      <td>BMW</td>\n",
       "      <td>7 Series</td>\n",
       "    </tr>\n",
       "    <tr>\n",
       "      <th>2536911</th>\n",
       "      <td>Ford</td>\n",
       "      <td>GT</td>\n",
       "    </tr>\n",
       "    <tr>\n",
       "      <th>2786658</th>\n",
       "      <td>Ford</td>\n",
       "      <td>GT</td>\n",
       "    </tr>\n",
       "    <tr>\n",
       "      <th>2786672</th>\n",
       "      <td>Ferrari</td>\n",
       "      <td>LaFerrari</td>\n",
       "    </tr>\n",
       "    <tr>\n",
       "      <th>2795469</th>\n",
       "      <td>Porsche</td>\n",
       "      <td>918 Spyder</td>\n",
       "    </tr>\n",
       "    <tr>\n",
       "      <th>2795480</th>\n",
       "      <td>Ferrari</td>\n",
       "      <td>LaFerrari</td>\n",
       "    </tr>\n",
       "    <tr>\n",
       "      <th>2984892</th>\n",
       "      <td>Lexus</td>\n",
       "      <td>LFA</td>\n",
       "    </tr>\n",
       "  </tbody>\n",
       "</table>\n",
       "</div>"
      ],
      "text/plain": [
       "         make_name       model_name\n",
       "28720      Ferrari  599 GTB Fiorano\n",
       "174408     Ferrari             Enzo\n",
       "179396     McLaren               P1\n",
       "230048        Ford             Edge\n",
       "582945       Lotus            Elise\n",
       "908807     Bugatti           Veyron\n",
       "1410578    Ferrari             Enzo\n",
       "2056790    Porsche       918 Spyder\n",
       "2114147  Chevrolet             Volt\n",
       "2125636      Dodge    Grand Caravan\n",
       "2178384     Nissan      Rogue Sport\n",
       "2178397  Chevrolet           Impala\n",
       "2435960    McLaren               P1\n",
       "2477629    Ferrari   F12 Berlinetta\n",
       "2484755        BMW         7 Series\n",
       "2536911       Ford               GT\n",
       "2786658       Ford               GT\n",
       "2786672    Ferrari        LaFerrari\n",
       "2795469    Porsche       918 Spyder\n",
       "2795480    Ferrari        LaFerrari\n",
       "2984892      Lexus              LFA"
      ]
     },
     "execution_count": 22,
     "metadata": {},
     "output_type": "execute_result"
    }
   ],
   "source": [
    "data_demo.loc[data_demo.price > 1000000, [\"make_name\", \"model_name\"]]"
   ]
  },
  {
   "cell_type": "markdown",
   "id": "90cde54c",
   "metadata": {},
   "source": [
    "I'm not an expert on luxury cars... but these brands do seem kind of reasonable? In any case, whether the 3M is a mistake or not, taking our a few huge outliers is never a bad idea. For now, let's conservatively drop everything above 1M, which still leaves us a lot of very expensive cars!"
   ]
  },
  {
   "cell_type": "code",
   "execution_count": 23,
   "id": "873d31a6",
   "metadata": {},
   "outputs": [],
   "source": [
    "data_demo = data_demo[data_demo.price < 1000000]"
   ]
  },
  {
   "cell_type": "markdown",
   "id": "e8dd7b3d",
   "metadata": {},
   "source": [
    "### Cleaning `mileage`"
   ]
  },
  {
   "cell_type": "markdown",
   "id": "dcfc9771",
   "metadata": {},
   "source": [
    "The car's odometer is usually one of most important factors in determining used car prices, let's take a look:"
   ]
  },
  {
   "cell_type": "code",
   "execution_count": 24,
   "id": "bec28773",
   "metadata": {},
   "outputs": [
    {
     "data": {
      "text/plain": [
       "<Axes: xlabel='mileage', ylabel='Density'>"
      ]
     },
     "execution_count": 24,
     "metadata": {},
     "output_type": "execute_result"
    },
    {
     "data": {
      "image/png": "[encoded data removed]",
      "text/plain": [
       "<Figure size 432x288 with 1 Axes>"
      ]
     },
     "metadata": {
      "needs_background": "light"
     },
     "output_type": "display_data"
    }
   ],
   "source": [
    "sns.distplot(data_demo.mileage)"
   ]
  },
  {
   "cell_type": "markdown",
   "id": "9addbe1c",
   "metadata": {},
   "source": [
    "4 million miles! What kind of car can go 4 million miles?! What kind of car can go 1 million miles?"
   ]
  },
  {
   "cell_type": "code",
   "execution_count": 25,
   "id": "88e85615",
   "metadata": {},
   "outputs": [
    {
     "data": {
      "text/html": [
       "<div>\n",
       "<style scoped>\n",
       "    .dataframe tbody tr th:only-of-type {\n",
       "        vertical-align: middle;\n",
       "    }\n",
       "\n",
       "    .dataframe tbody tr th {\n",
       "        vertical-align: top;\n",
       "    }\n",
       "\n",
       "    .dataframe thead th {\n",
       "        text-align: right;\n",
       "    }\n",
       "</style>\n",
       "<table border=\"1\" class=\"dataframe\">\n",
       "  <thead>\n",
       "    <tr style=\"text-align: right;\">\n",
       "      <th></th>\n",
       "      <th>price</th>\n",
       "      <th>make_name</th>\n",
       "      <th>model_name</th>\n",
       "      <th>mileage</th>\n",
       "    </tr>\n",
       "  </thead>\n",
       "  <tbody>\n",
       "    <tr>\n",
       "      <th>210044</th>\n",
       "      <td>50775.0</td>\n",
       "      <td>Chevrolet</td>\n",
       "      <td>Silverado 1500</td>\n",
       "      <td>4290461.0</td>\n",
       "    </tr>\n",
       "    <tr>\n",
       "      <th>1319359</th>\n",
       "      <td>45149.0</td>\n",
       "      <td>Ford</td>\n",
       "      <td>F-150</td>\n",
       "      <td>1225238.0</td>\n",
       "    </tr>\n",
       "    <tr>\n",
       "      <th>2072522</th>\n",
       "      <td>39523.0</td>\n",
       "      <td>Chevrolet</td>\n",
       "      <td>Silverado 1500</td>\n",
       "      <td>1111111.0</td>\n",
       "    </tr>\n",
       "    <tr>\n",
       "      <th>2072617</th>\n",
       "      <td>23620.0</td>\n",
       "      <td>Chevrolet</td>\n",
       "      <td>Equinox</td>\n",
       "      <td>1111111.0</td>\n",
       "    </tr>\n",
       "    <tr>\n",
       "      <th>2073566</th>\n",
       "      <td>41420.0</td>\n",
       "      <td>Chevrolet</td>\n",
       "      <td>Silverado 1500</td>\n",
       "      <td>1111111.0</td>\n",
       "    </tr>\n",
       "    <tr>\n",
       "      <th>2074186</th>\n",
       "      <td>41420.0</td>\n",
       "      <td>Chevrolet</td>\n",
       "      <td>Silverado 1500</td>\n",
       "      <td>1111111.0</td>\n",
       "    </tr>\n",
       "    <tr>\n",
       "      <th>2075306</th>\n",
       "      <td>45970.0</td>\n",
       "      <td>Cadillac</td>\n",
       "      <td>XT5</td>\n",
       "      <td>1111111.0</td>\n",
       "    </tr>\n",
       "  </tbody>\n",
       "</table>\n",
       "</div>"
      ],
      "text/plain": [
       "           price  make_name      model_name    mileage\n",
       "210044   50775.0  Chevrolet  Silverado 1500  4290461.0\n",
       "1319359  45149.0       Ford           F-150  1225238.0\n",
       "2072522  39523.0  Chevrolet  Silverado 1500  1111111.0\n",
       "2072617  23620.0  Chevrolet         Equinox  1111111.0\n",
       "2073566  41420.0  Chevrolet  Silverado 1500  1111111.0\n",
       "2074186  41420.0  Chevrolet  Silverado 1500  1111111.0\n",
       "2075306  45970.0   Cadillac             XT5  1111111.0"
      ]
     },
     "execution_count": 25,
     "metadata": {},
     "output_type": "execute_result"
    }
   ],
   "source": [
    "data_demo.loc[data_demo.mileage > 1000000, [\"price\", \"make_name\", \"model_name\", \"mileage\"]]"
   ]
  },
  {
   "cell_type": "markdown",
   "id": "6b1cb48d",
   "metadata": {},
   "source": [
    "Yup, the Silverado is believable... still... 4 million miles? Crazy. Again, there are so few cars in this category I feel comfortable just dropping all of the 1M mile club members:"
   ]
  },
  {
   "cell_type": "code",
   "execution_count": 26,
   "id": "96ad1f5c",
   "metadata": {},
   "outputs": [],
   "source": [
    "data_demo = data_demo[data_demo.mileage < 1000000]"
   ]
  },
  {
   "cell_type": "markdown",
   "id": "9924bfef",
   "metadata": {},
   "source": [
    "### Cleaning `engine_type`"
   ]
  },
  {
   "cell_type": "markdown",
   "id": "fc7684f7",
   "metadata": {},
   "source": [
    "The column `engin_type` actually seems to include a lot of information about fuel type as well:"
   ]
  },
  {
   "cell_type": "code",
   "execution_count": 27,
   "id": "a45af7e6",
   "metadata": {},
   "outputs": [
    {
     "data": {
      "text/plain": [
       "array(['I4', 'V6', 'V6 Diesel', 'I6', 'V8', 'H4', 'V8 Biodiesel',\n",
       "       'V8 Flex Fuel Vehicle', 'V6 Flex Fuel Vehicle', 'I4 Hybrid',\n",
       "       'V6 Hybrid', 'I3', 'I5', 'I4 Diesel', 'I4 Flex Fuel Vehicle',\n",
       "       'I6 Diesel', 'R2', 'W12', 'V10', 'V12', 'V8 Diesel',\n",
       "       'V6 Biodiesel', 'H6', 'I2', 'W12 Flex Fuel Vehicle',\n",
       "       'I5 Biodiesel', 'V8 Hybrid', 'H4 Hybrid',\n",
       "       'V8 Compressed Natural Gas', 'I6 Hybrid', 'W8',\n",
       "       'I4 Compressed Natural Gas', 'I5 Diesel', 'V10 Diesel',\n",
       "       'V8 Propane', 'I3 Hybrid', 'V6 Compressed Natural Gas', 'W16'],\n",
       "      dtype=object)"
      ]
     },
     "execution_count": 27,
     "metadata": {},
     "output_type": "execute_result"
    }
   ],
   "source": [
    "data_demo.engine_type.unique()"
   ]
  },
  {
   "cell_type": "markdown",
   "id": "759ee055",
   "metadata": {},
   "source": [
    "On the other hand, we do have a dedicated column for `fuel_type`..."
   ]
  },
  {
   "cell_type": "code",
   "execution_count": 28,
   "id": "4f17676e",
   "metadata": {},
   "outputs": [
    {
     "data": {
      "text/plain": [
       "Gasoline                  2317280\n",
       "Flex Fuel Vehicle          132624\n",
       "Hybrid                      66359\n",
       "Diesel                      37054\n",
       "Biodiesel                   20968\n",
       "Compressed Natural Gas        133\n",
       "Propane                         4\n",
       "Name: fuel_type, dtype: int64"
      ]
     },
     "execution_count": 28,
     "metadata": {},
     "output_type": "execute_result"
    }
   ],
   "source": [
    "data_demo.fuel_type.value_counts()"
   ]
  },
  {
   "cell_type": "markdown",
   "id": "baef78d1",
   "metadata": {},
   "source": [
    "Now the question is: does the fuel type indicated in `engine_type` match the corresponding entries in `fuel_type`? Let's take out the actual engine string from `engine_type`:"
   ]
  },
  {
   "cell_type": "code",
   "execution_count": 29,
   "id": "233b46dd",
   "metadata": {},
   "outputs": [
    {
     "data": {
      "text/plain": [
       "                          2317280\n",
       "Flex Fuel Vehicle          132624\n",
       "Hybrid                      66359\n",
       "Diesel                      37054\n",
       "Biodiesel                   20968\n",
       "Compressed Natural Gas        133\n",
       "Propane                         4\n",
       "Name: engine_type, dtype: int64"
      ]
     },
     "execution_count": 29,
     "metadata": {},
     "output_type": "execute_result"
    }
   ],
   "source": [
    "data_demo.engine_type.str.split().str[1:].str.join(\" \").value_counts()"
   ]
  },
  {
   "cell_type": "markdown",
   "id": "0abd9b00",
   "metadata": {},
   "source": [
    "The numbers seem to match. Furthermore, it seems that if no fuel in particular was specified in `engine_type`, the actual type of fuel seems to be gasoline. Let's replace the blank entries with gasoline and see if the columns match:"
   ]
  },
  {
   "cell_type": "code",
   "execution_count": 30,
   "id": "7e5e55cf",
   "metadata": {},
   "outputs": [
    {
     "data": {
      "text/plain": [
       "True"
      ]
     },
     "execution_count": 30,
     "metadata": {},
     "output_type": "execute_result"
    }
   ],
   "source": [
    "(data_demo.engine_type.str.split().str[1:].str.join(\" \").replace({\"\": \"Gasoline\"}) == data_demo.fuel_type).all()"
   ]
  },
  {
   "cell_type": "markdown",
   "id": "5b55c59c",
   "metadata": {},
   "source": [
    "Indeed every single value matches! This means we can safely take only the engine type string for `engine_type` and discard the rest of that variable, since the info is already in `fuel_type`."
   ]
  },
  {
   "cell_type": "code",
   "execution_count": 31,
   "id": "6d73162e",
   "metadata": {},
   "outputs": [],
   "source": [
    "data_demo[\"engine_type\"] = data_demo.engine_type.str.split().str[0]"
   ]
  },
  {
   "cell_type": "markdown",
   "id": "19d507ad",
   "metadata": {},
   "source": [
    "### Cleaning `fuel_tank_volume`"
   ]
  },
  {
   "cell_type": "markdown",
   "id": "60906411",
   "metadata": {},
   "source": [
    "One would expect `fuel_tank_volume` to be just a number, except this dataset also included the units:"
   ]
  },
  {
   "cell_type": "code",
   "execution_count": 32,
   "id": "89b7ac7e",
   "metadata": {},
   "outputs": [
    {
     "data": {
      "text/plain": [
       "26 gal      180132\n",
       "13.2 gal    140356\n",
       "18.5 gal    135805\n",
       "14 gal      126698\n",
       "14.5 gal     91693\n",
       "             ...  \n",
       "29.1 gal         2\n",
       "63 gal           2\n",
       "25.5 gal         2\n",
       "40.7 gal         1\n",
       "26.3 gal         1\n",
       "Name: fuel_tank_volume, Length: 180, dtype: int64"
      ]
     },
     "execution_count": 32,
     "metadata": {},
     "output_type": "execute_result"
    }
   ],
   "source": [
    "data_demo.fuel_tank_volume.value_counts()"
   ]
  },
  {
   "cell_type": "markdown",
   "id": "287bec41",
   "metadata": {},
   "source": [
    "Are all the entries in gallons?"
   ]
  },
  {
   "cell_type": "code",
   "execution_count": 33,
   "id": "33bf4c3e",
   "metadata": {},
   "outputs": [
    {
     "data": {
      "text/plain": [
       "True"
      ]
     },
     "execution_count": 33,
     "metadata": {},
     "output_type": "execute_result"
    }
   ],
   "source": [
    "(data_demo.fuel_tank_volume.str.split().str[1] == \"gal\").all()"
   ]
  },
  {
   "cell_type": "markdown",
   "id": "0664c59b",
   "metadata": {},
   "source": [
    "Yup, that means we can just take first token and convert it to a float:"
   ]
  },
  {
   "cell_type": "code",
   "execution_count": 34,
   "id": "efb98c34",
   "metadata": {},
   "outputs": [],
   "source": [
    "data_demo[\"fuel_tank_volume\"] = data_demo.fuel_tank_volume.str.split().str[0].astype(float)"
   ]
  },
  {
   "cell_type": "markdown",
   "id": "4f96f23b",
   "metadata": {},
   "source": [
    "Let's take a look:"
   ]
  },
  {
   "cell_type": "code",
   "execution_count": 35,
   "id": "b5470bbf",
   "metadata": {},
   "outputs": [
    {
     "data": {
      "text/plain": [
       "<Axes: xlabel='fuel_tank_volume', ylabel='Density'>"
      ]
     },
     "execution_count": 35,
     "metadata": {},
     "output_type": "execute_result"
    },
    {
     "data": {
      "image/png": "[encoded data removed]",
      "text/plain": [
       "<Figure size 432x288 with 1 Axes>"
      ]
     },
     "metadata": {
      "needs_background": "light"
     },
     "output_type": "display_data"
    }
   ],
   "source": [
    "sns.distplot(data_demo.fuel_tank_volume)"
   ]
  },
  {
   "cell_type": "markdown",
   "id": "3095c6f9",
   "metadata": {},
   "source": [
    "Certainly a lot of large fuel tanks! And I thought 19 gallons was big..."
   ]
  },
  {
   "cell_type": "markdown",
   "id": "37ed03b3",
   "metadata": {},
   "source": [
    "### Cleaning `height`, `width`, and `length`"
   ]
  },
  {
   "cell_type": "markdown",
   "id": "9208db6e",
   "metadata": {},
   "source": [
    "`height`, `width`, and `length` behave just like `fuel_tank_volume`, with useless units (inches in this case) making a numeric variable a categorical:"
   ]
  },
  {
   "cell_type": "code",
   "execution_count": 36,
   "id": "e910f31e",
   "metadata": {},
   "outputs": [
    {
     "data": {
      "text/plain": [
       "True"
      ]
     },
     "execution_count": 36,
     "metadata": {},
     "output_type": "execute_result"
    }
   ],
   "source": [
    "(data_demo.height.str.split().str[1] == \"in\").all()"
   ]
  },
  {
   "cell_type": "code",
   "execution_count": 37,
   "id": "4f29aed6",
   "metadata": {},
   "outputs": [
    {
     "data": {
      "text/plain": [
       "True"
      ]
     },
     "execution_count": 37,
     "metadata": {},
     "output_type": "execute_result"
    }
   ],
   "source": [
    "(data_demo.width.str.split().str[1] == \"in\").all()"
   ]
  },
  {
   "cell_type": "code",
   "execution_count": 38,
   "id": "15439b9c",
   "metadata": {},
   "outputs": [
    {
     "data": {
      "text/plain": [
       "True"
      ]
     },
     "execution_count": 38,
     "metadata": {},
     "output_type": "execute_result"
    }
   ],
   "source": [
    "(data_demo.length.str.split().str[1] == \"in\").all()"
   ]
  },
  {
   "cell_type": "markdown",
   "id": "3aebe5d5",
   "metadata": {},
   "source": [
    "Same treatment as `fuel_tank_volume`:"
   ]
  },
  {
   "cell_type": "code",
   "execution_count": 39,
   "id": "82bc8bd4",
   "metadata": {},
   "outputs": [],
   "source": [
    "data_demo[\"height\"] = data_demo.height.str.split().str[0].astype(float)\n",
    "data_demo[\"width\"] = data_demo.width.str.split().str[0].astype(float)\n",
    "data_demo[\"length\"] = data_demo.length.str.split().str[0].astype(float)"
   ]
  },
  {
   "cell_type": "markdown",
   "id": "fea4a39f",
   "metadata": {},
   "source": [
    "Just for fun, let's take a look at these dimensions too:"
   ]
  },
  {
   "cell_type": "code",
   "execution_count": 40,
   "id": "74766175",
   "metadata": {},
   "outputs": [
    {
     "data": {
      "text/plain": [
       "<Axes: xlabel='height', ylabel='Density'>"
      ]
     },
     "execution_count": 40,
     "metadata": {},
     "output_type": "execute_result"
    },
    {
     "data": {
      "image/png": "[encoded data removed]",
      "text/plain": [
       "<Figure size 432x288 with 1 Axes>"
      ]
     },
     "metadata": {
      "needs_background": "light"
     },
     "output_type": "display_data"
    }
   ],
   "source": [
    "sns.distplot(data_demo.height)"
   ]
  },
  {
   "cell_type": "code",
   "execution_count": 41,
   "id": "4948a2e9",
   "metadata": {},
   "outputs": [
    {
     "data": {
      "text/plain": [
       "<Axes: xlabel='width', ylabel='Density'>"
      ]
     },
     "execution_count": 41,
     "metadata": {},
     "output_type": "execute_result"
    },
    {
     "data": {
      "image/png": "[encoded data removed]",
      "text/plain": [
       "<Figure size 432x288 with 1 Axes>"
      ]
     },
     "metadata": {
      "needs_background": "light"
     },
     "output_type": "display_data"
    }
   ],
   "source": [
    "sns.distplot(data_demo.width)"
   ]
  },
  {
   "cell_type": "code",
   "execution_count": 42,
   "id": "760b1b1d",
   "metadata": {},
   "outputs": [
    {
     "data": {
      "text/plain": [
       "<Axes: xlabel='length', ylabel='Density'>"
      ]
     },
     "execution_count": 42,
     "metadata": {},
     "output_type": "execute_result"
    },
    {
     "data": {
      "image/png": "[encoded data removed]",
      "text/plain": [
       "<Figure size 432x288 with 1 Axes>"
      ]
     },
     "metadata": {
      "needs_background": "light"
     },
     "output_type": "display_data"
    }
   ],
   "source": [
    "sns.distplot(data_demo.length)"
   ]
  },
  {
   "cell_type": "markdown",
   "id": "7001d831",
   "metadata": {},
   "source": [
    "This makes sense! Each mode in each plot essentially maps to one/a few vehicle categories, with smaller vehicles (like sedans, coupes, etc.) being usually the first mode and larger trucks populating the higher modes."
   ]
  },
  {
   "cell_type": "markdown",
   "id": "d9e2245f",
   "metadata": {},
   "source": [
    "### Cleaning `maximum_seating`"
   ]
  },
  {
   "cell_type": "markdown",
   "id": "c93b2260",
   "metadata": {},
   "source": [
    "Once again, we have another `fuel_tank_volume` situation with `maximum_seating`:"
   ]
  },
  {
   "cell_type": "code",
   "execution_count": 43,
   "id": "5d073e97",
   "metadata": {},
   "outputs": [
    {
     "data": {
      "text/plain": [
       "True"
      ]
     },
     "execution_count": 43,
     "metadata": {},
     "output_type": "execute_result"
    }
   ],
   "source": [
    "(data_demo.maximum_seating.str.split().str[1] == \"seats\").all()"
   ]
  },
  {
   "cell_type": "markdown",
   "id": "dbaa07a3",
   "metadata": {},
   "source": [
    "Same treatment as before:"
   ]
  },
  {
   "cell_type": "code",
   "execution_count": 44,
   "id": "d8cb9532",
   "metadata": {},
   "outputs": [],
   "source": [
    "data_demo[\"maximum_seating\"] = data_demo.maximum_seating.str.split().str[0].astype(float)"
   ]
  },
  {
   "cell_type": "markdown",
   "id": "eb2d9291",
   "metadata": {},
   "source": [
    "A brief look:"
   ]
  },
  {
   "cell_type": "code",
   "execution_count": 45,
   "id": "f2dd0240",
   "metadata": {},
   "outputs": [
    {
     "data": {
      "text/plain": [
       "<Axes: xlabel='maximum_seating', ylabel='Density'>"
      ]
     },
     "execution_count": 45,
     "metadata": {},
     "output_type": "execute_result"
    },
    {
     "data": {
      "image/png": "[encoded data removed]",
      "text/plain": [
       "<Figure size 432x288 with 1 Axes>"
      ]
     },
     "metadata": {
      "needs_background": "light"
     },
     "output_type": "display_data"
    }
   ],
   "source": [
    "sns.distplot(data_demo.maximum_seating)"
   ]
  },
  {
   "cell_type": "markdown",
   "id": "3d34ffd4",
   "metadata": {},
   "source": [
    "Yep, 5-seaters are most common."
   ]
  },
  {
   "cell_type": "markdown",
   "id": "48ab213a",
   "metadata": {},
   "source": [
    "### Cleaning `wheelbase`"
   ]
  },
  {
   "cell_type": "markdown",
   "id": "70840b15",
   "metadata": {},
   "source": [
    "Our final useless string-to-float conversion is `wheelbase`:"
   ]
  },
  {
   "cell_type": "code",
   "execution_count": 46,
   "id": "f70aab0f",
   "metadata": {},
   "outputs": [
    {
     "data": {
      "text/plain": [
       "True"
      ]
     },
     "execution_count": 46,
     "metadata": {},
     "output_type": "execute_result"
    }
   ],
   "source": [
    "(data_demo.wheelbase.str.split().str[1] == \"in\").all()"
   ]
  },
  {
   "cell_type": "code",
   "execution_count": 47,
   "id": "8c7a11aa",
   "metadata": {},
   "outputs": [],
   "source": [
    "data_demo[\"wheelbase\"] = data_demo.wheelbase.str.split().str[0].astype(float)"
   ]
  },
  {
   "cell_type": "markdown",
   "id": "5fd906ed",
   "metadata": {},
   "source": [
    "A brief look:"
   ]
  },
  {
   "cell_type": "code",
   "execution_count": 48,
   "id": "a3f7db0f",
   "metadata": {},
   "outputs": [
    {
     "data": {
      "text/plain": [
       "<Axes: xlabel='wheelbase', ylabel='Density'>"
      ]
     },
     "execution_count": 48,
     "metadata": {},
     "output_type": "execute_result"
    },
    {
     "data": {
      "image/png": "[encoded data removed]",
      "text/plain": [
       "<Figure size 432x288 with 1 Axes>"
      ]
     },
     "metadata": {
      "needs_background": "light"
     },
     "output_type": "display_data"
    }
   ],
   "source": [
    "sns.distplot(data_demo.wheelbase)"
   ]
  },
  {
   "cell_type": "markdown",
   "id": "3a01c8c0",
   "metadata": {},
   "source": [
    "Again, same mulitmodal stituation as the dimension measurements, expected!"
   ]
  },
  {
   "cell_type": "markdown",
   "id": "cb416981",
   "metadata": {},
   "source": [
    "### Cleaning `listed_date`"
   ]
  },
  {
   "cell_type": "markdown",
   "id": "3d50b5aa",
   "metadata": {},
   "source": [
    "As with all date variables, we have to be a bit careful with `listed_date`."
   ]
  },
  {
   "cell_type": "code",
   "execution_count": 49,
   "id": "12f25021",
   "metadata": {},
   "outputs": [
    {
     "data": {
      "text/plain": [
       "0    2019-04-06\n",
       "1    2020-02-15\n",
       "3    2020-02-26\n",
       "4    2020-04-25\n",
       "5    2020-01-11\n",
       "Name: listed_date, dtype: object"
      ]
     },
     "execution_count": 49,
     "metadata": {},
     "output_type": "execute_result"
    }
   ],
   "source": [
    "data_demo.listed_date.head(5)"
   ]
  },
  {
   "cell_type": "markdown",
   "id": "ca3f2943",
   "metadata": {},
   "source": [
    "It seems to be in yyyy-mm-dd format, let's split it out into three columns:"
   ]
  },
  {
   "cell_type": "code",
   "execution_count": 50,
   "id": "35c1011b",
   "metadata": {},
   "outputs": [],
   "source": [
    "data_demo[\"listing_year\"] = data_demo.listed_date.str[0:4].astype(int)\n",
    "data_demo[\"listing_month\"] = data_demo.listed_date.str[5:7].astype(int)\n",
    "data_demo[\"listing_day\"] = data_demo.listed_date.str[8:10].astype(int)\n",
    "data_demo = data_demo.drop(columns=[\"listed_date\"])"
   ]
  },
  {
   "cell_type": "markdown",
   "id": "bdc643a8",
   "metadata": {},
   "source": [
    "As always, let's take a look:"
   ]
  },
  {
   "cell_type": "code",
   "execution_count": 51,
   "id": "6d6531ce",
   "metadata": {},
   "outputs": [
    {
     "data": {
      "text/plain": [
       "<Axes: xlabel='listing_day', ylabel='Density'>"
      ]
     },
     "execution_count": 51,
     "metadata": {},
     "output_type": "execute_result"
    },
    {
     "data": {
      "image/png": "[encoded data removed]",
      "text/plain": [
       "<Figure size 432x288 with 1 Axes>"
      ]
     },
     "metadata": {
      "needs_background": "light"
     },
     "output_type": "display_data"
    }
   ],
   "source": [
    "sns.distplot(data_demo.listing_day)"
   ]
  },
  {
   "cell_type": "markdown",
   "id": "1638fa4f",
   "metadata": {},
   "source": [
    "As expected, no significant difference in listing amounts throughout the month. The gaps in the plot are just due to seaborn's automatic binning which I'm too lazy to change -> there are indeed values for every single day."
   ]
  },
  {
   "cell_type": "code",
   "execution_count": 52,
   "id": "c457e370",
   "metadata": {},
   "outputs": [
    {
     "data": {
      "text/plain": [
       "<Axes: xlabel='listing_month', ylabel='Density'>"
      ]
     },
     "execution_count": 52,
     "metadata": {},
     "output_type": "execute_result"
    },
    {
     "data": {
      "image/png": "[encoded data removed]",
      "text/plain": [
       "<Figure size 432x288 with 1 Axes>"
      ]
     },
     "metadata": {
      "needs_background": "light"
     },
     "output_type": "display_data"
    }
   ],
   "source": [
    "sns.distplot(data_demo.listing_month)"
   ]
  },
  {
   "cell_type": "markdown",
   "id": "a7d35625",
   "metadata": {},
   "source": [
    "Summer is used car selling season!"
   ]
  },
  {
   "cell_type": "code",
   "execution_count": 53,
   "id": "f1e6e6dc",
   "metadata": {},
   "outputs": [
    {
     "data": {
      "text/plain": [
       "<Axes: xlabel='listing_year', ylabel='Density'>"
      ]
     },
     "execution_count": 53,
     "metadata": {},
     "output_type": "execute_result"
    },
    {
     "data": {
      "image/png": "[encoded data removed]",
      "text/plain": [
       "<Figure size 432x288 with 1 Axes>"
      ]
     },
     "metadata": {
      "needs_background": "light"
     },
     "output_type": "display_data"
    }
   ],
   "source": [
    "sns.distplot(data_demo.listing_year)"
   ]
  },
  {
   "cell_type": "markdown",
   "id": "adb10f3d",
   "metadata": {},
   "source": [
    "Haha it seems like there's a car that was listed in 2010 and either no one every bought it or it was never taken off the listing site, is this a mistake?"
   ]
  },
  {
   "cell_type": "code",
   "execution_count": 54,
   "id": "1dd90906",
   "metadata": {},
   "outputs": [
    {
     "data": {
      "text/plain": [
       "719796    3573\n",
       "Name: daysonmarket, dtype: int64"
      ]
     },
     "execution_count": 54,
     "metadata": {},
     "output_type": "execute_result"
    }
   ],
   "source": [
    "data_demo[data_demo.listing_year == 2010].daysonmarket"
   ]
  },
  {
   "cell_type": "markdown",
   "id": "b807f3b5",
   "metadata": {},
   "source": [
    "No mistake... 3500+ days is indeed around 10 years from 2020, when this data was scraped."
   ]
  },
  {
   "cell_type": "markdown",
   "id": "9c24bbe3",
   "metadata": {},
   "source": [
    "### Cleaning `dealer_zip`"
   ]
  },
  {
   "cell_type": "markdown",
   "id": "ea43a592",
   "metadata": {},
   "source": [
    "`dealer_zip` is a zipcode and should be an int, however:"
   ]
  },
  {
   "cell_type": "code",
   "execution_count": 55,
   "id": "dc253bf6",
   "metadata": {},
   "outputs": [
    {
     "data": {
      "text/plain": [
       "dtype('O')"
      ]
     },
     "execution_count": 55,
     "metadata": {},
     "output_type": "execute_result"
    }
   ],
   "source": [
    "data_demo.dealer_zip.dtype"
   ]
  },
  {
   "cell_type": "markdown",
   "id": "908629be",
   "metadata": {},
   "source": [
    "This is because there are zipcodes like \"96740-1631\". For these zipcodes, we'll just keep the first part (we have the longitude and latitude anyways):"
   ]
  },
  {
   "cell_type": "code",
   "execution_count": 56,
   "id": "33fe2881",
   "metadata": {},
   "outputs": [],
   "source": [
    "data_demo[\"dealer_zip\"] = data_demo.dealer_zip.astype(str).str.split(\"-\").str[0].astype(int)"
   ]
  },
  {
   "cell_type": "markdown",
   "id": "5dff6ee5",
   "metadata": {},
   "source": [
    "### Padding, `sp_id`, `listing_id`, and `trimId`"
   ]
  },
  {
   "cell_type": "markdown",
   "id": "3222eee0",
   "metadata": {},
   "source": [
    "`sp_id` refers to the ID of a dealership while `listing_id` refers to the ID of a particular listing for a vehicle. Both currently as numeric types:"
   ]
  },
  {
   "cell_type": "code",
   "execution_count": 57,
   "id": "2e71ac1a",
   "metadata": {},
   "outputs": [
    {
     "data": {
      "text/plain": [
       "0          370599.0\n",
       "1          389227.0\n",
       "3          389227.0\n",
       "4          389227.0\n",
       "5          389227.0\n",
       "             ...   \n",
       "3000034     55297.0\n",
       "3000035    341247.0\n",
       "3000036    310674.0\n",
       "3000038    341247.0\n",
       "3000039     64910.0\n",
       "Name: sp_id, Length: 2574422, dtype: float64"
      ]
     },
     "execution_count": 57,
     "metadata": {},
     "output_type": "execute_result"
    }
   ],
   "source": [
    "data_demo.sp_id"
   ]
  },
  {
   "cell_type": "code",
   "execution_count": 58,
   "id": "6866fdff",
   "metadata": {},
   "outputs": [
    {
     "data": {
      "text/plain": [
       "0          237132766\n",
       "1          265946296\n",
       "3          266911050\n",
       "4          270957414\n",
       "5          262940541\n",
       "             ...    \n",
       "3000034    274134037\n",
       "3000035    280498781\n",
       "3000036    269431681\n",
       "3000038    280923167\n",
       "3000039    280345818\n",
       "Name: listing_id, Length: 2574422, dtype: int64"
      ]
     },
     "execution_count": 58,
     "metadata": {},
     "output_type": "execute_result"
    }
   ],
   "source": [
    "data_demo.listing_id"
   ]
  },
  {
   "cell_type": "markdown",
   "id": "6d735e1b",
   "metadata": {},
   "source": [
    "However, the other 2 ID variables, `vin` and `trimID`, come as strings with distinct identifying characteristics. For consistency's sake and ease of identification, let's pad out `sp_id` and `listing_id` and prefix them with \"D\" for dealer and \"L\" for listing, respectively:"
   ]
  },
  {
   "cell_type": "code",
   "execution_count": 59,
   "id": "8e58bd4c",
   "metadata": {},
   "outputs": [],
   "source": [
    "# NOTE: data_demo.sp_id.astype(int).astype(str).str.len().max() == 6\n",
    "# NOTE: data_demo.listing_id.astype(str).str.len().max() == 9\n",
    "data_demo[\"sp_id\"] = \"D\" + data_demo.sp_id.astype(int).astype(str).str.zfill(7) # pad one more zero in case more added later!\n",
    "data_demo[\"listing_id\"] = \"L\" + data_demo.listing_id.astype(str).str.zfill(10) # pad one more zero in case more added later!"
   ]
  },
  {
   "cell_type": "markdown",
   "id": "76a2aed2",
   "metadata": {},
   "source": [
    "While we're at it, let's pad out `trimId` and replace the lowercase \"t\" with the uppercase \"MMYT\" for Make-Model-Year-Trim (more on why later):"
   ]
  },
  {
   "cell_type": "code",
   "execution_count": 60,
   "id": "ebf3aebc",
   "metadata": {},
   "outputs": [],
   "source": [
    "# NOTE: data_demo.trimId.str[1:].str.len().max() == 5\n",
    "data_demo[\"trimId\"] = \"MMYT\" + data_demo.trimId.str[1:].str.zfill(6) # pad one more zero in case more added later!"
   ]
  },
  {
   "cell_type": "markdown",
   "id": "1620d305",
   "metadata": {},
   "source": [
    "### Fixing `trim_name`"
   ]
  },
  {
   "cell_type": "markdown",
   "id": "4d6e44f8",
   "metadata": {},
   "source": [
    "We would expect `trimId` to uniquely determine `trim_name`, except it doesn't..."
   ]
  },
  {
   "cell_type": "code",
   "execution_count": 61,
   "id": "d3866a26",
   "metadata": {},
   "outputs": [
    {
     "data": {
      "text/html": [
       "<div>\n",
       "<style scoped>\n",
       "    .dataframe tbody tr th:only-of-type {\n",
       "        vertical-align: middle;\n",
       "    }\n",
       "\n",
       "    .dataframe tbody tr th {\n",
       "        vertical-align: top;\n",
       "    }\n",
       "\n",
       "    .dataframe thead th {\n",
       "        text-align: right;\n",
       "    }\n",
       "</style>\n",
       "<table border=\"1\" class=\"dataframe\">\n",
       "  <thead>\n",
       "    <tr style=\"text-align: right;\">\n",
       "      <th></th>\n",
       "      <th>trim_name</th>\n",
       "    </tr>\n",
       "    <tr>\n",
       "      <th>trimId</th>\n",
       "      <th></th>\n",
       "    </tr>\n",
       "  </thead>\n",
       "  <tbody>\n",
       "    <tr>\n",
       "      <th>MMYT001743</th>\n",
       "      <td>2</td>\n",
       "    </tr>\n",
       "    <tr>\n",
       "      <th>MMYT001841</th>\n",
       "      <td>2</td>\n",
       "    </tr>\n",
       "    <tr>\n",
       "      <th>MMYT001951</th>\n",
       "      <td>2</td>\n",
       "    </tr>\n",
       "    <tr>\n",
       "      <th>MMYT001970</th>\n",
       "      <td>2</td>\n",
       "    </tr>\n",
       "    <tr>\n",
       "      <th>MMYT002143</th>\n",
       "      <td>2</td>\n",
       "    </tr>\n",
       "    <tr>\n",
       "      <th>...</th>\n",
       "      <td>...</td>\n",
       "    </tr>\n",
       "    <tr>\n",
       "      <th>MMYT088991</th>\n",
       "      <td>2</td>\n",
       "    </tr>\n",
       "    <tr>\n",
       "      <th>MMYT089640</th>\n",
       "      <td>2</td>\n",
       "    </tr>\n",
       "    <tr>\n",
       "      <th>MMYT090309</th>\n",
       "      <td>2</td>\n",
       "    </tr>\n",
       "    <tr>\n",
       "      <th>MMYT090384</th>\n",
       "      <td>2</td>\n",
       "    </tr>\n",
       "    <tr>\n",
       "      <th>MMYT091676</th>\n",
       "      <td>2</td>\n",
       "    </tr>\n",
       "  </tbody>\n",
       "</table>\n",
       "<p>637 rows × 1 columns</p>\n",
       "</div>"
      ],
      "text/plain": [
       "            trim_name\n",
       "trimId               \n",
       "MMYT001743          2\n",
       "MMYT001841          2\n",
       "MMYT001951          2\n",
       "MMYT001970          2\n",
       "MMYT002143          2\n",
       "...               ...\n",
       "MMYT088991          2\n",
       "MMYT089640          2\n",
       "MMYT090309          2\n",
       "MMYT090384          2\n",
       "MMYT091676          2\n",
       "\n",
       "[637 rows x 1 columns]"
      ]
     },
     "execution_count": 61,
     "metadata": {},
     "output_type": "execute_result"
    }
   ],
   "source": [
    "data_demo[[\"trimId\", \"trim_name\"]].groupby(\"trimId\").nunique().query(\"trim_name > 1\")"
   ]
  },
  {
   "cell_type": "markdown",
   "id": "a05f1ff7",
   "metadata": {},
   "source": [
    "That said, all of these differences are non-meaningful in the long run, take a few examples:"
   ]
  },
  {
   "cell_type": "code",
   "execution_count": 62,
   "id": "6c0d46df",
   "metadata": {},
   "outputs": [
    {
     "data": {
      "text/html": [
       "<div>\n",
       "<style scoped>\n",
       "    .dataframe tbody tr th:only-of-type {\n",
       "        vertical-align: middle;\n",
       "    }\n",
       "\n",
       "    .dataframe tbody tr th {\n",
       "        vertical-align: top;\n",
       "    }\n",
       "\n",
       "    .dataframe thead th {\n",
       "        text-align: right;\n",
       "    }\n",
       "</style>\n",
       "<table border=\"1\" class=\"dataframe\">\n",
       "  <thead>\n",
       "    <tr style=\"text-align: right;\">\n",
       "      <th></th>\n",
       "      <th>make_name</th>\n",
       "      <th>model_name</th>\n",
       "      <th>trim_name</th>\n",
       "    </tr>\n",
       "  </thead>\n",
       "  <tbody>\n",
       "    <tr>\n",
       "      <th>26751</th>\n",
       "      <td>Chevrolet</td>\n",
       "      <td>Trailblazer</td>\n",
       "      <td>LS 4WD</td>\n",
       "    </tr>\n",
       "    <tr>\n",
       "      <th>649638</th>\n",
       "      <td>Chevrolet</td>\n",
       "      <td>Trailblazer</td>\n",
       "      <td>LT 4WD</td>\n",
       "    </tr>\n",
       "  </tbody>\n",
       "</table>\n",
       "</div>"
      ],
      "text/plain": [
       "        make_name   model_name trim_name\n",
       "26751   Chevrolet  Trailblazer    LS 4WD\n",
       "649638  Chevrolet  Trailblazer    LT 4WD"
      ]
     },
     "execution_count": 62,
     "metadata": {},
     "output_type": "execute_result"
    }
   ],
   "source": [
    "data_demo.loc[data_demo.trimId == \"MMYT001743\", [\"make_name\", \"model_name\", \"trim_name\"]].drop_duplicates()"
   ]
  },
  {
   "cell_type": "markdown",
   "id": "b3c85a3e",
   "metadata": {},
   "source": [
    "Chevy's LS and LT has never been particularly crystal clear and oftentimes can denote the same trim if one looks across production years or special optioning. Another example:"
   ]
  },
  {
   "cell_type": "code",
   "execution_count": 63,
   "id": "db75570e",
   "metadata": {},
   "outputs": [
    {
     "data": {
      "text/html": [
       "<div>\n",
       "<style scoped>\n",
       "    .dataframe tbody tr th:only-of-type {\n",
       "        vertical-align: middle;\n",
       "    }\n",
       "\n",
       "    .dataframe tbody tr th {\n",
       "        vertical-align: top;\n",
       "    }\n",
       "\n",
       "    .dataframe thead th {\n",
       "        text-align: right;\n",
       "    }\n",
       "</style>\n",
       "<table border=\"1\" class=\"dataframe\">\n",
       "  <thead>\n",
       "    <tr style=\"text-align: right;\">\n",
       "      <th></th>\n",
       "      <th>make_name</th>\n",
       "      <th>model_name</th>\n",
       "      <th>trim_name</th>\n",
       "    </tr>\n",
       "  </thead>\n",
       "  <tbody>\n",
       "    <tr>\n",
       "      <th>1781100</th>\n",
       "      <td>Honda</td>\n",
       "      <td>Civic</td>\n",
       "      <td>Si Coupe FWD with Summer Tires</td>\n",
       "    </tr>\n",
       "    <tr>\n",
       "      <th>2257149</th>\n",
       "      <td>Honda</td>\n",
       "      <td>Civic</td>\n",
       "      <td>Si Coupe FWD</td>\n",
       "    </tr>\n",
       "  </tbody>\n",
       "</table>\n",
       "</div>"
      ],
      "text/plain": [
       "        make_name model_name                       trim_name\n",
       "1781100     Honda      Civic  Si Coupe FWD with Summer Tires\n",
       "2257149     Honda      Civic                    Si Coupe FWD"
      ]
     },
     "execution_count": 63,
     "metadata": {},
     "output_type": "execute_result"
    }
   ],
   "source": [
    "data_demo.loc[data_demo.trimId == \"MMYT089640\", [\"make_name\", \"model_name\", \"trim_name\"]].drop_duplicates()"
   ]
  },
  {
   "cell_type": "markdown",
   "id": "db82279e",
   "metadata": {},
   "source": [
    "For our purposes, we won't be too concerned about summer tires... One more example:"
   ]
  },
  {
   "cell_type": "code",
   "execution_count": 64,
   "id": "10426504",
   "metadata": {},
   "outputs": [
    {
     "data": {
      "text/html": [
       "<div>\n",
       "<style scoped>\n",
       "    .dataframe tbody tr th:only-of-type {\n",
       "        vertical-align: middle;\n",
       "    }\n",
       "\n",
       "    .dataframe tbody tr th {\n",
       "        vertical-align: top;\n",
       "    }\n",
       "\n",
       "    .dataframe thead th {\n",
       "        text-align: right;\n",
       "    }\n",
       "</style>\n",
       "<table border=\"1\" class=\"dataframe\">\n",
       "  <thead>\n",
       "    <tr style=\"text-align: right;\">\n",
       "      <th></th>\n",
       "      <th>make_name</th>\n",
       "      <th>model_name</th>\n",
       "      <th>trim_name</th>\n",
       "    </tr>\n",
       "  </thead>\n",
       "  <tbody>\n",
       "    <tr>\n",
       "      <th>21434</th>\n",
       "      <td>Nissan</td>\n",
       "      <td>Rogue</td>\n",
       "      <td>2017.5 SV FWD</td>\n",
       "    </tr>\n",
       "    <tr>\n",
       "      <th>839975</th>\n",
       "      <td>Nissan</td>\n",
       "      <td>Rogue</td>\n",
       "      <td>SV FWD</td>\n",
       "    </tr>\n",
       "  </tbody>\n",
       "</table>\n",
       "</div>"
      ],
      "text/plain": [
       "       make_name model_name      trim_name\n",
       "21434     Nissan      Rogue  2017.5 SV FWD\n",
       "839975    Nissan      Rogue         SV FWD"
      ]
     },
     "execution_count": 64,
     "metadata": {},
     "output_type": "execute_result"
    }
   ],
   "source": [
    "data_demo.loc[data_demo.trimId == \"MMYT076529\", [\"make_name\", \"model_name\", \"trim_name\"]].drop_duplicates()"
   ]
  },
  {
   "cell_type": "markdown",
   "id": "636fabf8",
   "metadata": {},
   "source": [
    "Again, no significant difference. For now, I will simply replace all the differing trim names with whichever one has the least character count, since the shortest character count is probably the one that is the most generic:"
   ]
  },
  {
   "cell_type": "code",
   "execution_count": 65,
   "id": "0daeae47",
   "metadata": {},
   "outputs": [],
   "source": [
    "problem_trimIds = data_demo[[\"trimId\", \"trim_name\"]].groupby(\"trimId\").nunique().query(\"trim_name > 1\").index\n",
    "replacement_trim_names = data_demo.loc[data_demo.trimId.isin(problem_trimIds), [\"trimId\", \"trim_name\"]]\n",
    "replacement_trim_names[\"str_length\"] = replacement_trim_names.trim_name.str.len()\n",
    "replacement_trim_names = replacement_trim_names.sort_values(\"str_length\").drop_duplicates(\"trimId\")[[\"trimId\", \"trim_name\"]]\n",
    "data_demo = data_demo.merge(right=replacement_trim_names, how=\"left\", on=\"trimId\", suffixes=(\"\", \"_replacement\"))\n",
    "data_demo.loc[data_demo.trimId.isin(problem_trimIds), \"trim_name\"] = data_demo.loc[data_demo.trimId.isin(problem_trimIds), \"trim_name_replacement\"]\n",
    "data_demo = data_demo.drop(columns=[\"trim_name_replacement\"])"
   ]
  },
  {
   "cell_type": "markdown",
   "id": "62ce8c03",
   "metadata": {},
   "source": [
    "Now `trimId` uniquely determines `trim_name`!"
   ]
  },
  {
   "cell_type": "markdown",
   "id": "aea438f0",
   "metadata": {},
   "source": [
    "### A bit more cleaning to make `trimId` better"
   ]
  },
  {
   "cell_type": "markdown",
   "id": "e806fbf4",
   "metadata": {},
   "source": [
    "`trimId` is pretty powerful, except that there are a couple mistaken entires that mess up what it can and cannot uniquely determine. Take `trimId = MMYT047624` for example:"
   ]
  },
  {
   "cell_type": "code",
   "execution_count": 66,
   "id": "d0b30758",
   "metadata": {},
   "outputs": [
    {
     "data": {
      "text/html": [
       "<div>\n",
       "<style scoped>\n",
       "    .dataframe tbody tr th:only-of-type {\n",
       "        vertical-align: middle;\n",
       "    }\n",
       "\n",
       "    .dataframe tbody tr th {\n",
       "        vertical-align: top;\n",
       "    }\n",
       "\n",
       "    .dataframe thead th {\n",
       "        text-align: right;\n",
       "    }\n",
       "</style>\n",
       "<table border=\"1\" class=\"dataframe\">\n",
       "  <thead>\n",
       "    <tr style=\"text-align: right;\">\n",
       "      <th></th>\n",
       "      <th>trimId</th>\n",
       "      <th>make_name</th>\n",
       "      <th>model_name</th>\n",
       "      <th>trim_name</th>\n",
       "      <th>year</th>\n",
       "      <th>body_type</th>\n",
       "    </tr>\n",
       "  </thead>\n",
       "  <tbody>\n",
       "    <tr>\n",
       "      <th>129215</th>\n",
       "      <td>MMYT047624</td>\n",
       "      <td>Toyota</td>\n",
       "      <td>Prius Plug-In</td>\n",
       "      <td>Base</td>\n",
       "      <td>2012</td>\n",
       "      <td>Sedan</td>\n",
       "    </tr>\n",
       "    <tr>\n",
       "      <th>149803</th>\n",
       "      <td>MMYT047624</td>\n",
       "      <td>Toyota</td>\n",
       "      <td>Prius Plug-In</td>\n",
       "      <td>Base</td>\n",
       "      <td>2012</td>\n",
       "      <td>Hatchback</td>\n",
       "    </tr>\n",
       "    <tr>\n",
       "      <th>172121</th>\n",
       "      <td>MMYT047624</td>\n",
       "      <td>Toyota</td>\n",
       "      <td>Prius Plug-In</td>\n",
       "      <td>Base</td>\n",
       "      <td>2012</td>\n",
       "      <td>Hatchback</td>\n",
       "    </tr>\n",
       "    <tr>\n",
       "      <th>196247</th>\n",
       "      <td>MMYT047624</td>\n",
       "      <td>Toyota</td>\n",
       "      <td>Prius Plug-In</td>\n",
       "      <td>Base</td>\n",
       "      <td>2012</td>\n",
       "      <td>Hatchback</td>\n",
       "    </tr>\n",
       "    <tr>\n",
       "      <th>239168</th>\n",
       "      <td>MMYT047624</td>\n",
       "      <td>Toyota</td>\n",
       "      <td>Prius Plug-In</td>\n",
       "      <td>Base</td>\n",
       "      <td>2012</td>\n",
       "      <td>Hatchback</td>\n",
       "    </tr>\n",
       "    <tr>\n",
       "      <th>1434532</th>\n",
       "      <td>MMYT047624</td>\n",
       "      <td>Toyota</td>\n",
       "      <td>Prius Plug-In</td>\n",
       "      <td>Base</td>\n",
       "      <td>2012</td>\n",
       "      <td>Hatchback</td>\n",
       "    </tr>\n",
       "    <tr>\n",
       "      <th>1694471</th>\n",
       "      <td>MMYT047624</td>\n",
       "      <td>Toyota</td>\n",
       "      <td>Prius Plug-In</td>\n",
       "      <td>Base</td>\n",
       "      <td>2012</td>\n",
       "      <td>Hatchback</td>\n",
       "    </tr>\n",
       "    <tr>\n",
       "      <th>2256008</th>\n",
       "      <td>MMYT047624</td>\n",
       "      <td>Toyota</td>\n",
       "      <td>Prius Plug-In</td>\n",
       "      <td>Base</td>\n",
       "      <td>2012</td>\n",
       "      <td>Hatchback</td>\n",
       "    </tr>\n",
       "    <tr>\n",
       "      <th>2423967</th>\n",
       "      <td>MMYT047624</td>\n",
       "      <td>Toyota</td>\n",
       "      <td>Prius Plug-In</td>\n",
       "      <td>Base</td>\n",
       "      <td>2012</td>\n",
       "      <td>Hatchback</td>\n",
       "    </tr>\n",
       "    <tr>\n",
       "      <th>2529964</th>\n",
       "      <td>MMYT047624</td>\n",
       "      <td>Toyota</td>\n",
       "      <td>Prius Plug-In</td>\n",
       "      <td>Base</td>\n",
       "      <td>2012</td>\n",
       "      <td>Hatchback</td>\n",
       "    </tr>\n",
       "  </tbody>\n",
       "</table>\n",
       "</div>"
      ],
      "text/plain": [
       "             trimId make_name     model_name trim_name  year  body_type\n",
       "129215   MMYT047624    Toyota  Prius Plug-In      Base  2012      Sedan\n",
       "149803   MMYT047624    Toyota  Prius Plug-In      Base  2012  Hatchback\n",
       "172121   MMYT047624    Toyota  Prius Plug-In      Base  2012  Hatchback\n",
       "196247   MMYT047624    Toyota  Prius Plug-In      Base  2012  Hatchback\n",
       "239168   MMYT047624    Toyota  Prius Plug-In      Base  2012  Hatchback\n",
       "1434532  MMYT047624    Toyota  Prius Plug-In      Base  2012  Hatchback\n",
       "1694471  MMYT047624    Toyota  Prius Plug-In      Base  2012  Hatchback\n",
       "2256008  MMYT047624    Toyota  Prius Plug-In      Base  2012  Hatchback\n",
       "2423967  MMYT047624    Toyota  Prius Plug-In      Base  2012  Hatchback\n",
       "2529964  MMYT047624    Toyota  Prius Plug-In      Base  2012  Hatchback"
      ]
     },
     "execution_count": 66,
     "metadata": {},
     "output_type": "execute_result"
    }
   ],
   "source": [
    "data_demo.loc[data_demo.trimId == \"MMYT047624\", [\"trimId\", \"make_name\", \"model_name\", \"trim_name\", \"year\", \"body_type\"]]"
   ]
  },
  {
   "cell_type": "markdown",
   "id": "d06be604",
   "metadata": {},
   "source": [
    "Although the distinction between sedans and hatchbacks is blurry, I'm pretty sure no Prius is ever marketed as a sedan (just looked it up and this statement is true for all Prius model years after 2003!)... that must have been a mistake on the dealer's side. In other words, `trimId` should be able to uniquely determine `body_type`, but some misentries prevent it from doing so. Other columns in which this happens are `maximum_seating` and `height`. For now, instead of doing add-hoc changes one-by-one, I will just remove the `trimId`s for which this happens (~20 total out of ~37k), since they probably represent on-the-edge cases that are easy to mess up (hatchbacks vs. sedans, for example):"
   ]
  },
  {
   "cell_type": "code",
   "execution_count": 67,
   "id": "86c8aa91",
   "metadata": {},
   "outputs": [],
   "source": [
    "more_problem_trimIds = set(data_demo[[\"trimId\", \"body_type\"]].groupby(\"trimId\").nunique().query(\"body_type > 1\").index).union(\n",
    "                       set(data_demo[[\"trimId\", \"maximum_seating\"]].groupby(\"trimId\").nunique().query(\"maximum_seating > 1\").index).union(\n",
    "                       set(data_demo[[\"trimId\", \"height\"]].groupby(\"trimId\").nunique().query(\"height > 1\").index)))\n",
    "data_demo = data_demo[~data_demo.trimId.isin(more_problem_trimIds)]"
   ]
  },
  {
   "cell_type": "markdown",
   "id": "e544b00a",
   "metadata": {},
   "source": [
    "### A bit more cleaning to make `sp_id` better"
   ]
  },
  {
   "cell_type": "markdown",
   "id": "69429e56",
   "metadata": {},
   "source": [
    "Just like `trimId`, there are a few (<10) problematic dealerships that have the same ID but different values for `sp_name`, `city`, `dealer_zip`, `longitude`, `latitude`, and `franchise_dealer`. We'll remove them as their entries do not logically make sense:"
   ]
  },
  {
   "cell_type": "code",
   "execution_count": 68,
   "id": "328279cc",
   "metadata": {},
   "outputs": [],
   "source": [
    "problem_sp_ids = set(data_demo[[\"sp_id\", \"sp_name\"]].groupby(\"sp_id\").nunique().query(\"sp_name > 1\").index).union(\n",
    "                 set(data_demo[[\"sp_id\", \"city\"]].groupby(\"sp_id\").nunique().query(\"city > 1\").index).union(\n",
    "                 set(data_demo[[\"sp_id\", \"dealer_zip\"]].groupby(\"sp_id\").nunique().query(\"dealer_zip > 1\").index).union(\n",
    "                 set(data_demo[[\"sp_id\", \"longitude\"]].groupby(\"sp_id\").nunique().query(\"longitude > 1\").index).union(\n",
    "                 set(data_demo[[\"sp_id\", \"latitude\"]].groupby(\"sp_id\").nunique().query(\"latitude > 1\").index).union(\n",
    "                 set(data_demo[[\"sp_id\", \"franchise_dealer\"]].groupby(\"sp_id\").nunique().query(\"franchise_dealer > 1\").index))))))\n",
    "data_demo = data_demo[~data_demo.sp_id.isin(problem_sp_ids)]"
   ]
  },
  {
   "cell_type": "markdown",
   "id": "2710ef9d",
   "metadata": {},
   "source": [
    "### Dealer aggregate statistics"
   ]
  },
  {
   "cell_type": "markdown",
   "id": "04e999c8",
   "metadata": {},
   "source": [
    "Let's get some aggregrate statistics for every `sp_id`! For now, let us do:\n",
    "* `avg_rating`: average rating of the dealer over the entire dataset\n",
    "* `total_listings`: total number of vehicles this dealer has listed"
   ]
  },
  {
   "cell_type": "code",
   "execution_count": 69,
   "id": "18d39446",
   "metadata": {},
   "outputs": [],
   "source": [
    "avg_rating_df = data_demo[[\"sp_id\", \"seller_rating\"]].groupby(\"sp_id\").mean().reset_index().rename({\"seller_rating\": \"avg_rating\"},axis=1)\n",
    "data_demo = data_demo.merge(right=avg_rating_df, how=\"left\", on=\"sp_id\")\n",
    "data_demo = data_demo.drop(columns=[\"seller_rating\"])\n",
    "total_listings_df = data_demo.groupby(\"sp_id\").size().rename(\"total_listings\").reset_index()\n",
    "data_demo = data_demo.merge(right=total_listings_df, how=\"left\", on=\"sp_id\")"
   ]
  },
  {
   "cell_type": "markdown",
   "id": "8ece4b2e",
   "metadata": {},
   "source": [
    "### Removing semicolons"
   ]
  },
  {
   "cell_type": "markdown",
   "id": "97eb9594",
   "metadata": {},
   "source": [
    "We will be using semicolons as csv deliminators, so we need to make sure no strings contain it:"
   ]
  },
  {
   "cell_type": "code",
   "execution_count": 70,
   "id": "469d96e0",
   "metadata": {},
   "outputs": [
    {
     "name": "stdout",
     "output_type": "stream",
     "text": [
      "Column vin has 0 values with ';'.\n",
      "Column body_type has 0 values with ';'.\n",
      "Column city has 0 values with ';'.\n",
      "Column engine_type has 0 values with ';'.\n",
      "Column fuel_type has 0 values with ';'.\n",
      "Column has_accidents has 0 values with ';'.\n",
      "Column is_oemcpo has 0 values with ';'.\n",
      "Column listing_color has 0 values with ';'.\n",
      "Column listing_id has 0 values with ';'.\n",
      "Column make_name has 0 values with ';'.\n",
      "Column model_name has 0 values with ';'.\n",
      "Column power has 0 values with ';'.\n",
      "Column sp_id has 0 values with ';'.\n",
      "Column sp_name has 13 values with ';'.\n",
      "Column torque has 0 values with ';'.\n",
      "Column transmission has 0 values with ';'.\n",
      "Column trimId has 0 values with ';'.\n",
      "Column trim_name has 0 values with ';'.\n",
      "Column wheel_system has 0 values with ';'.\n"
     ]
    }
   ],
   "source": [
    "for column in data_demo.columns:\n",
    "    if data_demo[column].dtype == \"O\":\n",
    "        print(f\"Column {column} has {data_demo[column].astype(str).str.contains(';').sum()} values with ';'.\")"
   ]
  },
  {
   "cell_type": "markdown",
   "id": "394084f5",
   "metadata": {},
   "source": [
    "Let's just take the part before the semicolon for simplicity:"
   ]
  },
  {
   "cell_type": "code",
   "execution_count": 71,
   "id": "acf8bfe8",
   "metadata": {},
   "outputs": [],
   "source": [
    "semicolon_mask = data_demo.sp_name.str.contains(\";\")\n",
    "data_demo.loc[semicolon_mask, \"sp_name\"] = data_demo.loc[semicolon_mask, \"sp_name\"].str.split(\";\").str[0]"
   ]
  },
  {
   "cell_type": "markdown",
   "id": "51906c59",
   "metadata": {},
   "source": [
    "### A note about makes and models"
   ]
  },
  {
   "cell_type": "markdown",
   "id": "0e14e0da",
   "metadata": {},
   "source": [
    "Note that `make_name` does not unique determine `model_name`! More than one make can make cars with the same model name (the cars are different, obviously):"
   ]
  },
  {
   "cell_type": "code",
   "execution_count": 72,
   "id": "f3c13d02",
   "metadata": {},
   "outputs": [
    {
     "data": {
      "text/html": [
       "<div>\n",
       "<style scoped>\n",
       "    .dataframe tbody tr th:only-of-type {\n",
       "        vertical-align: middle;\n",
       "    }\n",
       "\n",
       "    .dataframe tbody tr th {\n",
       "        vertical-align: top;\n",
       "    }\n",
       "\n",
       "    .dataframe thead th {\n",
       "        text-align: right;\n",
       "    }\n",
       "</style>\n",
       "<table border=\"1\" class=\"dataframe\">\n",
       "  <thead>\n",
       "    <tr style=\"text-align: right;\">\n",
       "      <th></th>\n",
       "      <th>model_name</th>\n",
       "      <th>make_name</th>\n",
       "    </tr>\n",
       "  </thead>\n",
       "  <tbody>\n",
       "    <tr>\n",
       "      <th>205</th>\n",
       "      <td>Cabriolet</td>\n",
       "      <td>2</td>\n",
       "    </tr>\n",
       "    <tr>\n",
       "      <th>292</th>\n",
       "      <td>Dakota</td>\n",
       "      <td>2</td>\n",
       "    </tr>\n",
       "    <tr>\n",
       "      <th>443</th>\n",
       "      <td>GT</td>\n",
       "      <td>2</td>\n",
       "    </tr>\n",
       "    <tr>\n",
       "      <th>534</th>\n",
       "      <td>LS</td>\n",
       "      <td>2</td>\n",
       "    </tr>\n",
       "    <tr>\n",
       "      <th>642</th>\n",
       "      <td>NX</td>\n",
       "      <td>2</td>\n",
       "    </tr>\n",
       "    <tr>\n",
       "      <th>647</th>\n",
       "      <td>Neon</td>\n",
       "      <td>2</td>\n",
       "    </tr>\n",
       "    <tr>\n",
       "      <th>682</th>\n",
       "      <td>Pickup</td>\n",
       "      <td>2</td>\n",
       "    </tr>\n",
       "    <tr>\n",
       "      <th>691</th>\n",
       "      <td>Prizm</td>\n",
       "      <td>2</td>\n",
       "    </tr>\n",
       "    <tr>\n",
       "      <th>697</th>\n",
       "      <td>Prowler</td>\n",
       "      <td>2</td>\n",
       "    </tr>\n",
       "    <tr>\n",
       "      <th>897</th>\n",
       "      <td>Sprinter Cargo</td>\n",
       "      <td>2</td>\n",
       "    </tr>\n",
       "    <tr>\n",
       "      <th>905</th>\n",
       "      <td>Suburban</td>\n",
       "      <td>2</td>\n",
       "    </tr>\n",
       "    <tr>\n",
       "      <th>990</th>\n",
       "      <td>Viper</td>\n",
       "      <td>2</td>\n",
       "    </tr>\n",
       "    <tr>\n",
       "      <th>994</th>\n",
       "      <td>Voyager</td>\n",
       "      <td>2</td>\n",
       "    </tr>\n",
       "  </tbody>\n",
       "</table>\n",
       "</div>"
      ],
      "text/plain": [
       "         model_name  make_name\n",
       "205       Cabriolet          2\n",
       "292          Dakota          2\n",
       "443              GT          2\n",
       "534              LS          2\n",
       "642              NX          2\n",
       "647            Neon          2\n",
       "682          Pickup          2\n",
       "691           Prizm          2\n",
       "697         Prowler          2\n",
       "897  Sprinter Cargo          2\n",
       "905        Suburban          2\n",
       "990           Viper          2\n",
       "994         Voyager          2"
      ]
     },
     "execution_count": 72,
     "metadata": {},
     "output_type": "execute_result"
    }
   ],
   "source": [
    "data_demo[[\"model_name\", \"make_name\"]].groupby(\"model_name\").nunique().reset_index().query(\"make_name > 1\")"
   ]
  },
  {
   "cell_type": "markdown",
   "id": "f83e3b13",
   "metadata": {},
   "source": [
    "Here's an example:"
   ]
  },
  {
   "cell_type": "code",
   "execution_count": 73,
   "id": "fcd5a5b0",
   "metadata": {},
   "outputs": [
    {
     "data": {
      "text/plain": [
       "640959           Audi\n",
       "1253745    Volkswagen\n",
       "Name: make_name, dtype: object"
      ]
     },
     "execution_count": 73,
     "metadata": {},
     "output_type": "execute_result"
    }
   ],
   "source": [
    "data_demo.loc[data_demo.model_name==\"Cabriolet\", \"make_name\"].drop_duplicates()"
   ]
  },
  {
   "cell_type": "markdown",
   "id": "2e7dd97f",
   "metadata": {},
   "source": [
    "## Part 4: Dropping duplicates"
   ]
  },
  {
   "cell_type": "markdown",
   "id": "966c5eeb",
   "metadata": {},
   "source": [
    "Finally, before we proceed to splitting, there seems to be some duplicates in the data, let's drop them!"
   ]
  },
  {
   "cell_type": "code",
   "execution_count": 74,
   "id": "c8ccb00f",
   "metadata": {},
   "outputs": [],
   "source": [
    "data_demo = data_demo.drop_duplicates()"
   ]
  },
  {
   "cell_type": "markdown",
   "id": "12abd2af",
   "metadata": {},
   "source": [
    "## Part 5: Splitting big relation into smaller relations!"
   ]
  },
  {
   "cell_type": "markdown",
   "id": "f1bd8ef1",
   "metadata": {},
   "source": [
    "NOTE: This section follows roughly the same idea as the ER diagram in milestone 2, but with some slight modifications to allow for more interesting relations.  "
   ]
  },
  {
   "cell_type": "markdown",
   "id": "e2111f2b",
   "metadata": {},
   "source": [
    "For this section, we will check our functional dependencies and so primary key constraints in a simplified manner: we drop duplicates on column set $A$ and drop duplicates on column set $A \\cup B$ (the function below uses lists not sets since lists interface more seemlessly with pandas indexing, but same idea), if the size of the first resultant dataframe is the same as the second resultant dataframe, then $A \\rightarrow B$."
   ]
  },
  {
   "cell_type": "code",
   "execution_count": 75,
   "id": "1fae353f",
   "metadata": {},
   "outputs": [],
   "source": [
    "def uniquely_determines(A, B, data):\n",
    "    \"\"\"Check if the columns in list A uniquely determines the columns in list B on data\"\"\"\n",
    "    size_1 = data[set(A)].drop_duplicates().shape[0]\n",
    "    size_2 = data[set(A+B)].drop_duplicates().shape[0]\n",
    "    print(f\"Uniques on A: {size_1}, uniques on A union B: {size_2}\")\n",
    "    return size_1 == size_2"
   ]
  },
  {
   "cell_type": "markdown",
   "id": "a3f1d3ae",
   "metadata": {},
   "source": [
    "### General observations"
   ]
  },
  {
   "cell_type": "markdown",
   "id": "1eca3cce",
   "metadata": {},
   "source": [
    "#### `vin` and `listing_id` and candidate keys for whole dataset"
   ]
  },
  {
   "cell_type": "markdown",
   "id": "e136b604",
   "metadata": {},
   "source": [
    "First let's confirm that `listing_id` is indeed a candidate key for the whole dataset:"
   ]
  },
  {
   "cell_type": "code",
   "execution_count": 76,
   "id": "03a44f51",
   "metadata": {},
   "outputs": [
    {
     "name": "stdout",
     "output_type": "stream",
     "text": [
      "Uniques on A: 2565033, uniques on A union B: 2565033\n"
     ]
    },
    {
     "data": {
      "text/plain": [
       "True"
      ]
     },
     "execution_count": 76,
     "metadata": {},
     "output_type": "execute_result"
    }
   ],
   "source": [
    "uniquely_determines([\"listing_id\"],list(data_demo.columns),data_demo)"
   ]
  },
  {
   "cell_type": "markdown",
   "id": "72672b40",
   "metadata": {},
   "source": [
    "Great! Is there one listing per vehicle?"
   ]
  },
  {
   "cell_type": "code",
   "execution_count": 77,
   "id": "9e489f55",
   "metadata": {},
   "outputs": [
    {
     "name": "stdout",
     "output_type": "stream",
     "text": [
      "Uniques on A: 2565033, uniques on A union B: 2565033\n"
     ]
    },
    {
     "data": {
      "text/plain": [
       "True"
      ]
     },
     "execution_count": 77,
     "metadata": {},
     "output_type": "execute_result"
    }
   ],
   "source": [
    "uniquely_determines([\"vin\"],[\"listing_id\"],data_demo)"
   ]
  },
  {
   "cell_type": "markdown",
   "id": "49124929",
   "metadata": {},
   "source": [
    "In fact, `vin` and `listing_id` are one-to-one (each listing only has one vehicle):"
   ]
  },
  {
   "cell_type": "code",
   "execution_count": 78,
   "id": "cd8a76cc",
   "metadata": {},
   "outputs": [
    {
     "name": "stdout",
     "output_type": "stream",
     "text": [
      "Uniques on A: 2565033, uniques on A union B: 2565033\n"
     ]
    },
    {
     "data": {
      "text/plain": [
       "True"
      ]
     },
     "execution_count": 78,
     "metadata": {},
     "output_type": "execute_result"
    }
   ],
   "source": [
    "uniquely_determines([\"listing_id\"],[\"vin\"],data_demo)"
   ]
  },
  {
   "cell_type": "markdown",
   "id": "d108c271",
   "metadata": {},
   "source": [
    "#### What does `trimId` entail?"
   ]
  },
  {
   "cell_type": "markdown",
   "id": "ca07a463",
   "metadata": {},
   "source": [
    "A further thought: what attributes are intrinsic to a trim level, and what are instrinsic to a specific vehicle? For example, does trim level uniquely determine `horsepower`?"
   ]
  },
  {
   "cell_type": "code",
   "execution_count": 79,
   "id": "5a147fe7",
   "metadata": {},
   "outputs": [
    {
     "name": "stdout",
     "output_type": "stream",
     "text": [
      "Uniques on A: 36964, uniques on A union B: 40785\n"
     ]
    },
    {
     "data": {
      "text/plain": [
       "False"
      ]
     },
     "execution_count": 79,
     "metadata": {},
     "output_type": "execute_result"
    }
   ],
   "source": [
    "uniquely_determines([\"trimId\"],[\"horsepower\"],data_demo)"
   ]
  },
  {
   "cell_type": "markdown",
   "id": "f1f7c616",
   "metadata": {},
   "source": [
    "It doesn't! This makes a lot of sense since not only can cars of the same trim come with slightly different engines, previous owners might end up modifying their engines too! Even some very simple mods can yield improvements to horsepower! We can see this by observing that even a make-model-trim-year tuple does not uniquely determine `horsepower`:"
   ]
  },
  {
   "cell_type": "code",
   "execution_count": 80,
   "id": "a3ff0859",
   "metadata": {},
   "outputs": [
    {
     "name": "stdout",
     "output_type": "stream",
     "text": [
      "Uniques on A: 36563, uniques on A union B: 40353\n"
     ]
    },
    {
     "data": {
      "text/plain": [
       "False"
      ]
     },
     "execution_count": 80,
     "metadata": {},
     "output_type": "execute_result"
    }
   ],
   "source": [
    "uniquely_determines([\"make_name\", \"model_name\", \"trim_name\", \"year\"],[\"horsepower\"],data_demo)"
   ]
  },
  {
   "cell_type": "markdown",
   "id": "111741c4",
   "metadata": {},
   "source": [
    "However, `trimId` does uniquely determine make and model as expected:"
   ]
  },
  {
   "cell_type": "code",
   "execution_count": 81,
   "id": "a2bb6ce2",
   "metadata": {},
   "outputs": [
    {
     "name": "stdout",
     "output_type": "stream",
     "text": [
      "Uniques on A: 36964, uniques on A union B: 36964\n"
     ]
    },
    {
     "data": {
      "text/plain": [
       "True"
      ]
     },
     "execution_count": 81,
     "metadata": {},
     "output_type": "execute_result"
    }
   ],
   "source": [
    "uniquely_determines([\"trimId\"],[\"make_name\", \"model_name\"],data_demo)"
   ]
  },
  {
   "cell_type": "markdown",
   "id": "3e57ad88",
   "metadata": {},
   "source": [
    "Interestingly, it also uniquely determines `year`:"
   ]
  },
  {
   "cell_type": "code",
   "execution_count": 82,
   "id": "0d21eb27",
   "metadata": {},
   "outputs": [
    {
     "name": "stdout",
     "output_type": "stream",
     "text": [
      "Uniques on A: 36964, uniques on A union B: 36964\n"
     ]
    },
    {
     "data": {
      "text/plain": [
       "True"
      ]
     },
     "execution_count": 82,
     "metadata": {},
     "output_type": "execute_result"
    }
   ],
   "source": [
    "uniquely_determines([\"trimId\"],[\"year\"],data_demo)"
   ]
  },
  {
   "cell_type": "markdown",
   "id": "0b55ee12",
   "metadata": {},
   "source": [
    "This means that the variable `trimId` can actually be used as an ID for a whole Make-Model-Trim-Year!"
   ]
  },
  {
   "cell_type": "markdown",
   "id": "ddc03b8d",
   "metadata": {},
   "source": [
    "### Splitting!"
   ]
  },
  {
   "cell_type": "markdown",
   "id": "b7b26cca",
   "metadata": {},
   "source": [
    "All in all, here is the database schema (the columns will be renamed later and a final schema will be put at the very end of the notebook):\n",
    "* Car(**vin**, *trimId*, mileage, is_oemcpo, has_accidents, transmission, listing_color, horsepower, power, torque, engine_type, engine_displacement, fuel_type, city_fuel_economy, highway_fuel_economy)\n",
    "* MMYT(**trimId**, make_name, model_name, year, trim_name, body_type, maximum_seating, fuel_tank_volume, wheel_system, length, width, height, wheelbase)\n",
    "* Dealer(**sp_id**, sp_name, total_listings, avg_rating, city, dealer_zip, longitude, latitude, franchise_dealer)\n",
    "* Listing(**listing_id**, *vin*, *sp_id*, price, listing_year, listing_month, listing_day, daysonmarket)\n",
    "\n",
    "(Primary keys are **bolded**, foreign keys are *italicized* and have the same name as the primary keys of the relations to which they refer.)"
   ]
  },
  {
   "cell_type": "code",
   "execution_count": 83,
   "id": "5f51bf6b",
   "metadata": {},
   "outputs": [],
   "source": [
    "car_cols = [\"vin\", \"trimId\", \"mileage\", \"is_oemcpo\", \"has_accidents\", \"transmission\",\n",
    "            \"listing_color\", \"horsepower\", \"power\", \"torque\", \"engine_type\",\n",
    "            \"engine_displacement\", \"fuel_type\", \"city_fuel_economy\", \"highway_fuel_economy\"]\n",
    "mmyt_cols = [\"trimId\", \"make_name\", \"model_name\", \"year\", \"trim_name\",\n",
    "             \"body_type\", \"maximum_seating\", \"fuel_tank_volume\", \"wheel_system\",\n",
    "             \"length\", \"width\", \"height\", \"wheelbase\"]\n",
    "dealer_cols = [\"sp_id\", \"sp_name\", \"total_listings\", \"avg_rating\", \"city\",\n",
    "               \"dealer_zip\", \"longitude\", \"latitude\", \"franchise_dealer\"]\n",
    "listing_cols = [\"listing_id\", \"vin\", \"sp_id\", \"price\", \"listing_year\", \"listing_month\",\n",
    "                \"listing_day\", \"daysonmarket\"]"
   ]
  },
  {
   "cell_type": "markdown",
   "id": "841f86b0",
   "metadata": {},
   "source": [
    "Let's confirm once again that the primary key constraints are met:"
   ]
  },
  {
   "cell_type": "code",
   "execution_count": 84,
   "id": "8247ebf2",
   "metadata": {},
   "outputs": [
    {
     "name": "stdout",
     "output_type": "stream",
     "text": [
      "Uniques on A: 2565033, uniques on A union B: 2565033\n"
     ]
    },
    {
     "data": {
      "text/plain": [
       "True"
      ]
     },
     "execution_count": 84,
     "metadata": {},
     "output_type": "execute_result"
    }
   ],
   "source": [
    "uniquely_determines([\"vin\"],car_cols,data_demo)"
   ]
  },
  {
   "cell_type": "code",
   "execution_count": 85,
   "id": "c798f981",
   "metadata": {},
   "outputs": [
    {
     "name": "stdout",
     "output_type": "stream",
     "text": [
      "Uniques on A: 36964, uniques on A union B: 36964\n"
     ]
    },
    {
     "data": {
      "text/plain": [
       "True"
      ]
     },
     "execution_count": 85,
     "metadata": {},
     "output_type": "execute_result"
    }
   ],
   "source": [
    "uniquely_determines([\"trimId\"],mmyt_cols,data_demo)"
   ]
  },
  {
   "cell_type": "code",
   "execution_count": 86,
   "id": "da067281",
   "metadata": {},
   "outputs": [
    {
     "name": "stdout",
     "output_type": "stream",
     "text": [
      "Uniques on A: 25564, uniques on A union B: 25564\n"
     ]
    },
    {
     "data": {
      "text/plain": [
       "True"
      ]
     },
     "execution_count": 86,
     "metadata": {},
     "output_type": "execute_result"
    }
   ],
   "source": [
    "uniquely_determines([\"sp_id\"],dealer_cols,data_demo)"
   ]
  },
  {
   "cell_type": "code",
   "execution_count": 87,
   "id": "1769ae2f",
   "metadata": {},
   "outputs": [
    {
     "name": "stdout",
     "output_type": "stream",
     "text": [
      "Uniques on A: 2565033, uniques on A union B: 2565033\n"
     ]
    },
    {
     "data": {
      "text/plain": [
       "True"
      ]
     },
     "execution_count": 87,
     "metadata": {},
     "output_type": "execute_result"
    }
   ],
   "source": [
    "uniquely_determines([\"listing_id\"],listing_cols,data_demo)"
   ]
  },
  {
   "cell_type": "markdown",
   "id": "133e2ceb",
   "metadata": {},
   "source": [
    "Everything works, now let's split:"
   ]
  },
  {
   "cell_type": "code",
   "execution_count": 88,
   "id": "2233426d",
   "metadata": {},
   "outputs": [],
   "source": [
    "cars = data_demo[car_cols].drop_duplicates()\n",
    "mmyts = data_demo[mmyt_cols].drop_duplicates()\n",
    "dealers = data_demo[dealer_cols].drop_duplicates()\n",
    "listings = data_demo[listing_cols].drop_duplicates()"
   ]
  },
  {
   "cell_type": "markdown",
   "id": "a2ba18a4",
   "metadata": {},
   "source": [
    "### Check if decomposition was lossless"
   ]
  },
  {
   "cell_type": "markdown",
   "id": "6c44b52d",
   "metadata": {},
   "source": [
    "This decomposition should be lossless, is it? As a final check, let's make extra sure that, if we merge the splitted relations, we get the original:"
   ]
  },
  {
   "cell_type": "code",
   "execution_count": 89,
   "id": "54eb98f3",
   "metadata": {},
   "outputs": [
    {
     "data": {
      "text/plain": [
       "True"
      ]
     },
     "execution_count": 89,
     "metadata": {},
     "output_type": "execute_result"
    }
   ],
   "source": [
    "merged = listings.merge(cars.merge(mmyts, on=\"trimId\"), on=\"vin\").merge(dealers, on=\"sp_id\")[data_demo.columns].sort_values(\"vin\").reset_index(drop=True)\n",
    "orig_sorted = data_demo.sort_values(\"vin\").reset_index(drop=True)\n",
    "(merged == orig_sorted).all().all()"
   ]
  },
  {
   "cell_type": "markdown",
   "id": "8330dff9",
   "metadata": {},
   "source": [
    "Yep, exactly the same!"
   ]
  },
  {
   "cell_type": "markdown",
   "id": "ba024f64",
   "metadata": {},
   "source": [
    "## Part 6: Renaming"
   ]
  },
  {
   "cell_type": "markdown",
   "id": "89ef7ce5",
   "metadata": {},
   "source": [
    "The columns names are a bit messy, let's rename some of them for clarity:"
   ]
  },
  {
   "cell_type": "code",
   "execution_count": 90,
   "id": "bc00faf2",
   "metadata": {},
   "outputs": [],
   "source": [
    "cars.rename(columns= {\n",
    "    \"trimId\":\"mmty_id\",\n",
    "    \"mileage\":\"odometer\",\n",
    "    \"is_oemcpo\":\"is_certified_preowned\",\n",
    "    \"transmission\":\"transmission_type\",\n",
    "    \"listing_color\":\"exterior_color\",\n",
    "    \"power\":\"max_horsepower_at_rpm\",\n",
    "    \"torque\":\"max_torque_at_rpm\",\n",
    "    \"city_fuel_economy\":\"city_mpg\",\n",
    "    \"highway_fuel_economy\":\"highway_mpg\"\n",
    "}, inplace=True)\n",
    "mmyts.rename(columns= {\n",
    "    \"trimId\":\"mmyt_id\",\n",
    "    \"year\":\"production_year\",\n",
    "    \"maximum_seating\":\"max_seats\",\n",
    "    \"fuel_tank_volume\":\"fuel_tank_gallons\",\n",
    "    \"length\":\"vehicle_length\",\n",
    "    \"width\":\"vehicle_width\",\n",
    "    \"height\":\"vehicle_height\",\n",
    "    \"wheel_system\":\"drivetrain\"\n",
    "}, inplace=True)\n",
    "dealers.rename(columns= {\n",
    "    \"sp_id\":\"dealer_id\",\n",
    "    \"sp_name\":\"dealer_name\",\n",
    "    \"city\":\"location\",\n",
    "    \"dealer_zip\":\"zipcode\",\n",
    "    \"franchise_dealer\":\"is_franchise_dealer\"\n",
    "}, inplace=True)\n",
    "dealers[\"is_franchise_dealer\"] = dealers.is_franchise_dealer.astype(str)\n",
    "listings.rename(columns= {\n",
    "    \"sp_id\":\"dealer_id\",\n",
    "    \"daysonmarket\":\"days_on_market\"\n",
    "}, inplace=True)"
   ]
  },
  {
   "cell_type": "markdown",
   "id": "9d3568a9",
   "metadata": {},
   "source": [
    "Print out some per-column dtype stats for easy loading into MySQL:"
   ]
  },
  {
   "cell_type": "code",
   "execution_count": 91,
   "id": "74b5d93f",
   "metadata": {},
   "outputs": [],
   "source": [
    "def print_table_stats(table):\n",
    "    for column in table.columns:\n",
    "        print(f\"{column} has dtype {table[column].dtype}\")\n",
    "        if table[column].dtype == \"O\":\n",
    "            print(f\"{column} has max char length {table[column].str.len().max()}\")\n",
    "        print(\"\")"
   ]
  },
  {
   "cell_type": "code",
   "execution_count": 92,
   "id": "83b694a5",
   "metadata": {},
   "outputs": [
    {
     "name": "stdout",
     "output_type": "stream",
     "text": [
      "vin has dtype object\n",
      "vin has max char length 17\n",
      "\n",
      "mmty_id has dtype object\n",
      "mmty_id has max char length 10\n",
      "\n",
      "odometer has dtype float64\n",
      "\n",
      "is_certified_preowned has dtype object\n",
      "is_certified_preowned has max char length 5.0\n",
      "\n",
      "has_accidents has dtype object\n",
      "has_accidents has max char length 10.0\n",
      "\n",
      "transmission_type has dtype object\n",
      "transmission_type has max char length 11\n",
      "\n",
      "exterior_color has dtype object\n",
      "exterior_color has max char length 7\n",
      "\n",
      "horsepower has dtype float64\n",
      "\n",
      "max_horsepower_at_rpm has dtype object\n",
      "max_horsepower_at_rpm has max char length 20\n",
      "\n",
      "max_torque_at_rpm has dtype object\n",
      "max_torque_at_rpm has max char length 21\n",
      "\n",
      "engine_type has dtype object\n",
      "engine_type has max char length 3\n",
      "\n",
      "engine_displacement has dtype float64\n",
      "\n",
      "fuel_type has dtype object\n",
      "fuel_type has max char length 22\n",
      "\n",
      "city_mpg has dtype float64\n",
      "\n",
      "highway_mpg has dtype float64\n",
      "\n"
     ]
    }
   ],
   "source": [
    "print_table_stats(cars)"
   ]
  },
  {
   "cell_type": "code",
   "execution_count": 93,
   "id": "6c29b760",
   "metadata": {},
   "outputs": [
    {
     "name": "stdout",
     "output_type": "stream",
     "text": [
      "mmyt_id has dtype object\n",
      "mmyt_id has max char length 10\n",
      "\n",
      "make_name has dtype object\n",
      "make_name has max char length 13\n",
      "\n",
      "model_name has dtype object\n",
      "model_name has max char length 26\n",
      "\n",
      "production_year has dtype int64\n",
      "\n",
      "trim_name has dtype object\n",
      "trim_name has max char length 99\n",
      "\n",
      "body_type has dtype object\n",
      "body_type has max char length 15\n",
      "\n",
      "max_seats has dtype float64\n",
      "\n",
      "fuel_tank_gallons has dtype float64\n",
      "\n",
      "drivetrain has dtype object\n",
      "drivetrain has max char length 3\n",
      "\n",
      "vehicle_length has dtype float64\n",
      "\n",
      "vehicle_width has dtype float64\n",
      "\n",
      "vehicle_height has dtype float64\n",
      "\n",
      "wheelbase has dtype float64\n",
      "\n"
     ]
    }
   ],
   "source": [
    "print_table_stats(mmyts)"
   ]
  },
  {
   "cell_type": "code",
   "execution_count": 94,
   "id": "ec6d75dc",
   "metadata": {},
   "outputs": [
    {
     "name": "stdout",
     "output_type": "stream",
     "text": [
      "dealer_id has dtype object\n",
      "dealer_id has max char length 8\n",
      "\n",
      "dealer_name has dtype object\n",
      "dealer_name has max char length 81\n",
      "\n",
      "total_listings has dtype int64\n",
      "\n",
      "avg_rating has dtype float64\n",
      "\n",
      "location has dtype object\n",
      "location has max char length 29\n",
      "\n",
      "zipcode has dtype int64\n",
      "\n",
      "longitude has dtype float64\n",
      "\n",
      "latitude has dtype float64\n",
      "\n",
      "is_franchise_dealer has dtype object\n",
      "is_franchise_dealer has max char length 5\n",
      "\n"
     ]
    }
   ],
   "source": [
    "print_table_stats(dealers)"
   ]
  },
  {
   "cell_type": "code",
   "execution_count": 95,
   "id": "bfe3609c",
   "metadata": {},
   "outputs": [
    {
     "name": "stdout",
     "output_type": "stream",
     "text": [
      "listing_id has dtype object\n",
      "listing_id has max char length 11\n",
      "\n",
      "vin has dtype object\n",
      "vin has max char length 17\n",
      "\n",
      "dealer_id has dtype object\n",
      "dealer_id has max char length 8\n",
      "\n",
      "price has dtype float64\n",
      "\n",
      "listing_year has dtype int64\n",
      "\n",
      "listing_month has dtype int64\n",
      "\n",
      "listing_day has dtype int64\n",
      "\n",
      "days_on_market has dtype int64\n",
      "\n"
     ]
    }
   ],
   "source": [
    "print_table_stats(listings)"
   ]
  },
  {
   "cell_type": "markdown",
   "id": "6a729850",
   "metadata": {},
   "source": [
    "## Final preprocessing function"
   ]
  },
  {
   "cell_type": "code",
   "execution_count": 96,
   "id": "8bb581b9",
   "metadata": {},
   "outputs": [],
   "source": [
    "def preprocess_data1(data):\n",
    "    # dropping unused columns\n",
    "    data = data.drop(columns=[\"back_legroom\", \"bed\", \"bed_height\", \"bed_length\",\n",
    "                              \"cabin\", \"description\", \"engine_cylinders\",\n",
    "                              \"combine_fuel_economy\", \"exterior_color\", \"fleet\", \"frame_damaged\",\n",
    "                              \"franchise_make\", \"front_legroom\", \"interior_color\", \"isCab\",\n",
    "                              \"is_certified\", \"is_cpo\", \"is_new\", \"main_picture_url\", \"major_options\",\n",
    "                              \"owner_count\", \"salvage\", \"savings_amount\", \"theft_title\",\n",
    "                              \"transmission_display\", \"vehicle_damage_category\", \"wheel_system_display\"])\n",
    "    \n",
    "    # filling NULLs\n",
    "    data[\"has_accidents\"] = data.has_accidents.fillna(\"Unreported\")\n",
    "    data[\"is_oemcpo\"] = data.is_oemcpo.fillna(\"False\")\n",
    "    data[\"power\"] = data.power.fillna(\"Unknown\")\n",
    "    data[\"torque\"] = data.torque.fillna(\"Unknown\")\n",
    "    data[\"city_fuel_economy\"] = data.city_fuel_economy.fillna(-1)\n",
    "    data[\"highway_fuel_economy\"] = data.highway_fuel_economy.fillna(-1)\n",
    "    \n",
    "    # removing NULLs\n",
    "    data = data.replace(\"--\", np.nan)\n",
    "    data = data.dropna()\n",
    "    \n",
    "    # data cleaning\n",
    "    data = data[data.price < 1000000]\n",
    "    data = data[data.mileage < 1000000]\n",
    "    data[\"engine_type\"] = data.engine_type.str.split().str[0]\n",
    "    data[\"fuel_tank_volume\"] = data.fuel_tank_volume.str.split().str[0].astype(float)\n",
    "    data[\"height\"] = data.height.str.split().str[0].astype(float)\n",
    "    data[\"width\"] = data.width.str.split().str[0].astype(float)\n",
    "    data[\"length\"] = data.length.str.split().str[0].astype(float)\n",
    "    data[\"maximum_seating\"] = data.maximum_seating.str.split().str[0].astype(float)\n",
    "    data[\"wheelbase\"] = data.wheelbase.str.split().str[0].astype(float)\n",
    "    data[\"listing_year\"] = data.listed_date.str[0:4].astype(int)\n",
    "    data[\"listing_month\"] = data.listed_date.str[5:7].astype(int)\n",
    "    data[\"listing_day\"] = data.listed_date.str[8:10].astype(int)\n",
    "    data = data.drop(columns=[\"listed_date\"])\n",
    "    data[\"dealer_zip\"] = data.dealer_zip.astype(str).str.split(\"-\").str[0].astype(int)\n",
    "    data[\"sp_id\"] = \"D\" + data.sp_id.astype(int).astype(str).str.zfill(7)\n",
    "    data[\"listing_id\"] = \"L\" + data.listing_id.astype(str).str.zfill(10)\n",
    "    data[\"trimId\"] = \"MMYT\" + data.trimId.str[1:].str.zfill(6)\n",
    "    \n",
    "    # fix trim_name\n",
    "    problem_trimIds = data[[\"trimId\", \"trim_name\"]].groupby(\"trimId\").nunique().query(\"trim_name > 1\").index\n",
    "    replacement_trim_names = data.loc[data.trimId.isin(problem_trimIds), [\"trimId\", \"trim_name\"]]\n",
    "    replacement_trim_names[\"str_length\"] = replacement_trim_names.trim_name.str.len()\n",
    "    replacement_trim_names = replacement_trim_names.sort_values(\"str_length\").drop_duplicates(\"trimId\")[[\"trimId\", \"trim_name\"]]\n",
    "    data = data.merge(right=replacement_trim_names, how=\"left\", on=\"trimId\", suffixes=(\"\", \"_replacement\"))\n",
    "    data.loc[data.trimId.isin(problem_trimIds), \"trim_name\"] = data.loc[data.trimId.isin(problem_trimIds), \"trim_name_replacement\"]\n",
    "    data = data.drop(columns=[\"trim_name_replacement\"])\n",
    "    \n",
    "    # remove problematic trimIds\n",
    "    more_problem_trimIds = set(data[[\"trimId\", \"body_type\"]].groupby(\"trimId\").nunique().query(\"body_type > 1\").index).union(\n",
    "                           set(data[[\"trimId\", \"maximum_seating\"]].groupby(\"trimId\").nunique().query(\"maximum_seating > 1\").index).union(\n",
    "                           set(data[[\"trimId\", \"height\"]].groupby(\"trimId\").nunique().query(\"height > 1\").index)))\n",
    "    data = data[~data.trimId.isin(more_problem_trimIds)]\n",
    "    \n",
    "    # remove problematic sp_ids\n",
    "    problem_sp_ids = set(data[[\"sp_id\", \"sp_name\"]].groupby(\"sp_id\").nunique().query(\"sp_name > 1\").index).union(\n",
    "                     set(data[[\"sp_id\", \"city\"]].groupby(\"sp_id\").nunique().query(\"city > 1\").index).union(\n",
    "                     set(data[[\"sp_id\", \"dealer_zip\"]].groupby(\"sp_id\").nunique().query(\"dealer_zip > 1\").index).union(\n",
    "                     set(data[[\"sp_id\", \"longitude\"]].groupby(\"sp_id\").nunique().query(\"longitude > 1\").index).union(\n",
    "                     set(data[[\"sp_id\", \"latitude\"]].groupby(\"sp_id\").nunique().query(\"latitude > 1\").index).union(\n",
    "                     set(data[[\"sp_id\", \"franchise_dealer\"]].groupby(\"sp_id\").nunique().query(\"franchise_dealer > 1\").index))))))\n",
    "    data = data[~data.sp_id.isin(problem_sp_ids)]\n",
    "    \n",
    "    # dealer aggregate statistics\n",
    "    avg_rating_df = data[[\"sp_id\", \"seller_rating\"]].groupby(\"sp_id\").mean().reset_index().rename({\"seller_rating\": \"avg_rating\"},axis=1)\n",
    "    data = data.merge(right=avg_rating_df, how=\"left\", on=\"sp_id\")\n",
    "    data = data.drop(columns=[\"seller_rating\"])\n",
    "    total_listings_df = data.groupby(\"sp_id\").size().rename(\"total_listings\").reset_index()\n",
    "    data = data.merge(right=total_listings_df, how=\"left\", on=\"sp_id\")\n",
    "    \n",
    "    # remove semicolons\n",
    "    semicolon_mask = data.sp_name.str.contains(\";\")\n",
    "    data.loc[semicolon_mask, \"sp_name\"] = data.loc[semicolon_mask, \"sp_name\"].str.split(\";\").str[0]\n",
    "    \n",
    "    # drop duplicates\n",
    "    data = data.drop_duplicates()\n",
    "    \n",
    "    # columns for splitting\n",
    "    car_cols = [\"vin\", \"trimId\", \"mileage\", \"is_oemcpo\", \"has_accidents\", \"transmission\",\n",
    "                \"listing_color\", \"horsepower\", \"power\", \"torque\", \"engine_type\",\n",
    "                \"engine_displacement\", \"fuel_type\", \"city_fuel_economy\", \"highway_fuel_economy\"]\n",
    "    mmyt_cols = [\"trimId\", \"make_name\", \"model_name\", \"year\", \"trim_name\",\n",
    "                 \"body_type\", \"maximum_seating\", \"fuel_tank_volume\", \"wheel_system\",\n",
    "                 \"length\", \"width\", \"height\", \"wheelbase\"]\n",
    "    dealer_cols = [\"sp_id\", \"sp_name\", \"total_listings\", \"avg_rating\", \"city\",\n",
    "                   \"dealer_zip\", \"longitude\", \"latitude\", \"franchise_dealer\"]\n",
    "    listing_cols = [\"listing_id\", \"vin\", \"sp_id\", \"price\", \"listing_year\", \"listing_month\",\n",
    "                    \"listing_day\", \"daysonmarket\"]\n",
    "    \n",
    "    # splitting\n",
    "    cars = data[car_cols].drop_duplicates()\n",
    "    mmyts = data[mmyt_cols].drop_duplicates()\n",
    "    dealers = data[dealer_cols].drop_duplicates()\n",
    "    listings = data[listing_cols].drop_duplicates()\n",
    "    \n",
    "    # renaming\n",
    "    cars.rename(columns= {\n",
    "        \"trimId\":\"mmty_id\",\n",
    "        \"mileage\":\"odometer\",\n",
    "        \"is_oemcpo\":\"is_certified_preowned\",\n",
    "        \"transmission\":\"transmission_type\",\n",
    "        \"listing_color\":\"exterior_color\",\n",
    "        \"power\":\"max_horsepower_at_rpm\",\n",
    "        \"torque\":\"max_torque_at_rpm\",\n",
    "        \"city_fuel_economy\":\"city_mpg\",\n",
    "        \"highway_fuel_economy\":\"highway_mpg\"\n",
    "    }, inplace=True)\n",
    "    mmyts.rename(columns= {\n",
    "        \"trimId\":\"mmyt_id\",\n",
    "        \"year\":\"production_year\",\n",
    "        \"maximum_seating\":\"max_seats\",\n",
    "        \"fuel_tank_volume\":\"fuel_tank_gallons\",\n",
    "        \"length\":\"vehicle_length\",\n",
    "        \"width\":\"vehicle_width\",\n",
    "        \"height\":\"vehicle_height\",\n",
    "        \"wheel_system\":\"drivetrain\"\n",
    "    }, inplace=True)\n",
    "    dealers.rename(columns= {\n",
    "        \"sp_id\":\"dealer_id\",\n",
    "        \"sp_name\":\"dealer_name\",\n",
    "        \"city\":\"location\",\n",
    "        \"dealer_zip\":\"zipcode\",\n",
    "        \"franchise_dealer\":\"is_franchise_dealer\"\n",
    "    }, inplace=True)\n",
    "    dealers[\"is_franchise_dealer\"] = dealers.is_franchise_dealer.astype(str)\n",
    "    listings.rename(columns= {\n",
    "        \"sp_id\":\"dealer_id\",\n",
    "        \"daysonmarket\":\"days_on_market\"\n",
    "    }, inplace=True)\n",
    "    \n",
    "    # return out preprocessed tables\n",
    "    return cars, mmyts, dealers, listings"
   ]
  },
  {
   "cell_type": "code",
   "execution_count": 97,
   "id": "6ef671ad",
   "metadata": {},
   "outputs": [],
   "source": [
    "cars_final, mmyts_final, dealers_final, listings_final = preprocess_data1(data_raw)"
   ]
  },
  {
   "cell_type": "code",
   "execution_count": 98,
   "id": "cd99da1e",
   "metadata": {},
   "outputs": [],
   "source": [
    "cars_final.to_csv(\"./Car.csv\", sep=\";\", index=False, header=False)\n",
    "mmyts_final.to_csv(\"./MMYT.csv\", sep=\";\", index=False, header=False)\n",
    "dealers_final.to_csv(\"./Dealer.csv\", sep=\";\", index=False, header=False)\n",
    "listings_final.to_csv(\"./Listing.csv\", sep=\";\", index=False, header=False)"
   ]
  },
  {
   "cell_type": "markdown",
   "id": "d09adfdc",
   "metadata": {},
   "source": [
    "## Final database schema:"
   ]
  },
  {
   "cell_type": "markdown",
   "id": "84988e7b",
   "metadata": {},
   "source": [
    "Here is the final database schema with renamed columns:\n",
    "* Car(**vin**, *mmty_id*, odometer, is_certified_preowned, has_accidents, transmission_type, exterior_color, horsepower, max_horsepower_at_rpm, max_torque_at_rpm, engine_type, engine_displacement, fuel_type, city_mpg, highway_mpg)\n",
    "* MMYT(**mmyt_id**, make_name, model_name, production_year, trim_name, body_type, max_seats, fuel_tank_gallons, drivetrain, vehicle_length, vehicle_width, vehicle_height, wheelbase)\n",
    "* Dealer(**dealer_id**, dealer_name, total_listings, avg_rating, location, zipcode, longitude, latitude, is_franchise_dealer)\n",
    "* Listing(**listing_id**, *vin*, *dealer_id*, price, listing_year, listing_month, listing_day, days_on_market)\n",
    "\n",
    "(Primary keys are **bolded**, foreign keys are *italicized* and have the same name as the primary keys of the relations to which they refer.)"
   ]
  }
 ],
 "metadata": {
  "kernelspec": {
   "display_name": "Python 3 (ipykernel)",
   "language": "python",
   "name": "python3"
  },
  "language_info": {
   "codemirror_mode": {
    "name": "ipython",
    "version": 3
   },
   "file_extension": ".py",
   "mimetype": "text/x-python",
   "name": "python",
   "nbconvert_exporter": "python",
   "pygments_lexer": "ipython3",
   "version": "3.10.9"
  }
 },
 "nbformat": 4,
 "nbformat_minor": 5
}
