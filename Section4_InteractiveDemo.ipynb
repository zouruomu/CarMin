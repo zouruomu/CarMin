{
 "cells": [
  {
   "cell_type": "code",
   "execution_count": 1,
   "id": "7dc0f0fc",
   "metadata": {},
   "outputs": [],
   "source": [
    "import os\n",
    "import pymysql\n",
    "import warnings\n",
    "warnings.filterwarnings('ignore')\n",
    "import pickle\n",
    "import numpy as np\n",
    "np.random.seed(2830)\n",
    "import pandas as pd\n",
    "import matplotlib.pyplot as plt\n",
    "import seaborn as sns\n",
    "sns.set()\n",
    "plt.rcParams['figure.dpi'] = 150\n",
    "import sklearn\n",
    "from sklearn.preprocessing import LabelEncoder\n",
    "from sklearn.model_selection import train_test_split, GroupKFold, cross_val_score, cross_validate\n",
    "from sklearn.metrics import mean_absolute_error\n",
    "import lightgbm as lgb"
   ]
  },
  {
   "cell_type": "markdown",
   "id": "6de8b054",
   "metadata": {},
   "source": [
    "<font size=7><b>Section 4: Interactive Demo</b></font>"
   ]
  },
  {
   "cell_type": "markdown",
   "id": "eaeb012e",
   "metadata": {},
   "source": [
    "This is the interactive demo of the CarMin database!\n",
    "\n",
    "<br>\n",
    "\n",
    "This notebook assumes:\n",
    "* A valid MySQL Server is running.\n",
    "* The password of 'root'@'localhost' is \"insecure_password\".\n",
    "* `Section2_LoadIntoMySQL.sql` has already been run and the database `CarMin` is already created and populated in the MySQL Server.\n",
    "* `Section3_TrainModel.ipynb` has already been run and `./Models/MODEL_LGBM.txt` exists with trained parameters.\n",
    "\n",
    "<br>\n",
    "\n",
    "Notebook table of contents:\n",
    "* **Part 1: Global variables and helper functions.**\n",
    "* **Part 2: Interactive -- edit this!**"
   ]
  },
  {
   "cell_type": "markdown",
   "id": "854305d1",
   "metadata": {},
   "source": [
    "# Part 1: Global variables and helper functions"
   ]
  },
  {
   "cell_type": "code",
   "execution_count": 2,
   "id": "e2d6ca21",
   "metadata": {},
   "outputs": [],
   "source": [
    "# global variables\n",
    "mysql_connection = None\n",
    "mysql_cursor = None\n",
    "lgbm_model = lgb.Booster(model_file=\"./Models/MODEL_LGBM.txt\")\n",
    "pickle_file = open(\"./Models/encoder_dict.pickle\", \"rb\")\n",
    "encoder_dict = pickle.load(pickle_file)                    \n",
    "pickle_file.close()\n",
    "\n",
    "def init():\n",
    "    \"\"\"Connect to MySQL Server, sets globals\"\"\"\n",
    "    # globals\n",
    "    global mysql_connection\n",
    "    global mysql_cursor\n",
    "    global lgbm_model\n",
    "    global encoder_dict\n",
    "    \n",
    "    # sanity check\n",
    "    if mysql_connection is not None:\n",
    "        print(\"Error (init): Global mysql_connection must be None when connecting, did you call end?\")\n",
    "    \n",
    "    # connect to MySQL Server\n",
    "    # NOTE: For demo purposes, at present, the password for MySQL server on my local machine\n",
    "    #       is temporarily set to \"insecure_password\"\n",
    "    mysql_connection = pymysql.connect(host=\"localhost\", user=\"root\", password = \"insecure_password\", db=\"CarMin\") \n",
    "    mysql_cursor = mysql_connection.cursor() \n",
    "\n",
    "def end():\n",
    "    \"\"\"Close MySQL connection, uses globals\"\"\"\n",
    "    # globals\n",
    "    global mysql_connection\n",
    "    global mysql_cursor\n",
    "    global lgbm_model\n",
    "    global encoder_dict\n",
    "    \n",
    "    # sanity check\n",
    "    if mysql_connection is None:\n",
    "        print(\"Error (end): Global mysql_connection is None, did you call init?\")\n",
    "        return\n",
    "    \n",
    "    # close pymysql varaibles\n",
    "    mysql_cursor.close()\n",
    "    mysql_connection.close()\n",
    "    \n",
    "    # maintain globals\n",
    "    mysql_connection = None\n",
    "    mysql_cursor = None\n",
    "\n",
    "def execute_sql_query(query):\n",
    "    \"\"\"\n",
    "    Execute an arbitrary MySQL query.\n",
    "    \n",
    "    Params:\n",
    "        query -- the query string\n",
    "        \n",
    "    Returns:\n",
    "        None\n",
    "    \n",
    "    Side effects:\n",
    "        Prints the query result to the notebook\n",
    "    \"\"\"\n",
    "    # globals\n",
    "    global mysql_connection\n",
    "    global mysql_cursor\n",
    "    global lgbm_model\n",
    "    global encoder_dict\n",
    "    \n",
    "    mysql_cursor.execute(query)\n",
    "    out = mysql_cursor.fetchall()\n",
    "    for line in out:\n",
    "        print(\"\".join([(str(item) + \" \") for item in line]))\n",
    "\n",
    "def print_predicted_price(make_name, model_name, production_year=np.nan, odometer=np.nan,\n",
    "                          exterior_color=np.nan, transmission_type=np.nan, days_on_market=np.nan,\n",
    "                          has_accidents=np.nan, is_certified_preowned=\"False\", body_type=np.nan,\n",
    "                          engine_type=np.nan, engine_displacement=np.nan, horsepower=np.nan,\n",
    "                          fuel_type=np.nan, fuel_tank_gallons=np.nan, city_mpg=np.nan, highway_mpg=np.nan,\n",
    "                          max_seats=np.nan, drivetrain=np.nan, wheelbase=np.nan,\n",
    "                          vehicle_length=np.nan, vehicle_width=np.nan, vehicle_height=np.nan,\n",
    "                          dealer_name=np.nan):\n",
    "    \"\"\"\n",
    "    Predict vehicle price given vehicle input information and print.\n",
    "    \n",
    "    Params:\n",
    "        See `Section1_DatabaseCreation.ipynb` for column descriptions\n",
    "    \n",
    "    Returns:\n",
    "        None\n",
    "        \n",
    "    Side effects:\n",
    "        Prints the query result to the notebook\n",
    "    \"\"\"\n",
    "    # globals\n",
    "    global mysql_connection\n",
    "    global mysql_cursor\n",
    "    global lgbm_model\n",
    "    global encoder_dict\n",
    "    \n",
    "    # create new DataFrame\n",
    "    df = pd.DataFrame(columns=[\"days_on_market\", \"odometer\", \"is_certified_preowned\", \"has_accidents\",\n",
    "                               \"transmission_type\", \"exterior_color\", \"horsepower\", \"engine_type\",\n",
    "                               \"engine_displacement\", \"fuel_type\", \"city_mpg\", \"highway_mpg\",\n",
    "                               \"make_name\", \"model_name\", \"production_year\", \"body_type\", \"max_seats\",\n",
    "                               \"fuel_tank_gallons\", \"drivetrain\", \"vehicle_length\", \"vehicle_width\",\n",
    "                               \"vehicle_height\", \"wheelbase\"],\n",
    "                      data=[[days_on_market, odometer, is_certified_preowned, has_accidents,\n",
    "                             transmission_type, exterior_color, horsepower, engine_type,\n",
    "                             engine_displacement, fuel_type, city_mpg, highway_mpg,\n",
    "                             make_name, model_name, production_year, body_type, max_seats,\n",
    "                             fuel_tank_gallons, drivetrain, vehicle_length, vehicle_width,\n",
    "                             vehicle_height, wheelbase]])\n",
    "    \n",
    "    # label encode\n",
    "    categorical_cols = [\"is_certified_preowned\", \"has_accidents\", \"transmission_type\", \"exterior_color\",\n",
    "                        \"engine_type\", \"fuel_type\", \"make_name\", \"model_name\", \"body_type\", \"drivetrain\"]\n",
    "    for categorical_col in categorical_cols:\n",
    "            df[categorical_col] = encoder_dict[categorical_col].transform(df[categorical_col])\n",
    "    \n",
    "      \n",
    "    print(f\"The predicted price of the input vehicle is: {lgbm_model.predict(df).item()} dollars.\")"
   ]
  },
  {
   "cell_type": "markdown",
   "id": "8ac86abe",
   "metadata": {},
   "source": [
    "# Part 2: Interactive -- edit this!"
   ]
  },
  {
   "cell_type": "code",
   "execution_count": 3,
   "id": "2e6436b9",
   "metadata": {},
   "outputs": [
    {
     "name": "stdout",
     "output_type": "stream",
     "text": [
      "The predicted price of the input vehicle is: 29768.50316614245 dollars.\n",
      "The predicted price of the input vehicle is: 34032.006530875995 dollars.\n",
      "The predicted price of the input vehicle is: 32662.41339728704 dollars.\n"
     ]
    }
   ],
   "source": [
    "init()\n",
    "\n",
    "print_predicted_price(make_name=\"Chevrolet\", model_name=\"Camaro\", production_year=2018, odometer=40000)\n",
    "print_predicted_price(make_name=\"Dodge\", model_name=\"Challenger\", production_year=2020, odometer=35000)\n",
    "print_predicted_price(make_name=\"Volkswagen\", model_name=\"Golf\", production_year=2023, odometer=25000)\n",
    "\n",
    "end()"
   ]
  },
  {
   "cell_type": "code",
   "execution_count": 4,
   "id": "34d07edc",
   "metadata": {},
   "outputs": [
    {
     "name": "stdout",
     "output_type": "stream",
     "text": [
      "Ford Focus 2013 100639.0 UNKNOWN \n",
      "Ford Focus 2013 102699.0 WHITE \n",
      "Ford Focus 2013 108966.0 BLACK \n",
      "Ford Focus 2013 150394.0 BLACK \n",
      "Ford Focus 2013 79369.0 GRAY \n"
     ]
    }
   ],
   "source": [
    "init()\n",
    "\n",
    "# example to joing make/model information with specific car instances\n",
    "execute_sql_query(\"\"\"\n",
    "\n",
    "SELECT make_name, model_name, production_year, odometer, exterior_color\n",
    "FROM Car LEFT OUTER JOIN MMYT USING (mmyt_id)\n",
    "WHERE make_name = \"Ford\" AND model_name = \"Focus\"\n",
    "LIMIT 5;\n",
    "\n",
    "\"\"\")\n",
    "\n",
    "end()"
   ]
  }
 ],
 "metadata": {
  "kernelspec": {
   "display_name": "Python 3 (ipykernel)",
   "language": "python",
   "name": "python3"
  },
  "language_info": {
   "codemirror_mode": {
    "name": "ipython",
    "version": 3
   },
   "file_extension": ".py",
   "mimetype": "text/x-python",
   "name": "python",
   "nbconvert_exporter": "python",
   "pygments_lexer": "ipython3",
   "version": "3.10.9"
  }
 },
 "nbformat": 4,
 "nbformat_minor": 5
}
