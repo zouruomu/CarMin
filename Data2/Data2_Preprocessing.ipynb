{
 "cells": [
  {
   "cell_type": "code",
   "execution_count": 1,
   "id": "3717c663",
   "metadata": {},
   "outputs": [],
   "source": [
    "import warnings\n",
    "warnings.filterwarnings('ignore')\n",
    "import pandas as pd\n",
    "import numpy as np\n",
    "import matplotlib.pyplot as plt\n",
    "plt.rcParams['figure.dpi'] = 150\n",
    "import seaborn as sns\n",
    "from datetime import datetime\n",
    "import gc\n",
    "\n",
    "vehicles_full = pd.read_csv(\"./Data2_raw.csv\")"
   ]
  },
  {
   "cell_type": "markdown",
   "id": "397aee25",
   "metadata": {},
   "source": [
    "# Preprocessing for Data2.csv"
   ]
  },
  {
   "cell_type": "markdown",
   "id": "5f123a36",
   "metadata": {},
   "source": [
    "## First look:"
   ]
  },
  {
   "cell_type": "code",
   "execution_count": 2,
   "id": "7502cf45",
   "metadata": {},
   "outputs": [
    {
     "data": {
      "text/html": [
       "<div>\n",
       "<style scoped>\n",
       "    .dataframe tbody tr th:only-of-type {\n",
       "        vertical-align: middle;\n",
       "    }\n",
       "\n",
       "    .dataframe tbody tr th {\n",
       "        vertical-align: top;\n",
       "    }\n",
       "\n",
       "    .dataframe thead th {\n",
       "        text-align: right;\n",
       "    }\n",
       "</style>\n",
       "<table border=\"1\" class=\"dataframe\">\n",
       "  <thead>\n",
       "    <tr style=\"text-align: right;\">\n",
       "      <th></th>\n",
       "      <th>id</th>\n",
       "      <th>url</th>\n",
       "      <th>region</th>\n",
       "      <th>region_url</th>\n",
       "      <th>price</th>\n",
       "      <th>year</th>\n",
       "      <th>manufacturer</th>\n",
       "      <th>model</th>\n",
       "      <th>condition</th>\n",
       "      <th>cylinders</th>\n",
       "      <th>...</th>\n",
       "      <th>size</th>\n",
       "      <th>type</th>\n",
       "      <th>paint_color</th>\n",
       "      <th>image_url</th>\n",
       "      <th>description</th>\n",
       "      <th>county</th>\n",
       "      <th>state</th>\n",
       "      <th>lat</th>\n",
       "      <th>long</th>\n",
       "      <th>posting_date</th>\n",
       "    </tr>\n",
       "  </thead>\n",
       "  <tbody>\n",
       "    <tr>\n",
       "      <th>0</th>\n",
       "      <td>7222695916</td>\n",
       "      <td>https://prescott.craigslist.org/cto/d/prescott...</td>\n",
       "      <td>prescott</td>\n",
       "      <td>https://prescott.craigslist.org</td>\n",
       "      <td>6000</td>\n",
       "      <td>NaN</td>\n",
       "      <td>NaN</td>\n",
       "      <td>NaN</td>\n",
       "      <td>NaN</td>\n",
       "      <td>NaN</td>\n",
       "      <td>...</td>\n",
       "      <td>NaN</td>\n",
       "      <td>NaN</td>\n",
       "      <td>NaN</td>\n",
       "      <td>NaN</td>\n",
       "      <td>NaN</td>\n",
       "      <td>NaN</td>\n",
       "      <td>az</td>\n",
       "      <td>NaN</td>\n",
       "      <td>NaN</td>\n",
       "      <td>NaN</td>\n",
       "    </tr>\n",
       "    <tr>\n",
       "      <th>1</th>\n",
       "      <td>7218891961</td>\n",
       "      <td>https://fayar.craigslist.org/ctd/d/bentonville...</td>\n",
       "      <td>fayetteville</td>\n",
       "      <td>https://fayar.craigslist.org</td>\n",
       "      <td>11900</td>\n",
       "      <td>NaN</td>\n",
       "      <td>NaN</td>\n",
       "      <td>NaN</td>\n",
       "      <td>NaN</td>\n",
       "      <td>NaN</td>\n",
       "      <td>...</td>\n",
       "      <td>NaN</td>\n",
       "      <td>NaN</td>\n",
       "      <td>NaN</td>\n",
       "      <td>NaN</td>\n",
       "      <td>NaN</td>\n",
       "      <td>NaN</td>\n",
       "      <td>ar</td>\n",
       "      <td>NaN</td>\n",
       "      <td>NaN</td>\n",
       "      <td>NaN</td>\n",
       "    </tr>\n",
       "    <tr>\n",
       "      <th>2</th>\n",
       "      <td>7221797935</td>\n",
       "      <td>https://keys.craigslist.org/cto/d/summerland-k...</td>\n",
       "      <td>florida keys</td>\n",
       "      <td>https://keys.craigslist.org</td>\n",
       "      <td>21000</td>\n",
       "      <td>NaN</td>\n",
       "      <td>NaN</td>\n",
       "      <td>NaN</td>\n",
       "      <td>NaN</td>\n",
       "      <td>NaN</td>\n",
       "      <td>...</td>\n",
       "      <td>NaN</td>\n",
       "      <td>NaN</td>\n",
       "      <td>NaN</td>\n",
       "      <td>NaN</td>\n",
       "      <td>NaN</td>\n",
       "      <td>NaN</td>\n",
       "      <td>fl</td>\n",
       "      <td>NaN</td>\n",
       "      <td>NaN</td>\n",
       "      <td>NaN</td>\n",
       "    </tr>\n",
       "    <tr>\n",
       "      <th>3</th>\n",
       "      <td>7222270760</td>\n",
       "      <td>https://worcester.craigslist.org/cto/d/west-br...</td>\n",
       "      <td>worcester / central MA</td>\n",
       "      <td>https://worcester.craigslist.org</td>\n",
       "      <td>1500</td>\n",
       "      <td>NaN</td>\n",
       "      <td>NaN</td>\n",
       "      <td>NaN</td>\n",
       "      <td>NaN</td>\n",
       "      <td>NaN</td>\n",
       "      <td>...</td>\n",
       "      <td>NaN</td>\n",
       "      <td>NaN</td>\n",
       "      <td>NaN</td>\n",
       "      <td>NaN</td>\n",
       "      <td>NaN</td>\n",
       "      <td>NaN</td>\n",
       "      <td>ma</td>\n",
       "      <td>NaN</td>\n",
       "      <td>NaN</td>\n",
       "      <td>NaN</td>\n",
       "    </tr>\n",
       "    <tr>\n",
       "      <th>4</th>\n",
       "      <td>7210384030</td>\n",
       "      <td>https://greensboro.craigslist.org/cto/d/trinit...</td>\n",
       "      <td>greensboro</td>\n",
       "      <td>https://greensboro.craigslist.org</td>\n",
       "      <td>4900</td>\n",
       "      <td>NaN</td>\n",
       "      <td>NaN</td>\n",
       "      <td>NaN</td>\n",
       "      <td>NaN</td>\n",
       "      <td>NaN</td>\n",
       "      <td>...</td>\n",
       "      <td>NaN</td>\n",
       "      <td>NaN</td>\n",
       "      <td>NaN</td>\n",
       "      <td>NaN</td>\n",
       "      <td>NaN</td>\n",
       "      <td>NaN</td>\n",
       "      <td>nc</td>\n",
       "      <td>NaN</td>\n",
       "      <td>NaN</td>\n",
       "      <td>NaN</td>\n",
       "    </tr>\n",
       "    <tr>\n",
       "      <th>...</th>\n",
       "      <td>...</td>\n",
       "      <td>...</td>\n",
       "      <td>...</td>\n",
       "      <td>...</td>\n",
       "      <td>...</td>\n",
       "      <td>...</td>\n",
       "      <td>...</td>\n",
       "      <td>...</td>\n",
       "      <td>...</td>\n",
       "      <td>...</td>\n",
       "      <td>...</td>\n",
       "      <td>...</td>\n",
       "      <td>...</td>\n",
       "      <td>...</td>\n",
       "      <td>...</td>\n",
       "      <td>...</td>\n",
       "      <td>...</td>\n",
       "      <td>...</td>\n",
       "      <td>...</td>\n",
       "      <td>...</td>\n",
       "      <td>...</td>\n",
       "    </tr>\n",
       "    <tr>\n",
       "      <th>426875</th>\n",
       "      <td>7301591192</td>\n",
       "      <td>https://wyoming.craigslist.org/ctd/d/atlanta-2...</td>\n",
       "      <td>wyoming</td>\n",
       "      <td>https://wyoming.craigslist.org</td>\n",
       "      <td>23590</td>\n",
       "      <td>2019.0</td>\n",
       "      <td>nissan</td>\n",
       "      <td>maxima s sedan 4d</td>\n",
       "      <td>good</td>\n",
       "      <td>6 cylinders</td>\n",
       "      <td>...</td>\n",
       "      <td>NaN</td>\n",
       "      <td>sedan</td>\n",
       "      <td>NaN</td>\n",
       "      <td>https://images.craigslist.org/00o0o_iiraFnHg8q...</td>\n",
       "      <td>Carvana is the safer way to buy a car During t...</td>\n",
       "      <td>NaN</td>\n",
       "      <td>wy</td>\n",
       "      <td>33.786500</td>\n",
       "      <td>-84.445400</td>\n",
       "      <td>2021-04-04T03:21:31-0600</td>\n",
       "    </tr>\n",
       "    <tr>\n",
       "      <th>426876</th>\n",
       "      <td>7301591187</td>\n",
       "      <td>https://wyoming.craigslist.org/ctd/d/atlanta-2...</td>\n",
       "      <td>wyoming</td>\n",
       "      <td>https://wyoming.craigslist.org</td>\n",
       "      <td>30590</td>\n",
       "      <td>2020.0</td>\n",
       "      <td>volvo</td>\n",
       "      <td>s60 t5 momentum sedan 4d</td>\n",
       "      <td>good</td>\n",
       "      <td>NaN</td>\n",
       "      <td>...</td>\n",
       "      <td>NaN</td>\n",
       "      <td>sedan</td>\n",
       "      <td>red</td>\n",
       "      <td>https://images.craigslist.org/00x0x_15sbgnxCIS...</td>\n",
       "      <td>Carvana is the safer way to buy a car During t...</td>\n",
       "      <td>NaN</td>\n",
       "      <td>wy</td>\n",
       "      <td>33.786500</td>\n",
       "      <td>-84.445400</td>\n",
       "      <td>2021-04-04T03:21:29-0600</td>\n",
       "    </tr>\n",
       "    <tr>\n",
       "      <th>426877</th>\n",
       "      <td>7301591147</td>\n",
       "      <td>https://wyoming.craigslist.org/ctd/d/atlanta-2...</td>\n",
       "      <td>wyoming</td>\n",
       "      <td>https://wyoming.craigslist.org</td>\n",
       "      <td>34990</td>\n",
       "      <td>2020.0</td>\n",
       "      <td>cadillac</td>\n",
       "      <td>xt4 sport suv 4d</td>\n",
       "      <td>good</td>\n",
       "      <td>NaN</td>\n",
       "      <td>...</td>\n",
       "      <td>NaN</td>\n",
       "      <td>hatchback</td>\n",
       "      <td>white</td>\n",
       "      <td>https://images.craigslist.org/00L0L_farM7bxnxR...</td>\n",
       "      <td>Carvana is the safer way to buy a car During t...</td>\n",
       "      <td>NaN</td>\n",
       "      <td>wy</td>\n",
       "      <td>33.779214</td>\n",
       "      <td>-84.411811</td>\n",
       "      <td>2021-04-04T03:21:17-0600</td>\n",
       "    </tr>\n",
       "    <tr>\n",
       "      <th>426878</th>\n",
       "      <td>7301591140</td>\n",
       "      <td>https://wyoming.craigslist.org/ctd/d/atlanta-2...</td>\n",
       "      <td>wyoming</td>\n",
       "      <td>https://wyoming.craigslist.org</td>\n",
       "      <td>28990</td>\n",
       "      <td>2018.0</td>\n",
       "      <td>lexus</td>\n",
       "      <td>es 350 sedan 4d</td>\n",
       "      <td>good</td>\n",
       "      <td>6 cylinders</td>\n",
       "      <td>...</td>\n",
       "      <td>NaN</td>\n",
       "      <td>sedan</td>\n",
       "      <td>silver</td>\n",
       "      <td>https://images.craigslist.org/00z0z_bKnIVGLkDT...</td>\n",
       "      <td>Carvana is the safer way to buy a car During t...</td>\n",
       "      <td>NaN</td>\n",
       "      <td>wy</td>\n",
       "      <td>33.786500</td>\n",
       "      <td>-84.445400</td>\n",
       "      <td>2021-04-04T03:21:11-0600</td>\n",
       "    </tr>\n",
       "    <tr>\n",
       "      <th>426879</th>\n",
       "      <td>7301591129</td>\n",
       "      <td>https://wyoming.craigslist.org/ctd/d/atlanta-2...</td>\n",
       "      <td>wyoming</td>\n",
       "      <td>https://wyoming.craigslist.org</td>\n",
       "      <td>30590</td>\n",
       "      <td>2019.0</td>\n",
       "      <td>bmw</td>\n",
       "      <td>4 series 430i gran coupe</td>\n",
       "      <td>good</td>\n",
       "      <td>NaN</td>\n",
       "      <td>...</td>\n",
       "      <td>NaN</td>\n",
       "      <td>coupe</td>\n",
       "      <td>NaN</td>\n",
       "      <td>https://images.craigslist.org/00Y0Y_lEUocjyRxa...</td>\n",
       "      <td>Carvana is the safer way to buy a car During t...</td>\n",
       "      <td>NaN</td>\n",
       "      <td>wy</td>\n",
       "      <td>33.779214</td>\n",
       "      <td>-84.411811</td>\n",
       "      <td>2021-04-04T03:21:07-0600</td>\n",
       "    </tr>\n",
       "  </tbody>\n",
       "</table>\n",
       "<p>426880 rows × 26 columns</p>\n",
       "</div>"
      ],
      "text/plain": [
       "                id                                                url  \\\n",
       "0       7222695916  https://prescott.craigslist.org/cto/d/prescott...   \n",
       "1       7218891961  https://fayar.craigslist.org/ctd/d/bentonville...   \n",
       "2       7221797935  https://keys.craigslist.org/cto/d/summerland-k...   \n",
       "3       7222270760  https://worcester.craigslist.org/cto/d/west-br...   \n",
       "4       7210384030  https://greensboro.craigslist.org/cto/d/trinit...   \n",
       "...            ...                                                ...   \n",
       "426875  7301591192  https://wyoming.craigslist.org/ctd/d/atlanta-2...   \n",
       "426876  7301591187  https://wyoming.craigslist.org/ctd/d/atlanta-2...   \n",
       "426877  7301591147  https://wyoming.craigslist.org/ctd/d/atlanta-2...   \n",
       "426878  7301591140  https://wyoming.craigslist.org/ctd/d/atlanta-2...   \n",
       "426879  7301591129  https://wyoming.craigslist.org/ctd/d/atlanta-2...   \n",
       "\n",
       "                        region                         region_url  price  \\\n",
       "0                     prescott    https://prescott.craigslist.org   6000   \n",
       "1                 fayetteville       https://fayar.craigslist.org  11900   \n",
       "2                 florida keys        https://keys.craigslist.org  21000   \n",
       "3       worcester / central MA   https://worcester.craigslist.org   1500   \n",
       "4                   greensboro  https://greensboro.craigslist.org   4900   \n",
       "...                        ...                                ...    ...   \n",
       "426875                 wyoming     https://wyoming.craigslist.org  23590   \n",
       "426876                 wyoming     https://wyoming.craigslist.org  30590   \n",
       "426877                 wyoming     https://wyoming.craigslist.org  34990   \n",
       "426878                 wyoming     https://wyoming.craigslist.org  28990   \n",
       "426879                 wyoming     https://wyoming.craigslist.org  30590   \n",
       "\n",
       "          year manufacturer                     model condition    cylinders  \\\n",
       "0          NaN          NaN                       NaN       NaN          NaN   \n",
       "1          NaN          NaN                       NaN       NaN          NaN   \n",
       "2          NaN          NaN                       NaN       NaN          NaN   \n",
       "3          NaN          NaN                       NaN       NaN          NaN   \n",
       "4          NaN          NaN                       NaN       NaN          NaN   \n",
       "...        ...          ...                       ...       ...          ...   \n",
       "426875  2019.0       nissan         maxima s sedan 4d      good  6 cylinders   \n",
       "426876  2020.0        volvo  s60 t5 momentum sedan 4d      good          NaN   \n",
       "426877  2020.0     cadillac          xt4 sport suv 4d      good          NaN   \n",
       "426878  2018.0        lexus           es 350 sedan 4d      good  6 cylinders   \n",
       "426879  2019.0          bmw  4 series 430i gran coupe      good          NaN   \n",
       "\n",
       "        ... size       type paint_color  \\\n",
       "0       ...  NaN        NaN         NaN   \n",
       "1       ...  NaN        NaN         NaN   \n",
       "2       ...  NaN        NaN         NaN   \n",
       "3       ...  NaN        NaN         NaN   \n",
       "4       ...  NaN        NaN         NaN   \n",
       "...     ...  ...        ...         ...   \n",
       "426875  ...  NaN      sedan         NaN   \n",
       "426876  ...  NaN      sedan         red   \n",
       "426877  ...  NaN  hatchback       white   \n",
       "426878  ...  NaN      sedan      silver   \n",
       "426879  ...  NaN      coupe         NaN   \n",
       "\n",
       "                                                image_url  \\\n",
       "0                                                     NaN   \n",
       "1                                                     NaN   \n",
       "2                                                     NaN   \n",
       "3                                                     NaN   \n",
       "4                                                     NaN   \n",
       "...                                                   ...   \n",
       "426875  https://images.craigslist.org/00o0o_iiraFnHg8q...   \n",
       "426876  https://images.craigslist.org/00x0x_15sbgnxCIS...   \n",
       "426877  https://images.craigslist.org/00L0L_farM7bxnxR...   \n",
       "426878  https://images.craigslist.org/00z0z_bKnIVGLkDT...   \n",
       "426879  https://images.craigslist.org/00Y0Y_lEUocjyRxa...   \n",
       "\n",
       "                                              description county state  \\\n",
       "0                                                     NaN    NaN    az   \n",
       "1                                                     NaN    NaN    ar   \n",
       "2                                                     NaN    NaN    fl   \n",
       "3                                                     NaN    NaN    ma   \n",
       "4                                                     NaN    NaN    nc   \n",
       "...                                                   ...    ...   ...   \n",
       "426875  Carvana is the safer way to buy a car During t...    NaN    wy   \n",
       "426876  Carvana is the safer way to buy a car During t...    NaN    wy   \n",
       "426877  Carvana is the safer way to buy a car During t...    NaN    wy   \n",
       "426878  Carvana is the safer way to buy a car During t...    NaN    wy   \n",
       "426879  Carvana is the safer way to buy a car During t...    NaN    wy   \n",
       "\n",
       "              lat       long              posting_date  \n",
       "0             NaN        NaN                       NaN  \n",
       "1             NaN        NaN                       NaN  \n",
       "2             NaN        NaN                       NaN  \n",
       "3             NaN        NaN                       NaN  \n",
       "4             NaN        NaN                       NaN  \n",
       "...           ...        ...                       ...  \n",
       "426875  33.786500 -84.445400  2021-04-04T03:21:31-0600  \n",
       "426876  33.786500 -84.445400  2021-04-04T03:21:29-0600  \n",
       "426877  33.779214 -84.411811  2021-04-04T03:21:17-0600  \n",
       "426878  33.786500 -84.445400  2021-04-04T03:21:11-0600  \n",
       "426879  33.779214 -84.411811  2021-04-04T03:21:07-0600  \n",
       "\n",
       "[426880 rows x 26 columns]"
      ]
     },
     "execution_count": 2,
     "metadata": {},
     "output_type": "execute_result"
    }
   ],
   "source": [
    "vehicles_full"
   ]
  },
  {
   "cell_type": "markdown",
   "id": "7c15cf85",
   "metadata": {},
   "source": [
    "## Null values:\n",
    "\n",
    "Seems like there are a lot of null values, take a closer look:"
   ]
  },
  {
   "cell_type": "code",
   "execution_count": 3,
   "id": "97ee6c4d",
   "metadata": {},
   "outputs": [
    {
     "data": {
      "text/plain": [
       "id                   0\n",
       "url                  0\n",
       "region               0\n",
       "region_url           0\n",
       "price                0\n",
       "year              1205\n",
       "manufacturer     17646\n",
       "model             5277\n",
       "condition       174104\n",
       "cylinders       177678\n",
       "fuel              3013\n",
       "odometer          4400\n",
       "title_status      8242\n",
       "transmission      2556\n",
       "VIN             161042\n",
       "drive           130567\n",
       "size            306361\n",
       "type             92858\n",
       "paint_color     130203\n",
       "image_url           68\n",
       "description         70\n",
       "county          426880\n",
       "state                0\n",
       "lat               6549\n",
       "long              6549\n",
       "posting_date        68\n",
       "dtype: int64"
      ]
     },
     "execution_count": 3,
     "metadata": {},
     "output_type": "execute_result"
    }
   ],
   "source": [
    "vehicles_full.isnull().sum()"
   ]
  },
  {
   "cell_type": "markdown",
   "id": "31f3fd5b",
   "metadata": {},
   "source": [
    "Good, id and price have no nulls. We can leave the rest in for now."
   ]
  },
  {
   "cell_type": "markdown",
   "id": "e4b12400",
   "metadata": {},
   "source": [
    "## Confirm primary key constraint"
   ]
  },
  {
   "cell_type": "code",
   "execution_count": 4,
   "id": "b0194dce",
   "metadata": {},
   "outputs": [
    {
     "name": "stdout",
     "output_type": "stream",
     "text": [
      "vehicles_full has 426880 number of tuples\n",
      "id variable has 426880 number of unique values\n",
      "Do the numbers match: True\n"
     ]
    }
   ],
   "source": [
    "print(f\"vehicles_full has {vehicles_full.shape[0]} number of tuples\")\n",
    "print(f\"id variable has {vehicles_full.id.nunique()} number of unique values\")\n",
    "print(f\"Do the numbers match: {vehicles_full.shape[0] == vehicles_full.id.nunique()}\")"
   ]
  },
  {
   "cell_type": "markdown",
   "id": "cb71145c",
   "metadata": {},
   "source": [
    "We're good. Note that all the id values might exceed MySQL INT range depending on system, so we'll need to use LONG."
   ]
  },
  {
   "cell_type": "markdown",
   "id": "8f122c03",
   "metadata": {},
   "source": [
    "## Columns to discard completely:"
   ]
  },
  {
   "cell_type": "code",
   "execution_count": 5,
   "id": "988553f6",
   "metadata": {},
   "outputs": [],
   "source": [
    "to_discard = set()"
   ]
  },
  {
   "cell_type": "markdown",
   "id": "6a413317",
   "metadata": {},
   "source": [
    "### County"
   ]
  },
  {
   "cell_type": "markdown",
   "id": "88d292b8",
   "metadata": {},
   "source": [
    "Kaggle page mentioned `county` is useless:"
   ]
  },
  {
   "cell_type": "code",
   "execution_count": 6,
   "id": "84aa5169",
   "metadata": {},
   "outputs": [
    {
     "data": {
      "text/plain": [
       "True"
      ]
     },
     "execution_count": 6,
     "metadata": {},
     "output_type": "execute_result"
    }
   ],
   "source": [
    "vehicles_full.county.isnull().all()"
   ]
  },
  {
   "cell_type": "markdown",
   "id": "d604827f",
   "metadata": {},
   "source": [
    "Yep, useless."
   ]
  },
  {
   "cell_type": "code",
   "execution_count": 7,
   "id": "9c631921",
   "metadata": {},
   "outputs": [],
   "source": [
    "to_discard.add(\"county\")"
   ]
  },
  {
   "cell_type": "markdown",
   "id": "5d90b48e",
   "metadata": {},
   "source": [
    "### Url's"
   ]
  },
  {
   "cell_type": "markdown",
   "id": "4fa1a21d",
   "metadata": {},
   "source": [
    "We won't need `url`, `region_url`, or `image_url`, so we don't have to include them."
   ]
  },
  {
   "cell_type": "code",
   "execution_count": 8,
   "id": "f102e3fc",
   "metadata": {},
   "outputs": [],
   "source": [
    "to_discard.add(\"url\")\n",
    "to_discard.add(\"region_url\")\n",
    "to_discard.add(\"image_url\")"
   ]
  },
  {
   "cell_type": "markdown",
   "id": "b208fa4a",
   "metadata": {},
   "source": [
    "### Description"
   ]
  },
  {
   "cell_type": "code",
   "execution_count": 9,
   "id": "1de0b5e5",
   "metadata": {},
   "outputs": [
    {
     "data": {
      "text/plain": [
       "28832.0"
      ]
     },
     "execution_count": 9,
     "metadata": {},
     "output_type": "execute_result"
    }
   ],
   "source": [
    "vehicles_full.description.str.len().max()"
   ]
  },
  {
   "cell_type": "markdown",
   "id": "f7ca65c4",
   "metadata": {},
   "source": [
    "`description` has some very, very long strings and isn't useful for our purposes. Additionally, commas in its entries might mess up MySQL csv parser, so throw it out too."
   ]
  },
  {
   "cell_type": "code",
   "execution_count": 10,
   "id": "a40d18fe",
   "metadata": {},
   "outputs": [],
   "source": [
    "to_discard.add(\"description\")"
   ]
  },
  {
   "cell_type": "markdown",
   "id": "853b1a8e",
   "metadata": {},
   "source": [
    "### Discard!"
   ]
  },
  {
   "cell_type": "code",
   "execution_count": 11,
   "id": "35484ca0",
   "metadata": {},
   "outputs": [
    {
     "data": {
      "text/plain": [
       "{'county', 'description', 'image_url', 'region_url', 'url'}"
      ]
     },
     "execution_count": 11,
     "metadata": {},
     "output_type": "execute_result"
    }
   ],
   "source": [
    "to_discard"
   ]
  },
  {
   "cell_type": "code",
   "execution_count": 12,
   "id": "75f4cdcf",
   "metadata": {},
   "outputs": [],
   "source": [
    "vehicles_full = vehicles_full.drop(to_discard, axis=1)"
   ]
  },
  {
   "cell_type": "markdown",
   "id": "5f1a5d7c",
   "metadata": {},
   "source": [
    "## Basic cleaning"
   ]
  },
  {
   "cell_type": "markdown",
   "id": "9bb4e553",
   "metadata": {},
   "source": [
    "### Deleting price outliers"
   ]
  },
  {
   "cell_type": "code",
   "execution_count": 13,
   "id": "5375209a",
   "metadata": {},
   "outputs": [
    {
     "data": {
      "text/plain": [
       "<Axes: xlabel='price', ylabel='Density'>"
      ]
     },
     "execution_count": 13,
     "metadata": {},
     "output_type": "execute_result"
    },
    {
     "data": {
      "image/png": "[encoded data removed]",
      "text/plain": [
       "<Figure size 432x288 with 1 Axes>"
      ]
     },
     "metadata": {
      "needs_background": "light"
     },
     "output_type": "display_data"
    }
   ],
   "source": [
    "sns.distplot(vehicles_full.price)"
   ]
  },
  {
   "cell_type": "markdown",
   "id": "cb38c1ae",
   "metadata": {},
   "source": [
    "There is/are some crazy outliers! Let's see what they are:"
   ]
  },
  {
   "cell_type": "code",
   "execution_count": 14,
   "id": "623b982c",
   "metadata": {},
   "outputs": [
    {
     "data": {
      "text/html": [
       "<div>\n",
       "<style scoped>\n",
       "    .dataframe tbody tr th:only-of-type {\n",
       "        vertical-align: middle;\n",
       "    }\n",
       "\n",
       "    .dataframe tbody tr th {\n",
       "        vertical-align: top;\n",
       "    }\n",
       "\n",
       "    .dataframe thead th {\n",
       "        text-align: right;\n",
       "    }\n",
       "</style>\n",
       "<table border=\"1\" class=\"dataframe\">\n",
       "  <thead>\n",
       "    <tr style=\"text-align: right;\">\n",
       "      <th></th>\n",
       "      <th>id</th>\n",
       "      <th>region</th>\n",
       "      <th>price</th>\n",
       "      <th>year</th>\n",
       "      <th>manufacturer</th>\n",
       "      <th>model</th>\n",
       "      <th>condition</th>\n",
       "      <th>cylinders</th>\n",
       "      <th>fuel</th>\n",
       "      <th>odometer</th>\n",
       "      <th>...</th>\n",
       "      <th>transmission</th>\n",
       "      <th>VIN</th>\n",
       "      <th>drive</th>\n",
       "      <th>size</th>\n",
       "      <th>type</th>\n",
       "      <th>paint_color</th>\n",
       "      <th>state</th>\n",
       "      <th>lat</th>\n",
       "      <th>long</th>\n",
       "      <th>posting_date</th>\n",
       "    </tr>\n",
       "  </thead>\n",
       "  <tbody>\n",
       "    <tr>\n",
       "      <th>318592</th>\n",
       "      <td>7308056031</td>\n",
       "      <td>eugene</td>\n",
       "      <td>3736928711</td>\n",
       "      <td>2007.0</td>\n",
       "      <td>toyota</td>\n",
       "      <td>tundra</td>\n",
       "      <td>excellent</td>\n",
       "      <td>8 cylinders</td>\n",
       "      <td>gas</td>\n",
       "      <td>164000.0</td>\n",
       "      <td>...</td>\n",
       "      <td>automatic</td>\n",
       "      <td>NaN</td>\n",
       "      <td>4wd</td>\n",
       "      <td>full-size</td>\n",
       "      <td>pickup</td>\n",
       "      <td>silver</td>\n",
       "      <td>or</td>\n",
       "      <td>44.066092</td>\n",
       "      <td>-124.037561</td>\n",
       "      <td>2021-04-16T18:16:12-0700</td>\n",
       "    </tr>\n",
       "    <tr>\n",
       "      <th>356716</th>\n",
       "      <td>7302445002</td>\n",
       "      <td>knoxville</td>\n",
       "      <td>3736928711</td>\n",
       "      <td>1999.0</td>\n",
       "      <td>toyota</td>\n",
       "      <td>4runner</td>\n",
       "      <td>fair</td>\n",
       "      <td>6 cylinders</td>\n",
       "      <td>gas</td>\n",
       "      <td>211000.0</td>\n",
       "      <td>...</td>\n",
       "      <td>automatic</td>\n",
       "      <td>NaN</td>\n",
       "      <td>4wd</td>\n",
       "      <td>mid-size</td>\n",
       "      <td>NaN</td>\n",
       "      <td>green</td>\n",
       "      <td>tn</td>\n",
       "      <td>36.081000</td>\n",
       "      <td>-83.567300</td>\n",
       "      <td>2021-04-05T23:15:48-0400</td>\n",
       "    </tr>\n",
       "    <tr>\n",
       "      <th>91576</th>\n",
       "      <td>7309730903</td>\n",
       "      <td>delaware</td>\n",
       "      <td>3024942282</td>\n",
       "      <td>2000.0</td>\n",
       "      <td>mercedes-benz</td>\n",
       "      <td>benz e320</td>\n",
       "      <td>NaN</td>\n",
       "      <td>NaN</td>\n",
       "      <td>gas</td>\n",
       "      <td>100000.0</td>\n",
       "      <td>...</td>\n",
       "      <td>automatic</td>\n",
       "      <td>NaN</td>\n",
       "      <td>NaN</td>\n",
       "      <td>NaN</td>\n",
       "      <td>NaN</td>\n",
       "      <td>NaN</td>\n",
       "      <td>de</td>\n",
       "      <td>39.703511</td>\n",
       "      <td>-75.746681</td>\n",
       "      <td>2021-04-20T08:46:47-0400</td>\n",
       "    </tr>\n",
       "  </tbody>\n",
       "</table>\n",
       "<p>3 rows × 21 columns</p>\n",
       "</div>"
      ],
      "text/plain": [
       "                id     region       price    year   manufacturer      model  \\\n",
       "318592  7308056031     eugene  3736928711  2007.0         toyota     tundra   \n",
       "356716  7302445002  knoxville  3736928711  1999.0         toyota    4runner   \n",
       "91576   7309730903   delaware  3024942282  2000.0  mercedes-benz  benz e320   \n",
       "\n",
       "        condition    cylinders fuel  odometer  ... transmission  VIN drive  \\\n",
       "318592  excellent  8 cylinders  gas  164000.0  ...    automatic  NaN   4wd   \n",
       "356716       fair  6 cylinders  gas  211000.0  ...    automatic  NaN   4wd   \n",
       "91576         NaN          NaN  gas  100000.0  ...    automatic  NaN   NaN   \n",
       "\n",
       "             size    type paint_color state        lat        long  \\\n",
       "318592  full-size  pickup      silver    or  44.066092 -124.037561   \n",
       "356716   mid-size     NaN       green    tn  36.081000  -83.567300   \n",
       "91576         NaN     NaN         NaN    de  39.703511  -75.746681   \n",
       "\n",
       "                    posting_date  \n",
       "318592  2021-04-16T18:16:12-0700  \n",
       "356716  2021-04-05T23:15:48-0400  \n",
       "91576   2021-04-20T08:46:47-0400  \n",
       "\n",
       "[3 rows x 21 columns]"
      ]
     },
     "execution_count": 14,
     "metadata": {},
     "output_type": "execute_result"
    }
   ],
   "source": [
    "vehicles_full.nlargest(3, \"price\")"
   ]
  },
  {
   "cell_type": "markdown",
   "id": "3ee9008b",
   "metadata": {},
   "source": [
    "There is no way a Toyota Tundra costs 3 billion... there has to be some error. Let's check the manufacturers of all cars greater than 300k:"
   ]
  },
  {
   "cell_type": "code",
   "execution_count": 15,
   "id": "ce333c50",
   "metadata": {},
   "outputs": [
    {
     "data": {
      "text/plain": [
       "chevrolet        28\n",
       "ford              7\n",
       "jeep              4\n",
       "mercedes-benz     3\n",
       "ferrari           3\n",
       "gmc               3\n",
       "porsche           3\n",
       "dodge             2\n",
       "chrysler          2\n",
       "toyota            2\n",
       "ram               1\n",
       "buick             1\n",
       "volvo             1\n",
       "lincoln           1\n",
       "nissan            1\n",
       "bmw               1\n",
       "saturn            1\n",
       "Name: manufacturer, dtype: int64"
      ]
     },
     "execution_count": 15,
     "metadata": {},
     "output_type": "execute_result"
    }
   ],
   "source": [
    "vehicles_full[vehicles_full.price > 300000].manufacturer.value_counts()"
   ]
  },
  {
   "cell_type": "markdown",
   "id": "85c16cc5",
   "metadata": {},
   "source": [
    "With the exception of ferrari and porsche, there is no way these brands have used cars > 300k...  \n",
    "\n",
    "For now, let's just drop everything greater than 300k and risk losing a few non-error luxury cars (seems like there are only 6 of those so we're good)."
   ]
  },
  {
   "cell_type": "code",
   "execution_count": 16,
   "id": "d1c062bc",
   "metadata": {},
   "outputs": [],
   "source": [
    "vehicles_full = vehicles_full[vehicles_full.price < 300000]"
   ]
  },
  {
   "cell_type": "markdown",
   "id": "1969a4cc",
   "metadata": {},
   "source": [
    "Now check the price distribution again:"
   ]
  },
  {
   "cell_type": "code",
   "execution_count": 17,
   "id": "2c6c528c",
   "metadata": {},
   "outputs": [
    {
     "data": {
      "text/plain": [
       "<Axes: xlabel='price', ylabel='Density'>"
      ]
     },
     "execution_count": 17,
     "metadata": {},
     "output_type": "execute_result"
    },
    {
     "data": {
      "image/png": "[encoded data removed]",
      "text/plain": [
       "<Figure size 432x288 with 1 Axes>"
      ]
     },
     "metadata": {
      "needs_background": "light"
     },
     "output_type": "display_data"
    }
   ],
   "source": [
    "sns.distplot(vehicles_full.price)"
   ]
  },
  {
   "cell_type": "markdown",
   "id": "63a1f14f",
   "metadata": {},
   "source": [
    "Much more reasonable!"
   ]
  },
  {
   "cell_type": "markdown",
   "id": "47cc9053",
   "metadata": {},
   "source": [
    "### Deleting free cars"
   ]
  },
  {
   "cell_type": "markdown",
   "id": "af81779f",
   "metadata": {},
   "source": [
    "That said, there seems to be some cars with price 0:"
   ]
  },
  {
   "cell_type": "code",
   "execution_count": 18,
   "id": "50b2010d",
   "metadata": {},
   "outputs": [
    {
     "data": {
      "text/plain": [
       "32895"
      ]
     },
     "execution_count": 18,
     "metadata": {},
     "output_type": "execute_result"
    }
   ],
   "source": [
    "vehicles_full[vehicles_full.price <= 0].shape[0]"
   ]
  },
  {
   "cell_type": "markdown",
   "id": "59a8391d",
   "metadata": {},
   "source": [
    "That's a good amount... I'm guessing the price was missing or otherwise not found, since I doubt there are almost 33k free cars floating around (can I have one?). For now, let's just drop them:"
   ]
  },
  {
   "cell_type": "code",
   "execution_count": 19,
   "id": "91a9e7a2",
   "metadata": {},
   "outputs": [],
   "source": [
    "vehicles_full = vehicles_full[vehicles_full.price > 0]"
   ]
  },
  {
   "cell_type": "markdown",
   "id": "336364eb",
   "metadata": {},
   "source": [
    "### Odometer"
   ]
  },
  {
   "cell_type": "markdown",
   "id": "60a0d948",
   "metadata": {},
   "source": [
    "The odometer value tends to be one of the most important determiners in used car prices, let's take a look:"
   ]
  },
  {
   "cell_type": "code",
   "execution_count": 20,
   "id": "72ed983b",
   "metadata": {},
   "outputs": [
    {
     "data": {
      "text/plain": [
       "<Axes: xlabel='odometer', ylabel='Density'>"
      ]
     },
     "execution_count": 20,
     "metadata": {},
     "output_type": "execute_result"
    },
    {
     "data": {
      "image/png": "[encoded data removed]",
      "text/plain": [
       "<Figure size 432x288 with 1 Axes>"
      ]
     },
     "metadata": {
      "needs_background": "light"
     },
     "output_type": "display_data"
    }
   ],
   "source": [
    "sns.distplot(vehicles_full.odometer)"
   ]
  },
  {
   "cell_type": "markdown",
   "id": "92091f30",
   "metadata": {},
   "source": [
    "Once again, some crazy values..."
   ]
  },
  {
   "cell_type": "code",
   "execution_count": 21,
   "id": "c77f0457",
   "metadata": {},
   "outputs": [
    {
     "data": {
      "text/html": [
       "<div>\n",
       "<style scoped>\n",
       "    .dataframe tbody tr th:only-of-type {\n",
       "        vertical-align: middle;\n",
       "    }\n",
       "\n",
       "    .dataframe tbody tr th {\n",
       "        vertical-align: top;\n",
       "    }\n",
       "\n",
       "    .dataframe thead th {\n",
       "        text-align: right;\n",
       "    }\n",
       "</style>\n",
       "<table border=\"1\" class=\"dataframe\">\n",
       "  <thead>\n",
       "    <tr style=\"text-align: right;\">\n",
       "      <th></th>\n",
       "      <th>id</th>\n",
       "      <th>region</th>\n",
       "      <th>price</th>\n",
       "      <th>year</th>\n",
       "      <th>manufacturer</th>\n",
       "      <th>model</th>\n",
       "      <th>condition</th>\n",
       "      <th>cylinders</th>\n",
       "      <th>fuel</th>\n",
       "      <th>odometer</th>\n",
       "      <th>...</th>\n",
       "      <th>transmission</th>\n",
       "      <th>VIN</th>\n",
       "      <th>drive</th>\n",
       "      <th>size</th>\n",
       "      <th>type</th>\n",
       "      <th>paint_color</th>\n",
       "      <th>state</th>\n",
       "      <th>lat</th>\n",
       "      <th>long</th>\n",
       "      <th>posting_date</th>\n",
       "    </tr>\n",
       "  </thead>\n",
       "  <tbody>\n",
       "    <tr>\n",
       "      <th>9218</th>\n",
       "      <td>7303842844</td>\n",
       "      <td>flagstaff / sedona</td>\n",
       "      <td>4000</td>\n",
       "      <td>1975.0</td>\n",
       "      <td>ford</td>\n",
       "      <td>f250</td>\n",
       "      <td>NaN</td>\n",
       "      <td>NaN</td>\n",
       "      <td>gas</td>\n",
       "      <td>10000000.0</td>\n",
       "      <td>...</td>\n",
       "      <td>manual</td>\n",
       "      <td>NaN</td>\n",
       "      <td>NaN</td>\n",
       "      <td>NaN</td>\n",
       "      <td>NaN</td>\n",
       "      <td>NaN</td>\n",
       "      <td>az</td>\n",
       "      <td>35.213621</td>\n",
       "      <td>-111.618176</td>\n",
       "      <td>2021-04-08T13:29:36-0700</td>\n",
       "    </tr>\n",
       "    <tr>\n",
       "      <th>23100</th>\n",
       "      <td>7305498365</td>\n",
       "      <td>bakersfield</td>\n",
       "      <td>15000</td>\n",
       "      <td>1957.0</td>\n",
       "      <td>chevrolet</td>\n",
       "      <td>nomad</td>\n",
       "      <td>NaN</td>\n",
       "      <td>NaN</td>\n",
       "      <td>gas</td>\n",
       "      <td>10000000.0</td>\n",
       "      <td>...</td>\n",
       "      <td>automatic</td>\n",
       "      <td>NaN</td>\n",
       "      <td>NaN</td>\n",
       "      <td>NaN</td>\n",
       "      <td>NaN</td>\n",
       "      <td>NaN</td>\n",
       "      <td>ca</td>\n",
       "      <td>33.887900</td>\n",
       "      <td>-118.351000</td>\n",
       "      <td>2021-04-11T22:35:15-0700</td>\n",
       "    </tr>\n",
       "    <tr>\n",
       "      <th>28738</th>\n",
       "      <td>7307413811</td>\n",
       "      <td>gold country</td>\n",
       "      <td>20000</td>\n",
       "      <td>1951.0</td>\n",
       "      <td>chevrolet</td>\n",
       "      <td>coe</td>\n",
       "      <td>good</td>\n",
       "      <td>8 cylinders</td>\n",
       "      <td>gas</td>\n",
       "      <td>10000000.0</td>\n",
       "      <td>...</td>\n",
       "      <td>automatic</td>\n",
       "      <td>NaN</td>\n",
       "      <td>rwd</td>\n",
       "      <td>full-size</td>\n",
       "      <td>truck</td>\n",
       "      <td>custom</td>\n",
       "      <td>ca</td>\n",
       "      <td>37.956759</td>\n",
       "      <td>-120.311279</td>\n",
       "      <td>2021-04-15T14:11:51-0700</td>\n",
       "    </tr>\n",
       "  </tbody>\n",
       "</table>\n",
       "<p>3 rows × 21 columns</p>\n",
       "</div>"
      ],
      "text/plain": [
       "               id              region  price    year manufacturer  model  \\\n",
       "9218   7303842844  flagstaff / sedona   4000  1975.0         ford   f250   \n",
       "23100  7305498365         bakersfield  15000  1957.0    chevrolet  nomad   \n",
       "28738  7307413811        gold country  20000  1951.0    chevrolet    coe   \n",
       "\n",
       "      condition    cylinders fuel    odometer  ... transmission  VIN drive  \\\n",
       "9218        NaN          NaN  gas  10000000.0  ...       manual  NaN   NaN   \n",
       "23100       NaN          NaN  gas  10000000.0  ...    automatic  NaN   NaN   \n",
       "28738      good  8 cylinders  gas  10000000.0  ...    automatic  NaN   rwd   \n",
       "\n",
       "            size   type paint_color state        lat        long  \\\n",
       "9218         NaN    NaN         NaN    az  35.213621 -111.618176   \n",
       "23100        NaN    NaN         NaN    ca  33.887900 -118.351000   \n",
       "28738  full-size  truck      custom    ca  37.956759 -120.311279   \n",
       "\n",
       "                   posting_date  \n",
       "9218   2021-04-08T13:29:36-0700  \n",
       "23100  2021-04-11T22:35:15-0700  \n",
       "28738  2021-04-15T14:11:51-0700  \n",
       "\n",
       "[3 rows x 21 columns]"
      ]
     },
     "execution_count": 21,
     "metadata": {},
     "output_type": "execute_result"
    }
   ],
   "source": [
    "vehicles_full.nlargest(3, \"odometer\")"
   ]
  },
  {
   "cell_type": "markdown",
   "id": "0e823484",
   "metadata": {},
   "source": [
    "Most older odometers cap at 999,999, so I doubt these values are correct. In any case, a car with more than a million miles on it are probably not going for 20k...\n",
    "\n",
    "For now, let's just drop everything with more than a million miles, since anything even remotely close to that number would be very, very rare indeed."
   ]
  },
  {
   "cell_type": "code",
   "execution_count": 22,
   "id": "c0dc05c9",
   "metadata": {},
   "outputs": [
    {
     "data": {
      "text/plain": [
       "<Axes: xlabel='odometer', ylabel='Density'>"
      ]
     },
     "execution_count": 22,
     "metadata": {},
     "output_type": "execute_result"
    },
    {
     "data": {
      "image/png": "[encoded data removed]",
      "text/plain": [
       "<Figure size 432x288 with 1 Axes>"
      ]
     },
     "metadata": {
      "needs_background": "light"
     },
     "output_type": "display_data"
    }
   ],
   "source": [
    "vehicles_full = vehicles_full[vehicles_full.odometer < 999999]\n",
    "sns.distplot(vehicles_full.odometer)"
   ]
  },
  {
   "cell_type": "markdown",
   "id": "2cef36dc",
   "metadata": {},
   "source": [
    "### Split out date"
   ]
  },
  {
   "cell_type": "code",
   "execution_count": 23,
   "id": "d8c1d13b",
   "metadata": {},
   "outputs": [
    {
     "data": {
      "text/plain": [
       "27        2021-05-04T12:31:18-0500\n",
       "28        2021-05-04T12:31:08-0500\n",
       "29        2021-05-04T12:31:25-0500\n",
       "30        2021-05-04T10:41:31-0500\n",
       "31        2021-05-03T14:02:03-0500\n",
       "                    ...           \n",
       "426875    2021-04-04T03:21:31-0600\n",
       "426876    2021-04-04T03:21:29-0600\n",
       "426877    2021-04-04T03:21:17-0600\n",
       "426878    2021-04-04T03:21:11-0600\n",
       "426879    2021-04-04T03:21:07-0600\n",
       "Name: posting_date, Length: 390863, dtype: object"
      ]
     },
     "execution_count": 23,
     "metadata": {},
     "output_type": "execute_result"
    }
   ],
   "source": [
    "vehicles_full.posting_date"
   ]
  },
  {
   "cell_type": "markdown",
   "id": "414942b3",
   "metadata": {},
   "source": [
    "We don't care about time, so just keep date: but is it yyyy-mm-dd or yyyy-dd-mm?"
   ]
  },
  {
   "cell_type": "code",
   "execution_count": 24,
   "id": "334f775c",
   "metadata": {},
   "outputs": [
    {
     "data": {
      "text/plain": [
       "5"
      ]
     },
     "execution_count": 24,
     "metadata": {},
     "output_type": "execute_result"
    }
   ],
   "source": [
    "vehicles_full.posting_date.str[5:7].astype(int).max()"
   ]
  },
  {
   "cell_type": "code",
   "execution_count": 25,
   "id": "e3ff66be",
   "metadata": {},
   "outputs": [
    {
     "data": {
      "text/plain": [
       "30"
      ]
     },
     "execution_count": 25,
     "metadata": {},
     "output_type": "execute_result"
    }
   ],
   "source": [
    "vehicles_full.posting_date.str[8:10].astype(int).max()"
   ]
  },
  {
   "cell_type": "markdown",
   "id": "d26e0642",
   "metadata": {},
   "source": [
    "Yep, definitely yyyy-mm-dd. Now let's split it out:"
   ]
  },
  {
   "cell_type": "code",
   "execution_count": 26,
   "id": "7008a13c",
   "metadata": {},
   "outputs": [],
   "source": [
    "vehicles_full[\"posting_year\"] = vehicles_full.posting_date.str[0:4].astype(int)\n",
    "vehicles_full[\"posting_month\"] = vehicles_full.posting_date.str[5:7].astype(int)\n",
    "vehicles_full[\"posting_day\"] = vehicles_full.posting_date.str[8:10].astype(int)\n",
    "vehicles_full = vehicles_full.drop(\"posting_date\", axis=1)"
   ]
  },
  {
   "cell_type": "markdown",
   "id": "3a0faae7",
   "metadata": {},
   "source": [
    "### Everything else"
   ]
  },
  {
   "cell_type": "markdown",
   "id": "88e397b7",
   "metadata": {},
   "source": [
    "Everything else seem fairly standard, just to look through a few to get a better sense of the data:"
   ]
  },
  {
   "cell_type": "code",
   "execution_count": 27,
   "id": "3265474a",
   "metadata": {},
   "outputs": [
    {
     "data": {
      "text/plain": [
       "sedan          79697\n",
       "SUV            69966\n",
       "pickup         41041\n",
       "truck          30520\n",
       "other          19791\n",
       "coupe          18036\n",
       "hatchback      15874\n",
       "wagon          10009\n",
       "van             7952\n",
       "convertible     7378\n",
       "mini-van        4520\n",
       "offroad          586\n",
       "bus              493\n",
       "Name: type, dtype: int64"
      ]
     },
     "execution_count": 27,
     "metadata": {},
     "output_type": "execute_result"
    }
   ],
   "source": [
    "vehicles_full[\"type\"].value_counts()"
   ]
  },
  {
   "cell_type": "markdown",
   "id": "734199ad",
   "metadata": {},
   "source": [
    "I'm surprised sedans still rank above SUVs, but that's cool!"
   ]
  },
  {
   "cell_type": "code",
   "execution_count": 28,
   "id": "d8b9a4fa",
   "metadata": {},
   "outputs": [
    {
     "data": {
      "text/plain": [
       "automatic    304398\n",
       "other         61415\n",
       "manual        23531\n",
       "Name: transmission, dtype: int64"
      ]
     },
     "execution_count": 28,
     "metadata": {},
     "output_type": "execute_result"
    }
   ],
   "source": [
    "vehicles_full[\"transmission\"].value_counts()"
   ]
  },
  {
   "cell_type": "markdown",
   "id": "6f7808e4",
   "metadata": {},
   "source": [
    "I wonder what \"other\" is... let's check:"
   ]
  },
  {
   "cell_type": "code",
   "execution_count": 29,
   "id": "9f0d88c6",
   "metadata": {},
   "outputs": [
    {
     "data": {
      "text/plain": [
       "Scion iM Hatchback 4D     640\n",
       "1500 crew cab big horn    589\n",
       "silverado 1500 regular    509\n",
       "camaro ss coupe 2d        495\n",
       "silverado 1500 double     482\n",
       "                         ... \n",
       "r350                        1\n",
       "328xi                       1\n",
       "versa sedan                 1\n",
       "328i                        1\n",
       "ATI                         1\n",
       "Name: model, Length: 3211, dtype: int64"
      ]
     },
     "execution_count": 29,
     "metadata": {},
     "output_type": "execute_result"
    }
   ],
   "source": [
    "vehicles_full[vehicles_full.transmission == \"other\"].model.value_counts()"
   ]
  },
  {
   "cell_type": "markdown",
   "id": "2c78f3c7",
   "metadata": {},
   "source": [
    "Hmmm... looks like \"other\" might just mean \"missing\", since for at least a few of these cars I'm fairly positive there are no other options than x-speed automatic or x-speed manual offered... It is what it is, when modelling might need to pay attention to this though, we'll see."
   ]
  },
  {
   "cell_type": "markdown",
   "id": "df429e45",
   "metadata": {},
   "source": [
    "### Camaros cuz I'm curious"
   ]
  },
  {
   "cell_type": "code",
   "execution_count": 30,
   "id": "05a9d7b0",
   "metadata": {},
   "outputs": [],
   "source": [
    "camaros = vehicles_full[vehicles_full.model.str.contains(\"camaro\", na=False)]"
   ]
  },
  {
   "cell_type": "markdown",
   "id": "4838bb5f",
   "metadata": {},
   "source": [
    "What's the price like?"
   ]
  },
  {
   "cell_type": "code",
   "execution_count": 31,
   "id": "b41e5a95",
   "metadata": {},
   "outputs": [
    {
     "data": {
      "text/plain": [
       "count      2377.000000\n",
       "mean      25457.644931\n",
       "std       14933.736230\n",
       "min           1.000000\n",
       "25%       14950.000000\n",
       "50%       24900.000000\n",
       "75%       36990.000000\n",
       "max      135000.000000\n",
       "Name: price, dtype: float64"
      ]
     },
     "execution_count": 31,
     "metadata": {},
     "output_type": "execute_result"
    }
   ],
   "source": [
    "camaros.price.describe()"
   ]
  },
  {
   "cell_type": "markdown",
   "id": "1526df26",
   "metadata": {},
   "source": [
    "Average seems a little low.. what if we split by 5th gen and 6th gen?"
   ]
  },
  {
   "cell_type": "code",
   "execution_count": 32,
   "id": "833a7de9",
   "metadata": {},
   "outputs": [
    {
     "data": {
      "text/plain": [
       "19676.566870332656"
      ]
     },
     "execution_count": 32,
     "metadata": {},
     "output_type": "execute_result"
    }
   ],
   "source": [
    "camaros[camaros.year <= 2015].price.mean()"
   ]
  },
  {
   "cell_type": "code",
   "execution_count": 33,
   "id": "180a5eef",
   "metadata": {},
   "outputs": [
    {
     "data": {
      "text/plain": [
       "34877.476769911504"
      ]
     },
     "execution_count": 33,
     "metadata": {},
     "output_type": "execute_result"
    }
   ],
   "source": [
    "camaros[camaros.year > 2015].price.mean()"
   ]
  },
  {
   "cell_type": "markdown",
   "id": "8977457c",
   "metadata": {},
   "source": [
    "Makes much more sense -> this a good example of why more discreet methods (trees?) actually might work better for this problem.\n",
    "\n",
    "For even more granualarity, split by cylinders too:"
   ]
  },
  {
   "cell_type": "code",
   "execution_count": 34,
   "id": "caf04d1e",
   "metadata": {},
   "outputs": [
    {
     "name": "stdout",
     "output_type": "stream",
     "text": [
      "Camaro 5th gen V6 average price 13753.656084656084\n",
      "Camaro 5th gen V8 average price 21721.188127853882\n",
      "Camaro 6th gen V6 average price 24553.093959731545\n",
      "Camaro 6th gen V8 average price 36915.003973509934\n"
     ]
    }
   ],
   "source": [
    "fifth_gen_mask = camaros.year <= 2015\n",
    "V6_mask = camaros.cylinders == \"6 cylinders\"\n",
    "\n",
    "print(f\"Camaro 5th gen V6 average price {camaros[fifth_gen_mask&V6_mask].price.mean()}\")\n",
    "print(f\"Camaro 5th gen V8 average price {camaros[fifth_gen_mask&(~V6_mask)].price.mean()}\")\n",
    "print(f\"Camaro 6th gen V6 average price {camaros[(~fifth_gen_mask)&V6_mask].price.mean()}\")\n",
    "print(f\"Camaro 6th gen V8 average price {camaros[(~fifth_gen_mask)&(~V6_mask)].price.mean()}\")"
   ]
  },
  {
   "cell_type": "markdown",
   "id": "948ea9d2",
   "metadata": {},
   "source": [
    "Save the manuals?"
   ]
  },
  {
   "cell_type": "code",
   "execution_count": 35,
   "id": "ee3e958c",
   "metadata": {},
   "outputs": [
    {
     "data": {
      "text/plain": [
       "automatic    1144\n",
       "other         817\n",
       "manual        411\n",
       "Name: transmission, dtype: int64"
      ]
     },
     "execution_count": 35,
     "metadata": {},
     "output_type": "execute_result"
    }
   ],
   "source": [
    "camaros.transmission.value_counts()"
   ]
  },
  {
   "cell_type": "markdown",
   "id": "2b11eb32",
   "metadata": {},
   "source": [
    "Nope... fine."
   ]
  },
  {
   "cell_type": "markdown",
   "id": "cc311ac1",
   "metadata": {},
   "source": [
    "## Rename some columns for clarity"
   ]
  },
  {
   "cell_type": "markdown",
   "id": "9853131a",
   "metadata": {},
   "source": [
    "Let's use the naming convention where all variables are lower case with underscores as word deliminators, and all relations are upper camal case."
   ]
  },
  {
   "cell_type": "code",
   "execution_count": 36,
   "id": "edea9c1a",
   "metadata": {},
   "outputs": [
    {
     "data": {
      "text/plain": [
       "Index(['posting_id', 'posting_region', 'price', 'model_year', 'manufacturer',\n",
       "       'description', 'condition', 'cylinders', 'fuel_type', 'odometer',\n",
       "       'title_status', 'transmission', 'vin', 'drivetrain', 'vehicle_size',\n",
       "       'vehicle_type', 'exterior_color', 'posting_state', 'latitude',\n",
       "       'longitude', 'posting_year', 'posting_month', 'posting_day'],\n",
       "      dtype='object')"
      ]
     },
     "execution_count": 36,
     "metadata": {},
     "output_type": "execute_result"
    }
   ],
   "source": [
    "vehicles_full.rename(columns= {\n",
    "    \"id\":\"posting_id\",\n",
    "    \"region\":\"posting_region\",\n",
    "    \"year\":\"model_year\",\n",
    "    \"model\":\"description\",\n",
    "    \"fuel\":\"fuel_type\",\n",
    "    \"VIN\":\"vin\",\n",
    "    \"drive\": \"drivetrain\",\n",
    "    \"size\":\"vehicle_size\",\n",
    "    \"type\":\"vehicle_type\",\n",
    "    \"paint_color\":\"exterior_color\",\n",
    "    \"state\":\"posting_state\",\n",
    "    \"lat\":\"latitude\",\n",
    "    \"long\":\"longitude\"\n",
    "}, inplace=True)\n",
    "vehicles_full.columns"
   ]
  },
  {
   "cell_type": "markdown",
   "id": "ee44363d",
   "metadata": {},
   "source": [
    "## Get some info about max column string lengths for varchar"
   ]
  },
  {
   "cell_type": "code",
   "execution_count": 37,
   "id": "1b1ba49e",
   "metadata": {},
   "outputs": [
    {
     "name": "stdout",
     "output_type": "stream",
     "text": [
      "posting_id has dtype int64\n",
      "\n",
      "posting_region has dtype object\n",
      "posting_region has max char length 26\n",
      "\n",
      "price has dtype int64\n",
      "\n",
      "model_year has dtype float64\n",
      "\n",
      "manufacturer has dtype object\n",
      "manufacturer has max char length 15.0\n",
      "\n",
      "description has dtype object\n",
      "description has max char length 192.0\n",
      "\n",
      "condition has dtype object\n",
      "condition has max char length 9.0\n",
      "\n",
      "cylinders has dtype object\n",
      "cylinders has max char length 12.0\n",
      "\n",
      "fuel_type has dtype object\n",
      "fuel_type has max char length 8.0\n",
      "\n",
      "odometer has dtype float64\n",
      "\n",
      "title_status has dtype object\n",
      "title_status has max char length 10.0\n",
      "\n",
      "transmission has dtype object\n",
      "transmission has max char length 9.0\n",
      "\n",
      "vin has dtype object\n",
      "vin has max char length 20.0\n",
      "\n",
      "drivetrain has dtype object\n",
      "drivetrain has max char length 3.0\n",
      "\n",
      "vehicle_size has dtype object\n",
      "vehicle_size has max char length 11.0\n",
      "\n",
      "vehicle_type has dtype object\n",
      "vehicle_type has max char length 11.0\n",
      "\n",
      "exterior_color has dtype object\n",
      "exterior_color has max char length 6.0\n",
      "\n",
      "posting_state has dtype object\n",
      "posting_state has max char length 2\n",
      "\n",
      "latitude has dtype float64\n",
      "\n",
      "longitude has dtype float64\n",
      "\n",
      "posting_year has dtype int64\n",
      "\n",
      "posting_month has dtype int64\n",
      "\n",
      "posting_day has dtype int64\n",
      "\n"
     ]
    }
   ],
   "source": [
    "for column in vehicles_full.columns:\n",
    "    print(f\"{column} has dtype {vehicles_full[column].dtype}\")\n",
    "    if vehicles_full[column].dtype == \"O\":\n",
    "        print(f\"{column} has max char length {vehicles_full[column].str.len().max()}\")\n",
    "    print(\"\")"
   ]
  },
  {
   "cell_type": "markdown",
   "id": "09ce4eef",
   "metadata": {},
   "source": [
    "## Export processed csv"
   ]
  },
  {
   "cell_type": "code",
   "execution_count": 38,
   "id": "70581c9a",
   "metadata": {},
   "outputs": [],
   "source": [
    "vehicles_full.to_csv(\"./Data2_preprocessed.csv\", na_rep=\"NULL\", index=False)"
   ]
  }
 ],
 "metadata": {
  "kernelspec": {
   "display_name": "Python 3 (ipykernel)",
   "language": "python",
   "name": "python3"
  },
  "language_info": {
   "codemirror_mode": {
    "name": "ipython",
    "version": 3
   },
   "file_extension": ".py",
   "mimetype": "text/x-python",
   "name": "python",
   "nbconvert_exporter": "python",
   "pygments_lexer": "ipython3",
   "version": "3.10.9"
  }
 },
 "nbformat": 4,
 "nbformat_minor": 5
}
