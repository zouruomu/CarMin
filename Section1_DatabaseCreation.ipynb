{
 "cells": [
  {
   "cell_type": "code",
   "execution_count": 1,
   "id": "8b8e4d1c",
   "metadata": {},
   "outputs": [],
   "source": [
    "import warnings\n",
    "warnings.filterwarnings('ignore')\n",
    "import pandas as pd\n",
    "import numpy as np\n",
    "import matplotlib.pyplot as plt\n",
    "plt.rcParams['figure.dpi'] = 150\n",
    "import seaborn as sns\n",
    "from datetime import datetime\n",
    "import gc\n",
    "\n",
    "# https://www.kaggle.com/datasets/ananaymital/us-used-cars-dataset?rvi=1\n",
    "Data1_raw = pd.read_csv(\"./Data/Raw/Data1_raw.csv\")\n",
    "\n",
    "# https://www.kaggle.com/datasets/austinreese/craigslist-carstrucks-data\n",
    "Data2_raw = pd.read_csv(\"./Data/Raw/Data2_raw.csv\")"
   ]
  },
  {
   "cell_type": "markdown",
   "id": "9816817b",
   "metadata": {},
   "source": [
    "<font size=7><b>Section 1: Database Creation</b></font>"
   ]
  },
  {
   "cell_type": "markdown",
   "id": "10385b8a",
   "metadata": {},
   "source": [
    "**Note to grader**: Thank you for looking at our submission! We hope that the detailed exploratory analysis and thorough data cleaning done in **Part 1.4**, **Part 3.3**, and **Part 3.4** of this notebook can be assessed under the rubric section \"extraordinary extra features\" and be considered for extra credit if deemed deserving. Thank you so much!\n",
    "\n",
    "<br>\n",
    "\n",
    "This notebook handles all of the following:\n",
    "* Data cleaning and exploratory analysis of our two data sources `Data1_raw.csv` (https://www.kaggle.com/datasets/ananaymital/us-used-cars-dataset?rvi=1) and `Data2_raw.csv` (https://www.kaggle.com/datasets/austinreese/craigslist-carstrucks-data).\n",
    "* Entity resolution of entries in both data sources into the same logical schema.\n",
    "* Breaking the large (~10GB combined) and redundant raw data into better designed tables according to the database's logical structure. Looking ahead to Section 2, these smaller tables (combined < 1GB) can then be imported into a MySQL database using the file `Section2_LoadIntoMySQL.sql`.\n",
    "\n",
    "<br>\n",
    "\n",
    "Notebook table of contents:\n",
    "* **Part 0: The database schema.**\n",
    "* **Part 1: Data cleaning and exploratory analysis for `Data1`.**\n",
    "    * Part 1.1: Sneak peak at data.\n",
    "    * Part 1.2: Dropping useless data.\n",
    "    * Part 1.3: Dealing with missing values.\n",
    "    * Part 1.4: Column-level cleaning and exploratory analysis.\n",
    "* **Part 2: Decomposing `Data1` into database schema with entity resolution.**\n",
    "    * Part 2.1: General observations.\n",
    "    * Part 2.2: Decompose mega-table into databse schema.\n",
    "    * Part 2.3: Check if decomposition was lossless.\n",
    "    * Part 2.4: Column renaming.\n",
    "* **Part 3: Data cleaning and exploratory analysis for `Data2`.**\n",
    "    * Part 3.1: Sneak peak at data.\n",
    "    * Part 3.2: Dropping useless data.\n",
    "    * Part 3.3: Column-level cleaning.\n",
    "    * Part 3.4: Exploratory analysis.\n",
    "* **Part 4: Decomposing `Data2` into database schema with entity resolution.**\n",
    "    * Part 4.1: Creating the *MMYT* relation\n",
    "    * Part 4.2: Creating the *Car* relation\n",
    "    * Part 4.3: Creating the *Dealer* relation\n",
    "    * Part 4.4: Creating the *Listing* relation\n",
    "* **Part 5: Merging `Data1` and `Data2` to build the final database.**\n",
    "    * Part 5.1: Merge *Car*\n",
    "    * Part 5.2: Merge *MMYT*\n",
    "    * Part 5.3: Merge *Dealer*\n",
    "    * Part 5.4: Merge *Listing*\n",
    "    * Part 5.5: Export database files\n",
    "* **Appendix A: Final processing function for `Data1`.**\n",
    "* **Appendix B: Final processing function for `Data2`.**\n",
    "* **Appendix C: Function to create all database tables and export to csv.**"
   ]
  },
  {
   "cell_type": "markdown",
   "id": "f3f9efdb",
   "metadata": {},
   "source": [
    "# Part 0: The database schema"
   ]
  },
  {
   "cell_type": "markdown",
   "id": "b8a05edb",
   "metadata": {},
   "source": [
    "Our database schema is:\n",
    "* Car(**vin**, *mmyt_id*, odometer, is_certified_preowned, has_accidents, transmission_type, exterior_color, horsepower, max_horsepower_at_rpm, max_torque_at_rpm, engine_type, engine_displacement, fuel_type, city_mpg, highway_mpg)\n",
    "    * This relation represents a used car instance.\n",
    "* MMYT(**mmyt_id**, make_name, model_name, production_year, trim_name, body_type, max_seats, fuel_tank_gallons, drivetrain, vehicle_length, vehicle_width, vehicle_height, wheelbase, mmyt_description)\n",
    "    * This relation represents the make, model, year, and trim of a category of cars.\n",
    "* Dealer(**dealer_id**, dealer_name, total_listings, avg_rating, location, zipcode, longitude, latitude, is_franchise_dealer)\n",
    "    * This relationship represents a dealer selling used cars.\n",
    "* Listing(**listing_id**, *vin*, *dealer_id*, price, listing_year, listing_month, listing_day, days_on_market)\n",
    "    * This relation represents a sales listing that a dealer has posted for a specific used car.\n",
    "\n",
    "(Primary keys are **bolded**, foreign keys are *italicized* and have the same name as the primary keys of the relations to which they refer.)\n",
    "\n",
    "Both datasets, in their raw form, consists of a single mega-table. Parts 1 and 3 handle data cleaning, and parts 2 and 4 handle parsing the mega-table into the above schema.\n",
    "\n",
    "Lastly, when building the database, we will check our functional dependencies and so primary key constraints in a simplified manner (might not be perfect but works for our purposes): we drop duplicates on column set $A$ and drop duplicates on column set $A \\cup B$ (the function below takes in lists not sets since lists interface more seemlessly with pandas indexing, but same idea), if the size of the first resultant dataframe is the same as the second resultant dataframe, then $A \\rightarrow B$."
   ]
  },
  {
   "cell_type": "code",
   "execution_count": 2,
   "id": "2ef5b7e0",
   "metadata": {},
   "outputs": [],
   "source": [
    "def uniquely_determines(A, B, data):\n",
    "    \"\"\"Check if the columns in list A uniquely determines the columns in list B on data\"\"\"\n",
    "    size_1 = data[set(A)].drop_duplicates().shape[0]\n",
    "    size_2 = data[set(A+B)].drop_duplicates().shape[0]\n",
    "    print(f\"Uniques on A: {size_1}, uniques on A union B: {size_2}\")\n",
    "    return size_1 == size_2"
   ]
  },
  {
   "cell_type": "markdown",
   "id": "71bbd119",
   "metadata": {},
   "source": [
    "# Part 1: Data cleaning and exploratory analysis for `Data1`"
   ]
  },
  {
   "cell_type": "markdown",
   "id": "cb10bc37",
   "metadata": {},
   "source": [
    "## Part 1.1: Sneak peak at data"
   ]
  },
  {
   "cell_type": "code",
   "execution_count": 3,
   "id": "28fd8003",
   "metadata": {},
   "outputs": [
    {
     "data": {
      "text/html": [
       "<div>\n",
       "<style scoped>\n",
       "    .dataframe tbody tr th:only-of-type {\n",
       "        vertical-align: middle;\n",
       "    }\n",
       "\n",
       "    .dataframe tbody tr th {\n",
       "        vertical-align: top;\n",
       "    }\n",
       "\n",
       "    .dataframe thead th {\n",
       "        text-align: right;\n",
       "    }\n",
       "</style>\n",
       "<table border=\"1\" class=\"dataframe\">\n",
       "  <thead>\n",
       "    <tr style=\"text-align: right;\">\n",
       "      <th></th>\n",
       "      <th>vin</th>\n",
       "      <th>back_legroom</th>\n",
       "      <th>bed</th>\n",
       "      <th>bed_height</th>\n",
       "      <th>bed_length</th>\n",
       "      <th>body_type</th>\n",
       "      <th>cabin</th>\n",
       "      <th>city</th>\n",
       "      <th>city_fuel_economy</th>\n",
       "      <th>combine_fuel_economy</th>\n",
       "      <th>...</th>\n",
       "      <th>transmission</th>\n",
       "      <th>transmission_display</th>\n",
       "      <th>trimId</th>\n",
       "      <th>trim_name</th>\n",
       "      <th>vehicle_damage_category</th>\n",
       "      <th>wheel_system</th>\n",
       "      <th>wheel_system_display</th>\n",
       "      <th>wheelbase</th>\n",
       "      <th>width</th>\n",
       "      <th>year</th>\n",
       "    </tr>\n",
       "  </thead>\n",
       "  <tbody>\n",
       "    <tr>\n",
       "      <th>0</th>\n",
       "      <td>ZACNJABB5KPJ92081</td>\n",
       "      <td>35.1 in</td>\n",
       "      <td>NaN</td>\n",
       "      <td>NaN</td>\n",
       "      <td>NaN</td>\n",
       "      <td>SUV / Crossover</td>\n",
       "      <td>NaN</td>\n",
       "      <td>Bayamon</td>\n",
       "      <td>NaN</td>\n",
       "      <td>NaN</td>\n",
       "      <td>...</td>\n",
       "      <td>A</td>\n",
       "      <td>9-Speed Automatic Overdrive</td>\n",
       "      <td>t83804</td>\n",
       "      <td>Latitude FWD</td>\n",
       "      <td>NaN</td>\n",
       "      <td>FWD</td>\n",
       "      <td>Front-Wheel Drive</td>\n",
       "      <td>101.2 in</td>\n",
       "      <td>79.6 in</td>\n",
       "      <td>2019</td>\n",
       "    </tr>\n",
       "    <tr>\n",
       "      <th>1</th>\n",
       "      <td>SALCJ2FX1LH858117</td>\n",
       "      <td>38.1 in</td>\n",
       "      <td>NaN</td>\n",
       "      <td>NaN</td>\n",
       "      <td>NaN</td>\n",
       "      <td>SUV / Crossover</td>\n",
       "      <td>NaN</td>\n",
       "      <td>San Juan</td>\n",
       "      <td>NaN</td>\n",
       "      <td>NaN</td>\n",
       "      <td>...</td>\n",
       "      <td>A</td>\n",
       "      <td>9-Speed Automatic Overdrive</td>\n",
       "      <td>t86759</td>\n",
       "      <td>S AWD</td>\n",
       "      <td>NaN</td>\n",
       "      <td>AWD</td>\n",
       "      <td>All-Wheel Drive</td>\n",
       "      <td>107.9 in</td>\n",
       "      <td>85.6 in</td>\n",
       "      <td>2020</td>\n",
       "    </tr>\n",
       "    <tr>\n",
       "      <th>2</th>\n",
       "      <td>JF1VA2M67G9829723</td>\n",
       "      <td>35.4 in</td>\n",
       "      <td>NaN</td>\n",
       "      <td>NaN</td>\n",
       "      <td>NaN</td>\n",
       "      <td>Sedan</td>\n",
       "      <td>NaN</td>\n",
       "      <td>Guaynabo</td>\n",
       "      <td>17.0</td>\n",
       "      <td>NaN</td>\n",
       "      <td>...</td>\n",
       "      <td>M</td>\n",
       "      <td>6-Speed Manual</td>\n",
       "      <td>t58994</td>\n",
       "      <td>Base</td>\n",
       "      <td>NaN</td>\n",
       "      <td>AWD</td>\n",
       "      <td>All-Wheel Drive</td>\n",
       "      <td>104.3 in</td>\n",
       "      <td>78.9 in</td>\n",
       "      <td>2016</td>\n",
       "    </tr>\n",
       "    <tr>\n",
       "      <th>3</th>\n",
       "      <td>SALRR2RV0L2433391</td>\n",
       "      <td>37.6 in</td>\n",
       "      <td>NaN</td>\n",
       "      <td>NaN</td>\n",
       "      <td>NaN</td>\n",
       "      <td>SUV / Crossover</td>\n",
       "      <td>NaN</td>\n",
       "      <td>San Juan</td>\n",
       "      <td>NaN</td>\n",
       "      <td>NaN</td>\n",
       "      <td>...</td>\n",
       "      <td>A</td>\n",
       "      <td>8-Speed Automatic Overdrive</td>\n",
       "      <td>t86074</td>\n",
       "      <td>V6 HSE AWD</td>\n",
       "      <td>NaN</td>\n",
       "      <td>AWD</td>\n",
       "      <td>All-Wheel Drive</td>\n",
       "      <td>115 in</td>\n",
       "      <td>87.4 in</td>\n",
       "      <td>2020</td>\n",
       "    </tr>\n",
       "    <tr>\n",
       "      <th>4</th>\n",
       "      <td>SALCJ2FXXLH862327</td>\n",
       "      <td>38.1 in</td>\n",
       "      <td>NaN</td>\n",
       "      <td>NaN</td>\n",
       "      <td>NaN</td>\n",
       "      <td>SUV / Crossover</td>\n",
       "      <td>NaN</td>\n",
       "      <td>San Juan</td>\n",
       "      <td>NaN</td>\n",
       "      <td>NaN</td>\n",
       "      <td>...</td>\n",
       "      <td>A</td>\n",
       "      <td>9-Speed Automatic Overdrive</td>\n",
       "      <td>t86759</td>\n",
       "      <td>S AWD</td>\n",
       "      <td>NaN</td>\n",
       "      <td>AWD</td>\n",
       "      <td>All-Wheel Drive</td>\n",
       "      <td>107.9 in</td>\n",
       "      <td>85.6 in</td>\n",
       "      <td>2020</td>\n",
       "    </tr>\n",
       "    <tr>\n",
       "      <th>...</th>\n",
       "      <td>...</td>\n",
       "      <td>...</td>\n",
       "      <td>...</td>\n",
       "      <td>...</td>\n",
       "      <td>...</td>\n",
       "      <td>...</td>\n",
       "      <td>...</td>\n",
       "      <td>...</td>\n",
       "      <td>...</td>\n",
       "      <td>...</td>\n",
       "      <td>...</td>\n",
       "      <td>...</td>\n",
       "      <td>...</td>\n",
       "      <td>...</td>\n",
       "      <td>...</td>\n",
       "      <td>...</td>\n",
       "      <td>...</td>\n",
       "      <td>...</td>\n",
       "      <td>...</td>\n",
       "      <td>...</td>\n",
       "      <td>...</td>\n",
       "    </tr>\n",
       "    <tr>\n",
       "      <th>3000035</th>\n",
       "      <td>2GNAXJEV0J6261526</td>\n",
       "      <td>39.7 in</td>\n",
       "      <td>NaN</td>\n",
       "      <td>NaN</td>\n",
       "      <td>NaN</td>\n",
       "      <td>SUV / Crossover</td>\n",
       "      <td>NaN</td>\n",
       "      <td>Fairfield</td>\n",
       "      <td>26.0</td>\n",
       "      <td>NaN</td>\n",
       "      <td>...</td>\n",
       "      <td>A</td>\n",
       "      <td>Automatic</td>\n",
       "      <td>t72936</td>\n",
       "      <td>1.5T LT FWD</td>\n",
       "      <td>NaN</td>\n",
       "      <td>FWD</td>\n",
       "      <td>Front-Wheel Drive</td>\n",
       "      <td>107.3 in</td>\n",
       "      <td>72.6 in</td>\n",
       "      <td>2018</td>\n",
       "    </tr>\n",
       "    <tr>\n",
       "      <th>3000036</th>\n",
       "      <td>1GNERFKW0LJ225508</td>\n",
       "      <td>38.4 in</td>\n",
       "      <td>NaN</td>\n",
       "      <td>NaN</td>\n",
       "      <td>NaN</td>\n",
       "      <td>SUV / Crossover</td>\n",
       "      <td>NaN</td>\n",
       "      <td>Vallejo</td>\n",
       "      <td>18.0</td>\n",
       "      <td>NaN</td>\n",
       "      <td>...</td>\n",
       "      <td>A</td>\n",
       "      <td>Automatic</td>\n",
       "      <td>t85763</td>\n",
       "      <td>LS FWD</td>\n",
       "      <td>NaN</td>\n",
       "      <td>FWD</td>\n",
       "      <td>Front-Wheel Drive</td>\n",
       "      <td>120.9 in</td>\n",
       "      <td>78.6 in</td>\n",
       "      <td>2020</td>\n",
       "    </tr>\n",
       "    <tr>\n",
       "      <th>3000037</th>\n",
       "      <td>3FA6P0HD3GR134062</td>\n",
       "      <td>38.3 in</td>\n",
       "      <td>NaN</td>\n",
       "      <td>NaN</td>\n",
       "      <td>NaN</td>\n",
       "      <td>Sedan</td>\n",
       "      <td>NaN</td>\n",
       "      <td>Napa</td>\n",
       "      <td>NaN</td>\n",
       "      <td>NaN</td>\n",
       "      <td>...</td>\n",
       "      <td>A</td>\n",
       "      <td>6-Speed Automatic Overdrive</td>\n",
       "      <td>t57569</td>\n",
       "      <td>SE</td>\n",
       "      <td>NaN</td>\n",
       "      <td>FWD</td>\n",
       "      <td>Front-Wheel Drive</td>\n",
       "      <td>112.2 in</td>\n",
       "      <td>83.5 in</td>\n",
       "      <td>2016</td>\n",
       "    </tr>\n",
       "    <tr>\n",
       "      <th>3000038</th>\n",
       "      <td>SAJAJ4BNXHA968809</td>\n",
       "      <td>35 in</td>\n",
       "      <td>NaN</td>\n",
       "      <td>NaN</td>\n",
       "      <td>NaN</td>\n",
       "      <td>Sedan</td>\n",
       "      <td>NaN</td>\n",
       "      <td>Fairfield</td>\n",
       "      <td>30.0</td>\n",
       "      <td>NaN</td>\n",
       "      <td>...</td>\n",
       "      <td>A</td>\n",
       "      <td>Automatic</td>\n",
       "      <td>t65977</td>\n",
       "      <td>20d Premium AWD</td>\n",
       "      <td>NaN</td>\n",
       "      <td>AWD</td>\n",
       "      <td>All-Wheel Drive</td>\n",
       "      <td>111.6 in</td>\n",
       "      <td>81.7 in</td>\n",
       "      <td>2017</td>\n",
       "    </tr>\n",
       "    <tr>\n",
       "      <th>3000039</th>\n",
       "      <td>JN8AT2MT1HW400805</td>\n",
       "      <td>37.9 in</td>\n",
       "      <td>NaN</td>\n",
       "      <td>NaN</td>\n",
       "      <td>NaN</td>\n",
       "      <td>SUV / Crossover</td>\n",
       "      <td>NaN</td>\n",
       "      <td>Napa</td>\n",
       "      <td>26.0</td>\n",
       "      <td>NaN</td>\n",
       "      <td>...</td>\n",
       "      <td>A</td>\n",
       "      <td>Automatic</td>\n",
       "      <td>t76529</td>\n",
       "      <td>2017.5 SV FWD</td>\n",
       "      <td>NaN</td>\n",
       "      <td>FWD</td>\n",
       "      <td>Front-Wheel Drive</td>\n",
       "      <td>106.5 in</td>\n",
       "      <td>72.4 in</td>\n",
       "      <td>2017</td>\n",
       "    </tr>\n",
       "  </tbody>\n",
       "</table>\n",
       "<p>3000040 rows × 66 columns</p>\n",
       "</div>"
      ],
      "text/plain": [
       "                       vin back_legroom  bed bed_height bed_length  \\\n",
       "0        ZACNJABB5KPJ92081      35.1 in  NaN        NaN        NaN   \n",
       "1        SALCJ2FX1LH858117      38.1 in  NaN        NaN        NaN   \n",
       "2        JF1VA2M67G9829723      35.4 in  NaN        NaN        NaN   \n",
       "3        SALRR2RV0L2433391      37.6 in  NaN        NaN        NaN   \n",
       "4        SALCJ2FXXLH862327      38.1 in  NaN        NaN        NaN   \n",
       "...                    ...          ...  ...        ...        ...   \n",
       "3000035  2GNAXJEV0J6261526      39.7 in  NaN        NaN        NaN   \n",
       "3000036  1GNERFKW0LJ225508      38.4 in  NaN        NaN        NaN   \n",
       "3000037  3FA6P0HD3GR134062      38.3 in  NaN        NaN        NaN   \n",
       "3000038  SAJAJ4BNXHA968809        35 in  NaN        NaN        NaN   \n",
       "3000039  JN8AT2MT1HW400805      37.9 in  NaN        NaN        NaN   \n",
       "\n",
       "               body_type cabin       city  city_fuel_economy  \\\n",
       "0        SUV / Crossover   NaN    Bayamon                NaN   \n",
       "1        SUV / Crossover   NaN   San Juan                NaN   \n",
       "2                  Sedan   NaN   Guaynabo               17.0   \n",
       "3        SUV / Crossover   NaN   San Juan                NaN   \n",
       "4        SUV / Crossover   NaN   San Juan                NaN   \n",
       "...                  ...   ...        ...                ...   \n",
       "3000035  SUV / Crossover   NaN  Fairfield               26.0   \n",
       "3000036  SUV / Crossover   NaN    Vallejo               18.0   \n",
       "3000037            Sedan   NaN       Napa                NaN   \n",
       "3000038            Sedan   NaN  Fairfield               30.0   \n",
       "3000039  SUV / Crossover   NaN       Napa               26.0   \n",
       "\n",
       "         combine_fuel_economy  ...  transmission         transmission_display  \\\n",
       "0                         NaN  ...             A  9-Speed Automatic Overdrive   \n",
       "1                         NaN  ...             A  9-Speed Automatic Overdrive   \n",
       "2                         NaN  ...             M               6-Speed Manual   \n",
       "3                         NaN  ...             A  8-Speed Automatic Overdrive   \n",
       "4                         NaN  ...             A  9-Speed Automatic Overdrive   \n",
       "...                       ...  ...           ...                          ...   \n",
       "3000035                   NaN  ...             A                    Automatic   \n",
       "3000036                   NaN  ...             A                    Automatic   \n",
       "3000037                   NaN  ...             A  6-Speed Automatic Overdrive   \n",
       "3000038                   NaN  ...             A                    Automatic   \n",
       "3000039                   NaN  ...             A                    Automatic   \n",
       "\n",
       "         trimId        trim_name  vehicle_damage_category wheel_system  \\\n",
       "0        t83804     Latitude FWD                      NaN          FWD   \n",
       "1        t86759            S AWD                      NaN          AWD   \n",
       "2        t58994             Base                      NaN          AWD   \n",
       "3        t86074       V6 HSE AWD                      NaN          AWD   \n",
       "4        t86759            S AWD                      NaN          AWD   \n",
       "...         ...              ...                      ...          ...   \n",
       "3000035  t72936      1.5T LT FWD                      NaN          FWD   \n",
       "3000036  t85763           LS FWD                      NaN          FWD   \n",
       "3000037  t57569               SE                      NaN          FWD   \n",
       "3000038  t65977  20d Premium AWD                      NaN          AWD   \n",
       "3000039  t76529    2017.5 SV FWD                      NaN          FWD   \n",
       "\n",
       "        wheel_system_display wheelbase    width  year  \n",
       "0          Front-Wheel Drive  101.2 in  79.6 in  2019  \n",
       "1            All-Wheel Drive  107.9 in  85.6 in  2020  \n",
       "2            All-Wheel Drive  104.3 in  78.9 in  2016  \n",
       "3            All-Wheel Drive    115 in  87.4 in  2020  \n",
       "4            All-Wheel Drive  107.9 in  85.6 in  2020  \n",
       "...                      ...       ...      ...   ...  \n",
       "3000035    Front-Wheel Drive  107.3 in  72.6 in  2018  \n",
       "3000036    Front-Wheel Drive  120.9 in  78.6 in  2020  \n",
       "3000037    Front-Wheel Drive  112.2 in  83.5 in  2016  \n",
       "3000038      All-Wheel Drive  111.6 in  81.7 in  2017  \n",
       "3000039    Front-Wheel Drive  106.5 in  72.4 in  2017  \n",
       "\n",
       "[3000040 rows x 66 columns]"
      ]
     },
     "execution_count": 3,
     "metadata": {},
     "output_type": "execute_result"
    }
   ],
   "source": [
    "Data1_raw"
   ]
  },
  {
   "cell_type": "code",
   "execution_count": 4,
   "id": "b95ead8b",
   "metadata": {},
   "outputs": [
    {
     "data": {
      "text/plain": [
       "Index(['vin', 'back_legroom', 'bed', 'bed_height', 'bed_length', 'body_type',\n",
       "       'cabin', 'city', 'city_fuel_economy', 'combine_fuel_economy',\n",
       "       'daysonmarket', 'dealer_zip', 'description', 'engine_cylinders',\n",
       "       'engine_displacement', 'engine_type', 'exterior_color', 'fleet',\n",
       "       'frame_damaged', 'franchise_dealer', 'franchise_make', 'front_legroom',\n",
       "       'fuel_tank_volume', 'fuel_type', 'has_accidents', 'height',\n",
       "       'highway_fuel_economy', 'horsepower', 'interior_color', 'isCab',\n",
       "       'is_certified', 'is_cpo', 'is_new', 'is_oemcpo', 'latitude', 'length',\n",
       "       'listed_date', 'listing_color', 'listing_id', 'longitude',\n",
       "       'main_picture_url', 'major_options', 'make_name', 'maximum_seating',\n",
       "       'mileage', 'model_name', 'owner_count', 'power', 'price', 'salvage',\n",
       "       'savings_amount', 'seller_rating', 'sp_id', 'sp_name', 'theft_title',\n",
       "       'torque', 'transmission', 'transmission_display', 'trimId', 'trim_name',\n",
       "       'vehicle_damage_category', 'wheel_system', 'wheel_system_display',\n",
       "       'wheelbase', 'width', 'year'],\n",
       "      dtype='object')"
      ]
     },
     "execution_count": 4,
     "metadata": {},
     "output_type": "execute_result"
    }
   ],
   "source": [
    "Data1_raw.columns"
   ]
  },
  {
   "cell_type": "markdown",
   "id": "0e786f4c",
   "metadata": {},
   "source": [
    "Lots of columns, many of which seem to have redundant information and/or lots of NULLs, let's take a closer look."
   ]
  },
  {
   "cell_type": "markdown",
   "id": "ef2542c1",
   "metadata": {},
   "source": [
    "## Part 1.2: Dropping useless data"
   ]
  },
  {
   "cell_type": "markdown",
   "id": "209e25bb",
   "metadata": {},
   "source": [
    "### No valid entries"
   ]
  },
  {
   "cell_type": "markdown",
   "id": "cd80350c",
   "metadata": {},
   "source": [
    "As shown by the code segment below, the columns `combine_fuel_economy`, `is_certified`, `vehicle_damage_category` only contain null values. This is likely an oversight by the data collectors."
   ]
  },
  {
   "cell_type": "code",
   "execution_count": 5,
   "id": "8d881b61",
   "metadata": {},
   "outputs": [
    {
     "data": {
      "text/plain": [
       "combine_fuel_economy       True\n",
       "is_certified               True\n",
       "vehicle_damage_category    True\n",
       "dtype: bool"
      ]
     },
     "execution_count": 5,
     "metadata": {},
     "output_type": "execute_result"
    }
   ],
   "source": [
    "Data1_raw[[\"combine_fuel_economy\", \"is_certified\", \"vehicle_damage_category\"]].isnull().all()"
   ]
  },
  {
   "cell_type": "markdown",
   "id": "3408a28f",
   "metadata": {},
   "source": [
    "Drop them!"
   ]
  },
  {
   "cell_type": "code",
   "execution_count": 6,
   "id": "a7a91527",
   "metadata": {},
   "outputs": [],
   "source": [
    "Data1_raw = Data1_raw.drop(columns=[\"combine_fuel_economy\", \"is_certified\", \"vehicle_damage_category\"])"
   ]
  },
  {
   "cell_type": "markdown",
   "id": "977e6bba",
   "metadata": {},
   "source": [
    "### Redundant info"
   ]
  },
  {
   "cell_type": "markdown",
   "id": "d29f3d40",
   "metadata": {},
   "source": [
    "`engine_cylinders` has the exact same entries as `engine_type`:"
   ]
  },
  {
   "cell_type": "code",
   "execution_count": 7,
   "id": "885ac3f3",
   "metadata": {},
   "outputs": [
    {
     "data": {
      "text/plain": [
       "True"
      ]
     },
     "execution_count": 7,
     "metadata": {},
     "output_type": "execute_result"
    }
   ],
   "source": [
    "(Data1_raw.engine_cylinders.dropna() == Data1_raw.engine_type.dropna()).all()"
   ]
  },
  {
   "cell_type": "markdown",
   "id": "64adf9c2",
   "metadata": {},
   "source": [
    "Drop `engine_cylinders`."
   ]
  },
  {
   "cell_type": "code",
   "execution_count": 8,
   "id": "cd1296b0",
   "metadata": {},
   "outputs": [],
   "source": [
    "Data1_raw = Data1_raw.drop(columns=[\"engine_cylinders\"])"
   ]
  },
  {
   "cell_type": "markdown",
   "id": "2ead6ebe",
   "metadata": {},
   "source": [
    "`exterior_color` is just `listing_color` with more vehicle-specific detail that will bog down the modelling/prediction we plan to do once database is created:"
   ]
  },
  {
   "cell_type": "code",
   "execution_count": 9,
   "id": "4f7bb013",
   "metadata": {},
   "outputs": [
    {
     "data": {
      "text/plain": [
       "Black                                  162463\n",
       "White                                  126560\n",
       "Summit White                            96432\n",
       "Silver                                  78908\n",
       "Gray                                    77562\n",
       "                                        ...  \n",
       "Blue Dusk Clearcoat Metallic                1\n",
       "Dark Performancesian Green Metallic         1\n",
       "BRILLANT                                    1\n",
       "WHITE MET                                   1\n",
       "Cosmic                                      1\n",
       "Name: exterior_color, Length: 28665, dtype: int64"
      ]
     },
     "execution_count": 9,
     "metadata": {},
     "output_type": "execute_result"
    }
   ],
   "source": [
    "Data1_raw.exterior_color.value_counts()"
   ]
  },
  {
   "cell_type": "markdown",
   "id": "00a926bb",
   "metadata": {},
   "source": [
    "Here we'll just drop `exterior_color`."
   ]
  },
  {
   "cell_type": "code",
   "execution_count": 10,
   "id": "17aac03d",
   "metadata": {},
   "outputs": [],
   "source": [
    "Data1_raw = Data1_raw.drop(columns=[\"exterior_color\"])"
   ]
  },
  {
   "cell_type": "markdown",
   "id": "6cce5201",
   "metadata": {},
   "source": [
    "Likewise, `transmission_display` is just `transmission` with more vehicle-specific detail that will bog down modelling -> here we'll just drop `transmission_display`."
   ]
  },
  {
   "cell_type": "code",
   "execution_count": 11,
   "id": "02452324",
   "metadata": {},
   "outputs": [],
   "source": [
    "Data1_raw = Data1_raw.drop(columns=[\"transmission_display\"])"
   ]
  },
  {
   "cell_type": "markdown",
   "id": "35118ae7",
   "metadata": {},
   "source": [
    "`is_cpo` (dealer certified pre-owned) heavily overlaps with `is_oemcpo` (manufacturer certified pre-owned) -> drop `is_cpo`."
   ]
  },
  {
   "cell_type": "code",
   "execution_count": 12,
   "id": "39123f5c",
   "metadata": {},
   "outputs": [],
   "source": [
    "Data1_raw = Data1_raw.drop(columns=[\"is_cpo\"])"
   ]
  },
  {
   "cell_type": "markdown",
   "id": "c2ae97de",
   "metadata": {},
   "source": [
    "`wheel_system_display` is just a renaming of `wheel_system` -> drop `wheel_system_display`."
   ]
  },
  {
   "cell_type": "code",
   "execution_count": 13,
   "id": "d4342a2f",
   "metadata": {},
   "outputs": [],
   "source": [
    "Data1_raw = Data1_raw.drop(columns=[\"wheel_system_display\"])"
   ]
  },
  {
   "cell_type": "markdown",
   "id": "51b517b2",
   "metadata": {},
   "source": [
    "### Overly specific/otherwise useless info"
   ]
  },
  {
   "cell_type": "markdown",
   "id": "b02c66d4",
   "metadata": {},
   "source": [
    "The following columns contain either overly specific info (too many categoies) or info that has little to no bearing on the vehicle price which we want to predict using the database:\n",
    "\n",
    "`back_legroom`, `bed`, `bed_height`, `bed_length`, `cabin`, `description`, `fleet`, `frame_damaged`, `franchise_make`, `front_legroom`, `interior_color`, `isCab`, `is_new`, `main_picture_url`, `major_options`, `owner_count`, `salvage`, `savings_amount`, `theft_title`\n",
    "\n",
    "We'll drop all of them."
   ]
  },
  {
   "cell_type": "code",
   "execution_count": 14,
   "id": "6d3621ec",
   "metadata": {},
   "outputs": [],
   "source": [
    "Data1_raw = Data1_raw.drop(columns=[\"back_legroom\", \"bed\", \"bed_height\", \"bed_length\",\n",
    "                                    \"cabin\", \"description\", \"fleet\", \"frame_damaged\", \"franchise_make\",\n",
    "                                    \"front_legroom\", \"interior_color\", \"isCab\", \"is_new\",\n",
    "                                    \"main_picture_url\", \"major_options\", \"owner_count\",\n",
    "                                    \"salvage\", \"savings_amount\", \"theft_title\"])"
   ]
  },
  {
   "cell_type": "markdown",
   "id": "43076059",
   "metadata": {},
   "source": [
    "## Part 1.3: Dealing with missing values"
   ]
  },
  {
   "cell_type": "markdown",
   "id": "6ed4469d",
   "metadata": {},
   "source": [
    "Even after dropping the most egregious columns when it comes to NULL values, there are still a lot of NULLs in the remaining columns that can mean different things in different contexts. Let's go through them:"
   ]
  },
  {
   "cell_type": "code",
   "execution_count": 15,
   "id": "8a1078a3",
   "metadata": {},
   "outputs": [
    {
     "data": {
      "text/plain": [
       "vin                           0\n",
       "body_type                 13543\n",
       "city                          0\n",
       "city_fuel_economy        491285\n",
       "daysonmarket                  0\n",
       "dealer_zip                    0\n",
       "engine_displacement      172386\n",
       "engine_type              100581\n",
       "franchise_dealer              0\n",
       "fuel_tank_volume         159269\n",
       "fuel_type                 82724\n",
       "has_accidents           1426595\n",
       "height                   159269\n",
       "highway_fuel_economy     491285\n",
       "horsepower               172386\n",
       "is_oemcpo               2864678\n",
       "latitude                      0\n",
       "length                   159269\n",
       "listed_date                   0\n",
       "listing_color                 0\n",
       "listing_id                    0\n",
       "longitude                     0\n",
       "make_name                     0\n",
       "maximum_seating          159269\n",
       "mileage                  144387\n",
       "model_name                    0\n",
       "power                    481426\n",
       "price                         0\n",
       "seller_rating             40872\n",
       "sp_id                        96\n",
       "sp_name                       0\n",
       "torque                   517793\n",
       "transmission              64185\n",
       "trimId                   115827\n",
       "trim_name                116294\n",
       "wheel_system             146732\n",
       "wheelbase                159269\n",
       "width                    159269\n",
       "year                          0\n",
       "dtype: int64"
      ]
     },
     "execution_count": 15,
     "metadata": {},
     "output_type": "execute_result"
    }
   ],
   "source": [
    "Data1_raw.isnull().sum()"
   ]
  },
  {
   "cell_type": "markdown",
   "id": "ed4b7968",
   "metadata": {},
   "source": [
    "In the case of `has_accidents`, NULL values are actually important and should not be blindly discarded, since not reporting accidents can indeed often mean that minor damage occured. Let's impute a third value \"Unreported\" for missings in this variable:"
   ]
  },
  {
   "cell_type": "code",
   "execution_count": 16,
   "id": "a04a14bd",
   "metadata": {},
   "outputs": [],
   "source": [
    "Data1_raw[\"has_accidents\"] = Data1_raw.has_accidents.fillna(\"Unreported\")"
   ]
  },
  {
   "cell_type": "markdown",
   "id": "81d0720f",
   "metadata": {},
   "source": [
    "Furthermore, NULLs in `is_oemcpo` (manufacturer certified pre-owned) are also meaningful (actually `is_oemcpo` only has True or NULL entries). The data was scrapped from a number of websites on which a tag will appear if the vehicle was certified and not otherwise: a missing value here is likely to mean that the car was not certified, as opposed to implying a truly unknown value. We can safely fill missings here with \"False\":"
   ]
  },
  {
   "cell_type": "code",
   "execution_count": 17,
   "id": "a60318e3",
   "metadata": {},
   "outputs": [],
   "source": [
    "Data1_raw[\"is_oemcpo\"] = Data1_raw.is_oemcpo.fillna(\"False\")"
   ]
  },
  {
   "cell_type": "markdown",
   "id": "edfb8643",
   "metadata": {},
   "source": [
    "Finally, `power`, `torque`, `city_fuel_economy`, and `highway_fuel_economy` all have a large number of missing values while not being critical variables. Simply dropping them would be to lose a lot of data over what is probably less important information. Therefore, we will fill NULLs in `power` and `torque` with \"Unknown\" and NULLs in `city_fuel_economy` and `highway_fuel_economy` with \"-1\":"
   ]
  },
  {
   "cell_type": "code",
   "execution_count": 18,
   "id": "4646056e",
   "metadata": {},
   "outputs": [],
   "source": [
    "Data1_raw[\"power\"] = Data1_raw.power.fillna(\"Unknown\")\n",
    "Data1_raw[\"torque\"] = Data1_raw.torque.fillna(\"Unknown\")\n",
    "Data1_raw[\"city_fuel_economy\"] = Data1_raw.city_fuel_economy.fillna(-1)\n",
    "Data1_raw[\"highway_fuel_economy\"] = Data1_raw.highway_fuel_economy.fillna(-1)"
   ]
  },
  {
   "cell_type": "markdown",
   "id": "2d71fe04",
   "metadata": {},
   "source": [
    "As a last note, as evidence below, this data also occassionally uses \"--\" to repesent NULL values:"
   ]
  },
  {
   "cell_type": "code",
   "execution_count": 19,
   "id": "c967d6aa",
   "metadata": {},
   "outputs": [
    {
     "data": {
      "text/plain": [
       "vin                        0\n",
       "body_type                  0\n",
       "city                       0\n",
       "city_fuel_economy          0\n",
       "daysonmarket               0\n",
       "dealer_zip                 0\n",
       "engine_displacement        0\n",
       "engine_type                0\n",
       "franchise_dealer           0\n",
       "fuel_tank_volume        1408\n",
       "fuel_type                  0\n",
       "has_accidents              0\n",
       "height                   468\n",
       "highway_fuel_economy       0\n",
       "horsepower                 0\n",
       "is_oemcpo                  0\n",
       "latitude                   0\n",
       "length                   457\n",
       "listed_date                0\n",
       "listing_color              0\n",
       "listing_id                 0\n",
       "longitude                  0\n",
       "make_name                  0\n",
       "maximum_seating          501\n",
       "mileage                    0\n",
       "model_name                 0\n",
       "power                      0\n",
       "price                      0\n",
       "seller_rating              0\n",
       "sp_id                      0\n",
       "sp_name                    0\n",
       "torque                     0\n",
       "transmission               0\n",
       "trimId                     0\n",
       "trim_name                  0\n",
       "wheel_system               0\n",
       "wheelbase                433\n",
       "width                    481\n",
       "year                       0\n",
       "dtype: int64"
      ]
     },
     "execution_count": 19,
     "metadata": {},
     "output_type": "execute_result"
    }
   ],
   "source": [
    "(Data1_raw == \"--\").sum()"
   ]
  },
  {
   "cell_type": "markdown",
   "id": "faa0f761",
   "metadata": {},
   "source": [
    "Let's replace these with null values so they can dropped in the next step:"
   ]
  },
  {
   "cell_type": "code",
   "execution_count": 20,
   "id": "0a50795f",
   "metadata": {},
   "outputs": [],
   "source": [
    "Data1_raw = Data1_raw.replace(\"--\", np.nan)"
   ]
  },
  {
   "cell_type": "markdown",
   "id": "140a6031",
   "metadata": {},
   "source": [
    "Now that every meaningful NULL value has been handled, we can drop the rows with unmeaningful, actually missing values:"
   ]
  },
  {
   "cell_type": "code",
   "execution_count": 21,
   "id": "772cf858",
   "metadata": {},
   "outputs": [],
   "source": [
    "Data1_raw = Data1_raw.dropna()"
   ]
  },
  {
   "cell_type": "markdown",
   "id": "7c6989b8",
   "metadata": {},
   "source": [
    "## Part 1.4: Column-level cleaning and exploratory analysis"
   ]
  },
  {
   "cell_type": "markdown",
   "id": "b862fb88",
   "metadata": {},
   "source": [
    "### Cleaning price"
   ]
  },
  {
   "cell_type": "markdown",
   "id": "bc39a684",
   "metadata": {},
   "source": [
    "Let's begin with our intended target variable: price."
   ]
  },
  {
   "cell_type": "code",
   "execution_count": 22,
   "id": "61751378",
   "metadata": {},
   "outputs": [
    {
     "data": {
      "text/plain": [
       "<Axes: xlabel='price', ylabel='Density'>"
      ]
     },
     "execution_count": 22,
     "metadata": {},
     "output_type": "execute_result"
    },
    {
     "data": {
      "image/png": "[encoded data removed]",
      "text/plain": [
       "<Figure size 432x288 with 1 Axes>"
      ]
     },
     "metadata": {
      "needs_background": "light"
     },
     "output_type": "display_data"
    }
   ],
   "source": [
    "sns.distplot(Data1_raw.price)"
   ]
  },
  {
   "cell_type": "markdown",
   "id": "d110f276",
   "metadata": {},
   "source": [
    "There are some huge outliers! 3,000,000 is a lot to pay for a car... is this a mistake? Let's look at all cars above 1 million:"
   ]
  },
  {
   "cell_type": "code",
   "execution_count": 23,
   "id": "84ce4314",
   "metadata": {},
   "outputs": [
    {
     "data": {
      "text/html": [
       "<div>\n",
       "<style scoped>\n",
       "    .dataframe tbody tr th:only-of-type {\n",
       "        vertical-align: middle;\n",
       "    }\n",
       "\n",
       "    .dataframe tbody tr th {\n",
       "        vertical-align: top;\n",
       "    }\n",
       "\n",
       "    .dataframe thead th {\n",
       "        text-align: right;\n",
       "    }\n",
       "</style>\n",
       "<table border=\"1\" class=\"dataframe\">\n",
       "  <thead>\n",
       "    <tr style=\"text-align: right;\">\n",
       "      <th></th>\n",
       "      <th>make_name</th>\n",
       "      <th>model_name</th>\n",
       "    </tr>\n",
       "  </thead>\n",
       "  <tbody>\n",
       "    <tr>\n",
       "      <th>28720</th>\n",
       "      <td>Ferrari</td>\n",
       "      <td>599 GTB Fiorano</td>\n",
       "    </tr>\n",
       "    <tr>\n",
       "      <th>174408</th>\n",
       "      <td>Ferrari</td>\n",
       "      <td>Enzo</td>\n",
       "    </tr>\n",
       "    <tr>\n",
       "      <th>179396</th>\n",
       "      <td>McLaren</td>\n",
       "      <td>P1</td>\n",
       "    </tr>\n",
       "    <tr>\n",
       "      <th>230048</th>\n",
       "      <td>Ford</td>\n",
       "      <td>Edge</td>\n",
       "    </tr>\n",
       "    <tr>\n",
       "      <th>582945</th>\n",
       "      <td>Lotus</td>\n",
       "      <td>Elise</td>\n",
       "    </tr>\n",
       "    <tr>\n",
       "      <th>908807</th>\n",
       "      <td>Bugatti</td>\n",
       "      <td>Veyron</td>\n",
       "    </tr>\n",
       "    <tr>\n",
       "      <th>1410578</th>\n",
       "      <td>Ferrari</td>\n",
       "      <td>Enzo</td>\n",
       "    </tr>\n",
       "    <tr>\n",
       "      <th>2056790</th>\n",
       "      <td>Porsche</td>\n",
       "      <td>918 Spyder</td>\n",
       "    </tr>\n",
       "    <tr>\n",
       "      <th>2114147</th>\n",
       "      <td>Chevrolet</td>\n",
       "      <td>Volt</td>\n",
       "    </tr>\n",
       "    <tr>\n",
       "      <th>2125636</th>\n",
       "      <td>Dodge</td>\n",
       "      <td>Grand Caravan</td>\n",
       "    </tr>\n",
       "    <tr>\n",
       "      <th>2178384</th>\n",
       "      <td>Nissan</td>\n",
       "      <td>Rogue Sport</td>\n",
       "    </tr>\n",
       "    <tr>\n",
       "      <th>2178397</th>\n",
       "      <td>Chevrolet</td>\n",
       "      <td>Impala</td>\n",
       "    </tr>\n",
       "    <tr>\n",
       "      <th>2435960</th>\n",
       "      <td>McLaren</td>\n",
       "      <td>P1</td>\n",
       "    </tr>\n",
       "    <tr>\n",
       "      <th>2477629</th>\n",
       "      <td>Ferrari</td>\n",
       "      <td>F12 Berlinetta</td>\n",
       "    </tr>\n",
       "    <tr>\n",
       "      <th>2484755</th>\n",
       "      <td>BMW</td>\n",
       "      <td>7 Series</td>\n",
       "    </tr>\n",
       "    <tr>\n",
       "      <th>2536911</th>\n",
       "      <td>Ford</td>\n",
       "      <td>GT</td>\n",
       "    </tr>\n",
       "    <tr>\n",
       "      <th>2786658</th>\n",
       "      <td>Ford</td>\n",
       "      <td>GT</td>\n",
       "    </tr>\n",
       "    <tr>\n",
       "      <th>2786672</th>\n",
       "      <td>Ferrari</td>\n",
       "      <td>LaFerrari</td>\n",
       "    </tr>\n",
       "    <tr>\n",
       "      <th>2795469</th>\n",
       "      <td>Porsche</td>\n",
       "      <td>918 Spyder</td>\n",
       "    </tr>\n",
       "    <tr>\n",
       "      <th>2795480</th>\n",
       "      <td>Ferrari</td>\n",
       "      <td>LaFerrari</td>\n",
       "    </tr>\n",
       "    <tr>\n",
       "      <th>2984892</th>\n",
       "      <td>Lexus</td>\n",
       "      <td>LFA</td>\n",
       "    </tr>\n",
       "  </tbody>\n",
       "</table>\n",
       "</div>"
      ],
      "text/plain": [
       "         make_name       model_name\n",
       "28720      Ferrari  599 GTB Fiorano\n",
       "174408     Ferrari             Enzo\n",
       "179396     McLaren               P1\n",
       "230048        Ford             Edge\n",
       "582945       Lotus            Elise\n",
       "908807     Bugatti           Veyron\n",
       "1410578    Ferrari             Enzo\n",
       "2056790    Porsche       918 Spyder\n",
       "2114147  Chevrolet             Volt\n",
       "2125636      Dodge    Grand Caravan\n",
       "2178384     Nissan      Rogue Sport\n",
       "2178397  Chevrolet           Impala\n",
       "2435960    McLaren               P1\n",
       "2477629    Ferrari   F12 Berlinetta\n",
       "2484755        BMW         7 Series\n",
       "2536911       Ford               GT\n",
       "2786658       Ford               GT\n",
       "2786672    Ferrari        LaFerrari\n",
       "2795469    Porsche       918 Spyder\n",
       "2795480    Ferrari        LaFerrari\n",
       "2984892      Lexus              LFA"
      ]
     },
     "execution_count": 23,
     "metadata": {},
     "output_type": "execute_result"
    }
   ],
   "source": [
    "Data1_raw.loc[Data1_raw.price > 1000000, [\"make_name\", \"model_name\"]]"
   ]
  },
  {
   "cell_type": "markdown",
   "id": "90cde54c",
   "metadata": {},
   "source": [
    "I'm not an expert on luxury cars... but these brands do seem kind of reasonable? In any case, whether the 3M is a mistake or not, taking our a few huge outliers is never a bad idea. For now, let's conservatively drop everything above 1M, which still leaves us a lot of very expensive cars!"
   ]
  },
  {
   "cell_type": "code",
   "execution_count": 24,
   "id": "873d31a6",
   "metadata": {},
   "outputs": [],
   "source": [
    "Data1_raw = Data1_raw[Data1_raw.price < 1000000]"
   ]
  },
  {
   "cell_type": "markdown",
   "id": "e8dd7b3d",
   "metadata": {},
   "source": [
    "### Cleaning `mileage`"
   ]
  },
  {
   "cell_type": "markdown",
   "id": "dcfc9771",
   "metadata": {},
   "source": [
    "The car's odometer is usually one of most important factors in determining used car prices, let's take a look:"
   ]
  },
  {
   "cell_type": "code",
   "execution_count": 25,
   "id": "bec28773",
   "metadata": {},
   "outputs": [
    {
     "data": {
      "text/plain": [
       "<Axes: xlabel='mileage', ylabel='Density'>"
      ]
     },
     "execution_count": 25,
     "metadata": {},
     "output_type": "execute_result"
    },
    {
     "data": {
      "image/png": "[encoded data removed]",
      "text/plain": [
       "<Figure size 432x288 with 1 Axes>"
      ]
     },
     "metadata": {
      "needs_background": "light"
     },
     "output_type": "display_data"
    }
   ],
   "source": [
    "sns.distplot(Data1_raw.mileage)"
   ]
  },
  {
   "cell_type": "markdown",
   "id": "9addbe1c",
   "metadata": {},
   "source": [
    "4 million miles! What kind of car can go 4 million miles?! What kind of car can go 1 million miles?"
   ]
  },
  {
   "cell_type": "code",
   "execution_count": 26,
   "id": "88e85615",
   "metadata": {},
   "outputs": [
    {
     "data": {
      "text/html": [
       "<div>\n",
       "<style scoped>\n",
       "    .dataframe tbody tr th:only-of-type {\n",
       "        vertical-align: middle;\n",
       "    }\n",
       "\n",
       "    .dataframe tbody tr th {\n",
       "        vertical-align: top;\n",
       "    }\n",
       "\n",
       "    .dataframe thead th {\n",
       "        text-align: right;\n",
       "    }\n",
       "</style>\n",
       "<table border=\"1\" class=\"dataframe\">\n",
       "  <thead>\n",
       "    <tr style=\"text-align: right;\">\n",
       "      <th></th>\n",
       "      <th>price</th>\n",
       "      <th>make_name</th>\n",
       "      <th>model_name</th>\n",
       "      <th>mileage</th>\n",
       "    </tr>\n",
       "  </thead>\n",
       "  <tbody>\n",
       "    <tr>\n",
       "      <th>210044</th>\n",
       "      <td>50775.0</td>\n",
       "      <td>Chevrolet</td>\n",
       "      <td>Silverado 1500</td>\n",
       "      <td>4290461.0</td>\n",
       "    </tr>\n",
       "    <tr>\n",
       "      <th>1319359</th>\n",
       "      <td>45149.0</td>\n",
       "      <td>Ford</td>\n",
       "      <td>F-150</td>\n",
       "      <td>1225238.0</td>\n",
       "    </tr>\n",
       "    <tr>\n",
       "      <th>2072522</th>\n",
       "      <td>39523.0</td>\n",
       "      <td>Chevrolet</td>\n",
       "      <td>Silverado 1500</td>\n",
       "      <td>1111111.0</td>\n",
       "    </tr>\n",
       "    <tr>\n",
       "      <th>2072617</th>\n",
       "      <td>23620.0</td>\n",
       "      <td>Chevrolet</td>\n",
       "      <td>Equinox</td>\n",
       "      <td>1111111.0</td>\n",
       "    </tr>\n",
       "    <tr>\n",
       "      <th>2073566</th>\n",
       "      <td>41420.0</td>\n",
       "      <td>Chevrolet</td>\n",
       "      <td>Silverado 1500</td>\n",
       "      <td>1111111.0</td>\n",
       "    </tr>\n",
       "    <tr>\n",
       "      <th>2074186</th>\n",
       "      <td>41420.0</td>\n",
       "      <td>Chevrolet</td>\n",
       "      <td>Silverado 1500</td>\n",
       "      <td>1111111.0</td>\n",
       "    </tr>\n",
       "    <tr>\n",
       "      <th>2075306</th>\n",
       "      <td>45970.0</td>\n",
       "      <td>Cadillac</td>\n",
       "      <td>XT5</td>\n",
       "      <td>1111111.0</td>\n",
       "    </tr>\n",
       "  </tbody>\n",
       "</table>\n",
       "</div>"
      ],
      "text/plain": [
       "           price  make_name      model_name    mileage\n",
       "210044   50775.0  Chevrolet  Silverado 1500  4290461.0\n",
       "1319359  45149.0       Ford           F-150  1225238.0\n",
       "2072522  39523.0  Chevrolet  Silverado 1500  1111111.0\n",
       "2072617  23620.0  Chevrolet         Equinox  1111111.0\n",
       "2073566  41420.0  Chevrolet  Silverado 1500  1111111.0\n",
       "2074186  41420.0  Chevrolet  Silverado 1500  1111111.0\n",
       "2075306  45970.0   Cadillac             XT5  1111111.0"
      ]
     },
     "execution_count": 26,
     "metadata": {},
     "output_type": "execute_result"
    }
   ],
   "source": [
    "Data1_raw.loc[Data1_raw.mileage > 1000000, [\"price\", \"make_name\", \"model_name\", \"mileage\"]]"
   ]
  },
  {
   "cell_type": "markdown",
   "id": "6b1cb48d",
   "metadata": {},
   "source": [
    "Yup, the Silverado is believable... still... 4 million miles? Crazy. Again, there are so few cars in this category I feel comfortable just dropping all of the 1M mile club members:"
   ]
  },
  {
   "cell_type": "code",
   "execution_count": 27,
   "id": "96ad1f5c",
   "metadata": {},
   "outputs": [],
   "source": [
    "Data1_raw = Data1_raw[Data1_raw.mileage < 1000000]"
   ]
  },
  {
   "cell_type": "markdown",
   "id": "9924bfef",
   "metadata": {},
   "source": [
    "### Cleaning `engine_type`"
   ]
  },
  {
   "cell_type": "markdown",
   "id": "fc7684f7",
   "metadata": {},
   "source": [
    "The column `engin_type` actually seems to include a lot of information about fuel type as well:"
   ]
  },
  {
   "cell_type": "code",
   "execution_count": 28,
   "id": "a45af7e6",
   "metadata": {},
   "outputs": [
    {
     "data": {
      "text/plain": [
       "array(['I4', 'V6', 'V6 Diesel', 'I6', 'V8', 'H4', 'V8 Biodiesel',\n",
       "       'V8 Flex Fuel Vehicle', 'V6 Flex Fuel Vehicle', 'I4 Hybrid',\n",
       "       'V6 Hybrid', 'I3', 'I5', 'I4 Diesel', 'I4 Flex Fuel Vehicle',\n",
       "       'I6 Diesel', 'R2', 'W12', 'V10', 'V12', 'V8 Diesel',\n",
       "       'V6 Biodiesel', 'H6', 'I2', 'W12 Flex Fuel Vehicle',\n",
       "       'I5 Biodiesel', 'V8 Hybrid', 'H4 Hybrid',\n",
       "       'V8 Compressed Natural Gas', 'I6 Hybrid', 'W8',\n",
       "       'I4 Compressed Natural Gas', 'I5 Diesel', 'V10 Diesel',\n",
       "       'V8 Propane', 'I3 Hybrid', 'V6 Compressed Natural Gas', 'W16'],\n",
       "      dtype=object)"
      ]
     },
     "execution_count": 28,
     "metadata": {},
     "output_type": "execute_result"
    }
   ],
   "source": [
    "Data1_raw.engine_type.unique()"
   ]
  },
  {
   "cell_type": "markdown",
   "id": "759ee055",
   "metadata": {},
   "source": [
    "On the other hand, we do have a dedicated column for `fuel_type`..."
   ]
  },
  {
   "cell_type": "code",
   "execution_count": 29,
   "id": "4f17676e",
   "metadata": {},
   "outputs": [
    {
     "data": {
      "text/plain": [
       "Gasoline                  2317280\n",
       "Flex Fuel Vehicle          132624\n",
       "Hybrid                      66359\n",
       "Diesel                      37054\n",
       "Biodiesel                   20968\n",
       "Compressed Natural Gas        133\n",
       "Propane                         4\n",
       "Name: fuel_type, dtype: int64"
      ]
     },
     "execution_count": 29,
     "metadata": {},
     "output_type": "execute_result"
    }
   ],
   "source": [
    "Data1_raw.fuel_type.value_counts()"
   ]
  },
  {
   "cell_type": "markdown",
   "id": "baef78d1",
   "metadata": {},
   "source": [
    "Now the question is: does the fuel type indicated in `engine_type` match the corresponding entries in `fuel_type`? Let's take out the actual engine string from `engine_type`:"
   ]
  },
  {
   "cell_type": "code",
   "execution_count": 30,
   "id": "233b46dd",
   "metadata": {},
   "outputs": [
    {
     "data": {
      "text/plain": [
       "                          2317280\n",
       "Flex Fuel Vehicle          132624\n",
       "Hybrid                      66359\n",
       "Diesel                      37054\n",
       "Biodiesel                   20968\n",
       "Compressed Natural Gas        133\n",
       "Propane                         4\n",
       "Name: engine_type, dtype: int64"
      ]
     },
     "execution_count": 30,
     "metadata": {},
     "output_type": "execute_result"
    }
   ],
   "source": [
    "Data1_raw.engine_type.str.split().str[1:].str.join(\" \").value_counts()"
   ]
  },
  {
   "cell_type": "markdown",
   "id": "0abd9b00",
   "metadata": {},
   "source": [
    "The numbers seem to match. Furthermore, it seems that if no fuel in particular was specified in `engine_type`, the actual type of fuel seems to be gasoline. Let's replace the blank entries with gasoline and see if the columns match:"
   ]
  },
  {
   "cell_type": "code",
   "execution_count": 31,
   "id": "7e5e55cf",
   "metadata": {},
   "outputs": [
    {
     "data": {
      "text/plain": [
       "True"
      ]
     },
     "execution_count": 31,
     "metadata": {},
     "output_type": "execute_result"
    }
   ],
   "source": [
    "(Data1_raw.engine_type.str.split().str[1:].str.join(\" \").replace({\"\": \"Gasoline\"}) == Data1_raw.fuel_type).all()"
   ]
  },
  {
   "cell_type": "markdown",
   "id": "5b55c59c",
   "metadata": {},
   "source": [
    "Indeed every single value matches! This means we can safely take only the engine type string for `engine_type` and discard the rest of that variable, since the info is already in `fuel_type`."
   ]
  },
  {
   "cell_type": "code",
   "execution_count": 32,
   "id": "6d73162e",
   "metadata": {},
   "outputs": [],
   "source": [
    "Data1_raw[\"engine_type\"] = Data1_raw.engine_type.str.split().str[0]"
   ]
  },
  {
   "cell_type": "markdown",
   "id": "19d507ad",
   "metadata": {},
   "source": [
    "### Cleaning `fuel_tank_volume`"
   ]
  },
  {
   "cell_type": "markdown",
   "id": "60906411",
   "metadata": {},
   "source": [
    "One would expect `fuel_tank_volume` to be just a number, except this dataset also included the units:"
   ]
  },
  {
   "cell_type": "code",
   "execution_count": 33,
   "id": "89b7ac7e",
   "metadata": {},
   "outputs": [
    {
     "data": {
      "text/plain": [
       "26 gal      180132\n",
       "13.2 gal    140356\n",
       "18.5 gal    135805\n",
       "14 gal      126698\n",
       "14.5 gal     91693\n",
       "             ...  \n",
       "29.1 gal         2\n",
       "63 gal           2\n",
       "25.5 gal         2\n",
       "40.7 gal         1\n",
       "26.3 gal         1\n",
       "Name: fuel_tank_volume, Length: 180, dtype: int64"
      ]
     },
     "execution_count": 33,
     "metadata": {},
     "output_type": "execute_result"
    }
   ],
   "source": [
    "Data1_raw.fuel_tank_volume.value_counts()"
   ]
  },
  {
   "cell_type": "markdown",
   "id": "287bec41",
   "metadata": {},
   "source": [
    "Are all the entries in gallons?"
   ]
  },
  {
   "cell_type": "code",
   "execution_count": 34,
   "id": "33bf4c3e",
   "metadata": {},
   "outputs": [
    {
     "data": {
      "text/plain": [
       "True"
      ]
     },
     "execution_count": 34,
     "metadata": {},
     "output_type": "execute_result"
    }
   ],
   "source": [
    "(Data1_raw.fuel_tank_volume.str.split().str[1] == \"gal\").all()"
   ]
  },
  {
   "cell_type": "markdown",
   "id": "0664c59b",
   "metadata": {},
   "source": [
    "Yup, that means we can just take first token and convert it to a float:"
   ]
  },
  {
   "cell_type": "code",
   "execution_count": 35,
   "id": "efb98c34",
   "metadata": {},
   "outputs": [],
   "source": [
    "Data1_raw[\"fuel_tank_volume\"] = Data1_raw.fuel_tank_volume.str.split().str[0].astype(float)"
   ]
  },
  {
   "cell_type": "markdown",
   "id": "4f96f23b",
   "metadata": {},
   "source": [
    "Let's take a look:"
   ]
  },
  {
   "cell_type": "code",
   "execution_count": 36,
   "id": "b5470bbf",
   "metadata": {},
   "outputs": [
    {
     "data": {
      "text/plain": [
       "<Axes: xlabel='fuel_tank_volume', ylabel='Density'>"
      ]
     },
     "execution_count": 36,
     "metadata": {},
     "output_type": "execute_result"
    },
    {
     "data": {
      "image/png": "[encoded data removed]",
      "text/plain": [
       "<Figure size 432x288 with 1 Axes>"
      ]
     },
     "metadata": {
      "needs_background": "light"
     },
     "output_type": "display_data"
    }
   ],
   "source": [
    "sns.distplot(Data1_raw.fuel_tank_volume)"
   ]
  },
  {
   "cell_type": "markdown",
   "id": "3095c6f9",
   "metadata": {},
   "source": [
    "Certainly a lot of large fuel tanks!"
   ]
  },
  {
   "cell_type": "markdown",
   "id": "37ed03b3",
   "metadata": {},
   "source": [
    "### Cleaning `height`, `width`, and `length`"
   ]
  },
  {
   "cell_type": "markdown",
   "id": "9208db6e",
   "metadata": {},
   "source": [
    "`height`, `width`, and `length` behave just like `fuel_tank_volume`, with useless units (inches in this case) making a numeric variable a categorical:"
   ]
  },
  {
   "cell_type": "code",
   "execution_count": 37,
   "id": "e910f31e",
   "metadata": {},
   "outputs": [
    {
     "data": {
      "text/plain": [
       "True"
      ]
     },
     "execution_count": 37,
     "metadata": {},
     "output_type": "execute_result"
    }
   ],
   "source": [
    "(Data1_raw.height.str.split().str[1] == \"in\").all()"
   ]
  },
  {
   "cell_type": "code",
   "execution_count": 38,
   "id": "4f29aed6",
   "metadata": {},
   "outputs": [
    {
     "data": {
      "text/plain": [
       "True"
      ]
     },
     "execution_count": 38,
     "metadata": {},
     "output_type": "execute_result"
    }
   ],
   "source": [
    "(Data1_raw.width.str.split().str[1] == \"in\").all()"
   ]
  },
  {
   "cell_type": "code",
   "execution_count": 39,
   "id": "15439b9c",
   "metadata": {},
   "outputs": [
    {
     "data": {
      "text/plain": [
       "True"
      ]
     },
     "execution_count": 39,
     "metadata": {},
     "output_type": "execute_result"
    }
   ],
   "source": [
    "(Data1_raw.length.str.split().str[1] == \"in\").all()"
   ]
  },
  {
   "cell_type": "markdown",
   "id": "3aebe5d5",
   "metadata": {},
   "source": [
    "Same treatment as `fuel_tank_volume`:"
   ]
  },
  {
   "cell_type": "code",
   "execution_count": 40,
   "id": "82bc8bd4",
   "metadata": {},
   "outputs": [],
   "source": [
    "Data1_raw[\"height\"] = Data1_raw.height.str.split().str[0].astype(float)\n",
    "Data1_raw[\"width\"] = Data1_raw.width.str.split().str[0].astype(float)\n",
    "Data1_raw[\"length\"] = Data1_raw.length.str.split().str[0].astype(float)"
   ]
  },
  {
   "cell_type": "markdown",
   "id": "fea4a39f",
   "metadata": {},
   "source": [
    "Just for fun, let's take a look at these dimensions too:"
   ]
  },
  {
   "cell_type": "code",
   "execution_count": 41,
   "id": "74766175",
   "metadata": {},
   "outputs": [
    {
     "data": {
      "text/plain": [
       "<Axes: xlabel='height', ylabel='Density'>"
      ]
     },
     "execution_count": 41,
     "metadata": {},
     "output_type": "execute_result"
    },
    {
     "data": {
      "image/png": "[encoded data removed]",
      "text/plain": [
       "<Figure size 432x288 with 1 Axes>"
      ]
     },
     "metadata": {
      "needs_background": "light"
     },
     "output_type": "display_data"
    }
   ],
   "source": [
    "sns.distplot(Data1_raw.height)"
   ]
  },
  {
   "cell_type": "code",
   "execution_count": 42,
   "id": "4948a2e9",
   "metadata": {},
   "outputs": [
    {
     "data": {
      "text/plain": [
       "<Axes: xlabel='width', ylabel='Density'>"
      ]
     },
     "execution_count": 42,
     "metadata": {},
     "output_type": "execute_result"
    },
    {
     "data": {
      "image/png": "[encoded data removed]",
      "text/plain": [
       "<Figure size 432x288 with 1 Axes>"
      ]
     },
     "metadata": {
      "needs_background": "light"
     },
     "output_type": "display_data"
    }
   ],
   "source": [
    "sns.distplot(Data1_raw.width)"
   ]
  },
  {
   "cell_type": "code",
   "execution_count": 43,
   "id": "760b1b1d",
   "metadata": {},
   "outputs": [
    {
     "data": {
      "text/plain": [
       "<Axes: xlabel='length', ylabel='Density'>"
      ]
     },
     "execution_count": 43,
     "metadata": {},
     "output_type": "execute_result"
    },
    {
     "data": {
      "image/png": "[encoded data removed]",
      "text/plain": [
       "<Figure size 432x288 with 1 Axes>"
      ]
     },
     "metadata": {
      "needs_background": "light"
     },
     "output_type": "display_data"
    }
   ],
   "source": [
    "sns.distplot(Data1_raw.length)"
   ]
  },
  {
   "cell_type": "markdown",
   "id": "7001d831",
   "metadata": {},
   "source": [
    "This makes sense! Each mode in each plot essentially maps to one/a few vehicle categories, with smaller vehicles (like sedans, hatchbacks, coupes, etc.) being usually the first mode and larger trucks populating the higher modes."
   ]
  },
  {
   "cell_type": "markdown",
   "id": "d9e2245f",
   "metadata": {},
   "source": [
    "### Cleaning `maximum_seating`"
   ]
  },
  {
   "cell_type": "markdown",
   "id": "c93b2260",
   "metadata": {},
   "source": [
    "Once again, we have another `fuel_tank_volume` situation with `maximum_seating`:"
   ]
  },
  {
   "cell_type": "code",
   "execution_count": 44,
   "id": "5d073e97",
   "metadata": {},
   "outputs": [
    {
     "data": {
      "text/plain": [
       "True"
      ]
     },
     "execution_count": 44,
     "metadata": {},
     "output_type": "execute_result"
    }
   ],
   "source": [
    "(Data1_raw.maximum_seating.str.split().str[1] == \"seats\").all()"
   ]
  },
  {
   "cell_type": "markdown",
   "id": "dbaa07a3",
   "metadata": {},
   "source": [
    "Same treatment as before:"
   ]
  },
  {
   "cell_type": "code",
   "execution_count": 45,
   "id": "d8cb9532",
   "metadata": {},
   "outputs": [],
   "source": [
    "Data1_raw[\"maximum_seating\"] = Data1_raw.maximum_seating.str.split().str[0].astype(float)"
   ]
  },
  {
   "cell_type": "markdown",
   "id": "eb2d9291",
   "metadata": {},
   "source": [
    "A brief look:"
   ]
  },
  {
   "cell_type": "code",
   "execution_count": 46,
   "id": "f2dd0240",
   "metadata": {},
   "outputs": [
    {
     "data": {
      "text/plain": [
       "<Axes: xlabel='maximum_seating', ylabel='Density'>"
      ]
     },
     "execution_count": 46,
     "metadata": {},
     "output_type": "execute_result"
    },
    {
     "data": {
      "image/png": "[encoded data removed]",
      "text/plain": [
       "<Figure size 432x288 with 1 Axes>"
      ]
     },
     "metadata": {
      "needs_background": "light"
     },
     "output_type": "display_data"
    }
   ],
   "source": [
    "sns.distplot(Data1_raw.maximum_seating)"
   ]
  },
  {
   "cell_type": "markdown",
   "id": "3d34ffd4",
   "metadata": {},
   "source": [
    "Yep, 5-seaters are most common."
   ]
  },
  {
   "cell_type": "markdown",
   "id": "48ab213a",
   "metadata": {},
   "source": [
    "### Cleaning `wheelbase`"
   ]
  },
  {
   "cell_type": "markdown",
   "id": "70840b15",
   "metadata": {},
   "source": [
    "Our final useless string-to-float conversion is `wheelbase`:"
   ]
  },
  {
   "cell_type": "code",
   "execution_count": 47,
   "id": "f70aab0f",
   "metadata": {},
   "outputs": [
    {
     "data": {
      "text/plain": [
       "True"
      ]
     },
     "execution_count": 47,
     "metadata": {},
     "output_type": "execute_result"
    }
   ],
   "source": [
    "(Data1_raw.wheelbase.str.split().str[1] == \"in\").all()"
   ]
  },
  {
   "cell_type": "code",
   "execution_count": 48,
   "id": "8c7a11aa",
   "metadata": {},
   "outputs": [],
   "source": [
    "Data1_raw[\"wheelbase\"] = Data1_raw.wheelbase.str.split().str[0].astype(float)"
   ]
  },
  {
   "cell_type": "markdown",
   "id": "5fd906ed",
   "metadata": {},
   "source": [
    "A brief look:"
   ]
  },
  {
   "cell_type": "code",
   "execution_count": 49,
   "id": "a3f7db0f",
   "metadata": {},
   "outputs": [
    {
     "data": {
      "text/plain": [
       "<Axes: xlabel='wheelbase', ylabel='Density'>"
      ]
     },
     "execution_count": 49,
     "metadata": {},
     "output_type": "execute_result"
    },
    {
     "data": {
      "image/png": "[encoded data removed]",
      "text/plain": [
       "<Figure size 432x288 with 1 Axes>"
      ]
     },
     "metadata": {
      "needs_background": "light"
     },
     "output_type": "display_data"
    }
   ],
   "source": [
    "sns.distplot(Data1_raw.wheelbase)"
   ]
  },
  {
   "cell_type": "markdown",
   "id": "3a01c8c0",
   "metadata": {},
   "source": [
    "Again, same mulitmodal stituation as the dimension measurements, expected!"
   ]
  },
  {
   "cell_type": "markdown",
   "id": "cb416981",
   "metadata": {},
   "source": [
    "### Cleaning `listed_date`"
   ]
  },
  {
   "cell_type": "markdown",
   "id": "3d50b5aa",
   "metadata": {},
   "source": [
    "As with all date variables, we have to be a bit careful with `listed_date`."
   ]
  },
  {
   "cell_type": "code",
   "execution_count": 50,
   "id": "12f25021",
   "metadata": {},
   "outputs": [
    {
     "data": {
      "text/plain": [
       "0    2019-04-06\n",
       "1    2020-02-15\n",
       "3    2020-02-26\n",
       "4    2020-04-25\n",
       "5    2020-01-11\n",
       "Name: listed_date, dtype: object"
      ]
     },
     "execution_count": 50,
     "metadata": {},
     "output_type": "execute_result"
    }
   ],
   "source": [
    "Data1_raw.listed_date.head(5)"
   ]
  },
  {
   "cell_type": "markdown",
   "id": "ca3f2943",
   "metadata": {},
   "source": [
    "It seems to be in yyyy-mm-dd format, let's split it out into three columns:"
   ]
  },
  {
   "cell_type": "code",
   "execution_count": 51,
   "id": "35c1011b",
   "metadata": {},
   "outputs": [],
   "source": [
    "Data1_raw[\"listing_year\"] = Data1_raw.listed_date.str[0:4].astype(int)\n",
    "Data1_raw[\"listing_month\"] = Data1_raw.listed_date.str[5:7].astype(int)\n",
    "Data1_raw[\"listing_day\"] = Data1_raw.listed_date.str[8:10].astype(int)\n",
    "Data1_raw = Data1_raw.drop(columns=[\"listed_date\"])"
   ]
  },
  {
   "cell_type": "markdown",
   "id": "bdc643a8",
   "metadata": {},
   "source": [
    "As always, let's take a look:"
   ]
  },
  {
   "cell_type": "code",
   "execution_count": 52,
   "id": "6d6531ce",
   "metadata": {},
   "outputs": [
    {
     "data": {
      "text/plain": [
       "<Axes: xlabel='listing_day', ylabel='Density'>"
      ]
     },
     "execution_count": 52,
     "metadata": {},
     "output_type": "execute_result"
    },
    {
     "data": {
      "image/png": "[encoded data removed]",
      "text/plain": [
       "<Figure size 432x288 with 1 Axes>"
      ]
     },
     "metadata": {
      "needs_background": "light"
     },
     "output_type": "display_data"
    }
   ],
   "source": [
    "sns.distplot(Data1_raw.listing_day)"
   ]
  },
  {
   "cell_type": "markdown",
   "id": "1638fa4f",
   "metadata": {},
   "source": [
    "As expected, no significant difference in listing amounts throughout the month. The gaps in the plot are just due to seaborn's automatic binning which I'm too lazy to change -> there are indeed values for every single day."
   ]
  },
  {
   "cell_type": "code",
   "execution_count": 53,
   "id": "c457e370",
   "metadata": {},
   "outputs": [
    {
     "data": {
      "text/plain": [
       "<Axes: xlabel='listing_month', ylabel='Density'>"
      ]
     },
     "execution_count": 53,
     "metadata": {},
     "output_type": "execute_result"
    },
    {
     "data": {
      "image/png": "[encoded data removed]",
      "text/plain": [
       "<Figure size 432x288 with 1 Axes>"
      ]
     },
     "metadata": {
      "needs_background": "light"
     },
     "output_type": "display_data"
    }
   ],
   "source": [
    "sns.distplot(Data1_raw.listing_month)"
   ]
  },
  {
   "cell_type": "code",
   "execution_count": 54,
   "id": "f1e6e6dc",
   "metadata": {},
   "outputs": [
    {
     "data": {
      "text/plain": [
       "<Axes: xlabel='listing_year', ylabel='Density'>"
      ]
     },
     "execution_count": 54,
     "metadata": {},
     "output_type": "execute_result"
    },
    {
     "data": {
      "image/png": "[encoded data removed]",
      "text/plain": [
       "<Figure size 432x288 with 1 Axes>"
      ]
     },
     "metadata": {
      "needs_background": "light"
     },
     "output_type": "display_data"
    }
   ],
   "source": [
    "sns.distplot(Data1_raw.listing_year)"
   ]
  },
  {
   "cell_type": "markdown",
   "id": "adb10f3d",
   "metadata": {},
   "source": [
    "Haha it seems like there's a car that was listed in 2010 and either no one every bought it or it was never taken off the listing site, is this a mistake?"
   ]
  },
  {
   "cell_type": "code",
   "execution_count": 55,
   "id": "1dd90906",
   "metadata": {},
   "outputs": [
    {
     "data": {
      "text/plain": [
       "719796    3573\n",
       "Name: daysonmarket, dtype: int64"
      ]
     },
     "execution_count": 55,
     "metadata": {},
     "output_type": "execute_result"
    }
   ],
   "source": [
    "Data1_raw[Data1_raw.listing_year == 2010].daysonmarket"
   ]
  },
  {
   "cell_type": "markdown",
   "id": "b807f3b5",
   "metadata": {},
   "source": [
    "No mistake... 3500+ days is indeed around 10 years from 2020, when this data was scraped."
   ]
  },
  {
   "cell_type": "markdown",
   "id": "9c24bbe3",
   "metadata": {},
   "source": [
    "### Cleaning `dealer_zip`"
   ]
  },
  {
   "cell_type": "markdown",
   "id": "ea43a592",
   "metadata": {},
   "source": [
    "`dealer_zip` is a zipcode and should be an int, however:"
   ]
  },
  {
   "cell_type": "code",
   "execution_count": 56,
   "id": "dc253bf6",
   "metadata": {},
   "outputs": [
    {
     "data": {
      "text/plain": [
       "dtype('O')"
      ]
     },
     "execution_count": 56,
     "metadata": {},
     "output_type": "execute_result"
    }
   ],
   "source": [
    "Data1_raw.dealer_zip.dtype"
   ]
  },
  {
   "cell_type": "markdown",
   "id": "908629be",
   "metadata": {},
   "source": [
    "This is because there are zipcodes like \"96740-1631\". For these zipcodes, we'll just keep the first part (we have the longitude and latitude anyways):"
   ]
  },
  {
   "cell_type": "code",
   "execution_count": 57,
   "id": "33fe2881",
   "metadata": {},
   "outputs": [],
   "source": [
    "Data1_raw[\"dealer_zip\"] = Data1_raw.dealer_zip.astype(str).str.split(\"-\").str[0].astype(int)"
   ]
  },
  {
   "cell_type": "markdown",
   "id": "5dff6ee5",
   "metadata": {},
   "source": [
    "### Padding, `sp_id`, `listing_id`, and `trimId`"
   ]
  },
  {
   "cell_type": "markdown",
   "id": "3222eee0",
   "metadata": {},
   "source": [
    "`sp_id` refers to the ID of a dealership while `listing_id` refers to the ID of a particular listing for a vehicle. Both currently as numeric types:"
   ]
  },
  {
   "cell_type": "code",
   "execution_count": 58,
   "id": "2e71ac1a",
   "metadata": {},
   "outputs": [
    {
     "data": {
      "text/plain": [
       "0          370599.0\n",
       "1          389227.0\n",
       "3          389227.0\n",
       "4          389227.0\n",
       "5          389227.0\n",
       "             ...   \n",
       "3000034     55297.0\n",
       "3000035    341247.0\n",
       "3000036    310674.0\n",
       "3000038    341247.0\n",
       "3000039     64910.0\n",
       "Name: sp_id, Length: 2574422, dtype: float64"
      ]
     },
     "execution_count": 58,
     "metadata": {},
     "output_type": "execute_result"
    }
   ],
   "source": [
    "Data1_raw.sp_id"
   ]
  },
  {
   "cell_type": "code",
   "execution_count": 59,
   "id": "6866fdff",
   "metadata": {},
   "outputs": [
    {
     "data": {
      "text/plain": [
       "0          237132766\n",
       "1          265946296\n",
       "3          266911050\n",
       "4          270957414\n",
       "5          262940541\n",
       "             ...    \n",
       "3000034    274134037\n",
       "3000035    280498781\n",
       "3000036    269431681\n",
       "3000038    280923167\n",
       "3000039    280345818\n",
       "Name: listing_id, Length: 2574422, dtype: int64"
      ]
     },
     "execution_count": 59,
     "metadata": {},
     "output_type": "execute_result"
    }
   ],
   "source": [
    "Data1_raw.listing_id"
   ]
  },
  {
   "cell_type": "markdown",
   "id": "6d735e1b",
   "metadata": {},
   "source": [
    "However, the other 2 ID variables, `vin` and `trimID`, come as strings with distinct identifying characteristics. For consistency's sake and ease of identification, let's pad out `sp_id` and `listing_id` and prefix them with \"D\" for dealer and \"L\" for listing, respectively:"
   ]
  },
  {
   "cell_type": "code",
   "execution_count": 60,
   "id": "8e58bd4c",
   "metadata": {},
   "outputs": [],
   "source": [
    "# NOTE: Data1_raw.sp_id.astype(int).astype(str).str.len().max() == 6\n",
    "# NOTE: Data1_raw.listing_id.astype(str).str.len().max() == 9\n",
    "Data1_raw[\"sp_id\"] = \"D\" + Data1_raw.sp_id.astype(int).astype(str).str.zfill(7) # pad one more zero in case more added later!\n",
    "Data1_raw[\"listing_id\"] = \"L\" + Data1_raw.listing_id.astype(str).str.zfill(10) # pad one more zero in case more added later!"
   ]
  },
  {
   "cell_type": "markdown",
   "id": "76a2aed2",
   "metadata": {},
   "source": [
    "While we're at it, let's pad out `trimId` and replace the lowercase \"t\" with the uppercase \"MMYT\" for Make-Model-Year-Trim (more on why later):"
   ]
  },
  {
   "cell_type": "code",
   "execution_count": 61,
   "id": "ebf3aebc",
   "metadata": {},
   "outputs": [],
   "source": [
    "# NOTE: Data1_raw.trimId.str[1:].str.len().max() == 5\n",
    "Data1_raw[\"trimId\"] = \"MMYT\" + Data1_raw.trimId.str[1:].str.zfill(6) # pad one more zero in case more added later!"
   ]
  },
  {
   "cell_type": "markdown",
   "id": "1620d305",
   "metadata": {},
   "source": [
    "### Fixing `trim_name`"
   ]
  },
  {
   "cell_type": "markdown",
   "id": "4d6e44f8",
   "metadata": {},
   "source": [
    "We would expect `trimId` to uniquely determine `trim_name`, except it doesn't..."
   ]
  },
  {
   "cell_type": "code",
   "execution_count": 62,
   "id": "d3866a26",
   "metadata": {},
   "outputs": [
    {
     "data": {
      "text/html": [
       "<div>\n",
       "<style scoped>\n",
       "    .dataframe tbody tr th:only-of-type {\n",
       "        vertical-align: middle;\n",
       "    }\n",
       "\n",
       "    .dataframe tbody tr th {\n",
       "        vertical-align: top;\n",
       "    }\n",
       "\n",
       "    .dataframe thead th {\n",
       "        text-align: right;\n",
       "    }\n",
       "</style>\n",
       "<table border=\"1\" class=\"dataframe\">\n",
       "  <thead>\n",
       "    <tr style=\"text-align: right;\">\n",
       "      <th></th>\n",
       "      <th>trim_name</th>\n",
       "    </tr>\n",
       "    <tr>\n",
       "      <th>trimId</th>\n",
       "      <th></th>\n",
       "    </tr>\n",
       "  </thead>\n",
       "  <tbody>\n",
       "    <tr>\n",
       "      <th>MMYT001743</th>\n",
       "      <td>2</td>\n",
       "    </tr>\n",
       "    <tr>\n",
       "      <th>MMYT001841</th>\n",
       "      <td>2</td>\n",
       "    </tr>\n",
       "    <tr>\n",
       "      <th>MMYT001951</th>\n",
       "      <td>2</td>\n",
       "    </tr>\n",
       "    <tr>\n",
       "      <th>MMYT001970</th>\n",
       "      <td>2</td>\n",
       "    </tr>\n",
       "    <tr>\n",
       "      <th>MMYT002143</th>\n",
       "      <td>2</td>\n",
       "    </tr>\n",
       "    <tr>\n",
       "      <th>...</th>\n",
       "      <td>...</td>\n",
       "    </tr>\n",
       "    <tr>\n",
       "      <th>MMYT088991</th>\n",
       "      <td>2</td>\n",
       "    </tr>\n",
       "    <tr>\n",
       "      <th>MMYT089640</th>\n",
       "      <td>2</td>\n",
       "    </tr>\n",
       "    <tr>\n",
       "      <th>MMYT090309</th>\n",
       "      <td>2</td>\n",
       "    </tr>\n",
       "    <tr>\n",
       "      <th>MMYT090384</th>\n",
       "      <td>2</td>\n",
       "    </tr>\n",
       "    <tr>\n",
       "      <th>MMYT091676</th>\n",
       "      <td>2</td>\n",
       "    </tr>\n",
       "  </tbody>\n",
       "</table>\n",
       "<p>637 rows × 1 columns</p>\n",
       "</div>"
      ],
      "text/plain": [
       "            trim_name\n",
       "trimId               \n",
       "MMYT001743          2\n",
       "MMYT001841          2\n",
       "MMYT001951          2\n",
       "MMYT001970          2\n",
       "MMYT002143          2\n",
       "...               ...\n",
       "MMYT088991          2\n",
       "MMYT089640          2\n",
       "MMYT090309          2\n",
       "MMYT090384          2\n",
       "MMYT091676          2\n",
       "\n",
       "[637 rows x 1 columns]"
      ]
     },
     "execution_count": 62,
     "metadata": {},
     "output_type": "execute_result"
    }
   ],
   "source": [
    "Data1_raw[[\"trimId\", \"trim_name\"]].groupby(\"trimId\").nunique().query(\"trim_name > 1\")"
   ]
  },
  {
   "cell_type": "markdown",
   "id": "a05f1ff7",
   "metadata": {},
   "source": [
    "That said, all of these differences are non-meaningful in the long run, take a few examples:"
   ]
  },
  {
   "cell_type": "code",
   "execution_count": 63,
   "id": "6c0d46df",
   "metadata": {},
   "outputs": [
    {
     "data": {
      "text/html": [
       "<div>\n",
       "<style scoped>\n",
       "    .dataframe tbody tr th:only-of-type {\n",
       "        vertical-align: middle;\n",
       "    }\n",
       "\n",
       "    .dataframe tbody tr th {\n",
       "        vertical-align: top;\n",
       "    }\n",
       "\n",
       "    .dataframe thead th {\n",
       "        text-align: right;\n",
       "    }\n",
       "</style>\n",
       "<table border=\"1\" class=\"dataframe\">\n",
       "  <thead>\n",
       "    <tr style=\"text-align: right;\">\n",
       "      <th></th>\n",
       "      <th>make_name</th>\n",
       "      <th>model_name</th>\n",
       "      <th>trim_name</th>\n",
       "    </tr>\n",
       "  </thead>\n",
       "  <tbody>\n",
       "    <tr>\n",
       "      <th>26751</th>\n",
       "      <td>Chevrolet</td>\n",
       "      <td>Trailblazer</td>\n",
       "      <td>LS 4WD</td>\n",
       "    </tr>\n",
       "    <tr>\n",
       "      <th>649638</th>\n",
       "      <td>Chevrolet</td>\n",
       "      <td>Trailblazer</td>\n",
       "      <td>LT 4WD</td>\n",
       "    </tr>\n",
       "  </tbody>\n",
       "</table>\n",
       "</div>"
      ],
      "text/plain": [
       "        make_name   model_name trim_name\n",
       "26751   Chevrolet  Trailblazer    LS 4WD\n",
       "649638  Chevrolet  Trailblazer    LT 4WD"
      ]
     },
     "execution_count": 63,
     "metadata": {},
     "output_type": "execute_result"
    }
   ],
   "source": [
    "Data1_raw.loc[Data1_raw.trimId == \"MMYT001743\", [\"make_name\", \"model_name\", \"trim_name\"]].drop_duplicates()"
   ]
  },
  {
   "cell_type": "markdown",
   "id": "b3c85a3e",
   "metadata": {},
   "source": [
    "Chevy's LS and LT has never been particularly crystal clear and oftentimes can denote the same trim if one looks across production years or special optioning. Another example:"
   ]
  },
  {
   "cell_type": "code",
   "execution_count": 64,
   "id": "db75570e",
   "metadata": {},
   "outputs": [
    {
     "data": {
      "text/html": [
       "<div>\n",
       "<style scoped>\n",
       "    .dataframe tbody tr th:only-of-type {\n",
       "        vertical-align: middle;\n",
       "    }\n",
       "\n",
       "    .dataframe tbody tr th {\n",
       "        vertical-align: top;\n",
       "    }\n",
       "\n",
       "    .dataframe thead th {\n",
       "        text-align: right;\n",
       "    }\n",
       "</style>\n",
       "<table border=\"1\" class=\"dataframe\">\n",
       "  <thead>\n",
       "    <tr style=\"text-align: right;\">\n",
       "      <th></th>\n",
       "      <th>make_name</th>\n",
       "      <th>model_name</th>\n",
       "      <th>trim_name</th>\n",
       "    </tr>\n",
       "  </thead>\n",
       "  <tbody>\n",
       "    <tr>\n",
       "      <th>1781100</th>\n",
       "      <td>Honda</td>\n",
       "      <td>Civic</td>\n",
       "      <td>Si Coupe FWD with Summer Tires</td>\n",
       "    </tr>\n",
       "    <tr>\n",
       "      <th>2257149</th>\n",
       "      <td>Honda</td>\n",
       "      <td>Civic</td>\n",
       "      <td>Si Coupe FWD</td>\n",
       "    </tr>\n",
       "  </tbody>\n",
       "</table>\n",
       "</div>"
      ],
      "text/plain": [
       "        make_name model_name                       trim_name\n",
       "1781100     Honda      Civic  Si Coupe FWD with Summer Tires\n",
       "2257149     Honda      Civic                    Si Coupe FWD"
      ]
     },
     "execution_count": 64,
     "metadata": {},
     "output_type": "execute_result"
    }
   ],
   "source": [
    "Data1_raw.loc[Data1_raw.trimId == \"MMYT089640\", [\"make_name\", \"model_name\", \"trim_name\"]].drop_duplicates()"
   ]
  },
  {
   "cell_type": "markdown",
   "id": "db82279e",
   "metadata": {},
   "source": [
    "For our purposes, we won't be too concerned about summer tires... One more example:"
   ]
  },
  {
   "cell_type": "code",
   "execution_count": 65,
   "id": "10426504",
   "metadata": {},
   "outputs": [
    {
     "data": {
      "text/html": [
       "<div>\n",
       "<style scoped>\n",
       "    .dataframe tbody tr th:only-of-type {\n",
       "        vertical-align: middle;\n",
       "    }\n",
       "\n",
       "    .dataframe tbody tr th {\n",
       "        vertical-align: top;\n",
       "    }\n",
       "\n",
       "    .dataframe thead th {\n",
       "        text-align: right;\n",
       "    }\n",
       "</style>\n",
       "<table border=\"1\" class=\"dataframe\">\n",
       "  <thead>\n",
       "    <tr style=\"text-align: right;\">\n",
       "      <th></th>\n",
       "      <th>make_name</th>\n",
       "      <th>model_name</th>\n",
       "      <th>trim_name</th>\n",
       "    </tr>\n",
       "  </thead>\n",
       "  <tbody>\n",
       "    <tr>\n",
       "      <th>21434</th>\n",
       "      <td>Nissan</td>\n",
       "      <td>Rogue</td>\n",
       "      <td>2017.5 SV FWD</td>\n",
       "    </tr>\n",
       "    <tr>\n",
       "      <th>839975</th>\n",
       "      <td>Nissan</td>\n",
       "      <td>Rogue</td>\n",
       "      <td>SV FWD</td>\n",
       "    </tr>\n",
       "  </tbody>\n",
       "</table>\n",
       "</div>"
      ],
      "text/plain": [
       "       make_name model_name      trim_name\n",
       "21434     Nissan      Rogue  2017.5 SV FWD\n",
       "839975    Nissan      Rogue         SV FWD"
      ]
     },
     "execution_count": 65,
     "metadata": {},
     "output_type": "execute_result"
    }
   ],
   "source": [
    "Data1_raw.loc[Data1_raw.trimId == \"MMYT076529\", [\"make_name\", \"model_name\", \"trim_name\"]].drop_duplicates()"
   ]
  },
  {
   "cell_type": "markdown",
   "id": "636fabf8",
   "metadata": {},
   "source": [
    "Again, no significant difference. For now, I will simply use pandas magic to replace all the differing trim names with whichever one has the least character count, since the shortest character count is probably the one that is the most generic:"
   ]
  },
  {
   "cell_type": "code",
   "execution_count": 66,
   "id": "0daeae47",
   "metadata": {},
   "outputs": [],
   "source": [
    "problem_trimIds = Data1_raw[[\"trimId\", \"trim_name\"]].groupby(\"trimId\").nunique().query(\"trim_name > 1\").index\n",
    "replacement_trim_names = Data1_raw.loc[Data1_raw.trimId.isin(problem_trimIds), [\"trimId\", \"trim_name\"]]\n",
    "replacement_trim_names[\"str_length\"] = replacement_trim_names.trim_name.str.len()\n",
    "replacement_trim_names = replacement_trim_names.sort_values(\"str_length\").drop_duplicates(\"trimId\")[[\"trimId\", \"trim_name\"]]\n",
    "Data1_raw = Data1_raw.merge(right=replacement_trim_names, how=\"left\", on=\"trimId\", suffixes=(\"\", \"_replacement\"))\n",
    "Data1_raw.loc[Data1_raw.trimId.isin(problem_trimIds), \"trim_name\"] = Data1_raw.loc[Data1_raw.trimId.isin(problem_trimIds), \"trim_name_replacement\"]\n",
    "Data1_raw = Data1_raw.drop(columns=[\"trim_name_replacement\"])"
   ]
  },
  {
   "cell_type": "markdown",
   "id": "62ce8c03",
   "metadata": {},
   "source": [
    "Now `trimId` uniquely determines `trim_name`!"
   ]
  },
  {
   "cell_type": "markdown",
   "id": "aea438f0",
   "metadata": {},
   "source": [
    "### A bit more cleaning to make `trimId` better"
   ]
  },
  {
   "cell_type": "markdown",
   "id": "e806fbf4",
   "metadata": {},
   "source": [
    "`trimId` is pretty powerful, except that there are a couple mistaken entires that mess up what it can and cannot uniquely determine. Take `trimId = MMYT047624` for example:"
   ]
  },
  {
   "cell_type": "code",
   "execution_count": 67,
   "id": "d0b30758",
   "metadata": {},
   "outputs": [
    {
     "data": {
      "text/html": [
       "<div>\n",
       "<style scoped>\n",
       "    .dataframe tbody tr th:only-of-type {\n",
       "        vertical-align: middle;\n",
       "    }\n",
       "\n",
       "    .dataframe tbody tr th {\n",
       "        vertical-align: top;\n",
       "    }\n",
       "\n",
       "    .dataframe thead th {\n",
       "        text-align: right;\n",
       "    }\n",
       "</style>\n",
       "<table border=\"1\" class=\"dataframe\">\n",
       "  <thead>\n",
       "    <tr style=\"text-align: right;\">\n",
       "      <th></th>\n",
       "      <th>trimId</th>\n",
       "      <th>make_name</th>\n",
       "      <th>model_name</th>\n",
       "      <th>trim_name</th>\n",
       "      <th>year</th>\n",
       "      <th>body_type</th>\n",
       "    </tr>\n",
       "  </thead>\n",
       "  <tbody>\n",
       "    <tr>\n",
       "      <th>129215</th>\n",
       "      <td>MMYT047624</td>\n",
       "      <td>Toyota</td>\n",
       "      <td>Prius Plug-In</td>\n",
       "      <td>Base</td>\n",
       "      <td>2012</td>\n",
       "      <td>Sedan</td>\n",
       "    </tr>\n",
       "    <tr>\n",
       "      <th>149803</th>\n",
       "      <td>MMYT047624</td>\n",
       "      <td>Toyota</td>\n",
       "      <td>Prius Plug-In</td>\n",
       "      <td>Base</td>\n",
       "      <td>2012</td>\n",
       "      <td>Hatchback</td>\n",
       "    </tr>\n",
       "    <tr>\n",
       "      <th>172121</th>\n",
       "      <td>MMYT047624</td>\n",
       "      <td>Toyota</td>\n",
       "      <td>Prius Plug-In</td>\n",
       "      <td>Base</td>\n",
       "      <td>2012</td>\n",
       "      <td>Hatchback</td>\n",
       "    </tr>\n",
       "    <tr>\n",
       "      <th>196247</th>\n",
       "      <td>MMYT047624</td>\n",
       "      <td>Toyota</td>\n",
       "      <td>Prius Plug-In</td>\n",
       "      <td>Base</td>\n",
       "      <td>2012</td>\n",
       "      <td>Hatchback</td>\n",
       "    </tr>\n",
       "    <tr>\n",
       "      <th>239168</th>\n",
       "      <td>MMYT047624</td>\n",
       "      <td>Toyota</td>\n",
       "      <td>Prius Plug-In</td>\n",
       "      <td>Base</td>\n",
       "      <td>2012</td>\n",
       "      <td>Hatchback</td>\n",
       "    </tr>\n",
       "    <tr>\n",
       "      <th>1434532</th>\n",
       "      <td>MMYT047624</td>\n",
       "      <td>Toyota</td>\n",
       "      <td>Prius Plug-In</td>\n",
       "      <td>Base</td>\n",
       "      <td>2012</td>\n",
       "      <td>Hatchback</td>\n",
       "    </tr>\n",
       "    <tr>\n",
       "      <th>1694471</th>\n",
       "      <td>MMYT047624</td>\n",
       "      <td>Toyota</td>\n",
       "      <td>Prius Plug-In</td>\n",
       "      <td>Base</td>\n",
       "      <td>2012</td>\n",
       "      <td>Hatchback</td>\n",
       "    </tr>\n",
       "    <tr>\n",
       "      <th>2256008</th>\n",
       "      <td>MMYT047624</td>\n",
       "      <td>Toyota</td>\n",
       "      <td>Prius Plug-In</td>\n",
       "      <td>Base</td>\n",
       "      <td>2012</td>\n",
       "      <td>Hatchback</td>\n",
       "    </tr>\n",
       "    <tr>\n",
       "      <th>2423967</th>\n",
       "      <td>MMYT047624</td>\n",
       "      <td>Toyota</td>\n",
       "      <td>Prius Plug-In</td>\n",
       "      <td>Base</td>\n",
       "      <td>2012</td>\n",
       "      <td>Hatchback</td>\n",
       "    </tr>\n",
       "    <tr>\n",
       "      <th>2529964</th>\n",
       "      <td>MMYT047624</td>\n",
       "      <td>Toyota</td>\n",
       "      <td>Prius Plug-In</td>\n",
       "      <td>Base</td>\n",
       "      <td>2012</td>\n",
       "      <td>Hatchback</td>\n",
       "    </tr>\n",
       "  </tbody>\n",
       "</table>\n",
       "</div>"
      ],
      "text/plain": [
       "             trimId make_name     model_name trim_name  year  body_type\n",
       "129215   MMYT047624    Toyota  Prius Plug-In      Base  2012      Sedan\n",
       "149803   MMYT047624    Toyota  Prius Plug-In      Base  2012  Hatchback\n",
       "172121   MMYT047624    Toyota  Prius Plug-In      Base  2012  Hatchback\n",
       "196247   MMYT047624    Toyota  Prius Plug-In      Base  2012  Hatchback\n",
       "239168   MMYT047624    Toyota  Prius Plug-In      Base  2012  Hatchback\n",
       "1434532  MMYT047624    Toyota  Prius Plug-In      Base  2012  Hatchback\n",
       "1694471  MMYT047624    Toyota  Prius Plug-In      Base  2012  Hatchback\n",
       "2256008  MMYT047624    Toyota  Prius Plug-In      Base  2012  Hatchback\n",
       "2423967  MMYT047624    Toyota  Prius Plug-In      Base  2012  Hatchback\n",
       "2529964  MMYT047624    Toyota  Prius Plug-In      Base  2012  Hatchback"
      ]
     },
     "execution_count": 67,
     "metadata": {},
     "output_type": "execute_result"
    }
   ],
   "source": [
    "Data1_raw.loc[Data1_raw.trimId == \"MMYT047624\", [\"trimId\", \"make_name\", \"model_name\", \"trim_name\", \"year\", \"body_type\"]]"
   ]
  },
  {
   "cell_type": "markdown",
   "id": "d06be604",
   "metadata": {},
   "source": [
    "Although the distinction between sedans and hatchbacks is blurry, I'm pretty sure no Prius has ever been marketed as a sedan since 2003... that must have been a mistake on the dealer's side. In other words, `trimId` should be able to uniquely determine `body_type`, but some misentries prevent it from doing so. Other columns in which this happens are `maximum_seating` and `height`. For now, instead of doing add-hoc changes one-by-one, I will just remove the `trimId`s for which this happens (~20 total out of ~37k), since they probably represent on-the-edge cases that are easy to mess up (hatchbacks vs. sedans, for example):"
   ]
  },
  {
   "cell_type": "code",
   "execution_count": 68,
   "id": "86c8aa91",
   "metadata": {},
   "outputs": [],
   "source": [
    "more_problem_trimIds = set(Data1_raw[[\"trimId\", \"body_type\"]].groupby(\"trimId\").nunique().query(\"body_type > 1\").index).union(\n",
    "                       set(Data1_raw[[\"trimId\", \"maximum_seating\"]].groupby(\"trimId\").nunique().query(\"maximum_seating > 1\").index).union(\n",
    "                       set(Data1_raw[[\"trimId\", \"height\"]].groupby(\"trimId\").nunique().query(\"height > 1\").index)))\n",
    "Data1_raw = Data1_raw[~Data1_raw.trimId.isin(more_problem_trimIds)]"
   ]
  },
  {
   "cell_type": "markdown",
   "id": "e544b00a",
   "metadata": {},
   "source": [
    "### A bit more cleaning to make `sp_id` better"
   ]
  },
  {
   "cell_type": "markdown",
   "id": "69429e56",
   "metadata": {},
   "source": [
    "Just like `trimId`, there are a few (<10) problematic dealerships that have the same ID but different values for `sp_name`, `city`, `dealer_zip`, `longitude`, `latitude`, and `franchise_dealer`. We'll remove them as their entries do not logically make sense:"
   ]
  },
  {
   "cell_type": "code",
   "execution_count": 69,
   "id": "328279cc",
   "metadata": {},
   "outputs": [],
   "source": [
    "problem_sp_ids = set(Data1_raw[[\"sp_id\", \"sp_name\"]].groupby(\"sp_id\").nunique().query(\"sp_name > 1\").index).union(\n",
    "                 set(Data1_raw[[\"sp_id\", \"city\"]].groupby(\"sp_id\").nunique().query(\"city > 1\").index).union(\n",
    "                 set(Data1_raw[[\"sp_id\", \"dealer_zip\"]].groupby(\"sp_id\").nunique().query(\"dealer_zip > 1\").index).union(\n",
    "                 set(Data1_raw[[\"sp_id\", \"longitude\"]].groupby(\"sp_id\").nunique().query(\"longitude > 1\").index).union(\n",
    "                 set(Data1_raw[[\"sp_id\", \"latitude\"]].groupby(\"sp_id\").nunique().query(\"latitude > 1\").index).union(\n",
    "                 set(Data1_raw[[\"sp_id\", \"franchise_dealer\"]].groupby(\"sp_id\").nunique().query(\"franchise_dealer > 1\").index))))))\n",
    "Data1_raw = Data1_raw[~Data1_raw.sp_id.isin(problem_sp_ids)]"
   ]
  },
  {
   "cell_type": "markdown",
   "id": "2710ef9d",
   "metadata": {},
   "source": [
    "### Dealer aggregate statistics"
   ]
  },
  {
   "cell_type": "markdown",
   "id": "04e999c8",
   "metadata": {},
   "source": [
    "Let's get some aggregrate statistics for every `sp_id`! For now, let us do:\n",
    "* `avg_rating`: average rating of the dealer over the entire dataset\n",
    "* `total_listings`: total number of vehicles this dealer has listed"
   ]
  },
  {
   "cell_type": "code",
   "execution_count": 70,
   "id": "18d39446",
   "metadata": {},
   "outputs": [],
   "source": [
    "avg_rating_df = Data1_raw[[\"sp_id\", \"seller_rating\"]].groupby(\"sp_id\").mean().reset_index().rename({\"seller_rating\": \"avg_rating\"},axis=1)\n",
    "Data1_raw = Data1_raw.merge(right=avg_rating_df, how=\"left\", on=\"sp_id\")\n",
    "Data1_raw = Data1_raw.drop(columns=[\"seller_rating\"])\n",
    "total_listings_df = Data1_raw.groupby(\"sp_id\").size().rename(\"total_listings\").reset_index()\n",
    "Data1_raw = Data1_raw.merge(right=total_listings_df, how=\"left\", on=\"sp_id\")"
   ]
  },
  {
   "cell_type": "markdown",
   "id": "8ece4b2e",
   "metadata": {},
   "source": [
    "### Removing semicolons"
   ]
  },
  {
   "cell_type": "markdown",
   "id": "97eb9594",
   "metadata": {},
   "source": [
    "We will be using semicolons as csv deliminators (since commas appear way too much!), so we need to make sure no strings contain it:"
   ]
  },
  {
   "cell_type": "code",
   "execution_count": 71,
   "id": "469d96e0",
   "metadata": {},
   "outputs": [
    {
     "name": "stdout",
     "output_type": "stream",
     "text": [
      "Column vin has 0 values with ';'.\n",
      "Column body_type has 0 values with ';'.\n",
      "Column city has 0 values with ';'.\n",
      "Column engine_type has 0 values with ';'.\n",
      "Column fuel_type has 0 values with ';'.\n",
      "Column has_accidents has 0 values with ';'.\n",
      "Column is_oemcpo has 0 values with ';'.\n",
      "Column listing_color has 0 values with ';'.\n",
      "Column listing_id has 0 values with ';'.\n",
      "Column make_name has 0 values with ';'.\n",
      "Column model_name has 0 values with ';'.\n",
      "Column power has 0 values with ';'.\n",
      "Column sp_id has 0 values with ';'.\n",
      "Column sp_name has 13 values with ';'.\n",
      "Column torque has 0 values with ';'.\n",
      "Column transmission has 0 values with ';'.\n",
      "Column trimId has 0 values with ';'.\n",
      "Column trim_name has 0 values with ';'.\n",
      "Column wheel_system has 0 values with ';'.\n"
     ]
    }
   ],
   "source": [
    "for column in Data1_raw.columns:\n",
    "    if Data1_raw[column].dtype == \"O\":\n",
    "        print(f\"Column {column} has {Data1_raw[column].astype(str).str.contains(';').sum()} values with ';'.\")"
   ]
  },
  {
   "cell_type": "markdown",
   "id": "394084f5",
   "metadata": {},
   "source": [
    "Let's just take the part before the semicolon for simplicity:"
   ]
  },
  {
   "cell_type": "code",
   "execution_count": 72,
   "id": "acf8bfe8",
   "metadata": {},
   "outputs": [],
   "source": [
    "semicolon_mask = Data1_raw.sp_name.str.contains(\";\")\n",
    "Data1_raw.loc[semicolon_mask, \"sp_name\"] = Data1_raw.loc[semicolon_mask, \"sp_name\"].str.split(\";\").str[0]"
   ]
  },
  {
   "cell_type": "markdown",
   "id": "51906c59",
   "metadata": {},
   "source": [
    "### A note about makes and models"
   ]
  },
  {
   "cell_type": "markdown",
   "id": "0e14e0da",
   "metadata": {},
   "source": [
    "Note that `make_name` does not unique determine `model_name`! More than one make can make cars with the same model name (the cars are different, obviously):"
   ]
  },
  {
   "cell_type": "code",
   "execution_count": 73,
   "id": "f3c13d02",
   "metadata": {},
   "outputs": [
    {
     "data": {
      "text/html": [
       "<div>\n",
       "<style scoped>\n",
       "    .dataframe tbody tr th:only-of-type {\n",
       "        vertical-align: middle;\n",
       "    }\n",
       "\n",
       "    .dataframe tbody tr th {\n",
       "        vertical-align: top;\n",
       "    }\n",
       "\n",
       "    .dataframe thead th {\n",
       "        text-align: right;\n",
       "    }\n",
       "</style>\n",
       "<table border=\"1\" class=\"dataframe\">\n",
       "  <thead>\n",
       "    <tr style=\"text-align: right;\">\n",
       "      <th></th>\n",
       "      <th>model_name</th>\n",
       "      <th>make_name</th>\n",
       "    </tr>\n",
       "  </thead>\n",
       "  <tbody>\n",
       "    <tr>\n",
       "      <th>205</th>\n",
       "      <td>Cabriolet</td>\n",
       "      <td>2</td>\n",
       "    </tr>\n",
       "    <tr>\n",
       "      <th>292</th>\n",
       "      <td>Dakota</td>\n",
       "      <td>2</td>\n",
       "    </tr>\n",
       "    <tr>\n",
       "      <th>443</th>\n",
       "      <td>GT</td>\n",
       "      <td>2</td>\n",
       "    </tr>\n",
       "    <tr>\n",
       "      <th>534</th>\n",
       "      <td>LS</td>\n",
       "      <td>2</td>\n",
       "    </tr>\n",
       "    <tr>\n",
       "      <th>642</th>\n",
       "      <td>NX</td>\n",
       "      <td>2</td>\n",
       "    </tr>\n",
       "    <tr>\n",
       "      <th>647</th>\n",
       "      <td>Neon</td>\n",
       "      <td>2</td>\n",
       "    </tr>\n",
       "    <tr>\n",
       "      <th>682</th>\n",
       "      <td>Pickup</td>\n",
       "      <td>2</td>\n",
       "    </tr>\n",
       "    <tr>\n",
       "      <th>691</th>\n",
       "      <td>Prizm</td>\n",
       "      <td>2</td>\n",
       "    </tr>\n",
       "    <tr>\n",
       "      <th>697</th>\n",
       "      <td>Prowler</td>\n",
       "      <td>2</td>\n",
       "    </tr>\n",
       "    <tr>\n",
       "      <th>897</th>\n",
       "      <td>Sprinter Cargo</td>\n",
       "      <td>2</td>\n",
       "    </tr>\n",
       "    <tr>\n",
       "      <th>905</th>\n",
       "      <td>Suburban</td>\n",
       "      <td>2</td>\n",
       "    </tr>\n",
       "    <tr>\n",
       "      <th>990</th>\n",
       "      <td>Viper</td>\n",
       "      <td>2</td>\n",
       "    </tr>\n",
       "    <tr>\n",
       "      <th>994</th>\n",
       "      <td>Voyager</td>\n",
       "      <td>2</td>\n",
       "    </tr>\n",
       "  </tbody>\n",
       "</table>\n",
       "</div>"
      ],
      "text/plain": [
       "         model_name  make_name\n",
       "205       Cabriolet          2\n",
       "292          Dakota          2\n",
       "443              GT          2\n",
       "534              LS          2\n",
       "642              NX          2\n",
       "647            Neon          2\n",
       "682          Pickup          2\n",
       "691           Prizm          2\n",
       "697         Prowler          2\n",
       "897  Sprinter Cargo          2\n",
       "905        Suburban          2\n",
       "990           Viper          2\n",
       "994         Voyager          2"
      ]
     },
     "execution_count": 73,
     "metadata": {},
     "output_type": "execute_result"
    }
   ],
   "source": [
    "Data1_raw[[\"model_name\", \"make_name\"]].groupby(\"model_name\").nunique().reset_index().query(\"make_name > 1\")"
   ]
  },
  {
   "cell_type": "markdown",
   "id": "f83e3b13",
   "metadata": {},
   "source": [
    "Here's an example:"
   ]
  },
  {
   "cell_type": "code",
   "execution_count": 74,
   "id": "fcd5a5b0",
   "metadata": {},
   "outputs": [
    {
     "data": {
      "text/plain": [
       "640959           Audi\n",
       "1253745    Volkswagen\n",
       "Name: make_name, dtype: object"
      ]
     },
     "execution_count": 74,
     "metadata": {},
     "output_type": "execute_result"
    }
   ],
   "source": [
    "Data1_raw.loc[Data1_raw.model_name==\"Cabriolet\", \"make_name\"].drop_duplicates()"
   ]
  },
  {
   "cell_type": "markdown",
   "id": "12abd2af",
   "metadata": {},
   "source": [
    "# Part 2: Decomposing `Data1` into database schema with entity resolution"
   ]
  },
  {
   "cell_type": "markdown",
   "id": "a3f1d3ae",
   "metadata": {},
   "source": [
    "## Part 2.1: General observations"
   ]
  },
  {
   "cell_type": "markdown",
   "id": "1eca3cce",
   "metadata": {},
   "source": [
    "### Are `vin` and `listing_id` are candidate keys for whole dataset?"
   ]
  },
  {
   "cell_type": "markdown",
   "id": "e136b604",
   "metadata": {},
   "source": [
    "First let's confirm that `listing_id` is indeed a candidate key for the whole dataset:"
   ]
  },
  {
   "cell_type": "code",
   "execution_count": 75,
   "id": "03a44f51",
   "metadata": {},
   "outputs": [
    {
     "name": "stdout",
     "output_type": "stream",
     "text": [
      "Uniques on A: 2565033, uniques on A union B: 2565033\n"
     ]
    },
    {
     "data": {
      "text/plain": [
       "True"
      ]
     },
     "execution_count": 75,
     "metadata": {},
     "output_type": "execute_result"
    }
   ],
   "source": [
    "uniquely_determines([\"listing_id\"],list(Data1_raw.columns),Data1_raw)"
   ]
  },
  {
   "cell_type": "markdown",
   "id": "72672b40",
   "metadata": {},
   "source": [
    "Great! Is there one listing per vehicle?"
   ]
  },
  {
   "cell_type": "code",
   "execution_count": 76,
   "id": "9e489f55",
   "metadata": {},
   "outputs": [
    {
     "name": "stdout",
     "output_type": "stream",
     "text": [
      "Uniques on A: 2565033, uniques on A union B: 2565033\n"
     ]
    },
    {
     "data": {
      "text/plain": [
       "True"
      ]
     },
     "execution_count": 76,
     "metadata": {},
     "output_type": "execute_result"
    }
   ],
   "source": [
    "uniquely_determines([\"vin\"],[\"listing_id\"],Data1_raw)"
   ]
  },
  {
   "cell_type": "markdown",
   "id": "49124929",
   "metadata": {},
   "source": [
    "In fact, `vin` and `listing_id` are one-to-one (each listing only has one vehicle):"
   ]
  },
  {
   "cell_type": "code",
   "execution_count": 77,
   "id": "cd8a76cc",
   "metadata": {},
   "outputs": [
    {
     "name": "stdout",
     "output_type": "stream",
     "text": [
      "Uniques on A: 2565033, uniques on A union B: 2565033\n"
     ]
    },
    {
     "data": {
      "text/plain": [
       "True"
      ]
     },
     "execution_count": 77,
     "metadata": {},
     "output_type": "execute_result"
    }
   ],
   "source": [
    "uniquely_determines([\"listing_id\"],[\"vin\"],Data1_raw)"
   ]
  },
  {
   "cell_type": "markdown",
   "id": "d108c271",
   "metadata": {},
   "source": [
    "### What does `trimId` entail?"
   ]
  },
  {
   "cell_type": "markdown",
   "id": "ca07a463",
   "metadata": {},
   "source": [
    "A further thought: what attributes are intrinsic to a trim level, and what are instrinsic to a specific vehicle? For example, does trim level uniquely determine `horsepower`?"
   ]
  },
  {
   "cell_type": "code",
   "execution_count": 78,
   "id": "5a147fe7",
   "metadata": {},
   "outputs": [
    {
     "name": "stdout",
     "output_type": "stream",
     "text": [
      "Uniques on A: 36964, uniques on A union B: 40785\n"
     ]
    },
    {
     "data": {
      "text/plain": [
       "False"
      ]
     },
     "execution_count": 78,
     "metadata": {},
     "output_type": "execute_result"
    }
   ],
   "source": [
    "uniquely_determines([\"trimId\"],[\"horsepower\"],Data1_raw)"
   ]
  },
  {
   "cell_type": "markdown",
   "id": "f1f7c616",
   "metadata": {},
   "source": [
    "It doesn't! This makes a lot of sense since not only can cars of the same trim come with differently tuned engines, previous owners might end up modifying their engines too! Depending on the engine, even some very simple mods can yield significant improvements to horsepower! We can see this by observing that even a make-model-trim-year tuple does not uniquely determine `horsepower`:"
   ]
  },
  {
   "cell_type": "code",
   "execution_count": 79,
   "id": "a3ff0859",
   "metadata": {},
   "outputs": [
    {
     "name": "stdout",
     "output_type": "stream",
     "text": [
      "Uniques on A: 36563, uniques on A union B: 40353\n"
     ]
    },
    {
     "data": {
      "text/plain": [
       "False"
      ]
     },
     "execution_count": 79,
     "metadata": {},
     "output_type": "execute_result"
    }
   ],
   "source": [
    "uniquely_determines([\"make_name\", \"model_name\", \"trim_name\", \"year\"],[\"horsepower\"],Data1_raw)"
   ]
  },
  {
   "cell_type": "markdown",
   "id": "111741c4",
   "metadata": {},
   "source": [
    "However, `trimId` does uniquely determine make and model as expected:"
   ]
  },
  {
   "cell_type": "code",
   "execution_count": 80,
   "id": "a2bb6ce2",
   "metadata": {},
   "outputs": [
    {
     "name": "stdout",
     "output_type": "stream",
     "text": [
      "Uniques on A: 36964, uniques on A union B: 36964\n"
     ]
    },
    {
     "data": {
      "text/plain": [
       "True"
      ]
     },
     "execution_count": 80,
     "metadata": {},
     "output_type": "execute_result"
    }
   ],
   "source": [
    "uniquely_determines([\"trimId\"],[\"make_name\", \"model_name\"],Data1_raw)"
   ]
  },
  {
   "cell_type": "markdown",
   "id": "3e57ad88",
   "metadata": {},
   "source": [
    "Interestingly, it also uniquely determines `year`:"
   ]
  },
  {
   "cell_type": "code",
   "execution_count": 81,
   "id": "0d21eb27",
   "metadata": {},
   "outputs": [
    {
     "name": "stdout",
     "output_type": "stream",
     "text": [
      "Uniques on A: 36964, uniques on A union B: 36964\n"
     ]
    },
    {
     "data": {
      "text/plain": [
       "True"
      ]
     },
     "execution_count": 81,
     "metadata": {},
     "output_type": "execute_result"
    }
   ],
   "source": [
    "uniquely_determines([\"trimId\"],[\"year\"],Data1_raw)"
   ]
  },
  {
   "cell_type": "markdown",
   "id": "0b55ee12",
   "metadata": {},
   "source": [
    "This means that the variable `trimId` can actually be used as an ID for a whole Make-Model-Trim-Year!"
   ]
  },
  {
   "cell_type": "markdown",
   "id": "ddc03b8d",
   "metadata": {},
   "source": [
    "## Part 2.2: Decompose mega-table into databse schema"
   ]
  },
  {
   "cell_type": "markdown",
   "id": "b7b26cca",
   "metadata": {},
   "source": [
    "All in all, here is the database schema (the columns will be renamed later to produce the final schema):\n",
    "* Car(**vin**, *trimId*, mileage, is_oemcpo, has_accidents, transmission, listing_color, horsepower, power, torque, engine_type, engine_displacement, fuel_type, city_fuel_economy, highway_fuel_economy)\n",
    "* MMYT(**trimId**, make_name, model_name, year, trim_name, body_type, maximum_seating, fuel_tank_volume, wheel_system, length, width, height, wheelbase, mmyt_description)\n",
    "* Dealer(**sp_id**, sp_name, total_listings, avg_rating, city, dealer_zip, longitude, latitude, franchise_dealer)\n",
    "* Listing(**listing_id**, *vin*, *sp_id*, price, listing_year, listing_month, listing_day, daysonmarket)\n",
    "\n",
    "(Primary keys are **bolded**, foreign keys are *italicized* and have the same name as the primary keys of the relations to which they refer.)"
   ]
  },
  {
   "cell_type": "code",
   "execution_count": 82,
   "id": "5f51bf6b",
   "metadata": {},
   "outputs": [],
   "source": [
    "car_cols = [\"vin\", \"trimId\", \"mileage\", \"is_oemcpo\", \"has_accidents\", \"transmission\",\n",
    "            \"listing_color\", \"horsepower\", \"power\", \"torque\", \"engine_type\",\n",
    "            \"engine_displacement\", \"fuel_type\", \"city_fuel_economy\", \"highway_fuel_economy\"]\n",
    "mmyt_cols = [\"trimId\", \"make_name\", \"model_name\", \"year\", \"trim_name\",\n",
    "             \"body_type\", \"maximum_seating\", \"fuel_tank_volume\", \"wheel_system\",\n",
    "             \"length\", \"width\", \"height\", \"wheelbase\"]\n",
    "dealer_cols = [\"sp_id\", \"sp_name\", \"total_listings\", \"avg_rating\", \"city\",\n",
    "               \"dealer_zip\", \"longitude\", \"latitude\", \"franchise_dealer\"]\n",
    "listing_cols = [\"listing_id\", \"vin\", \"sp_id\", \"price\", \"listing_year\", \"listing_month\",\n",
    "                \"listing_day\", \"daysonmarket\"]"
   ]
  },
  {
   "cell_type": "markdown",
   "id": "841f86b0",
   "metadata": {},
   "source": [
    "Let's confirm once again that the primary key constraints are met:"
   ]
  },
  {
   "cell_type": "code",
   "execution_count": 83,
   "id": "8247ebf2",
   "metadata": {},
   "outputs": [
    {
     "name": "stdout",
     "output_type": "stream",
     "text": [
      "Uniques on A: 2565033, uniques on A union B: 2565033\n"
     ]
    },
    {
     "data": {
      "text/plain": [
       "True"
      ]
     },
     "execution_count": 83,
     "metadata": {},
     "output_type": "execute_result"
    }
   ],
   "source": [
    "uniquely_determines([\"vin\"],car_cols,Data1_raw)"
   ]
  },
  {
   "cell_type": "code",
   "execution_count": 84,
   "id": "c798f981",
   "metadata": {},
   "outputs": [
    {
     "name": "stdout",
     "output_type": "stream",
     "text": [
      "Uniques on A: 36964, uniques on A union B: 36964\n"
     ]
    },
    {
     "data": {
      "text/plain": [
       "True"
      ]
     },
     "execution_count": 84,
     "metadata": {},
     "output_type": "execute_result"
    }
   ],
   "source": [
    "uniquely_determines([\"trimId\"],mmyt_cols,Data1_raw)"
   ]
  },
  {
   "cell_type": "code",
   "execution_count": 85,
   "id": "da067281",
   "metadata": {},
   "outputs": [
    {
     "name": "stdout",
     "output_type": "stream",
     "text": [
      "Uniques on A: 25564, uniques on A union B: 25564\n"
     ]
    },
    {
     "data": {
      "text/plain": [
       "True"
      ]
     },
     "execution_count": 85,
     "metadata": {},
     "output_type": "execute_result"
    }
   ],
   "source": [
    "uniquely_determines([\"sp_id\"],dealer_cols,Data1_raw)"
   ]
  },
  {
   "cell_type": "code",
   "execution_count": 86,
   "id": "1769ae2f",
   "metadata": {},
   "outputs": [
    {
     "name": "stdout",
     "output_type": "stream",
     "text": [
      "Uniques on A: 2565033, uniques on A union B: 2565033\n"
     ]
    },
    {
     "data": {
      "text/plain": [
       "True"
      ]
     },
     "execution_count": 86,
     "metadata": {},
     "output_type": "execute_result"
    }
   ],
   "source": [
    "uniquely_determines([\"listing_id\"],listing_cols,Data1_raw)"
   ]
  },
  {
   "cell_type": "markdown",
   "id": "133e2ceb",
   "metadata": {},
   "source": [
    "Everything works, now let's split:"
   ]
  },
  {
   "cell_type": "code",
   "execution_count": 87,
   "id": "2233426d",
   "metadata": {},
   "outputs": [],
   "source": [
    "Data1_cars = Data1_raw[car_cols].drop_duplicates()\n",
    "Data1_mmyts = Data1_raw[mmyt_cols].drop_duplicates()\n",
    "Data1_mmyts[\"mmyt_description\"] = (Data1_mmyts.year.astype(str) # add a column to interface with Data2 better\n",
    "                                   + \" \" + Data1_mmyts.make_name\n",
    "                                   + \" \" + Data1_mmyts.model_name\n",
    "                                   + \" \" + Data1_mmyts.trim_name)\n",
    "Data1_dealers = Data1_raw[dealer_cols].drop_duplicates()\n",
    "Data1_listings = Data1_raw[listing_cols].drop_duplicates()"
   ]
  },
  {
   "cell_type": "markdown",
   "id": "a2ba18a4",
   "metadata": {},
   "source": [
    "## Part 2.3: Check if decomposition was lossless"
   ]
  },
  {
   "cell_type": "markdown",
   "id": "6c44b52d",
   "metadata": {},
   "source": [
    "This decomposition should be lossless, is it? As a final check, let's make extra sure that, if we merge the splitted relations, we get the original:"
   ]
  },
  {
   "cell_type": "code",
   "execution_count": 88,
   "id": "54eb98f3",
   "metadata": {},
   "outputs": [
    {
     "data": {
      "text/plain": [
       "True"
      ]
     },
     "execution_count": 88,
     "metadata": {},
     "output_type": "execute_result"
    }
   ],
   "source": [
    "merged = Data1_listings.merge(Data1_cars.merge(Data1_mmyts.drop(\"mmyt_description\", axis=1), on=\"trimId\"), on=\"vin\").merge(Data1_dealers, on=\"sp_id\")[Data1_raw.columns].sort_values(\"vin\").reset_index(drop=True)\n",
    "orig_sorted = Data1_raw.drop_duplicates().sort_values(\"vin\").reset_index(drop=True)\n",
    "(merged == orig_sorted).all().all()"
   ]
  },
  {
   "cell_type": "markdown",
   "id": "8330dff9",
   "metadata": {},
   "source": [
    "Yep, exactly the same!"
   ]
  },
  {
   "cell_type": "markdown",
   "id": "ba024f64",
   "metadata": {},
   "source": [
    "## Part 2.4: Column renaming"
   ]
  },
  {
   "cell_type": "markdown",
   "id": "89ef7ce5",
   "metadata": {},
   "source": [
    "The columns names are a bit messy, let's rename some of them for clarity:"
   ]
  },
  {
   "cell_type": "code",
   "execution_count": 89,
   "id": "bc00faf2",
   "metadata": {},
   "outputs": [],
   "source": [
    "Data1_cars.rename(columns= {\n",
    "    \"trimId\":\"mmyt_id\",\n",
    "    \"mileage\":\"odometer\",\n",
    "    \"is_oemcpo\":\"is_certified_preowned\",\n",
    "    \"transmission\":\"transmission_type\",\n",
    "    \"listing_color\":\"exterior_color\",\n",
    "    \"power\":\"max_horsepower_at_rpm\",\n",
    "    \"torque\":\"max_torque_at_rpm\",\n",
    "    \"city_fuel_economy\":\"city_mpg\",\n",
    "    \"highway_fuel_economy\":\"highway_mpg\"\n",
    "}, inplace=True)\n",
    "Data1_mmyts.rename(columns= {\n",
    "    \"trimId\":\"mmyt_id\",\n",
    "    \"year\":\"production_year\",\n",
    "    \"maximum_seating\":\"max_seats\",\n",
    "    \"fuel_tank_volume\":\"fuel_tank_gallons\",\n",
    "    \"length\":\"vehicle_length\",\n",
    "    \"width\":\"vehicle_width\",\n",
    "    \"height\":\"vehicle_height\",\n",
    "    \"wheel_system\":\"drivetrain\"\n",
    "}, inplace=True)\n",
    "Data1_dealers.rename(columns= {\n",
    "    \"sp_id\":\"dealer_id\",\n",
    "    \"sp_name\":\"dealer_name\",\n",
    "    \"city\":\"location\",\n",
    "    \"dealer_zip\":\"zipcode\",\n",
    "    \"franchise_dealer\":\"is_franchise_dealer\"\n",
    "}, inplace=True)\n",
    "Data1_dealers[\"is_franchise_dealer\"] = Data1_dealers.is_franchise_dealer.astype(str)\n",
    "Data1_listings.rename(columns= {\n",
    "    \"sp_id\":\"dealer_id\",\n",
    "    \"daysonmarket\":\"days_on_market\"\n",
    "}, inplace=True)"
   ]
  },
  {
   "cell_type": "markdown",
   "id": "9d3568a9",
   "metadata": {},
   "source": [
    "Print out some per-column dtype stats for easy loading into MySQL:"
   ]
  },
  {
   "cell_type": "code",
   "execution_count": 90,
   "id": "74b5d93f",
   "metadata": {},
   "outputs": [],
   "source": [
    "def print_table_stats(table):\n",
    "    for column in table.columns:\n",
    "        print(f\"{column} has dtype {table[column].dtype}\")\n",
    "        if table[column].dtype == \"O\":\n",
    "            print(f\"{column} has max char length {table[column].str.len().max()}\")\n",
    "        print(\"\")"
   ]
  },
  {
   "cell_type": "code",
   "execution_count": 91,
   "id": "83b694a5",
   "metadata": {},
   "outputs": [
    {
     "name": "stdout",
     "output_type": "stream",
     "text": [
      "vin has dtype object\n",
      "vin has max char length 17\n",
      "\n",
      "mmyt_id has dtype object\n",
      "mmyt_id has max char length 10\n",
      "\n",
      "odometer has dtype float64\n",
      "\n",
      "is_certified_preowned has dtype object\n",
      "is_certified_preowned has max char length 5.0\n",
      "\n",
      "has_accidents has dtype object\n",
      "has_accidents has max char length 10.0\n",
      "\n",
      "transmission_type has dtype object\n",
      "transmission_type has max char length 11\n",
      "\n",
      "exterior_color has dtype object\n",
      "exterior_color has max char length 7\n",
      "\n",
      "horsepower has dtype float64\n",
      "\n",
      "max_horsepower_at_rpm has dtype object\n",
      "max_horsepower_at_rpm has max char length 20\n",
      "\n",
      "max_torque_at_rpm has dtype object\n",
      "max_torque_at_rpm has max char length 21\n",
      "\n",
      "engine_type has dtype object\n",
      "engine_type has max char length 3\n",
      "\n",
      "engine_displacement has dtype float64\n",
      "\n",
      "fuel_type has dtype object\n",
      "fuel_type has max char length 22\n",
      "\n",
      "city_mpg has dtype float64\n",
      "\n",
      "highway_mpg has dtype float64\n",
      "\n"
     ]
    }
   ],
   "source": [
    "print_table_stats(Data1_cars)"
   ]
  },
  {
   "cell_type": "code",
   "execution_count": 92,
   "id": "6c29b760",
   "metadata": {},
   "outputs": [
    {
     "name": "stdout",
     "output_type": "stream",
     "text": [
      "mmyt_id has dtype object\n",
      "mmyt_id has max char length 10\n",
      "\n",
      "make_name has dtype object\n",
      "make_name has max char length 13\n",
      "\n",
      "model_name has dtype object\n",
      "model_name has max char length 26\n",
      "\n",
      "production_year has dtype int64\n",
      "\n",
      "trim_name has dtype object\n",
      "trim_name has max char length 99\n",
      "\n",
      "body_type has dtype object\n",
      "body_type has max char length 15\n",
      "\n",
      "max_seats has dtype float64\n",
      "\n",
      "fuel_tank_gallons has dtype float64\n",
      "\n",
      "drivetrain has dtype object\n",
      "drivetrain has max char length 3\n",
      "\n",
      "vehicle_length has dtype float64\n",
      "\n",
      "vehicle_width has dtype float64\n",
      "\n",
      "vehicle_height has dtype float64\n",
      "\n",
      "wheelbase has dtype float64\n",
      "\n",
      "mmyt_description has dtype object\n",
      "mmyt_description has max char length 123\n",
      "\n"
     ]
    }
   ],
   "source": [
    "print_table_stats(Data1_mmyts)"
   ]
  },
  {
   "cell_type": "code",
   "execution_count": 93,
   "id": "ec6d75dc",
   "metadata": {},
   "outputs": [
    {
     "name": "stdout",
     "output_type": "stream",
     "text": [
      "dealer_id has dtype object\n",
      "dealer_id has max char length 8\n",
      "\n",
      "dealer_name has dtype object\n",
      "dealer_name has max char length 81\n",
      "\n",
      "total_listings has dtype int64\n",
      "\n",
      "avg_rating has dtype float64\n",
      "\n",
      "location has dtype object\n",
      "location has max char length 29\n",
      "\n",
      "zipcode has dtype int64\n",
      "\n",
      "longitude has dtype float64\n",
      "\n",
      "latitude has dtype float64\n",
      "\n",
      "is_franchise_dealer has dtype object\n",
      "is_franchise_dealer has max char length 5\n",
      "\n"
     ]
    }
   ],
   "source": [
    "print_table_stats(Data1_dealers)"
   ]
  },
  {
   "cell_type": "code",
   "execution_count": 94,
   "id": "bfe3609c",
   "metadata": {},
   "outputs": [
    {
     "name": "stdout",
     "output_type": "stream",
     "text": [
      "listing_id has dtype object\n",
      "listing_id has max char length 11\n",
      "\n",
      "vin has dtype object\n",
      "vin has max char length 17\n",
      "\n",
      "dealer_id has dtype object\n",
      "dealer_id has max char length 8\n",
      "\n",
      "price has dtype float64\n",
      "\n",
      "listing_year has dtype int64\n",
      "\n",
      "listing_month has dtype int64\n",
      "\n",
      "listing_day has dtype int64\n",
      "\n",
      "days_on_market has dtype int64\n",
      "\n"
     ]
    }
   ],
   "source": [
    "print_table_stats(Data1_listings)"
   ]
  },
  {
   "cell_type": "markdown",
   "id": "97d7bec4",
   "metadata": {},
   "source": [
    "# Part 3: Data cleaning and exploratory analysis for `Data2`"
   ]
  },
  {
   "cell_type": "markdown",
   "id": "960ec841",
   "metadata": {},
   "source": [
    "## Part 3.1: Sneak peak at data"
   ]
  },
  {
   "cell_type": "code",
   "execution_count": 95,
   "id": "376457c5",
   "metadata": {
    "scrolled": false
   },
   "outputs": [
    {
     "data": {
      "text/html": [
       "<div>\n",
       "<style scoped>\n",
       "    .dataframe tbody tr th:only-of-type {\n",
       "        vertical-align: middle;\n",
       "    }\n",
       "\n",
       "    .dataframe tbody tr th {\n",
       "        vertical-align: top;\n",
       "    }\n",
       "\n",
       "    .dataframe thead th {\n",
       "        text-align: right;\n",
       "    }\n",
       "</style>\n",
       "<table border=\"1\" class=\"dataframe\">\n",
       "  <thead>\n",
       "    <tr style=\"text-align: right;\">\n",
       "      <th></th>\n",
       "      <th>id</th>\n",
       "      <th>url</th>\n",
       "      <th>region</th>\n",
       "      <th>region_url</th>\n",
       "      <th>price</th>\n",
       "      <th>year</th>\n",
       "      <th>manufacturer</th>\n",
       "      <th>model</th>\n",
       "      <th>condition</th>\n",
       "      <th>cylinders</th>\n",
       "      <th>...</th>\n",
       "      <th>size</th>\n",
       "      <th>type</th>\n",
       "      <th>paint_color</th>\n",
       "      <th>image_url</th>\n",
       "      <th>description</th>\n",
       "      <th>county</th>\n",
       "      <th>state</th>\n",
       "      <th>lat</th>\n",
       "      <th>long</th>\n",
       "      <th>posting_date</th>\n",
       "    </tr>\n",
       "  </thead>\n",
       "  <tbody>\n",
       "    <tr>\n",
       "      <th>0</th>\n",
       "      <td>7222695916</td>\n",
       "      <td>https://prescott.craigslist.org/cto/d/prescott...</td>\n",
       "      <td>prescott</td>\n",
       "      <td>https://prescott.craigslist.org</td>\n",
       "      <td>6000</td>\n",
       "      <td>NaN</td>\n",
       "      <td>NaN</td>\n",
       "      <td>NaN</td>\n",
       "      <td>NaN</td>\n",
       "      <td>NaN</td>\n",
       "      <td>...</td>\n",
       "      <td>NaN</td>\n",
       "      <td>NaN</td>\n",
       "      <td>NaN</td>\n",
       "      <td>NaN</td>\n",
       "      <td>NaN</td>\n",
       "      <td>NaN</td>\n",
       "      <td>az</td>\n",
       "      <td>NaN</td>\n",
       "      <td>NaN</td>\n",
       "      <td>NaN</td>\n",
       "    </tr>\n",
       "    <tr>\n",
       "      <th>1</th>\n",
       "      <td>7218891961</td>\n",
       "      <td>https://fayar.craigslist.org/ctd/d/bentonville...</td>\n",
       "      <td>fayetteville</td>\n",
       "      <td>https://fayar.craigslist.org</td>\n",
       "      <td>11900</td>\n",
       "      <td>NaN</td>\n",
       "      <td>NaN</td>\n",
       "      <td>NaN</td>\n",
       "      <td>NaN</td>\n",
       "      <td>NaN</td>\n",
       "      <td>...</td>\n",
       "      <td>NaN</td>\n",
       "      <td>NaN</td>\n",
       "      <td>NaN</td>\n",
       "      <td>NaN</td>\n",
       "      <td>NaN</td>\n",
       "      <td>NaN</td>\n",
       "      <td>ar</td>\n",
       "      <td>NaN</td>\n",
       "      <td>NaN</td>\n",
       "      <td>NaN</td>\n",
       "    </tr>\n",
       "    <tr>\n",
       "      <th>2</th>\n",
       "      <td>7221797935</td>\n",
       "      <td>https://keys.craigslist.org/cto/d/summerland-k...</td>\n",
       "      <td>florida keys</td>\n",
       "      <td>https://keys.craigslist.org</td>\n",
       "      <td>21000</td>\n",
       "      <td>NaN</td>\n",
       "      <td>NaN</td>\n",
       "      <td>NaN</td>\n",
       "      <td>NaN</td>\n",
       "      <td>NaN</td>\n",
       "      <td>...</td>\n",
       "      <td>NaN</td>\n",
       "      <td>NaN</td>\n",
       "      <td>NaN</td>\n",
       "      <td>NaN</td>\n",
       "      <td>NaN</td>\n",
       "      <td>NaN</td>\n",
       "      <td>fl</td>\n",
       "      <td>NaN</td>\n",
       "      <td>NaN</td>\n",
       "      <td>NaN</td>\n",
       "    </tr>\n",
       "    <tr>\n",
       "      <th>3</th>\n",
       "      <td>7222270760</td>\n",
       "      <td>https://worcester.craigslist.org/cto/d/west-br...</td>\n",
       "      <td>worcester / central MA</td>\n",
       "      <td>https://worcester.craigslist.org</td>\n",
       "      <td>1500</td>\n",
       "      <td>NaN</td>\n",
       "      <td>NaN</td>\n",
       "      <td>NaN</td>\n",
       "      <td>NaN</td>\n",
       "      <td>NaN</td>\n",
       "      <td>...</td>\n",
       "      <td>NaN</td>\n",
       "      <td>NaN</td>\n",
       "      <td>NaN</td>\n",
       "      <td>NaN</td>\n",
       "      <td>NaN</td>\n",
       "      <td>NaN</td>\n",
       "      <td>ma</td>\n",
       "      <td>NaN</td>\n",
       "      <td>NaN</td>\n",
       "      <td>NaN</td>\n",
       "    </tr>\n",
       "    <tr>\n",
       "      <th>4</th>\n",
       "      <td>7210384030</td>\n",
       "      <td>https://greensboro.craigslist.org/cto/d/trinit...</td>\n",
       "      <td>greensboro</td>\n",
       "      <td>https://greensboro.craigslist.org</td>\n",
       "      <td>4900</td>\n",
       "      <td>NaN</td>\n",
       "      <td>NaN</td>\n",
       "      <td>NaN</td>\n",
       "      <td>NaN</td>\n",
       "      <td>NaN</td>\n",
       "      <td>...</td>\n",
       "      <td>NaN</td>\n",
       "      <td>NaN</td>\n",
       "      <td>NaN</td>\n",
       "      <td>NaN</td>\n",
       "      <td>NaN</td>\n",
       "      <td>NaN</td>\n",
       "      <td>nc</td>\n",
       "      <td>NaN</td>\n",
       "      <td>NaN</td>\n",
       "      <td>NaN</td>\n",
       "    </tr>\n",
       "    <tr>\n",
       "      <th>...</th>\n",
       "      <td>...</td>\n",
       "      <td>...</td>\n",
       "      <td>...</td>\n",
       "      <td>...</td>\n",
       "      <td>...</td>\n",
       "      <td>...</td>\n",
       "      <td>...</td>\n",
       "      <td>...</td>\n",
       "      <td>...</td>\n",
       "      <td>...</td>\n",
       "      <td>...</td>\n",
       "      <td>...</td>\n",
       "      <td>...</td>\n",
       "      <td>...</td>\n",
       "      <td>...</td>\n",
       "      <td>...</td>\n",
       "      <td>...</td>\n",
       "      <td>...</td>\n",
       "      <td>...</td>\n",
       "      <td>...</td>\n",
       "      <td>...</td>\n",
       "    </tr>\n",
       "    <tr>\n",
       "      <th>426875</th>\n",
       "      <td>7301591192</td>\n",
       "      <td>https://wyoming.craigslist.org/ctd/d/atlanta-2...</td>\n",
       "      <td>wyoming</td>\n",
       "      <td>https://wyoming.craigslist.org</td>\n",
       "      <td>23590</td>\n",
       "      <td>2019.0</td>\n",
       "      <td>nissan</td>\n",
       "      <td>maxima s sedan 4d</td>\n",
       "      <td>good</td>\n",
       "      <td>6 cylinders</td>\n",
       "      <td>...</td>\n",
       "      <td>NaN</td>\n",
       "      <td>sedan</td>\n",
       "      <td>NaN</td>\n",
       "      <td>https://images.craigslist.org/00o0o_iiraFnHg8q...</td>\n",
       "      <td>Carvana is the safer way to buy a car During t...</td>\n",
       "      <td>NaN</td>\n",
       "      <td>wy</td>\n",
       "      <td>33.786500</td>\n",
       "      <td>-84.445400</td>\n",
       "      <td>2021-04-04T03:21:31-0600</td>\n",
       "    </tr>\n",
       "    <tr>\n",
       "      <th>426876</th>\n",
       "      <td>7301591187</td>\n",
       "      <td>https://wyoming.craigslist.org/ctd/d/atlanta-2...</td>\n",
       "      <td>wyoming</td>\n",
       "      <td>https://wyoming.craigslist.org</td>\n",
       "      <td>30590</td>\n",
       "      <td>2020.0</td>\n",
       "      <td>volvo</td>\n",
       "      <td>s60 t5 momentum sedan 4d</td>\n",
       "      <td>good</td>\n",
       "      <td>NaN</td>\n",
       "      <td>...</td>\n",
       "      <td>NaN</td>\n",
       "      <td>sedan</td>\n",
       "      <td>red</td>\n",
       "      <td>https://images.craigslist.org/00x0x_15sbgnxCIS...</td>\n",
       "      <td>Carvana is the safer way to buy a car During t...</td>\n",
       "      <td>NaN</td>\n",
       "      <td>wy</td>\n",
       "      <td>33.786500</td>\n",
       "      <td>-84.445400</td>\n",
       "      <td>2021-04-04T03:21:29-0600</td>\n",
       "    </tr>\n",
       "    <tr>\n",
       "      <th>426877</th>\n",
       "      <td>7301591147</td>\n",
       "      <td>https://wyoming.craigslist.org/ctd/d/atlanta-2...</td>\n",
       "      <td>wyoming</td>\n",
       "      <td>https://wyoming.craigslist.org</td>\n",
       "      <td>34990</td>\n",
       "      <td>2020.0</td>\n",
       "      <td>cadillac</td>\n",
       "      <td>xt4 sport suv 4d</td>\n",
       "      <td>good</td>\n",
       "      <td>NaN</td>\n",
       "      <td>...</td>\n",
       "      <td>NaN</td>\n",
       "      <td>hatchback</td>\n",
       "      <td>white</td>\n",
       "      <td>https://images.craigslist.org/00L0L_farM7bxnxR...</td>\n",
       "      <td>Carvana is the safer way to buy a car During t...</td>\n",
       "      <td>NaN</td>\n",
       "      <td>wy</td>\n",
       "      <td>33.779214</td>\n",
       "      <td>-84.411811</td>\n",
       "      <td>2021-04-04T03:21:17-0600</td>\n",
       "    </tr>\n",
       "    <tr>\n",
       "      <th>426878</th>\n",
       "      <td>7301591140</td>\n",
       "      <td>https://wyoming.craigslist.org/ctd/d/atlanta-2...</td>\n",
       "      <td>wyoming</td>\n",
       "      <td>https://wyoming.craigslist.org</td>\n",
       "      <td>28990</td>\n",
       "      <td>2018.0</td>\n",
       "      <td>lexus</td>\n",
       "      <td>es 350 sedan 4d</td>\n",
       "      <td>good</td>\n",
       "      <td>6 cylinders</td>\n",
       "      <td>...</td>\n",
       "      <td>NaN</td>\n",
       "      <td>sedan</td>\n",
       "      <td>silver</td>\n",
       "      <td>https://images.craigslist.org/00z0z_bKnIVGLkDT...</td>\n",
       "      <td>Carvana is the safer way to buy a car During t...</td>\n",
       "      <td>NaN</td>\n",
       "      <td>wy</td>\n",
       "      <td>33.786500</td>\n",
       "      <td>-84.445400</td>\n",
       "      <td>2021-04-04T03:21:11-0600</td>\n",
       "    </tr>\n",
       "    <tr>\n",
       "      <th>426879</th>\n",
       "      <td>7301591129</td>\n",
       "      <td>https://wyoming.craigslist.org/ctd/d/atlanta-2...</td>\n",
       "      <td>wyoming</td>\n",
       "      <td>https://wyoming.craigslist.org</td>\n",
       "      <td>30590</td>\n",
       "      <td>2019.0</td>\n",
       "      <td>bmw</td>\n",
       "      <td>4 series 430i gran coupe</td>\n",
       "      <td>good</td>\n",
       "      <td>NaN</td>\n",
       "      <td>...</td>\n",
       "      <td>NaN</td>\n",
       "      <td>coupe</td>\n",
       "      <td>NaN</td>\n",
       "      <td>https://images.craigslist.org/00Y0Y_lEUocjyRxa...</td>\n",
       "      <td>Carvana is the safer way to buy a car During t...</td>\n",
       "      <td>NaN</td>\n",
       "      <td>wy</td>\n",
       "      <td>33.779214</td>\n",
       "      <td>-84.411811</td>\n",
       "      <td>2021-04-04T03:21:07-0600</td>\n",
       "    </tr>\n",
       "  </tbody>\n",
       "</table>\n",
       "<p>426880 rows × 26 columns</p>\n",
       "</div>"
      ],
      "text/plain": [
       "                id                                                url  \\\n",
       "0       7222695916  https://prescott.craigslist.org/cto/d/prescott...   \n",
       "1       7218891961  https://fayar.craigslist.org/ctd/d/bentonville...   \n",
       "2       7221797935  https://keys.craigslist.org/cto/d/summerland-k...   \n",
       "3       7222270760  https://worcester.craigslist.org/cto/d/west-br...   \n",
       "4       7210384030  https://greensboro.craigslist.org/cto/d/trinit...   \n",
       "...            ...                                                ...   \n",
       "426875  7301591192  https://wyoming.craigslist.org/ctd/d/atlanta-2...   \n",
       "426876  7301591187  https://wyoming.craigslist.org/ctd/d/atlanta-2...   \n",
       "426877  7301591147  https://wyoming.craigslist.org/ctd/d/atlanta-2...   \n",
       "426878  7301591140  https://wyoming.craigslist.org/ctd/d/atlanta-2...   \n",
       "426879  7301591129  https://wyoming.craigslist.org/ctd/d/atlanta-2...   \n",
       "\n",
       "                        region                         region_url  price  \\\n",
       "0                     prescott    https://prescott.craigslist.org   6000   \n",
       "1                 fayetteville       https://fayar.craigslist.org  11900   \n",
       "2                 florida keys        https://keys.craigslist.org  21000   \n",
       "3       worcester / central MA   https://worcester.craigslist.org   1500   \n",
       "4                   greensboro  https://greensboro.craigslist.org   4900   \n",
       "...                        ...                                ...    ...   \n",
       "426875                 wyoming     https://wyoming.craigslist.org  23590   \n",
       "426876                 wyoming     https://wyoming.craigslist.org  30590   \n",
       "426877                 wyoming     https://wyoming.craigslist.org  34990   \n",
       "426878                 wyoming     https://wyoming.craigslist.org  28990   \n",
       "426879                 wyoming     https://wyoming.craigslist.org  30590   \n",
       "\n",
       "          year manufacturer                     model condition    cylinders  \\\n",
       "0          NaN          NaN                       NaN       NaN          NaN   \n",
       "1          NaN          NaN                       NaN       NaN          NaN   \n",
       "2          NaN          NaN                       NaN       NaN          NaN   \n",
       "3          NaN          NaN                       NaN       NaN          NaN   \n",
       "4          NaN          NaN                       NaN       NaN          NaN   \n",
       "...        ...          ...                       ...       ...          ...   \n",
       "426875  2019.0       nissan         maxima s sedan 4d      good  6 cylinders   \n",
       "426876  2020.0        volvo  s60 t5 momentum sedan 4d      good          NaN   \n",
       "426877  2020.0     cadillac          xt4 sport suv 4d      good          NaN   \n",
       "426878  2018.0        lexus           es 350 sedan 4d      good  6 cylinders   \n",
       "426879  2019.0          bmw  4 series 430i gran coupe      good          NaN   \n",
       "\n",
       "        ... size       type paint_color  \\\n",
       "0       ...  NaN        NaN         NaN   \n",
       "1       ...  NaN        NaN         NaN   \n",
       "2       ...  NaN        NaN         NaN   \n",
       "3       ...  NaN        NaN         NaN   \n",
       "4       ...  NaN        NaN         NaN   \n",
       "...     ...  ...        ...         ...   \n",
       "426875  ...  NaN      sedan         NaN   \n",
       "426876  ...  NaN      sedan         red   \n",
       "426877  ...  NaN  hatchback       white   \n",
       "426878  ...  NaN      sedan      silver   \n",
       "426879  ...  NaN      coupe         NaN   \n",
       "\n",
       "                                                image_url  \\\n",
       "0                                                     NaN   \n",
       "1                                                     NaN   \n",
       "2                                                     NaN   \n",
       "3                                                     NaN   \n",
       "4                                                     NaN   \n",
       "...                                                   ...   \n",
       "426875  https://images.craigslist.org/00o0o_iiraFnHg8q...   \n",
       "426876  https://images.craigslist.org/00x0x_15sbgnxCIS...   \n",
       "426877  https://images.craigslist.org/00L0L_farM7bxnxR...   \n",
       "426878  https://images.craigslist.org/00z0z_bKnIVGLkDT...   \n",
       "426879  https://images.craigslist.org/00Y0Y_lEUocjyRxa...   \n",
       "\n",
       "                                              description county state  \\\n",
       "0                                                     NaN    NaN    az   \n",
       "1                                                     NaN    NaN    ar   \n",
       "2                                                     NaN    NaN    fl   \n",
       "3                                                     NaN    NaN    ma   \n",
       "4                                                     NaN    NaN    nc   \n",
       "...                                                   ...    ...   ...   \n",
       "426875  Carvana is the safer way to buy a car During t...    NaN    wy   \n",
       "426876  Carvana is the safer way to buy a car During t...    NaN    wy   \n",
       "426877  Carvana is the safer way to buy a car During t...    NaN    wy   \n",
       "426878  Carvana is the safer way to buy a car During t...    NaN    wy   \n",
       "426879  Carvana is the safer way to buy a car During t...    NaN    wy   \n",
       "\n",
       "              lat       long              posting_date  \n",
       "0             NaN        NaN                       NaN  \n",
       "1             NaN        NaN                       NaN  \n",
       "2             NaN        NaN                       NaN  \n",
       "3             NaN        NaN                       NaN  \n",
       "4             NaN        NaN                       NaN  \n",
       "...           ...        ...                       ...  \n",
       "426875  33.786500 -84.445400  2021-04-04T03:21:31-0600  \n",
       "426876  33.786500 -84.445400  2021-04-04T03:21:29-0600  \n",
       "426877  33.779214 -84.411811  2021-04-04T03:21:17-0600  \n",
       "426878  33.786500 -84.445400  2021-04-04T03:21:11-0600  \n",
       "426879  33.779214 -84.411811  2021-04-04T03:21:07-0600  \n",
       "\n",
       "[426880 rows x 26 columns]"
      ]
     },
     "execution_count": 95,
     "metadata": {},
     "output_type": "execute_result"
    }
   ],
   "source": [
    "Data2_raw"
   ]
  },
  {
   "cell_type": "code",
   "execution_count": 96,
   "id": "9adab741",
   "metadata": {},
   "outputs": [
    {
     "data": {
      "text/plain": [
       "Index(['id', 'url', 'region', 'region_url', 'price', 'year', 'manufacturer',\n",
       "       'model', 'condition', 'cylinders', 'fuel', 'odometer', 'title_status',\n",
       "       'transmission', 'VIN', 'drive', 'size', 'type', 'paint_color',\n",
       "       'image_url', 'description', 'county', 'state', 'lat', 'long',\n",
       "       'posting_date'],\n",
       "      dtype='object')"
      ]
     },
     "execution_count": 96,
     "metadata": {},
     "output_type": "execute_result"
    }
   ],
   "source": [
    "Data2_raw.columns"
   ]
  },
  {
   "cell_type": "markdown",
   "id": "371b1410",
   "metadata": {},
   "source": [
    "## Part 3.2: Dropping useless data."
   ]
  },
  {
   "cell_type": "markdown",
   "id": "ba199244",
   "metadata": {},
   "source": [
    "### County"
   ]
  },
  {
   "cell_type": "markdown",
   "id": "d885637f",
   "metadata": {},
   "source": [
    "The Kaggle page mentioned `county` is useless:"
   ]
  },
  {
   "cell_type": "code",
   "execution_count": 97,
   "id": "64b09731",
   "metadata": {},
   "outputs": [
    {
     "data": {
      "text/plain": [
       "True"
      ]
     },
     "execution_count": 97,
     "metadata": {},
     "output_type": "execute_result"
    }
   ],
   "source": [
    "Data2_raw.county.isnull().all()"
   ]
  },
  {
   "cell_type": "markdown",
   "id": "be6115d9",
   "metadata": {},
   "source": [
    "Yep, useless."
   ]
  },
  {
   "cell_type": "code",
   "execution_count": 98,
   "id": "b4e261db",
   "metadata": {},
   "outputs": [],
   "source": [
    "Data2_raw = Data2_raw.drop(\"county\", axis=1)"
   ]
  },
  {
   "cell_type": "markdown",
   "id": "5894e51b",
   "metadata": {},
   "source": [
    "### Url's"
   ]
  },
  {
   "cell_type": "markdown",
   "id": "96e39a2e",
   "metadata": {},
   "source": [
    "We won't need `url`, `region_url`, or `image_url`, so we don't have to include them."
   ]
  },
  {
   "cell_type": "code",
   "execution_count": 99,
   "id": "ea8b17e4",
   "metadata": {},
   "outputs": [],
   "source": [
    "Data2_raw = Data2_raw.drop([\"url\", \"region_url\", \"image_url\"], axis=1)"
   ]
  },
  {
   "cell_type": "markdown",
   "id": "814acb73",
   "metadata": {},
   "source": [
    "### Description"
   ]
  },
  {
   "cell_type": "code",
   "execution_count": 100,
   "id": "42257ce7",
   "metadata": {},
   "outputs": [
    {
     "data": {
      "text/plain": [
       "28832.0"
      ]
     },
     "execution_count": 100,
     "metadata": {},
     "output_type": "execute_result"
    }
   ],
   "source": [
    "Data2_raw.description.str.len().max()"
   ]
  },
  {
   "cell_type": "markdown",
   "id": "0b817ef8",
   "metadata": {},
   "source": [
    "`description` has some very, very long strings and isn't useful for our purposes. Additionally, commas in its entries might mess up MySQL csv parser, so throw it out too."
   ]
  },
  {
   "cell_type": "code",
   "execution_count": 101,
   "id": "550cb11e",
   "metadata": {},
   "outputs": [],
   "source": [
    "Data2_raw = Data2_raw.drop(\"description\", axis=1)"
   ]
  },
  {
   "cell_type": "markdown",
   "id": "663e5d4a",
   "metadata": {},
   "source": [
    "### Null values"
   ]
  },
  {
   "cell_type": "markdown",
   "id": "50c2e74c",
   "metadata": {},
   "source": [
    "Finally, we need to drop the null values in the column `VIN`, since this column will be the primary key for the *Car* relation:"
   ]
  },
  {
   "cell_type": "code",
   "execution_count": 102,
   "id": "82cb1a14",
   "metadata": {},
   "outputs": [],
   "source": [
    "Data2_raw = Data2_raw[Data2_raw[\"VIN\"].notna()]"
   ]
  },
  {
   "cell_type": "markdown",
   "id": "7dd55110",
   "metadata": {},
   "source": [
    "## Part 3.3: Column-level cleaning."
   ]
  },
  {
   "cell_type": "markdown",
   "id": "f4f85494",
   "metadata": {},
   "source": [
    "### More on VIN"
   ]
  },
  {
   "cell_type": "markdown",
   "id": "bdb09f36",
   "metadata": {},
   "source": [
    "As stated before, `VIN` is highly important and should always be 17 digits, is that the case in this dataset?"
   ]
  },
  {
   "cell_type": "code",
   "execution_count": 103,
   "id": "b13f8b6a",
   "metadata": {},
   "outputs": [
    {
     "data": {
      "text/plain": [
       "338       11402312009097\n",
       "1016          0906419252\n",
       "1684       116356W169501\n",
       "1698          7275856000\n",
       "2524          B1DL120963\n",
       "               ...      \n",
       "425059      31847S147227\n",
       "425300     1Z37L6S418690\n",
       "426339       CR315045444\n",
       "426373     CCL449J162701\n",
       "426376     CCL449F505274\n",
       "Name: VIN, Length: 1318, dtype: object"
      ]
     },
     "execution_count": 103,
     "metadata": {},
     "output_type": "execute_result"
    }
   ],
   "source": [
    "Data2_raw[Data2_raw.VIN.str.len() != 17].VIN"
   ]
  },
  {
   "cell_type": "markdown",
   "id": "6c7a328c",
   "metadata": {},
   "source": [
    "Nope... don't know what's going on with these VIN's that don't any sense. There are even a couple `VIN` entries with only 1 digit:"
   ]
  },
  {
   "cell_type": "code",
   "execution_count": 104,
   "id": "40e78b97",
   "metadata": {},
   "outputs": [
    {
     "data": {
      "text/plain": [
       "25010    C\n",
       "27561    C\n",
       "Name: VIN, dtype: object"
      ]
     },
     "execution_count": 104,
     "metadata": {},
     "output_type": "execute_result"
    }
   ],
   "source": [
    "Data2_raw[Data2_raw.VIN.str.len() == 1].VIN"
   ]
  },
  {
   "cell_type": "markdown",
   "id": "6bffad3d",
   "metadata": {},
   "source": [
    "All these entries are clearly erroneous, we should remove them:"
   ]
  },
  {
   "cell_type": "code",
   "execution_count": 105,
   "id": "cc5249cf",
   "metadata": {},
   "outputs": [],
   "source": [
    "Data2_raw = Data2_raw[Data2_raw.VIN.str.len() == 17]"
   ]
  },
  {
   "cell_type": "markdown",
   "id": "8c80a728",
   "metadata": {},
   "source": [
    "### Deleting price outliers"
   ]
  },
  {
   "cell_type": "code",
   "execution_count": 106,
   "id": "24af511c",
   "metadata": {},
   "outputs": [
    {
     "data": {
      "text/plain": [
       "<Axes: xlabel='price', ylabel='Density'>"
      ]
     },
     "execution_count": 106,
     "metadata": {},
     "output_type": "execute_result"
    },
    {
     "data": {
      "image/png": "[encoded data removed]",
      "text/plain": [
       "<Figure size 432x288 with 1 Axes>"
      ]
     },
     "metadata": {
      "needs_background": "light"
     },
     "output_type": "display_data"
    }
   ],
   "source": [
    "sns.distplot(Data2_raw.price)"
   ]
  },
  {
   "cell_type": "markdown",
   "id": "a79e8802",
   "metadata": {},
   "source": [
    "There is/are some crazy outliers! Let's see what they are:"
   ]
  },
  {
   "cell_type": "code",
   "execution_count": 107,
   "id": "bf94e52a",
   "metadata": {},
   "outputs": [
    {
     "data": {
      "text/html": [
       "<div>\n",
       "<style scoped>\n",
       "    .dataframe tbody tr th:only-of-type {\n",
       "        vertical-align: middle;\n",
       "    }\n",
       "\n",
       "    .dataframe tbody tr th {\n",
       "        vertical-align: top;\n",
       "    }\n",
       "\n",
       "    .dataframe thead th {\n",
       "        text-align: right;\n",
       "    }\n",
       "</style>\n",
       "<table border=\"1\" class=\"dataframe\">\n",
       "  <thead>\n",
       "    <tr style=\"text-align: right;\">\n",
       "      <th></th>\n",
       "      <th>id</th>\n",
       "      <th>region</th>\n",
       "      <th>price</th>\n",
       "      <th>year</th>\n",
       "      <th>manufacturer</th>\n",
       "      <th>model</th>\n",
       "      <th>condition</th>\n",
       "      <th>cylinders</th>\n",
       "      <th>fuel</th>\n",
       "      <th>odometer</th>\n",
       "      <th>...</th>\n",
       "      <th>transmission</th>\n",
       "      <th>VIN</th>\n",
       "      <th>drive</th>\n",
       "      <th>size</th>\n",
       "      <th>type</th>\n",
       "      <th>paint_color</th>\n",
       "      <th>state</th>\n",
       "      <th>lat</th>\n",
       "      <th>long</th>\n",
       "      <th>posting_date</th>\n",
       "    </tr>\n",
       "  </thead>\n",
       "  <tbody>\n",
       "    <tr>\n",
       "      <th>193736</th>\n",
       "      <td>7315524207</td>\n",
       "      <td>ann arbor</td>\n",
       "      <td>123456789</td>\n",
       "      <td>2015.0</td>\n",
       "      <td>chevrolet</td>\n",
       "      <td>cruze</td>\n",
       "      <td>like new</td>\n",
       "      <td>NaN</td>\n",
       "      <td>gas</td>\n",
       "      <td>64181.0</td>\n",
       "      <td>...</td>\n",
       "      <td>automatic</td>\n",
       "      <td>1G1PC5SB0F7246637</td>\n",
       "      <td>fwd</td>\n",
       "      <td>compact</td>\n",
       "      <td>sedan</td>\n",
       "      <td>red</td>\n",
       "      <td>mi</td>\n",
       "      <td>41.3815</td>\n",
       "      <td>-83.6507</td>\n",
       "      <td>2021-05-01T17:44:14-0400</td>\n",
       "    </tr>\n",
       "    <tr>\n",
       "      <th>286323</th>\n",
       "      <td>7316737760</td>\n",
       "      <td>akron / canton</td>\n",
       "      <td>12345678</td>\n",
       "      <td>2019.0</td>\n",
       "      <td>chevrolet</td>\n",
       "      <td>NaN</td>\n",
       "      <td>good</td>\n",
       "      <td>8 cylinders</td>\n",
       "      <td>gas</td>\n",
       "      <td>100000.0</td>\n",
       "      <td>...</td>\n",
       "      <td>automatic</td>\n",
       "      <td>00000000000000000</td>\n",
       "      <td>4wd</td>\n",
       "      <td>full-size</td>\n",
       "      <td>truck</td>\n",
       "      <td>black</td>\n",
       "      <td>oh</td>\n",
       "      <td>40.8465</td>\n",
       "      <td>-81.4408</td>\n",
       "      <td>2021-05-04T11:31:57-0400</td>\n",
       "    </tr>\n",
       "    <tr>\n",
       "      <th>286324</th>\n",
       "      <td>7316737396</td>\n",
       "      <td>akron / canton</td>\n",
       "      <td>12345678</td>\n",
       "      <td>2019.0</td>\n",
       "      <td>chevrolet</td>\n",
       "      <td>NaN</td>\n",
       "      <td>good</td>\n",
       "      <td>8 cylinders</td>\n",
       "      <td>gas</td>\n",
       "      <td>100000.0</td>\n",
       "      <td>...</td>\n",
       "      <td>automatic</td>\n",
       "      <td>00000000000000000</td>\n",
       "      <td>4wd</td>\n",
       "      <td>full-size</td>\n",
       "      <td>truck</td>\n",
       "      <td>black</td>\n",
       "      <td>oh</td>\n",
       "      <td>40.8465</td>\n",
       "      <td>-81.4408</td>\n",
       "      <td>2021-05-04T11:31:26-0400</td>\n",
       "    </tr>\n",
       "  </tbody>\n",
       "</table>\n",
       "<p>3 rows × 21 columns</p>\n",
       "</div>"
      ],
      "text/plain": [
       "                id          region      price    year manufacturer  model  \\\n",
       "193736  7315524207       ann arbor  123456789  2015.0    chevrolet  cruze   \n",
       "286323  7316737760  akron / canton   12345678  2019.0    chevrolet    NaN   \n",
       "286324  7316737396  akron / canton   12345678  2019.0    chevrolet    NaN   \n",
       "\n",
       "       condition    cylinders fuel  odometer  ... transmission  \\\n",
       "193736  like new          NaN  gas   64181.0  ...    automatic   \n",
       "286323      good  8 cylinders  gas  100000.0  ...    automatic   \n",
       "286324      good  8 cylinders  gas  100000.0  ...    automatic   \n",
       "\n",
       "                      VIN drive       size   type paint_color state      lat  \\\n",
       "193736  1G1PC5SB0F7246637   fwd    compact  sedan         red    mi  41.3815   \n",
       "286323  00000000000000000   4wd  full-size  truck       black    oh  40.8465   \n",
       "286324  00000000000000000   4wd  full-size  truck       black    oh  40.8465   \n",
       "\n",
       "           long              posting_date  \n",
       "193736 -83.6507  2021-05-01T17:44:14-0400  \n",
       "286323 -81.4408  2021-05-04T11:31:57-0400  \n",
       "286324 -81.4408  2021-05-04T11:31:26-0400  \n",
       "\n",
       "[3 rows x 21 columns]"
      ]
     },
     "execution_count": 107,
     "metadata": {},
     "output_type": "execute_result"
    }
   ],
   "source": [
    "Data2_raw.nlargest(3, \"price\")"
   ]
  },
  {
   "cell_type": "markdown",
   "id": "645c81cf",
   "metadata": {},
   "source": [
    "There is no way a Chevy Cruze costs 100 million... there has to be some error. Indeed, in these cases, the price is just 1 sequentially entered until 9... Let's check the manufacturers of all cars greater than 300k:"
   ]
  },
  {
   "cell_type": "code",
   "execution_count": 108,
   "id": "72cfcc4c",
   "metadata": {},
   "outputs": [
    {
     "data": {
      "text/plain": [
       "chevrolet        7\n",
       "ferrari          3\n",
       "porsche          3\n",
       "mercedes-benz    1\n",
       "dodge            1\n",
       "lincoln          1\n",
       "Name: manufacturer, dtype: int64"
      ]
     },
     "execution_count": 108,
     "metadata": {},
     "output_type": "execute_result"
    }
   ],
   "source": [
    "Data2_raw[Data2_raw.price > 300000].manufacturer.value_counts()"
   ]
  },
  {
   "cell_type": "markdown",
   "id": "fc390cd5",
   "metadata": {},
   "source": [
    "With the exception of ferrari and porsche, there is no way these brands have used cars > 300k...  \n",
    "\n",
    "For now, let's just drop everything greater than 300k and risk losing a few non-error luxury cars (seems like there are only 6 of those so we're good)."
   ]
  },
  {
   "cell_type": "code",
   "execution_count": 109,
   "id": "d6a98f95",
   "metadata": {},
   "outputs": [],
   "source": [
    "Data2_raw = Data2_raw[Data2_raw.price < 300000]"
   ]
  },
  {
   "cell_type": "markdown",
   "id": "cd5c0b19",
   "metadata": {},
   "source": [
    "Now check the price distribution again:"
   ]
  },
  {
   "cell_type": "code",
   "execution_count": 110,
   "id": "fab44f15",
   "metadata": {},
   "outputs": [
    {
     "data": {
      "text/plain": [
       "<Axes: xlabel='price', ylabel='Density'>"
      ]
     },
     "execution_count": 110,
     "metadata": {},
     "output_type": "execute_result"
    },
    {
     "data": {
      "image/png": "[encoded data removed]",
      "text/plain": [
       "<Figure size 432x288 with 1 Axes>"
      ]
     },
     "metadata": {
      "needs_background": "light"
     },
     "output_type": "display_data"
    }
   ],
   "source": [
    "sns.distplot(Data2_raw.price)"
   ]
  },
  {
   "cell_type": "markdown",
   "id": "d965ff76",
   "metadata": {},
   "source": [
    "Much more reasonable!"
   ]
  },
  {
   "cell_type": "markdown",
   "id": "cde0fcc3",
   "metadata": {},
   "source": [
    "### Deleting free cars"
   ]
  },
  {
   "cell_type": "markdown",
   "id": "ed434190",
   "metadata": {},
   "source": [
    "That said, there seems to be some cars with price 0:"
   ]
  },
  {
   "cell_type": "code",
   "execution_count": 111,
   "id": "2e5dc275",
   "metadata": {},
   "outputs": [
    {
     "data": {
      "text/plain": [
       "23936"
      ]
     },
     "execution_count": 111,
     "metadata": {},
     "output_type": "execute_result"
    }
   ],
   "source": [
    "Data2_raw[Data2_raw.price <= 0].shape[0]"
   ]
  },
  {
   "cell_type": "markdown",
   "id": "b36e22eb",
   "metadata": {},
   "source": [
    "That's a good amount... I'm guessing the price was missing or otherwise not found, since I doubt there are almost 33k free cars floating around (can I have one?). For now, let's just drop them:"
   ]
  },
  {
   "cell_type": "code",
   "execution_count": 112,
   "id": "39efdacb",
   "metadata": {},
   "outputs": [],
   "source": [
    "Data2_raw = Data2_raw[Data2_raw.price > 0]"
   ]
  },
  {
   "cell_type": "markdown",
   "id": "997327db",
   "metadata": {},
   "source": [
    "### Odometer"
   ]
  },
  {
   "cell_type": "markdown",
   "id": "a5422697",
   "metadata": {},
   "source": [
    "The odometer value tends to be one of the most important determiners in used car prices, let's take a look:"
   ]
  },
  {
   "cell_type": "code",
   "execution_count": 113,
   "id": "1f12231c",
   "metadata": {},
   "outputs": [
    {
     "data": {
      "text/plain": [
       "<Axes: xlabel='odometer', ylabel='Density'>"
      ]
     },
     "execution_count": 113,
     "metadata": {},
     "output_type": "execute_result"
    },
    {
     "data": {
      "image/png": "[encoded data removed]",
      "text/plain": [
       "<Figure size 432x288 with 1 Axes>"
      ]
     },
     "metadata": {
      "needs_background": "light"
     },
     "output_type": "display_data"
    }
   ],
   "source": [
    "sns.distplot(Data2_raw.odometer)"
   ]
  },
  {
   "cell_type": "markdown",
   "id": "346d7646",
   "metadata": {},
   "source": [
    "Once again, some crazy values..."
   ]
  },
  {
   "cell_type": "code",
   "execution_count": 114,
   "id": "30aef249",
   "metadata": {},
   "outputs": [
    {
     "data": {
      "text/html": [
       "<div>\n",
       "<style scoped>\n",
       "    .dataframe tbody tr th:only-of-type {\n",
       "        vertical-align: middle;\n",
       "    }\n",
       "\n",
       "    .dataframe tbody tr th {\n",
       "        vertical-align: top;\n",
       "    }\n",
       "\n",
       "    .dataframe thead th {\n",
       "        text-align: right;\n",
       "    }\n",
       "</style>\n",
       "<table border=\"1\" class=\"dataframe\">\n",
       "  <thead>\n",
       "    <tr style=\"text-align: right;\">\n",
       "      <th></th>\n",
       "      <th>id</th>\n",
       "      <th>region</th>\n",
       "      <th>price</th>\n",
       "      <th>year</th>\n",
       "      <th>manufacturer</th>\n",
       "      <th>model</th>\n",
       "      <th>condition</th>\n",
       "      <th>cylinders</th>\n",
       "      <th>fuel</th>\n",
       "      <th>odometer</th>\n",
       "      <th>...</th>\n",
       "      <th>transmission</th>\n",
       "      <th>VIN</th>\n",
       "      <th>drive</th>\n",
       "      <th>size</th>\n",
       "      <th>type</th>\n",
       "      <th>paint_color</th>\n",
       "      <th>state</th>\n",
       "      <th>lat</th>\n",
       "      <th>long</th>\n",
       "      <th>posting_date</th>\n",
       "    </tr>\n",
       "  </thead>\n",
       "  <tbody>\n",
       "    <tr>\n",
       "      <th>328533</th>\n",
       "      <td>7311553545</td>\n",
       "      <td>erie</td>\n",
       "      <td>600</td>\n",
       "      <td>1981.0</td>\n",
       "      <td>ford</td>\n",
       "      <td>f-150</td>\n",
       "      <td>fair</td>\n",
       "      <td>8 cylinders</td>\n",
       "      <td>gas</td>\n",
       "      <td>9999999.0</td>\n",
       "      <td>...</td>\n",
       "      <td>manual</td>\n",
       "      <td>1FTPW14545FA67066</td>\n",
       "      <td>rwd</td>\n",
       "      <td>full-size</td>\n",
       "      <td>truck</td>\n",
       "      <td>blue</td>\n",
       "      <td>pa</td>\n",
       "      <td>42.200800</td>\n",
       "      <td>-79.833200</td>\n",
       "      <td>2021-04-23T16:30:05-0400</td>\n",
       "    </tr>\n",
       "    <tr>\n",
       "      <th>355243</th>\n",
       "      <td>7311420685</td>\n",
       "      <td>knoxville</td>\n",
       "      <td>2650</td>\n",
       "      <td>1999.0</td>\n",
       "      <td>buick</td>\n",
       "      <td>regal gse</td>\n",
       "      <td>good</td>\n",
       "      <td>6 cylinders</td>\n",
       "      <td>gas</td>\n",
       "      <td>9999999.0</td>\n",
       "      <td>...</td>\n",
       "      <td>automatic</td>\n",
       "      <td>2G4WF5217X1621015</td>\n",
       "      <td>fwd</td>\n",
       "      <td>NaN</td>\n",
       "      <td>sedan</td>\n",
       "      <td>black</td>\n",
       "      <td>tn</td>\n",
       "      <td>35.755793</td>\n",
       "      <td>-83.931657</td>\n",
       "      <td>2021-04-23T12:58:50-0400</td>\n",
       "    </tr>\n",
       "    <tr>\n",
       "      <th>119725</th>\n",
       "      <td>7313089821</td>\n",
       "      <td>treasure coast</td>\n",
       "      <td>1000</td>\n",
       "      <td>1992.0</td>\n",
       "      <td>ford</td>\n",
       "      <td>f150 longbed</td>\n",
       "      <td>salvage</td>\n",
       "      <td>6 cylinders</td>\n",
       "      <td>gas</td>\n",
       "      <td>3000000.0</td>\n",
       "      <td>...</td>\n",
       "      <td>manual</td>\n",
       "      <td>1FTDF15Y0NNA64148</td>\n",
       "      <td>rwd</td>\n",
       "      <td>full-size</td>\n",
       "      <td>truck</td>\n",
       "      <td>green</td>\n",
       "      <td>fl</td>\n",
       "      <td>27.288900</td>\n",
       "      <td>-80.298000</td>\n",
       "      <td>2021-04-26T18:59:16-0400</td>\n",
       "    </tr>\n",
       "  </tbody>\n",
       "</table>\n",
       "<p>3 rows × 21 columns</p>\n",
       "</div>"
      ],
      "text/plain": [
       "                id          region  price    year manufacturer         model  \\\n",
       "328533  7311553545            erie    600  1981.0         ford         f-150   \n",
       "355243  7311420685       knoxville   2650  1999.0        buick     regal gse   \n",
       "119725  7313089821  treasure coast   1000  1992.0         ford  f150 longbed   \n",
       "\n",
       "       condition    cylinders fuel   odometer  ... transmission  \\\n",
       "328533      fair  8 cylinders  gas  9999999.0  ...       manual   \n",
       "355243      good  6 cylinders  gas  9999999.0  ...    automatic   \n",
       "119725   salvage  6 cylinders  gas  3000000.0  ...       manual   \n",
       "\n",
       "                      VIN drive       size   type paint_color state  \\\n",
       "328533  1FTPW14545FA67066   rwd  full-size  truck        blue    pa   \n",
       "355243  2G4WF5217X1621015   fwd        NaN  sedan       black    tn   \n",
       "119725  1FTDF15Y0NNA64148   rwd  full-size  truck       green    fl   \n",
       "\n",
       "              lat       long              posting_date  \n",
       "328533  42.200800 -79.833200  2021-04-23T16:30:05-0400  \n",
       "355243  35.755793 -83.931657  2021-04-23T12:58:50-0400  \n",
       "119725  27.288900 -80.298000  2021-04-26T18:59:16-0400  \n",
       "\n",
       "[3 rows x 21 columns]"
      ]
     },
     "execution_count": 114,
     "metadata": {},
     "output_type": "execute_result"
    }
   ],
   "source": [
    "Data2_raw.nlargest(3, \"odometer\")"
   ]
  },
  {
   "cell_type": "markdown",
   "id": "d35e95a0",
   "metadata": {},
   "source": [
    "Most older odometers cap at 999,999, so I doubt these values are correct.\n",
    "\n",
    "For now, let's just drop everything with more than a million miles, since anything even remotely close to that number would be very, very rare indeed."
   ]
  },
  {
   "cell_type": "code",
   "execution_count": 115,
   "id": "66037e39",
   "metadata": {},
   "outputs": [
    {
     "data": {
      "text/plain": [
       "<Axes: xlabel='odometer', ylabel='Density'>"
      ]
     },
     "execution_count": 115,
     "metadata": {},
     "output_type": "execute_result"
    },
    {
     "data": {
      "image/png": "[encoded data removed]",
      "text/plain": [
       "<Figure size 432x288 with 1 Axes>"
      ]
     },
     "metadata": {
      "needs_background": "light"
     },
     "output_type": "display_data"
    }
   ],
   "source": [
    "Data2_raw = Data2_raw[Data2_raw.odometer < 999999]\n",
    "sns.distplot(Data2_raw.odometer)"
   ]
  },
  {
   "cell_type": "markdown",
   "id": "e0242ac9",
   "metadata": {},
   "source": [
    "### Split out date"
   ]
  },
  {
   "cell_type": "code",
   "execution_count": 116,
   "id": "3987e285",
   "metadata": {},
   "outputs": [
    {
     "data": {
      "text/plain": [
       "27        2021-05-04T12:31:18-0500\n",
       "28        2021-05-04T12:31:08-0500\n",
       "29        2021-05-04T12:31:25-0500\n",
       "30        2021-05-04T10:41:31-0500\n",
       "32        2021-05-03T13:41:25-0500\n",
       "                    ...           \n",
       "426875    2021-04-04T03:21:31-0600\n",
       "426876    2021-04-04T03:21:29-0600\n",
       "426877    2021-04-04T03:21:17-0600\n",
       "426878    2021-04-04T03:21:11-0600\n",
       "426879    2021-04-04T03:21:07-0600\n",
       "Name: posting_date, Length: 239394, dtype: object"
      ]
     },
     "execution_count": 116,
     "metadata": {},
     "output_type": "execute_result"
    }
   ],
   "source": [
    "Data2_raw.posting_date"
   ]
  },
  {
   "cell_type": "markdown",
   "id": "a8b005be",
   "metadata": {},
   "source": [
    "We don't care about time, so just keep date: but is it yyyy-mm-dd or yyyy-dd-mm?"
   ]
  },
  {
   "cell_type": "code",
   "execution_count": 117,
   "id": "4d0263ff",
   "metadata": {},
   "outputs": [
    {
     "data": {
      "text/plain": [
       "5"
      ]
     },
     "execution_count": 117,
     "metadata": {},
     "output_type": "execute_result"
    }
   ],
   "source": [
    "Data2_raw.posting_date.str[5:7].astype(int).max()"
   ]
  },
  {
   "cell_type": "code",
   "execution_count": 118,
   "id": "549c01c0",
   "metadata": {},
   "outputs": [
    {
     "data": {
      "text/plain": [
       "30"
      ]
     },
     "execution_count": 118,
     "metadata": {},
     "output_type": "execute_result"
    }
   ],
   "source": [
    "Data2_raw.posting_date.str[8:10].astype(int).max()"
   ]
  },
  {
   "cell_type": "markdown",
   "id": "34019cbd",
   "metadata": {},
   "source": [
    "Yep, definitely yyyy-mm-dd. Now let's split it out:"
   ]
  },
  {
   "cell_type": "code",
   "execution_count": 119,
   "id": "5351de7f",
   "metadata": {},
   "outputs": [],
   "source": [
    "Data2_raw[\"posting_year\"] = Data2_raw.posting_date.str[0:4].astype(int)\n",
    "Data2_raw[\"posting_month\"] = Data2_raw.posting_date.str[5:7].astype(int)\n",
    "Data2_raw[\"posting_day\"] = Data2_raw.posting_date.str[8:10].astype(int)\n",
    "Data2_raw = Data2_raw.drop(\"posting_date\", axis=1)"
   ]
  },
  {
   "cell_type": "markdown",
   "id": "c2203782",
   "metadata": {},
   "source": [
    "## Part 3.4: Exploratory analysis"
   ]
  },
  {
   "cell_type": "markdown",
   "id": "33c0709f",
   "metadata": {},
   "source": [
    "Everything else seem fairly standard, just to look through a few to get a better sense of the data:"
   ]
  },
  {
   "cell_type": "markdown",
   "id": "2af02537",
   "metadata": {},
   "source": [
    "### Some basics"
   ]
  },
  {
   "cell_type": "code",
   "execution_count": 120,
   "id": "55da5fee",
   "metadata": {},
   "outputs": [
    {
     "data": {
      "text/plain": [
       "sedan          54337\n",
       "SUV            46943\n",
       "pickup         32434\n",
       "truck          19507\n",
       "other          18717\n",
       "coupe          11930\n",
       "hatchback      11827\n",
       "wagon           7774\n",
       "van             5563\n",
       "convertible     3801\n",
       "mini-van        2051\n",
       "bus              154\n",
       "offroad          108\n",
       "Name: type, dtype: int64"
      ]
     },
     "execution_count": 120,
     "metadata": {},
     "output_type": "execute_result"
    }
   ],
   "source": [
    "Data2_raw[\"type\"].value_counts()"
   ]
  },
  {
   "cell_type": "markdown",
   "id": "49e158aa",
   "metadata": {},
   "source": [
    "I'm surprised sedans still rank above SUVs, but that's cool!"
   ]
  },
  {
   "cell_type": "code",
   "execution_count": 121,
   "id": "de2c3fa5",
   "metadata": {},
   "outputs": [
    {
     "data": {
      "text/plain": [
       "automatic    169442\n",
       "other         60045\n",
       "manual         8447\n",
       "Name: transmission, dtype: int64"
      ]
     },
     "execution_count": 121,
     "metadata": {},
     "output_type": "execute_result"
    }
   ],
   "source": [
    "Data2_raw[\"transmission\"].value_counts()"
   ]
  },
  {
   "cell_type": "markdown",
   "id": "347fb154",
   "metadata": {},
   "source": [
    "I wonder what \"other\" is... let's check:"
   ]
  },
  {
   "cell_type": "code",
   "execution_count": 122,
   "id": "3a8dbb17",
   "metadata": {},
   "outputs": [
    {
     "data": {
      "text/plain": [
       "Scion iM Hatchback 4D              640\n",
       "1500 crew cab big horn             589\n",
       "silverado 1500 regular             509\n",
       "camaro ss coupe 2d                 495\n",
       "silverado 1500 double              482\n",
       "                                  ... \n",
       "s-type                               1\n",
       "es 330                               1\n",
       "freelander                           1\n",
       "mks                                  1\n",
       "Genesis G80 3.3T Sport Sedan 4D      1\n",
       "Name: model, Length: 2666, dtype: int64"
      ]
     },
     "execution_count": 122,
     "metadata": {},
     "output_type": "execute_result"
    }
   ],
   "source": [
    "Data2_raw[Data2_raw.transmission == \"other\"].model.value_counts()"
   ]
  },
  {
   "cell_type": "markdown",
   "id": "79a09fe3",
   "metadata": {},
   "source": [
    "Hmmm... looks like \"other\" might just mean \"missing\", since for at least a few of these cars I'm fairly positive there are no other options than x-speed automatic or x-speed manual offered... It is what it is, when modelling might need to pay attention to this though, we'll see."
   ]
  },
  {
   "cell_type": "markdown",
   "id": "be56e42a",
   "metadata": {},
   "source": [
    "### Camaros cuz I'm curious"
   ]
  },
  {
   "cell_type": "code",
   "execution_count": 123,
   "id": "26c84c23",
   "metadata": {},
   "outputs": [],
   "source": [
    "camaros = Data2_raw[Data2_raw.model.str.contains(\"camaro\", na=False)]"
   ]
  },
  {
   "cell_type": "markdown",
   "id": "64564e99",
   "metadata": {},
   "source": [
    "What's the price like?"
   ]
  },
  {
   "cell_type": "code",
   "execution_count": 124,
   "id": "969a3886",
   "metadata": {},
   "outputs": [
    {
     "data": {
      "text/plain": [
       "count      1488.000000\n",
       "mean      28000.123656\n",
       "std       12197.341473\n",
       "min           1.000000\n",
       "25%       18995.000000\n",
       "50%       27989.000000\n",
       "75%       37990.000000\n",
       "max      129991.000000\n",
       "Name: price, dtype: float64"
      ]
     },
     "execution_count": 124,
     "metadata": {},
     "output_type": "execute_result"
    }
   ],
   "source": [
    "camaros.price.describe()"
   ]
  },
  {
   "cell_type": "markdown",
   "id": "46ee70d4",
   "metadata": {},
   "source": [
    "Average seems a little low.. what if we split by 5th gen and 6th gen?"
   ]
  },
  {
   "cell_type": "code",
   "execution_count": 125,
   "id": "7b304b4a",
   "metadata": {},
   "outputs": [
    {
     "data": {
      "text/plain": [
       "21272.29655172414"
      ]
     },
     "execution_count": 125,
     "metadata": {},
     "output_type": "execute_result"
    }
   ],
   "source": [
    "camaros[camaros.year <= 2015].price.mean()"
   ]
  },
  {
   "cell_type": "code",
   "execution_count": 126,
   "id": "5f0dda3d",
   "metadata": {},
   "outputs": [
    {
     "data": {
      "text/plain": [
       "34392.882044560945"
      ]
     },
     "execution_count": 126,
     "metadata": {},
     "output_type": "execute_result"
    }
   ],
   "source": [
    "camaros[camaros.year > 2015].price.mean()"
   ]
  },
  {
   "cell_type": "markdown",
   "id": "2a969e4d",
   "metadata": {},
   "source": [
    "Makes much more sense -> this a good example of why more discreet methods (trees?) actually might work better for this problem.\n",
    "\n",
    "For even more granualarity, split by cylinders too:"
   ]
  },
  {
   "cell_type": "code",
   "execution_count": 127,
   "id": "e4c40585",
   "metadata": {},
   "outputs": [
    {
     "name": "stdout",
     "output_type": "stream",
     "text": [
      "Camaro 5th gen V6 average price 15356.33495145631\n",
      "Camaro 5th gen V8 average price 23620.44315992293\n",
      "Camaro 6th gen V6 average price 25252.1875\n",
      "Camaro 6th gen V8 average price 36235.4157480315\n"
     ]
    }
   ],
   "source": [
    "fifth_gen_mask = camaros.year <= 2015\n",
    "V6_mask = camaros.cylinders == \"6 cylinders\"\n",
    "\n",
    "print(f\"Camaro 5th gen V6 average price {camaros[fifth_gen_mask&V6_mask].price.mean()}\")\n",
    "print(f\"Camaro 5th gen V8 average price {camaros[fifth_gen_mask&(~V6_mask)].price.mean()}\")\n",
    "print(f\"Camaro 6th gen V6 average price {camaros[(~fifth_gen_mask)&V6_mask].price.mean()}\")\n",
    "print(f\"Camaro 6th gen V8 average price {camaros[(~fifth_gen_mask)&(~V6_mask)].price.mean()}\")"
   ]
  },
  {
   "cell_type": "markdown",
   "id": "c363a36a",
   "metadata": {},
   "source": [
    "Save the manuals?"
   ]
  },
  {
   "cell_type": "code",
   "execution_count": 128,
   "id": "2a71f7c1",
   "metadata": {},
   "outputs": [
    {
     "data": {
      "text/plain": [
       "other        807\n",
       "automatic    509\n",
       "manual       167\n",
       "Name: transmission, dtype: int64"
      ]
     },
     "execution_count": 128,
     "metadata": {},
     "output_type": "execute_result"
    }
   ],
   "source": [
    "camaros.transmission.value_counts()"
   ]
  },
  {
   "cell_type": "markdown",
   "id": "0e94640a",
   "metadata": {},
   "source": [
    "Nope... fine."
   ]
  },
  {
   "cell_type": "markdown",
   "id": "a619b53b",
   "metadata": {},
   "source": [
    "### Hot hatches! (just Ford Focus and VW Golf for now)"
   ]
  },
  {
   "cell_type": "code",
   "execution_count": 129,
   "id": "ab0c7b27",
   "metadata": {},
   "outputs": [],
   "source": [
    "golf_mask = Data2_raw.model.str.contains(\"golf\", na=False)|(Data2_raw.model.str.contains(\"gti\", na=False)&Data2_raw.manufacturer==\"volkswagen\")\n",
    "golfs = Data2_raw[golf_mask]\n",
    "focus_mask = Data2_raw.model.str.contains(\"focus\", na=False)\n",
    "focuses = Data2_raw[focus_mask]"
   ]
  },
  {
   "cell_type": "markdown",
   "id": "ea97fb98",
   "metadata": {},
   "source": [
    "What are prices looking like for a Ford Focus overall?"
   ]
  },
  {
   "cell_type": "code",
   "execution_count": 130,
   "id": "2aa635ce",
   "metadata": {
    "scrolled": true
   },
   "outputs": [
    {
     "data": {
      "text/plain": [
       "count     1671.000000\n",
       "mean      9874.421305\n",
       "std       6259.271287\n",
       "min         97.000000\n",
       "25%       5500.000000\n",
       "50%       7995.000000\n",
       "75%      12995.000000\n",
       "max      39999.000000\n",
       "Name: price, dtype: float64"
      ]
     },
     "execution_count": 130,
     "metadata": {},
     "output_type": "execute_result"
    }
   ],
   "source": [
    "focuses.price.describe()"
   ]
  },
  {
   "cell_type": "markdown",
   "id": "0440ab22",
   "metadata": {},
   "source": [
    "Wow! That is extremely cheap! Surely this cannot be right.\n",
    "\n",
    "What about just Focus ST's?"
   ]
  },
  {
   "cell_type": "code",
   "execution_count": 131,
   "id": "f4b28a16",
   "metadata": {},
   "outputs": [
    {
     "data": {
      "text/plain": [
       "count      161.000000\n",
       "mean     20779.913043\n",
       "std       4402.723943\n",
       "min        330.000000\n",
       "25%      18990.000000\n",
       "50%      22995.000000\n",
       "75%      23990.000000\n",
       "max      25990.000000\n",
       "Name: price, dtype: float64"
      ]
     },
     "execution_count": 131,
     "metadata": {},
     "output_type": "execute_result"
    }
   ],
   "source": [
    "focuses[focuses.model.str.contains(\"st\", na=False)].price.describe()"
   ]
  },
  {
   "cell_type": "markdown",
   "id": "ab86e5c2",
   "metadata": {},
   "source": [
    "That's almost 10k more! Indeed, the Ford Focus is a large family of cars not of which are performance oriented. Really only the ST/RS variants can be properly called \"hot hatches\"! Let's look at RS's now:"
   ]
  },
  {
   "cell_type": "code",
   "execution_count": 132,
   "id": "1f854285",
   "metadata": {},
   "outputs": [
    {
     "data": {
      "text/plain": [
       "count        3.000000\n",
       "mean     26631.333333\n",
       "std      12232.871304\n",
       "min      15995.000000\n",
       "25%      19947.500000\n",
       "50%      23900.000000\n",
       "75%      31949.500000\n",
       "max      39999.000000\n",
       "Name: price, dtype: float64"
      ]
     },
     "execution_count": 132,
     "metadata": {},
     "output_type": "execute_result"
    }
   ],
   "source": [
    "focuses[focuses.model.str.contains(\"rs\", na=False)].price.describe()"
   ]
  },
  {
   "cell_type": "markdown",
   "id": "6daf7b6a",
   "metadata": {},
   "source": [
    "Another 10k increase! In fact, as of writing this in late 2023, most RS's on the market are going for 30k+\n",
    "\n",
    "Now let's look at the Golfs, where there is a similar situation:"
   ]
  },
  {
   "cell_type": "code",
   "execution_count": 133,
   "id": "5df3f9d7",
   "metadata": {},
   "outputs": [
    {
     "data": {
      "text/plain": [
       "count     1076.000000\n",
       "mean     20052.049257\n",
       "std       7984.696084\n",
       "min         99.000000\n",
       "25%      16990.000000\n",
       "50%      19692.500000\n",
       "75%      24991.250000\n",
       "max      39590.000000\n",
       "Name: price, dtype: float64"
      ]
     },
     "execution_count": 133,
     "metadata": {},
     "output_type": "execute_result"
    }
   ],
   "source": [
    "golfs.price.describe()"
   ]
  },
  {
   "cell_type": "markdown",
   "id": "f34b76ee",
   "metadata": {},
   "source": [
    "Again, surprisingly cheap! Let's just look at Golf GTI's:"
   ]
  },
  {
   "cell_type": "code",
   "execution_count": 134,
   "id": "9f3bade7",
   "metadata": {},
   "outputs": [
    {
     "data": {
      "text/plain": [
       "count      362.000000\n",
       "mean     22339.475138\n",
       "std       7860.584920\n",
       "min         99.000000\n",
       "25%      19995.000000\n",
       "50%      24590.000000\n",
       "75%      27590.000000\n",
       "max      33999.000000\n",
       "Name: price, dtype: float64"
      ]
     },
     "execution_count": 134,
     "metadata": {},
     "output_type": "execute_result"
    }
   ],
   "source": [
    "golfs[golfs.model.str.contains(\"gti\", na=False)].price.describe()"
   ]
  },
  {
   "cell_type": "markdown",
   "id": "5bfd2e46",
   "metadata": {},
   "source": [
    "Yup, much more realistic prices. How about Golf R's?"
   ]
  },
  {
   "cell_type": "code",
   "execution_count": 135,
   "id": "b4cfd9e2",
   "metadata": {},
   "outputs": [
    {
     "data": {
      "text/plain": [
       "count       49.000000\n",
       "mean     35877.469388\n",
       "std       7938.021419\n",
       "min        538.000000\n",
       "25%      35590.000000\n",
       "50%      39590.000000\n",
       "75%      39590.000000\n",
       "max      39590.000000\n",
       "Name: price, dtype: float64"
      ]
     },
     "execution_count": 135,
     "metadata": {},
     "output_type": "execute_result"
    }
   ],
   "source": [
    "golfs[golfs.model.str.contains(\" r \", na=False)].price.describe()"
   ]
  },
  {
   "cell_type": "markdown",
   "id": "84a93aed",
   "metadata": {},
   "source": [
    "As expected, golf R's are significantly more expensive.\n",
    "\n",
    "**So, what's the takeaway here? The specific trim of the car carries a significant amount of information about its price. Therefore, we can't just extract some parts of the column `model` and call it a day -> we really do have to capture that entire string. In step 4 we will do so by creating a unique MMYT ID for each unique string in the column `model` (and possibly multiple ID's for each string to account for differences in other columns).**"
   ]
  },
  {
   "cell_type": "markdown",
   "id": "5ff2b1ff",
   "metadata": {},
   "source": [
    "# Part 4: Decomposing `Data2` into database schema with entity resolution"
   ]
  },
  {
   "cell_type": "markdown",
   "id": "baa16aba",
   "metadata": {},
   "source": [
    "Here we will handle all the entity resolution in order to add `Data2` into our database schema."
   ]
  },
  {
   "cell_type": "markdown",
   "id": "d9fb80c7",
   "metadata": {},
   "source": [
    "## Part 4.1: Creating the MMYT relation"
   ]
  },
  {
   "cell_type": "markdown",
   "id": "01f8571a",
   "metadata": {},
   "source": [
    "MMYT(**mmyt_id**, make_name, model_name, production_year, trim_name, body_type, max_seats, fuel_tank_gallons, drivetrain, vehicle_length, vehicle_width, vehicle_height, wheelbase, mmyt_description)"
   ]
  },
  {
   "cell_type": "markdown",
   "id": "81dfe90e",
   "metadata": {},
   "source": [
    "### Entity resolution by column"
   ]
  },
  {
   "cell_type": "markdown",
   "id": "1b97d1ef",
   "metadata": {},
   "source": [
    "First off, it seems that the column `type` somewhat corresponds to *body_type* in the schema. We can use Data1's values in this column to compare:"
   ]
  },
  {
   "cell_type": "code",
   "execution_count": 136,
   "id": "81c1af8d",
   "metadata": {
    "scrolled": true
   },
   "outputs": [
    {
     "data": {
      "text/plain": [
       "SUV / Crossover    10582\n",
       "Pickup Truck        8449\n",
       "Sedan               8339\n",
       "Coupe               2731\n",
       "Convertible         1981\n",
       "Hatchback           1482\n",
       "Van                 1461\n",
       "Wagon               1042\n",
       "Minivan              897\n",
       "Name: body_type, dtype: int64"
      ]
     },
     "execution_count": 136,
     "metadata": {},
     "output_type": "execute_result"
    }
   ],
   "source": [
    "Data1_mmyts.body_type.value_counts()"
   ]
  },
  {
   "cell_type": "code",
   "execution_count": 137,
   "id": "42e2cc40",
   "metadata": {
    "scrolled": true
   },
   "outputs": [
    {
     "data": {
      "text/plain": [
       "sedan          54337\n",
       "SUV            46943\n",
       "pickup         32434\n",
       "truck          19507\n",
       "other          18717\n",
       "coupe          11930\n",
       "hatchback      11827\n",
       "wagon           7774\n",
       "van             5563\n",
       "convertible     3801\n",
       "mini-van        2051\n",
       "bus              154\n",
       "offroad          108\n",
       "Name: type, dtype: int64"
      ]
     },
     "execution_count": 137,
     "metadata": {},
     "output_type": "execute_result"
    }
   ],
   "source": [
    "Data2_raw.type.value_counts()"
   ]
  },
  {
   "cell_type": "markdown",
   "id": "17f17061",
   "metadata": {},
   "source": [
    "Seems like there is a strong correspondance. We do need to make a few minor changes though, such as mapping `offroad` in Data2 to `SUV / Crossover`, since cars like Jeep Wranglers are marked as `SUV / Crossover` in Data1 and they are certainly offroad cars:"
   ]
  },
  {
   "cell_type": "code",
   "execution_count": 138,
   "id": "712da72b",
   "metadata": {},
   "outputs": [
    {
     "data": {
      "text/plain": [
       "24248"
      ]
     },
     "execution_count": 138,
     "metadata": {},
     "output_type": "execute_result"
    }
   ],
   "source": [
    "Data2_raw[\"type\"].isnull().sum()"
   ]
  },
  {
   "cell_type": "code",
   "execution_count": 139,
   "id": "401b6c34",
   "metadata": {},
   "outputs": [],
   "source": [
    "Data2_raw[\"type\"] = Data2_raw.type.replace({\"sedan\":\"Sedan\",\n",
    "                                            \"SUV\":\"SUV / Crossover\",\n",
    "                                            \"pickup\":\"Pickup Truck\",\n",
    "                                            \"truck\":\"Pickup Truck\",\n",
    "                                            \"other\":\"Other\",\n",
    "                                            \"coupe\":\"Coupe\",\n",
    "                                            \"hatchback\":\"Hatchback\",\n",
    "                                            \"wagon\":\"Wagon\",\n",
    "                                            \"van\":\"Van\",\n",
    "                                            \"convertible\":\"Convertible\",\n",
    "                                            \"mini-van\":\"Minivan\",\n",
    "                                            \"offroad\":\"SUV / Crossover\",\n",
    "                                            \"bus\":\"Pickup Truck\"})\n",
    "Data2_raw[\"type\"] = Data2_raw.type.fillna(\"Unknown\")"
   ]
  },
  {
   "cell_type": "markdown",
   "id": "88842f40",
   "metadata": {},
   "source": [
    "Likewise, the column `drive` directly corresponds to *drivetrain* in schema:"
   ]
  },
  {
   "cell_type": "code",
   "execution_count": 140,
   "id": "96189ebf",
   "metadata": {},
   "outputs": [
    {
     "data": {
      "text/plain": [
       "FWD    10968\n",
       "AWD     7998\n",
       "RWD     7593\n",
       "4WD     7384\n",
       "4X2     3021\n",
       "Name: drivetrain, dtype: int64"
      ]
     },
     "execution_count": 140,
     "metadata": {},
     "output_type": "execute_result"
    }
   ],
   "source": [
    "Data1_mmyts.drivetrain.value_counts()"
   ]
  },
  {
   "cell_type": "code",
   "execution_count": 141,
   "id": "1c33760b",
   "metadata": {},
   "outputs": [
    {
     "data": {
      "text/plain": [
       "4wd    79487\n",
       "fwd    63116\n",
       "rwd    31791\n",
       "Name: drive, dtype: int64"
      ]
     },
     "execution_count": 141,
     "metadata": {},
     "output_type": "execute_result"
    }
   ],
   "source": [
    "Data2_raw.drive.value_counts()"
   ]
  },
  {
   "cell_type": "markdown",
   "id": "9ae4d35a",
   "metadata": {},
   "source": [
    "We just to make the letters capital:"
   ]
  },
  {
   "cell_type": "code",
   "execution_count": 142,
   "id": "6793c4d3",
   "metadata": {},
   "outputs": [],
   "source": [
    "Data2_raw[\"drive\"] = Data2_raw.drive.replace({\"4wd\":\"4WD\", \"fwd\":\"FWD\", \"rwd\":\"RWD\"})\n",
    "Data2_raw[\"drive\"] = Data2_raw.drive.fillna(\"Unknown\")"
   ]
  },
  {
   "cell_type": "markdown",
   "id": "19620a23",
   "metadata": {},
   "source": [
    "The same is true for `manufacturer` and *make_name*, we just need to make the letters capital:"
   ]
  },
  {
   "cell_type": "code",
   "execution_count": 143,
   "id": "58d534b0",
   "metadata": {},
   "outputs": [],
   "source": [
    "Data2_raw[\"manufacturer\"] = Data2_raw.manufacturer.str.title()\n",
    "Data2_raw[\"manufacturer\"] = Data2_raw.manufacturer.fillna(\"Unknown\")"
   ]
  },
  {
   "cell_type": "markdown",
   "id": "90aaecb3",
   "metadata": {},
   "source": [
    "Finally, the column `year` directly corresponds to *production_year* in schema:"
   ]
  },
  {
   "cell_type": "code",
   "execution_count": 144,
   "id": "06db258c",
   "metadata": {},
   "outputs": [
    {
     "data": {
      "text/plain": [
       "count    36964.000000\n",
       "mean      2011.621388\n",
       "std          6.539706\n",
       "min       1981.000000\n",
       "25%       2007.000000\n",
       "50%       2013.000000\n",
       "75%       2017.000000\n",
       "max       2021.000000\n",
       "Name: production_year, dtype: float64"
      ]
     },
     "execution_count": 144,
     "metadata": {},
     "output_type": "execute_result"
    }
   ],
   "source": [
    "Data1_mmyts.production_year.describe()"
   ]
  },
  {
   "cell_type": "code",
   "execution_count": 145,
   "id": "07eaebb8",
   "metadata": {},
   "outputs": [
    {
     "data": {
      "text/plain": [
       "count    238286.000000\n",
       "mean       2013.815969\n",
       "std           5.182279\n",
       "min        1905.000000\n",
       "25%        2011.000000\n",
       "50%        2015.000000\n",
       "75%        2018.000000\n",
       "max        2022.000000\n",
       "Name: year, dtype: float64"
      ]
     },
     "execution_count": 145,
     "metadata": {},
     "output_type": "execute_result"
    }
   ],
   "source": [
    "Data2_raw.year.describe()"
   ]
  },
  {
   "cell_type": "markdown",
   "id": "e511f01b",
   "metadata": {},
   "source": [
    "We just need to make it an int:"
   ]
  },
  {
   "cell_type": "code",
   "execution_count": 146,
   "id": "af08011d",
   "metadata": {},
   "outputs": [],
   "source": [
    "Data2_raw[\"year\"] = Data2_raw.year.astype(\"Int16\")\n",
    "Data2_raw[\"year\"] = Data2_raw.year.fillna(-1)"
   ]
  },
  {
   "cell_type": "markdown",
   "id": "3cbf70db",
   "metadata": {},
   "source": [
    "### Creating the table"
   ]
  },
  {
   "cell_type": "markdown",
   "id": "e659feff",
   "metadata": {},
   "source": [
    "Let's take the relevant columns and create a preliminary MMYT table:"
   ]
  },
  {
   "cell_type": "code",
   "execution_count": 147,
   "id": "bb450645",
   "metadata": {},
   "outputs": [],
   "source": [
    "Data2_raw[\"model\"] = Data2_raw.model.fillna(\"Unknown\")\n",
    "Data2_mmyts = Data2_raw[[\"manufacturer\", \"year\", \"type\", \"drive\", \"model\"]]\n",
    "Data2_mmyts.rename(columns={\n",
    "    \"manufacturer\":\"make_name\",\n",
    "    \"year\":\"production_year\",\n",
    "    \"type\":\"body_type\",\n",
    "    \"drive\":\"drivetrain\",\n",
    "    \"model\":\"mmyt_description\",\n",
    "}, inplace=True)"
   ]
  },
  {
   "cell_type": "markdown",
   "id": "20b950ad",
   "metadata": {},
   "source": [
    "... and drop the duplicates:"
   ]
  },
  {
   "cell_type": "code",
   "execution_count": 148,
   "id": "78d6dba0",
   "metadata": {},
   "outputs": [],
   "source": [
    "Data2_mmyts.drop_duplicates(inplace=True)"
   ]
  },
  {
   "cell_type": "markdown",
   "id": "cdf7f026",
   "metadata": {},
   "source": [
    "... and finally add in some columns that are not present in Data2 but are in Data1, we will fill them with NULLs for now:"
   ]
  },
  {
   "cell_type": "code",
   "execution_count": 149,
   "id": "38357233",
   "metadata": {},
   "outputs": [],
   "source": [
    "Data2_mmyts[\"model_name\"] = \"Unknown\"\n",
    "Data2_mmyts[\"trim_name\"] = \"Unknown\"\n",
    "Data2_mmyts[\"max_seats\"] = -1\n",
    "Data2_mmyts[\"fuel_tank_gallons\"] = -1\n",
    "Data2_mmyts[\"vehicle_length\"] = -1\n",
    "Data2_mmyts[\"vehicle_width\"] = -1\n",
    "Data2_mmyts[\"vehicle_height\"] = -1\n",
    "Data2_mmyts[\"wheelbase\"] = -1"
   ]
  },
  {
   "cell_type": "markdown",
   "id": "14159b89",
   "metadata": {},
   "source": [
    "### Generate MMYT ID"
   ]
  },
  {
   "cell_type": "markdown",
   "id": "f46b8e88",
   "metadata": {},
   "source": [
    "Let's first look at the range of Data1's MMYT ID's:"
   ]
  },
  {
   "cell_type": "code",
   "execution_count": 150,
   "id": "2d484060",
   "metadata": {},
   "outputs": [
    {
     "data": {
      "text/plain": [
       "count    36964.000000\n",
       "mean     49635.126231\n",
       "std      25138.045590\n",
       "min          3.000000\n",
       "25%      32179.750000\n",
       "50%      48896.000000\n",
       "75%      72480.250000\n",
       "max      94257.000000\n",
       "Name: mmyt_id, dtype: float64"
      ]
     },
     "execution_count": 150,
     "metadata": {},
     "output_type": "execute_result"
    }
   ],
   "source": [
    "Data1_mmyts.mmyt_id.str[4:].astype(int).describe()"
   ]
  },
  {
   "cell_type": "markdown",
   "id": "8dfe8519",
   "metadata": {},
   "source": [
    "Looks like we are safe to use anything beyond `\"MMYT094257\"`! Let's start from `\"MMYT095000\"` to have some separation in the ID space and go sequentially from there:"
   ]
  },
  {
   "cell_type": "code",
   "execution_count": 151,
   "id": "210e6d3f",
   "metadata": {},
   "outputs": [],
   "source": [
    "Data2_mmyts.reset_index(drop=True, inplace=True)\n",
    "Data2_mmyts[\"mmyt_id\"] = \"MMYT\" + pd.Series(range(95000, 95000 + Data2_mmyts.shape[0])).astype(str).str.zfill(6)"
   ]
  },
  {
   "cell_type": "markdown",
   "id": "e2403670",
   "metadata": {},
   "source": [
    "### Reorder columns"
   ]
  },
  {
   "cell_type": "code",
   "execution_count": 152,
   "id": "31a57b59",
   "metadata": {},
   "outputs": [],
   "source": [
    "Data2_mmyts = Data2_mmyts[[\"mmyt_id\", \"make_name\", \"model_name\", \"production_year\", \"trim_name\",\n",
    "                           \"body_type\", \"max_seats\", \"fuel_tank_gallons\", \"drivetrain\",\n",
    "                           \"vehicle_length\", \"vehicle_width\", \"vehicle_height\", \"wheelbase\", \"mmyt_description\"]]"
   ]
  },
  {
   "cell_type": "markdown",
   "id": "2caaee17",
   "metadata": {},
   "source": [
    "### Check primary key constraint"
   ]
  },
  {
   "cell_type": "code",
   "execution_count": 153,
   "id": "d0e047fe",
   "metadata": {},
   "outputs": [
    {
     "name": "stdout",
     "output_type": "stream",
     "text": [
      "Uniques on A: 53205, uniques on A union B: 53205\n"
     ]
    },
    {
     "data": {
      "text/plain": [
       "True"
      ]
     },
     "execution_count": 153,
     "metadata": {},
     "output_type": "execute_result"
    }
   ],
   "source": [
    "uniquely_determines([\"mmyt_id\"], list(Data2_mmyts.columns), Data2_mmyts)"
   ]
  },
  {
   "cell_type": "markdown",
   "id": "7e7e4ae0",
   "metadata": {},
   "source": [
    "## Part 4.2: Creating the Car relation"
   ]
  },
  {
   "cell_type": "markdown",
   "id": "20735e58",
   "metadata": {},
   "source": [
    "Car(**vin**, *mmyt_id*, odometer, is_certified_preowned, has_accidents, transmission_type, exterior_color, horsepower, max_horsepower_at_rpm, max_torque_at_rpm, engine_type, engine_displacement, fuel_type, city_mpg, highway_mpg)"
   ]
  },
  {
   "cell_type": "markdown",
   "id": "e79f7490",
   "metadata": {},
   "source": [
    "### Merge *mmyt_id* back into big table"
   ]
  },
  {
   "cell_type": "markdown",
   "id": "9d876204",
   "metadata": {},
   "source": [
    "Now that MMYT has already been created, we need to merge the ID's generated in that table into the big table before splitting out the Cars relation:"
   ]
  },
  {
   "cell_type": "code",
   "execution_count": 154,
   "id": "50b10a5f",
   "metadata": {},
   "outputs": [],
   "source": [
    "Data2_raw = Data2_raw.merge(Data2_mmyts, how=\"left\",\n",
    "                            left_on=[\"manufacturer\",\"year\",\"type\",\"drive\",\"model\"],\n",
    "                            right_on=[\"make_name\",\"production_year\",\"body_type\",\"drivetrain\",\"mmyt_description\"])"
   ]
  },
  {
   "cell_type": "markdown",
   "id": "e3db0bb6",
   "metadata": {},
   "source": [
    "### Entity resolution by column"
   ]
  },
  {
   "cell_type": "markdown",
   "id": "fa92b142",
   "metadata": {},
   "source": [
    "Just like when creating the MMYT relation, the `fuel` column has some correspondance with the *fuel_type* attribute in the schema:"
   ]
  },
  {
   "cell_type": "code",
   "execution_count": 155,
   "id": "00bd9cd8",
   "metadata": {},
   "outputs": [
    {
     "data": {
      "text/plain": [
       "Gasoline                  2308146\n",
       "Flex Fuel Vehicle          132433\n",
       "Hybrid                      66325\n",
       "Diesel                      37049\n",
       "Biodiesel                   20943\n",
       "Compressed Natural Gas        133\n",
       "Propane                         4\n",
       "Name: fuel_type, dtype: int64"
      ]
     },
     "execution_count": 155,
     "metadata": {},
     "output_type": "execute_result"
    }
   ],
   "source": [
    "Data1_cars.fuel_type.value_counts()"
   ]
  },
  {
   "cell_type": "code",
   "execution_count": 156,
   "id": "d7630856",
   "metadata": {},
   "outputs": [
    {
     "data": {
      "text/plain": [
       "gas         191204\n",
       "other        26495\n",
       "diesel       15160\n",
       "hybrid        3074\n",
       "electric      1254\n",
       "Name: fuel, dtype: int64"
      ]
     },
     "execution_count": 156,
     "metadata": {},
     "output_type": "execute_result"
    }
   ],
   "source": [
    "Data2_raw.fuel.value_counts()"
   ]
  },
  {
   "cell_type": "markdown",
   "id": "b4d2bd9c",
   "metadata": {},
   "source": [
    "Let's resolve:"
   ]
  },
  {
   "cell_type": "code",
   "execution_count": 157,
   "id": "24a17c00",
   "metadata": {},
   "outputs": [],
   "source": [
    "Data2_raw[\"fuel\"] = Data2_raw.fuel.replace({\"gas\":\"Gasoline\",\n",
    "                                            \"other\":\"Other\",\n",
    "                                            \"diesel\":\"Diesel\",\n",
    "                                            \"hybrid\":\"Hybrid\",\n",
    "                                            \"electric\":\"Flex Fuel Vehicle\"})\n",
    "Data2_raw[\"fuel\"] = Data2_raw.fuel.fillna(\"Unknown\")"
   ]
  },
  {
   "cell_type": "markdown",
   "id": "b02510dc",
   "metadata": {},
   "source": [
    "`transmission` is the same situation:"
   ]
  },
  {
   "cell_type": "code",
   "execution_count": 158,
   "id": "b217a2c4",
   "metadata": {},
   "outputs": [],
   "source": [
    "Data2_raw[\"transmission\"] = Data2_raw.transmission.replace({\"automatic\":\"A\",\"manual\":\"M\",\"other\":\"Other\"})\n",
    "Data2_raw[\"transmission\"] = Data2_raw.transmission.fillna(\"Unknown\")"
   ]
  },
  {
   "cell_type": "markdown",
   "id": "86de4fd7",
   "metadata": {},
   "source": [
    "... and the same with `paint_color`:"
   ]
  },
  {
   "cell_type": "code",
   "execution_count": 159,
   "id": "4350f4ff",
   "metadata": {},
   "outputs": [],
   "source": [
    "Data2_raw[\"paint_color\"] = Data2_raw.paint_color.replace({\"white\":\"WHITE\",\n",
    "                                                          \"black\":\"BLACK\",\n",
    "                                                          \"silver\":\"SILVER\",\n",
    "                                                          \"blue\":\"BLUE\",\n",
    "                                                          \"red\":\"RED\",\n",
    "                                                          \"grey\":\"GRAY\",\n",
    "                                                          \"green\":\"GREEN\",\n",
    "                                                          \"custom\":\"UNKNOWN\",\n",
    "                                                          \"brown\":\"BROWN\",\n",
    "                                                          \"orange\":\"ORANGE\",\n",
    "                                                          \"yellow\":\"YELLOW\",\n",
    "                                                          \"purple\":\"PURPLE\"})\n",
    "Data2_raw[\"paint_color\"] = Data2_raw.paint_color.fillna(\"Unknown\")"
   ]
  },
  {
   "cell_type": "markdown",
   "id": "593b504c",
   "metadata": {},
   "source": [
    "Lastly, `cylinders` has some weak correspondance with *engine_type*:"
   ]
  },
  {
   "cell_type": "code",
   "execution_count": 160,
   "id": "ec3011cd",
   "metadata": {},
   "outputs": [
    {
     "data": {
      "text/plain": [
       "I4     1344716\n",
       "V6      720745\n",
       "V8      332227\n",
       "H4       61134\n",
       "I3       47127\n",
       "I6       46171\n",
       "I5        4903\n",
       "H6        4286\n",
       "V12       1211\n",
       "V10       1060\n",
       "I2         872\n",
       "W12        533\n",
       "R2          44\n",
       "W8           3\n",
       "W16          1\n",
       "Name: engine_type, dtype: int64"
      ]
     },
     "execution_count": 160,
     "metadata": {},
     "output_type": "execute_result"
    }
   ],
   "source": [
    "Data1_cars.engine_type.value_counts()"
   ]
  },
  {
   "cell_type": "code",
   "execution_count": 161,
   "id": "850cc687",
   "metadata": {},
   "outputs": [
    {
     "data": {
      "text/plain": [
       "6 cylinders     54064\n",
       "4 cylinders     38616\n",
       "8 cylinders     37876\n",
       "10 cylinders      915\n",
       "5 cylinders       780\n",
       "other             571\n",
       "3 cylinders       340\n",
       "12 cylinders      106\n",
       "Name: cylinders, dtype: int64"
      ]
     },
     "execution_count": 161,
     "metadata": {},
     "output_type": "execute_result"
    }
   ],
   "source": [
    "Data2_raw.cylinders.value_counts()"
   ]
  },
  {
   "cell_type": "markdown",
   "id": "d1110a43",
   "metadata": {},
   "source": [
    "While it may seem like there is nothing to be done, we do know that, for example, `\"3 cylinders\"` can only be an `\"I3\"` engine. We will follow this approach and replace what we can:"
   ]
  },
  {
   "cell_type": "code",
   "execution_count": 162,
   "id": "7070d5f3",
   "metadata": {},
   "outputs": [],
   "source": [
    "Data2_raw[\"cylinders\"] = Data2_raw.cylinders.replace({\"6 cylinders\":\"Unknown\",\n",
    "                                                      \"4 cylinders\":\"Unknown\",\n",
    "                                                      \"8 cylinders\":\"Unknown\",\n",
    "                                                      \"10 cylinders\":\"V10\",\n",
    "                                                      \"5 cylinders\":\"I5\",\n",
    "                                                      \"other\":\"Unknown\",\n",
    "                                                      \"3 cylinders\":\"I3\",\n",
    "                                                      \"12 cylinders\":\"Unknown\"})\n",
    "Data2_raw[\"cylinders\"] = Data2_raw.cylinders.fillna(\"Unknown\")"
   ]
  },
  {
   "cell_type": "markdown",
   "id": "7bdb8f8a",
   "metadata": {},
   "source": [
    "### Creating the table"
   ]
  },
  {
   "cell_type": "code",
   "execution_count": 163,
   "id": "1ba7cfbc",
   "metadata": {},
   "outputs": [],
   "source": [
    "Data2_cars = Data2_raw[[\"cylinders\", \"fuel\", \"odometer\", \"transmission\", \"VIN\", \"paint_color\", \"mmyt_id\"]]\n",
    "Data2_cars.rename(columns={\n",
    "    \"cylinders\":\"engine_type\",\n",
    "    \"fuel\":\"fuel_type\",\n",
    "    \"odometer\":\"odometer\",\n",
    "    \"transmission\":\"transmission_type\",\n",
    "    \"VIN\":\"vin\",\n",
    "    \"paint_color\": \"exterior_color\",\n",
    "    \"mmyt_id\":\"mmyt_id\"\n",
    "}, inplace=True)"
   ]
  },
  {
   "cell_type": "markdown",
   "id": "9f2f50bf",
   "metadata": {},
   "source": [
    "Drop duplicates:"
   ]
  },
  {
   "cell_type": "code",
   "execution_count": 164,
   "id": "4cf56158",
   "metadata": {},
   "outputs": [],
   "source": [
    "Data2_cars.drop_duplicates(subset=\"vin\", keep=\"first\", inplace=True)"
   ]
  },
  {
   "cell_type": "markdown",
   "id": "1369a833",
   "metadata": {},
   "source": [
    "Add in additional columns:"
   ]
  },
  {
   "cell_type": "code",
   "execution_count": 165,
   "id": "1d445104",
   "metadata": {},
   "outputs": [],
   "source": [
    "Data2_cars[\"is_certified_preowned\"] = \"False\" # Data2 was from Craigslist -> no cpo\n",
    "Data2_cars[\"has_accidents\"] = \"Unknown\"\n",
    "Data2_cars[\"horsepower\"] = -1.0\n",
    "Data2_cars[\"max_horsepower_at_rpm\"] = \"Unknown\"\n",
    "Data2_cars[\"max_torque_at_rpm\"] = \"Unknown\"\n",
    "Data2_cars[\"engine_displacement\"] = -1.0\n",
    "Data2_cars[\"city_mpg\"] = -1.0\n",
    "Data2_cars[\"highway_mpg\"] = -1.0"
   ]
  },
  {
   "cell_type": "markdown",
   "id": "ded2cc15",
   "metadata": {},
   "source": [
    "### Reorder columns"
   ]
  },
  {
   "cell_type": "code",
   "execution_count": 166,
   "id": "2b2b1178",
   "metadata": {},
   "outputs": [],
   "source": [
    "Data2_cars = Data2_cars[[\"vin\", \"mmyt_id\", \"odometer\", \"is_certified_preowned\", \"has_accidents\",\n",
    "                         \"transmission_type\", \"exterior_color\", \"horsepower\", \"max_horsepower_at_rpm\",\n",
    "                         \"max_torque_at_rpm\", \"engine_type\", \"engine_displacement\", \"fuel_type\",\n",
    "                         \"city_mpg\", \"highway_mpg\"]]"
   ]
  },
  {
   "cell_type": "markdown",
   "id": "43a2a022",
   "metadata": {},
   "source": [
    "### Check primary key constraint"
   ]
  },
  {
   "cell_type": "code",
   "execution_count": 167,
   "id": "40f3a26d",
   "metadata": {},
   "outputs": [
    {
     "name": "stdout",
     "output_type": "stream",
     "text": [
      "Uniques on A: 104249, uniques on A union B: 104249\n"
     ]
    },
    {
     "data": {
      "text/plain": [
       "True"
      ]
     },
     "execution_count": 167,
     "metadata": {},
     "output_type": "execute_result"
    }
   ],
   "source": [
    "uniquely_determines([\"vin\"], list(Data2_cars.columns), Data2_cars)"
   ]
  },
  {
   "cell_type": "markdown",
   "id": "a693daca",
   "metadata": {},
   "source": [
    "## Part 4.3: Creating the Dealer relation"
   ]
  },
  {
   "cell_type": "markdown",
   "id": "6498663d",
   "metadata": {},
   "source": [
    "Dealer(**dealer_id**, dealer_name, total_listings, avg_rating, location, zipcode, longitude, latitude, is_franchise_dealer)\n",
    "\n",
    "NOTE: `Data2` is drawn from Craigslist, which means that many of the dealers are individuals and so are nameless/informationless. For our purposes, we will group all the entries with the same coordinates together and call it *one dealer*, since a dealer can only be feasibly located at one longitude/latitude.\n",
    "\n",
    "The first question is, for a single dealer defined as a unique longitude/latitude combination, how many cars do they tend to list?"
   ]
  },
  {
   "cell_type": "code",
   "execution_count": 168,
   "id": "0fa9f955",
   "metadata": {},
   "outputs": [
    {
     "data": {
      "text/plain": [
       "count    16876.000000\n",
       "mean         9.389429\n",
       "std         35.494833\n",
       "min          1.000000\n",
       "25%          1.000000\n",
       "50%          1.000000\n",
       "75%          3.000000\n",
       "max       1203.000000\n",
       "Name: VIN, dtype: float64"
      ]
     },
     "execution_count": 168,
     "metadata": {},
     "output_type": "execute_result"
    }
   ],
   "source": [
    "Data2_raw.groupby([\"long\",\"lat\"]).VIN.nunique().describe()"
   ]
  },
  {
   "cell_type": "markdown",
   "id": "c57fed99",
   "metadata": {},
   "source": [
    "There's a good amount, especially considering most of these sellers are individuals! This means grouping by longitude and latitude is feasible. We will proceed with this approach then."
   ]
  },
  {
   "cell_type": "markdown",
   "id": "d706e9f4",
   "metadata": {},
   "source": [
    "### Creating the dealer entries"
   ]
  },
  {
   "cell_type": "markdown",
   "id": "1ef781d8",
   "metadata": {},
   "source": [
    "When grouping, we can conveniently calculate the aggregate stats too:"
   ]
  },
  {
   "cell_type": "code",
   "execution_count": 169,
   "id": "2a315e86",
   "metadata": {},
   "outputs": [
    {
     "data": {
      "text/html": [
       "<div>\n",
       "<style scoped>\n",
       "    .dataframe tbody tr th:only-of-type {\n",
       "        vertical-align: middle;\n",
       "    }\n",
       "\n",
       "    .dataframe tbody tr th {\n",
       "        vertical-align: top;\n",
       "    }\n",
       "\n",
       "    .dataframe thead th {\n",
       "        text-align: right;\n",
       "    }\n",
       "</style>\n",
       "<table border=\"1\" class=\"dataframe\">\n",
       "  <thead>\n",
       "    <tr style=\"text-align: right;\">\n",
       "      <th></th>\n",
       "      <th>longitude</th>\n",
       "      <th>latitude</th>\n",
       "      <th>total_listings</th>\n",
       "    </tr>\n",
       "  </thead>\n",
       "  <tbody>\n",
       "    <tr>\n",
       "      <th>0</th>\n",
       "      <td>-159.530300</td>\n",
       "      <td>21.925900</td>\n",
       "      <td>1</td>\n",
       "    </tr>\n",
       "    <tr>\n",
       "      <th>1</th>\n",
       "      <td>-159.384676</td>\n",
       "      <td>21.967101</td>\n",
       "      <td>19</td>\n",
       "    </tr>\n",
       "    <tr>\n",
       "      <th>2</th>\n",
       "      <td>-159.368300</td>\n",
       "      <td>21.981600</td>\n",
       "      <td>1</td>\n",
       "    </tr>\n",
       "    <tr>\n",
       "      <th>3</th>\n",
       "      <td>-159.365551</td>\n",
       "      <td>21.974111</td>\n",
       "      <td>1</td>\n",
       "    </tr>\n",
       "    <tr>\n",
       "      <th>4</th>\n",
       "      <td>-159.365530</td>\n",
       "      <td>21.974051</td>\n",
       "      <td>1</td>\n",
       "    </tr>\n",
       "    <tr>\n",
       "      <th>...</th>\n",
       "      <td>...</td>\n",
       "      <td>...</td>\n",
       "      <td>...</td>\n",
       "    </tr>\n",
       "    <tr>\n",
       "      <th>16871</th>\n",
       "      <td>-68.240200</td>\n",
       "      <td>44.504600</td>\n",
       "      <td>1</td>\n",
       "    </tr>\n",
       "    <tr>\n",
       "      <th>16872</th>\n",
       "      <td>-68.081971</td>\n",
       "      <td>46.779322</td>\n",
       "      <td>1</td>\n",
       "    </tr>\n",
       "    <tr>\n",
       "      <th>16873</th>\n",
       "      <td>-67.840490</td>\n",
       "      <td>46.150772</td>\n",
       "      <td>23</td>\n",
       "    </tr>\n",
       "    <tr>\n",
       "      <th>16874</th>\n",
       "      <td>94.163200</td>\n",
       "      <td>45.557900</td>\n",
       "      <td>12</td>\n",
       "    </tr>\n",
       "    <tr>\n",
       "      <th>16875</th>\n",
       "      <td>129.287109</td>\n",
       "      <td>40.564085</td>\n",
       "      <td>1</td>\n",
       "    </tr>\n",
       "  </tbody>\n",
       "</table>\n",
       "<p>16876 rows × 3 columns</p>\n",
       "</div>"
      ],
      "text/plain": [
       "        longitude   latitude  total_listings\n",
       "0     -159.530300  21.925900               1\n",
       "1     -159.384676  21.967101              19\n",
       "2     -159.368300  21.981600               1\n",
       "3     -159.365551  21.974111               1\n",
       "4     -159.365530  21.974051               1\n",
       "...           ...        ...             ...\n",
       "16871  -68.240200  44.504600               1\n",
       "16872  -68.081971  46.779322               1\n",
       "16873  -67.840490  46.150772              23\n",
       "16874   94.163200  45.557900              12\n",
       "16875  129.287109  40.564085               1\n",
       "\n",
       "[16876 rows x 3 columns]"
      ]
     },
     "execution_count": 169,
     "metadata": {},
     "output_type": "execute_result"
    }
   ],
   "source": [
    "Data2_dealers = Data2_raw.groupby([\"long\",\"lat\"]).id.count().reset_index()\n",
    "Data2_dealers.rename(columns={\n",
    "    \"id\":\"total_listings\",\n",
    "    \"long\":\"longitude\",\n",
    "    \"lat\":\"latitude\"\n",
    "}, inplace=True)\n",
    "Data2_dealers"
   ]
  },
  {
   "cell_type": "markdown",
   "id": "6ca686c5",
   "metadata": {},
   "source": [
    "... and finally add in some columns that are not present in Data2 but are in Data1, we will fill them with NULLs for now:"
   ]
  },
  {
   "cell_type": "code",
   "execution_count": 170,
   "id": "3ee34602",
   "metadata": {},
   "outputs": [],
   "source": [
    "Data2_dealers[\"dealer_name\"] = \"Unknown\"\n",
    "Data2_dealers[\"avg_rating\"] = -1.0\n",
    "Data2_dealers[\"location\"] = \"Unknown\"\n",
    "Data2_dealers[\"zipcode\"] = -1.0\n",
    "Data2_dealers[\"is_franchise_dealer\"] = \"False\""
   ]
  },
  {
   "cell_type": "markdown",
   "id": "864bc864",
   "metadata": {},
   "source": [
    "### Generating Dealer ID"
   ]
  },
  {
   "cell_type": "markdown",
   "id": "fd4da9e5",
   "metadata": {},
   "source": [
    "Let's first look at the range of Data1's Dealer ID's:"
   ]
  },
  {
   "cell_type": "code",
   "execution_count": 171,
   "id": "9fb93161",
   "metadata": {},
   "outputs": [
    {
     "data": {
      "text/plain": [
       "count     25564.000000\n",
       "mean     282795.611328\n",
       "std      126013.093809\n",
       "min       41593.000000\n",
       "25%      274175.750000\n",
       "50%      311048.000000\n",
       "75%      380167.000000\n",
       "max      440798.000000\n",
       "Name: dealer_id, dtype: float64"
      ]
     },
     "execution_count": 171,
     "metadata": {},
     "output_type": "execute_result"
    }
   ],
   "source": [
    "Data1_dealers.dealer_id.str[1:].astype(int).describe()"
   ]
  },
  {
   "cell_type": "markdown",
   "id": "24c91b9d",
   "metadata": {},
   "source": [
    "Looks like we are safe to use anything beyond `\"D0440798\"`! Let's start from `\"D0450000\"` to have some separation in the ID space and go sequentially from there:"
   ]
  },
  {
   "cell_type": "code",
   "execution_count": 172,
   "id": "7214b125",
   "metadata": {},
   "outputs": [],
   "source": [
    "Data2_dealers.reset_index(drop=True, inplace=True)\n",
    "Data2_dealers[\"dealer_id\"] = \"D\" + pd.Series(range(450000, 450000 + Data2_dealers.shape[0])).astype(str).str.zfill(7)"
   ]
  },
  {
   "cell_type": "markdown",
   "id": "5d716b4b",
   "metadata": {},
   "source": [
    "### Reorder columns"
   ]
  },
  {
   "cell_type": "code",
   "execution_count": 173,
   "id": "320a30cb",
   "metadata": {},
   "outputs": [],
   "source": [
    "Data2_dealers = Data2_dealers[[\"dealer_id\", \"dealer_name\", \"total_listings\", \"avg_rating\",\n",
    "                               \"location\", \"zipcode\", \"longitude\", \"latitude\", \"is_franchise_dealer\"]]"
   ]
  },
  {
   "cell_type": "markdown",
   "id": "6beffef3",
   "metadata": {},
   "source": [
    "### Check primary key constraint"
   ]
  },
  {
   "cell_type": "code",
   "execution_count": 174,
   "id": "572543eb",
   "metadata": {},
   "outputs": [
    {
     "name": "stdout",
     "output_type": "stream",
     "text": [
      "Uniques on A: 16876, uniques on A union B: 16876\n"
     ]
    },
    {
     "data": {
      "text/plain": [
       "True"
      ]
     },
     "execution_count": 174,
     "metadata": {},
     "output_type": "execute_result"
    }
   ],
   "source": [
    "uniquely_determines([\"dealer_id\"], list(Data2_dealers.columns), Data2_dealers)"
   ]
  },
  {
   "cell_type": "markdown",
   "id": "06c58031",
   "metadata": {},
   "source": [
    "## Part 4.4: Creating the Listing relation"
   ]
  },
  {
   "cell_type": "markdown",
   "id": "43cf6b10",
   "metadata": {},
   "source": [
    "Listing(**listing_id**, *vin*, *dealer_id*, price, listing_year, listing_month, listing_day, days_on_market)"
   ]
  },
  {
   "cell_type": "markdown",
   "id": "c481a4b9",
   "metadata": {},
   "source": [
    "### Merge *dealer_id* back into big table"
   ]
  },
  {
   "cell_type": "markdown",
   "id": "e095a2b7",
   "metadata": {},
   "source": [
    "Now that the Dealer relation has already been created, we need to merge the ID's generated in that table into the big table before creating the Listing relation:"
   ]
  },
  {
   "cell_type": "code",
   "execution_count": 175,
   "id": "19810c9f",
   "metadata": {},
   "outputs": [],
   "source": [
    "Data2_raw.dropna(subset=[\"long\",\"lat\"], how=\"any\", inplace=True)\n",
    "Data2_raw = Data2_raw.merge(Data2_dealers, how=\"left\",\n",
    "                            left_on=[\"long\",\"lat\"],\n",
    "                            right_on=[\"longitude\",\"latitude\"])"
   ]
  },
  {
   "cell_type": "markdown",
   "id": "fe30b888",
   "metadata": {},
   "source": [
    "### Entity resolution by column"
   ]
  },
  {
   "cell_type": "markdown",
   "id": "b5fe252f",
   "metadata": {},
   "source": [
    "The `id` column needs to be reformatted to match the format of *listing_id*:"
   ]
  },
  {
   "cell_type": "code",
   "execution_count": 176,
   "id": "f5889563",
   "metadata": {},
   "outputs": [
    {
     "data": {
      "text/plain": [
       "0          L0237132766\n",
       "1          L0265946296\n",
       "2          L0266911050\n",
       "3          L0270957414\n",
       "4          L0262940541\n",
       "              ...     \n",
       "2565064    L0274134037\n",
       "2565065    L0280498781\n",
       "2565066    L0269431681\n",
       "2565067    L0280923167\n",
       "2565068    L0280345818\n",
       "Name: listing_id, Length: 2565033, dtype: object"
      ]
     },
     "execution_count": 176,
     "metadata": {},
     "output_type": "execute_result"
    }
   ],
   "source": [
    "Data1_listings.listing_id"
   ]
  },
  {
   "cell_type": "code",
   "execution_count": 177,
   "id": "a71abf07",
   "metadata": {},
   "outputs": [
    {
     "data": {
      "text/plain": [
       "0         7316814884\n",
       "1         7316814758\n",
       "2         7316814989\n",
       "3         7316743432\n",
       "4         7316343444\n",
       "             ...    \n",
       "238197    7301591192\n",
       "238198    7301591187\n",
       "238199    7301591147\n",
       "238200    7301591140\n",
       "238201    7301591129\n",
       "Name: id, Length: 238202, dtype: int64"
      ]
     },
     "execution_count": 177,
     "metadata": {},
     "output_type": "execute_result"
    }
   ],
   "source": [
    "Data2_raw.id"
   ]
  },
  {
   "cell_type": "markdown",
   "id": "64824e92",
   "metadata": {},
   "source": [
    "Luckily, the `id` column has only entries with ten digits, whereas `Data1`'s id's only have a max of 9 digits. Therefore, we can directly use the `id` column! Still need to format it though:"
   ]
  },
  {
   "cell_type": "code",
   "execution_count": 178,
   "id": "c570e93d",
   "metadata": {},
   "outputs": [],
   "source": [
    "Data2_raw[\"id\"] = \"L\" + Data2_raw.id.astype(str).str.zfill(10)"
   ]
  },
  {
   "cell_type": "markdown",
   "id": "dc2da555",
   "metadata": {},
   "source": [
    "### Creating the table"
   ]
  },
  {
   "cell_type": "code",
   "execution_count": 179,
   "id": "7c379ff8",
   "metadata": {},
   "outputs": [],
   "source": [
    "Data2_listings = Data2_raw[[\"id\", \"VIN\", \"dealer_id\", \"price\", \"posting_year\", \"posting_month\", \"posting_day\"]]\n",
    "Data2_listings.rename(columns={\n",
    "    \"id\":\"listing_id\",\n",
    "    \"VIN\":\"vin\",\n",
    "    \"dealer_id\":\"dealer_id\",\n",
    "    \"price\":\"price\",\n",
    "    \"posting_year\":\"listing_year\",\n",
    "    \"posting_month\":\"listing_month\",\n",
    "    \"posting_day\":\"listing_day\"\n",
    "}, inplace=True)"
   ]
  },
  {
   "cell_type": "markdown",
   "id": "9a2f5612",
   "metadata": {},
   "source": [
    "... and finally add in `days_on_market`:"
   ]
  },
  {
   "cell_type": "code",
   "execution_count": 180,
   "id": "30ba1f9b",
   "metadata": {},
   "outputs": [],
   "source": [
    "Data2_listings[\"days_on_market\"] = -1"
   ]
  },
  {
   "cell_type": "markdown",
   "id": "d3d7a0fd",
   "metadata": {},
   "source": [
    "### Reorder columns"
   ]
  },
  {
   "cell_type": "code",
   "execution_count": 181,
   "id": "41d12922",
   "metadata": {},
   "outputs": [],
   "source": [
    "Data2_listings = Data2_listings[[\"listing_id\", \"vin\", \"dealer_id\", \"price\", \"listing_year\",\n",
    "                                 \"listing_month\", \"listing_day\", \"days_on_market\"]]"
   ]
  },
  {
   "cell_type": "markdown",
   "id": "c4fe5909",
   "metadata": {},
   "source": [
    "### Check primary key constraint"
   ]
  },
  {
   "cell_type": "code",
   "execution_count": 182,
   "id": "bd430d38",
   "metadata": {},
   "outputs": [
    {
     "name": "stdout",
     "output_type": "stream",
     "text": [
      "Uniques on A: 238202, uniques on A union B: 238202\n"
     ]
    },
    {
     "data": {
      "text/plain": [
       "True"
      ]
     },
     "execution_count": 182,
     "metadata": {},
     "output_type": "execute_result"
    }
   ],
   "source": [
    "uniquely_determines([\"listing_id\"], list(Data2_listings.columns), Data2_listings)"
   ]
  },
  {
   "cell_type": "markdown",
   "id": "126ba6cb",
   "metadata": {},
   "source": [
    "# Part 5: Merging `Data1` and `Data2` to build the final database"
   ]
  },
  {
   "cell_type": "code",
   "execution_count": 184,
   "id": "3db3f1cb",
   "metadata": {},
   "outputs": [
    {
     "name": "stdout",
     "output_type": "stream",
     "text": [
      "Uniques on A: 2666268, uniques on A union B: 2666268\n"
     ]
    },
    {
     "data": {
      "text/plain": [
       "True"
      ]
     },
     "execution_count": 184,
     "metadata": {},
     "output_type": "execute_result"
    }
   ],
   "source": [
    "uniquely_determines([\"vin\"], list(cars.columns), cars)"
   ]
  },
  {
   "cell_type": "code",
   "execution_count": 187,
   "id": "186637d7",
   "metadata": {},
   "outputs": [
    {
     "name": "stdout",
     "output_type": "stream",
     "text": [
      "Uniques on A: 90169, uniques on A union B: 90169\n"
     ]
    },
    {
     "data": {
      "text/plain": [
       "True"
      ]
     },
     "execution_count": 187,
     "metadata": {},
     "output_type": "execute_result"
    }
   ],
   "source": [
    "uniquely_determines([\"mmyt_id\"], list(mmyts.columns), mmyts)"
   ]
  },
  {
   "cell_type": "code",
   "execution_count": 190,
   "id": "e4b13f98",
   "metadata": {},
   "outputs": [
    {
     "name": "stdout",
     "output_type": "stream",
     "text": [
      "Uniques on A: 42440, uniques on A union B: 42440\n"
     ]
    },
    {
     "data": {
      "text/plain": [
       "True"
      ]
     },
     "execution_count": 190,
     "metadata": {},
     "output_type": "execute_result"
    }
   ],
   "source": [
    "uniquely_determines([\"dealer_id\"], list(dealers.columns), dealers)"
   ]
  },
  {
   "cell_type": "code",
   "execution_count": 193,
   "id": "a5ff7467",
   "metadata": {},
   "outputs": [
    {
     "name": "stdout",
     "output_type": "stream",
     "text": [
      "Uniques on A: 2803235, uniques on A union B: 2803235\n"
     ]
    },
    {
     "data": {
      "text/plain": [
       "True"
      ]
     },
     "execution_count": 193,
     "metadata": {},
     "output_type": "execute_result"
    }
   ],
   "source": [
    "uniquely_determines([\"listing_id\"], list(listings.columns), listings)"
   ]
  },
  {
   "cell_type": "markdown",
   "id": "cbd700a2",
   "metadata": {},
   "source": [
    "## Part 5.1: Merge *Car*"
   ]
  },
  {
   "cell_type": "code",
   "execution_count": 183,
   "id": "93bb84d5",
   "metadata": {},
   "outputs": [],
   "source": [
    "combined_cars = pd.concat([Data1_cars, Data2_cars], axis=0)\n",
    "combined_cars.drop_duplicates(subset=\"vin\", keep=\"first\", inplace=True)"
   ]
  },
  {
   "cell_type": "markdown",
   "id": "e4b975f8",
   "metadata": {},
   "source": [
    "Check primary key constraint:"
   ]
  },
  {
   "cell_type": "code",
   "execution_count": 184,
   "id": "25984248",
   "metadata": {},
   "outputs": [
    {
     "name": "stdout",
     "output_type": "stream",
     "text": [
      "Uniques on A: 2666268, uniques on A union B: 2666268\n"
     ]
    },
    {
     "data": {
      "text/plain": [
       "True"
      ]
     },
     "execution_count": 184,
     "metadata": {},
     "output_type": "execute_result"
    }
   ],
   "source": [
    "uniquely_determines([\"vin\"], list(combined_cars.columns), combined_cars)"
   ]
  },
  {
   "cell_type": "markdown",
   "id": "98012860",
   "metadata": {},
   "source": [
    "Check NULLs:"
   ]
  },
  {
   "cell_type": "code",
   "execution_count": 185,
   "id": "8551a01c",
   "metadata": {},
   "outputs": [
    {
     "data": {
      "text/plain": [
       "0"
      ]
     },
     "execution_count": 185,
     "metadata": {},
     "output_type": "execute_result"
    }
   ],
   "source": [
    "combined_cars.isnull().sum().sum()"
   ]
  },
  {
   "cell_type": "markdown",
   "id": "71cf8370",
   "metadata": {},
   "source": [
    "## Part 5.2: Merge *MMYT*"
   ]
  },
  {
   "cell_type": "code",
   "execution_count": 186,
   "id": "db747a0a",
   "metadata": {},
   "outputs": [],
   "source": [
    "combined_mmyts = pd.concat([Data1_mmyts, Data2_mmyts], axis=0)"
   ]
  },
  {
   "cell_type": "markdown",
   "id": "a9980bfe",
   "metadata": {},
   "source": [
    "Check primary key constraint:"
   ]
  },
  {
   "cell_type": "code",
   "execution_count": 187,
   "id": "6f1763f6",
   "metadata": {},
   "outputs": [
    {
     "name": "stdout",
     "output_type": "stream",
     "text": [
      "Uniques on A: 90169, uniques on A union B: 90169\n"
     ]
    },
    {
     "data": {
      "text/plain": [
       "True"
      ]
     },
     "execution_count": 187,
     "metadata": {},
     "output_type": "execute_result"
    }
   ],
   "source": [
    "uniquely_determines([\"mmyt_id\"], list(combined_mmyts.columns), combined_mmyts)"
   ]
  },
  {
   "cell_type": "markdown",
   "id": "b19c6bc6",
   "metadata": {},
   "source": [
    "Check NULLs:"
   ]
  },
  {
   "cell_type": "code",
   "execution_count": 188,
   "id": "1ffc0a0c",
   "metadata": {},
   "outputs": [
    {
     "data": {
      "text/plain": [
       "0"
      ]
     },
     "execution_count": 188,
     "metadata": {},
     "output_type": "execute_result"
    }
   ],
   "source": [
    "combined_mmyts.isnull().sum().sum()"
   ]
  },
  {
   "cell_type": "markdown",
   "id": "f360d98c",
   "metadata": {},
   "source": [
    "## Part 5.3: Merge *Dealer*"
   ]
  },
  {
   "cell_type": "code",
   "execution_count": 189,
   "id": "cf1a6d9b",
   "metadata": {},
   "outputs": [],
   "source": [
    "combined_dealers = pd.concat([Data1_dealers, Data2_dealers], axis=0)"
   ]
  },
  {
   "cell_type": "markdown",
   "id": "e4745aaa",
   "metadata": {},
   "source": [
    "Check primary key constraint:"
   ]
  },
  {
   "cell_type": "code",
   "execution_count": 190,
   "id": "6d570798",
   "metadata": {},
   "outputs": [
    {
     "name": "stdout",
     "output_type": "stream",
     "text": [
      "Uniques on A: 42440, uniques on A union B: 42440\n"
     ]
    },
    {
     "data": {
      "text/plain": [
       "True"
      ]
     },
     "execution_count": 190,
     "metadata": {},
     "output_type": "execute_result"
    }
   ],
   "source": [
    "uniquely_determines([\"dealer_id\"], list(combined_dealers.columns), combined_dealers)"
   ]
  },
  {
   "cell_type": "markdown",
   "id": "35d361c9",
   "metadata": {},
   "source": [
    "Check NULLs:"
   ]
  },
  {
   "cell_type": "code",
   "execution_count": 191,
   "id": "ccbb2f6d",
   "metadata": {},
   "outputs": [
    {
     "data": {
      "text/plain": [
       "0"
      ]
     },
     "execution_count": 191,
     "metadata": {},
     "output_type": "execute_result"
    }
   ],
   "source": [
    "combined_dealers.isnull().sum().sum()"
   ]
  },
  {
   "cell_type": "markdown",
   "id": "a5c14a98",
   "metadata": {},
   "source": [
    "## Part 5.4: Merge *Listing*"
   ]
  },
  {
   "cell_type": "code",
   "execution_count": 192,
   "id": "3fe22c69",
   "metadata": {},
   "outputs": [],
   "source": [
    "combined_listings = pd.concat([Data1_listings, Data2_listings], axis=0)"
   ]
  },
  {
   "cell_type": "markdown",
   "id": "1e0ac19d",
   "metadata": {},
   "source": [
    "Check primary key constraint:"
   ]
  },
  {
   "cell_type": "code",
   "execution_count": 193,
   "id": "2599719f",
   "metadata": {},
   "outputs": [
    {
     "name": "stdout",
     "output_type": "stream",
     "text": [
      "Uniques on A: 2803235, uniques on A union B: 2803235\n"
     ]
    },
    {
     "data": {
      "text/plain": [
       "True"
      ]
     },
     "execution_count": 193,
     "metadata": {},
     "output_type": "execute_result"
    }
   ],
   "source": [
    "uniquely_determines([\"listing_id\"], list(combined_listings.columns), combined_listings)"
   ]
  },
  {
   "cell_type": "markdown",
   "id": "37e4e6b4",
   "metadata": {},
   "source": [
    "Check NULLs:"
   ]
  },
  {
   "cell_type": "code",
   "execution_count": 194,
   "id": "e775d302",
   "metadata": {},
   "outputs": [
    {
     "data": {
      "text/plain": [
       "0"
      ]
     },
     "execution_count": 194,
     "metadata": {},
     "output_type": "execute_result"
    }
   ],
   "source": [
    "combined_listings.isnull().sum().sum()"
   ]
  },
  {
   "cell_type": "markdown",
   "id": "0edc7f01",
   "metadata": {},
   "source": [
    "## Part 5.5: Export database files"
   ]
  },
  {
   "cell_type": "code",
   "execution_count": 195,
   "id": "d47c9a96",
   "metadata": {},
   "outputs": [],
   "source": [
    "combined_cars.to_csv(\"./Data/Car.csv\", sep=\";\", index=False, header=False)\n",
    "combined_mmyts.to_csv(\"./Data/MMYT.csv\", sep=\";\", index=False, header=False)\n",
    "combined_dealers.to_csv(\"./Data/Dealer.csv\", sep=\";\", index=False, header=False)\n",
    "combined_listings.to_csv(\"./Data/Listing.csv\", sep=\";\", index=False, header=False)"
   ]
  },
  {
   "cell_type": "markdown",
   "id": "6a729850",
   "metadata": {},
   "source": [
    "# Appendix A: Final processing function for `Data1`"
   ]
  },
  {
   "cell_type": "code",
   "execution_count": 196,
   "id": "8bb581b9",
   "metadata": {},
   "outputs": [],
   "source": [
    "def preprocess_Data1(data):\n",
    "    \n",
    "    # dropping unused columns\n",
    "    data = data.drop(columns=[\"back_legroom\", \"bed\", \"bed_height\", \"bed_length\",\n",
    "                              \"cabin\", \"description\", \"engine_cylinders\",\n",
    "                              \"combine_fuel_economy\", \"exterior_color\", \"fleet\", \"frame_damaged\",\n",
    "                              \"franchise_make\", \"front_legroom\", \"interior_color\", \"isCab\",\n",
    "                              \"is_certified\", \"is_cpo\", \"is_new\", \"main_picture_url\", \"major_options\",\n",
    "                              \"owner_count\", \"salvage\", \"savings_amount\", \"theft_title\",\n",
    "                              \"transmission_display\", \"vehicle_damage_category\", \"wheel_system_display\"])\n",
    "    \n",
    "    # filling NULLs\n",
    "    data[\"has_accidents\"] = data.has_accidents.fillna(\"Unreported\")\n",
    "    data[\"is_oemcpo\"] = data.is_oemcpo.fillna(\"False\")\n",
    "    data[\"power\"] = data.power.fillna(\"Unknown\")\n",
    "    data[\"torque\"] = data.torque.fillna(\"Unknown\")\n",
    "    data[\"city_fuel_economy\"] = data.city_fuel_economy.fillna(-1)\n",
    "    data[\"highway_fuel_economy\"] = data.highway_fuel_economy.fillna(-1)\n",
    "    \n",
    "    # removing NULLs\n",
    "    data = data.replace(\"--\", np.nan)\n",
    "    data = data.dropna()\n",
    "    \n",
    "    # column-level cleaning\n",
    "    data = data[data.price < 1000000]\n",
    "    data = data[data.mileage < 1000000]\n",
    "    data[\"engine_type\"] = data.engine_type.str.split().str[0]\n",
    "    data[\"fuel_tank_volume\"] = data.fuel_tank_volume.str.split().str[0].astype(float)\n",
    "    data[\"height\"] = data.height.str.split().str[0].astype(float)\n",
    "    data[\"width\"] = data.width.str.split().str[0].astype(float)\n",
    "    data[\"length\"] = data.length.str.split().str[0].astype(float)\n",
    "    data[\"maximum_seating\"] = data.maximum_seating.str.split().str[0].astype(float)\n",
    "    data[\"wheelbase\"] = data.wheelbase.str.split().str[0].astype(float)\n",
    "    data[\"listing_year\"] = data.listed_date.str[0:4].astype(int)\n",
    "    data[\"listing_month\"] = data.listed_date.str[5:7].astype(int)\n",
    "    data[\"listing_day\"] = data.listed_date.str[8:10].astype(int)\n",
    "    data = data.drop(columns=[\"listed_date\"])\n",
    "    data[\"dealer_zip\"] = data.dealer_zip.astype(str).str.split(\"-\").str[0].astype(int)\n",
    "    data[\"sp_id\"] = \"D\" + data.sp_id.astype(int).astype(str).str.zfill(7)\n",
    "    data[\"listing_id\"] = \"L\" + data.listing_id.astype(str).str.zfill(10)\n",
    "    data[\"trimId\"] = \"MMYT\" + data.trimId.str[1:].str.zfill(6)\n",
    "    \n",
    "    # fix trim_name\n",
    "    problem_trimIds = data[[\"trimId\", \"trim_name\"]].groupby(\"trimId\").nunique().query(\"trim_name > 1\").index\n",
    "    replacement_trim_names = data.loc[data.trimId.isin(problem_trimIds), [\"trimId\", \"trim_name\"]]\n",
    "    replacement_trim_names[\"str_length\"] = replacement_trim_names.trim_name.str.len()\n",
    "    replacement_trim_names = replacement_trim_names.sort_values(\"str_length\").drop_duplicates(\"trimId\")[[\"trimId\", \"trim_name\"]]\n",
    "    data = data.merge(right=replacement_trim_names, how=\"left\", on=\"trimId\", suffixes=(\"\", \"_replacement\"))\n",
    "    data.loc[data.trimId.isin(problem_trimIds), \"trim_name\"] = data.loc[data.trimId.isin(problem_trimIds), \"trim_name_replacement\"]\n",
    "    data = data.drop(columns=[\"trim_name_replacement\"])\n",
    "    \n",
    "    # remove problematic trimIds\n",
    "    more_problem_trimIds = set(data[[\"trimId\", \"body_type\"]].groupby(\"trimId\").nunique().query(\"body_type > 1\").index).union(\n",
    "                           set(data[[\"trimId\", \"maximum_seating\"]].groupby(\"trimId\").nunique().query(\"maximum_seating > 1\").index).union(\n",
    "                           set(data[[\"trimId\", \"height\"]].groupby(\"trimId\").nunique().query(\"height > 1\").index)))\n",
    "    data = data[~data.trimId.isin(more_problem_trimIds)]\n",
    "    \n",
    "    # remove problematic sp_ids\n",
    "    problem_sp_ids = set(data[[\"sp_id\", \"sp_name\"]].groupby(\"sp_id\").nunique().query(\"sp_name > 1\").index).union(\n",
    "                     set(data[[\"sp_id\", \"city\"]].groupby(\"sp_id\").nunique().query(\"city > 1\").index).union(\n",
    "                     set(data[[\"sp_id\", \"dealer_zip\"]].groupby(\"sp_id\").nunique().query(\"dealer_zip > 1\").index).union(\n",
    "                     set(data[[\"sp_id\", \"longitude\"]].groupby(\"sp_id\").nunique().query(\"longitude > 1\").index).union(\n",
    "                     set(data[[\"sp_id\", \"latitude\"]].groupby(\"sp_id\").nunique().query(\"latitude > 1\").index).union(\n",
    "                     set(data[[\"sp_id\", \"franchise_dealer\"]].groupby(\"sp_id\").nunique().query(\"franchise_dealer > 1\").index))))))\n",
    "    data = data[~data.sp_id.isin(problem_sp_ids)]\n",
    "    \n",
    "    # dealer aggregate statistics\n",
    "    avg_rating_df = data[[\"sp_id\", \"seller_rating\"]].groupby(\"sp_id\").mean().reset_index().rename({\"seller_rating\": \"avg_rating\"},axis=1)\n",
    "    data = data.merge(right=avg_rating_df, how=\"left\", on=\"sp_id\")\n",
    "    data = data.drop(columns=[\"seller_rating\"])\n",
    "    total_listings_df = data.groupby(\"sp_id\").size().rename(\"total_listings\").reset_index()\n",
    "    data = data.merge(right=total_listings_df, how=\"left\", on=\"sp_id\")\n",
    "    \n",
    "    # remove semicolons\n",
    "    semicolon_mask = data.sp_name.str.contains(\";\")\n",
    "    data.loc[semicolon_mask, \"sp_name\"] = data.loc[semicolon_mask, \"sp_name\"].str.split(\";\").str[0]\n",
    "    \n",
    "    # drop duplicates\n",
    "    data = data.drop_duplicates()\n",
    "    \n",
    "    # columns for splitting\n",
    "    car_cols = [\"vin\", \"trimId\", \"mileage\", \"is_oemcpo\", \"has_accidents\", \"transmission\",\n",
    "                \"listing_color\", \"horsepower\", \"power\", \"torque\", \"engine_type\",\n",
    "                \"engine_displacement\", \"fuel_type\", \"city_fuel_economy\", \"highway_fuel_economy\"]\n",
    "    mmyt_cols = [\"trimId\", \"make_name\", \"model_name\", \"year\", \"trim_name\",\n",
    "                 \"body_type\", \"maximum_seating\", \"fuel_tank_volume\", \"wheel_system\",\n",
    "                 \"length\", \"width\", \"height\", \"wheelbase\"]\n",
    "    dealer_cols = [\"sp_id\", \"sp_name\", \"total_listings\", \"avg_rating\", \"city\",\n",
    "                   \"dealer_zip\", \"longitude\", \"latitude\", \"franchise_dealer\"]\n",
    "    listing_cols = [\"listing_id\", \"vin\", \"sp_id\", \"price\", \"listing_year\", \"listing_month\",\n",
    "                    \"listing_day\", \"daysonmarket\"]\n",
    "    \n",
    "    # decomposing\n",
    "    cars = data[car_cols].drop_duplicates()\n",
    "    mmyts = data[mmyt_cols].drop_duplicates()\n",
    "    mmyts[\"mmyt_description\"] = (mmyts.year.astype(str) + \" \" # add a column to interface with Data2 better\n",
    "                                 + mmyts.make_name + \" \"\n",
    "                                 + mmyts.model_name + \" \"\n",
    "                                 + mmyts.trim_name)\n",
    "    dealers = data[dealer_cols].drop_duplicates()\n",
    "    listings = data[listing_cols].drop_duplicates()\n",
    "    \n",
    "    # renaming\n",
    "    cars.rename(columns= {\n",
    "        \"trimId\":\"mmyt_id\",\n",
    "        \"mileage\":\"odometer\",\n",
    "        \"is_oemcpo\":\"is_certified_preowned\",\n",
    "        \"transmission\":\"transmission_type\",\n",
    "        \"listing_color\":\"exterior_color\",\n",
    "        \"power\":\"max_horsepower_at_rpm\",\n",
    "        \"torque\":\"max_torque_at_rpm\",\n",
    "        \"city_fuel_economy\":\"city_mpg\",\n",
    "        \"highway_fuel_economy\":\"highway_mpg\"\n",
    "    }, inplace=True)\n",
    "    mmyts.rename(columns= {\n",
    "        \"trimId\":\"mmyt_id\",\n",
    "        \"year\":\"production_year\",\n",
    "        \"maximum_seating\":\"max_seats\",\n",
    "        \"fuel_tank_volume\":\"fuel_tank_gallons\",\n",
    "        \"length\":\"vehicle_length\",\n",
    "        \"width\":\"vehicle_width\",\n",
    "        \"height\":\"vehicle_height\",\n",
    "        \"wheel_system\":\"drivetrain\"\n",
    "    }, inplace=True)\n",
    "    dealers.rename(columns= {\n",
    "        \"sp_id\":\"dealer_id\",\n",
    "        \"sp_name\":\"dealer_name\",\n",
    "        \"city\":\"location\",\n",
    "        \"dealer_zip\":\"zipcode\",\n",
    "        \"franchise_dealer\":\"is_franchise_dealer\"\n",
    "    }, inplace=True)\n",
    "    dealers[\"is_franchise_dealer\"] = dealers.is_franchise_dealer.astype(str)\n",
    "    listings.rename(columns= {\n",
    "        \"sp_id\":\"dealer_id\",\n",
    "        \"daysonmarket\":\"days_on_market\"\n",
    "    }, inplace=True)\n",
    "    \n",
    "    # return out preprocessed tables\n",
    "    return cars, mmyts, dealers, listings"
   ]
  },
  {
   "cell_type": "markdown",
   "id": "68f5e67d",
   "metadata": {},
   "source": [
    "# Appendix B: Final processing function for `Data2`"
   ]
  },
  {
   "cell_type": "code",
   "execution_count": 197,
   "id": "4c9060f8",
   "metadata": {},
   "outputs": [],
   "source": [
    "def preprocess_Data2(data):\n",
    "    \n",
    "    # dropping unused columns\n",
    "    data = data.drop(columns=[\"county\", \"url\", \"region_url\", \"image_url\", \"description\"])\n",
    "    \n",
    "    # column-level cleaning\n",
    "    data = data[data[\"VIN\"].notna()]\n",
    "    data = data[data.VIN.str.len() == 17]\n",
    "    data = data[data.price < 300000]\n",
    "    data = data[data.price > 0]\n",
    "    data = data[data.odometer < 999999]\n",
    "    data[\"posting_year\"] = data.posting_date.str[0:4].astype(int)\n",
    "    data[\"posting_month\"] = data.posting_date.str[5:7].astype(int)\n",
    "    data[\"posting_day\"] = data.posting_date.str[8:10].astype(int)\n",
    "    data = data.drop(\"posting_date\", axis=1)\n",
    "    \n",
    "    # decomposing: MMYT\n",
    "    data[\"type\"] = data.type.replace({\"sedan\":\"Sedan\",\n",
    "                                      \"SUV\":\"SUV / Crossover\",\n",
    "                                      \"pickup\":\"Pickup Truck\",\n",
    "                                      \"truck\":\"Pickup Truck\",\n",
    "                                      \"other\":\"Other\",\n",
    "                                      \"coupe\":\"Coupe\",\n",
    "                                      \"hatchback\":\"Hatchback\",\n",
    "                                      \"wagon\":\"Wagon\",\n",
    "                                      \"van\":\"Van\",\n",
    "                                      \"convertible\":\"Convertible\",\n",
    "                                      \"mini-van\":\"Minivan\",\n",
    "                                      \"offroad\":\"SUV / Crossover\",\n",
    "                                      \"bus\":\"Pickup Truck\"})\n",
    "    data[\"type\"] = data.type.fillna(\"Unknown\")\n",
    "    data[\"drive\"] = data.drive.replace({\"4wd\":\"4WD\", \"fwd\":\"FWD\", \"rwd\":\"RWD\"})\n",
    "    data[\"drive\"] = data.drive.fillna(\"Unknown\")\n",
    "    data[\"manufacturer\"] = data.manufacturer.str.title()\n",
    "    data[\"manufacturer\"] = data.manufacturer.fillna(\"Unknown\")\n",
    "    data[\"year\"] = data.year.astype(\"Int16\")\n",
    "    data[\"year\"] = data.year.fillna(-1)\n",
    "    data[\"model\"] = data.model.fillna(\"Unknown\")\n",
    "    mmyts = data[[\"manufacturer\", \"year\", \"type\", \"drive\", \"model\"]]\n",
    "    mmyts.rename(columns={\n",
    "        \"manufacturer\":\"make_name\",\n",
    "        \"year\":\"production_year\",\n",
    "        \"type\":\"body_type\",\n",
    "        \"drive\":\"drivetrain\",\n",
    "        \"model\":\"mmyt_description\",\n",
    "    }, inplace=True)\n",
    "    mmyts.drop_duplicates(inplace=True)\n",
    "    mmyts[\"model_name\"] = \"Unknown\"\n",
    "    mmyts[\"trim_name\"] = \"Unknown\"\n",
    "    mmyts[\"max_seats\"] = -1\n",
    "    mmyts[\"fuel_tank_gallons\"] = -1\n",
    "    mmyts[\"vehicle_length\"] = -1\n",
    "    mmyts[\"vehicle_width\"] = -1\n",
    "    mmyts[\"vehicle_height\"] = -1\n",
    "    mmyts[\"wheelbase\"] = -1\n",
    "    mmyts.reset_index(drop=True, inplace=True)\n",
    "    mmyts[\"mmyt_id\"] = \"MMYT\" + pd.Series(range(95000, 95000 + mmyts.shape[0])).astype(str).str.zfill(6)\n",
    "    mmyts = mmyts[[\"mmyt_id\", \"make_name\", \"model_name\", \"production_year\", \"trim_name\",\n",
    "                   \"body_type\", \"max_seats\", \"fuel_tank_gallons\", \"drivetrain\",\n",
    "                   \"vehicle_length\", \"vehicle_width\", \"vehicle_height\", \"wheelbase\", \"mmyt_description\"]]\n",
    "    \n",
    "    \n",
    "    # decomposing: Car\n",
    "    data = data.merge(mmyts, how=\"left\",\n",
    "                      left_on=[\"manufacturer\",\"year\",\"type\",\"drive\",\"model\"],\n",
    "                      right_on=[\"make_name\",\"production_year\",\"body_type\",\"drivetrain\",\"mmyt_description\"])\n",
    "    data[\"fuel\"] = data.fuel.replace({\"gas\":\"Gasoline\",\n",
    "                                      \"other\":\"Other\",\n",
    "                                      \"diesel\":\"Diesel\",\n",
    "                                      \"hybrid\":\"Hybrid\",\n",
    "                                      \"electric\":\"Flex Fuel Vehicle\"})\n",
    "    data[\"fuel\"] = data.fuel.fillna(\"Unknown\")\n",
    "    data[\"transmission\"] = data.transmission.replace({\"automatic\":\"A\",\"manual\":\"M\",\"other\":\"Other\"})\n",
    "    data[\"transmission\"] = data.transmission.fillna(\"Unknown\")\n",
    "    data[\"paint_color\"] = data.paint_color.replace({\"white\":\"WHITE\",\n",
    "                                                    \"black\":\"BLACK\",\n",
    "                                                    \"silver\":\"SILVER\",\n",
    "                                                    \"blue\":\"BLUE\",\n",
    "                                                    \"red\":\"RED\",\n",
    "                                                    \"grey\":\"GRAY\",\n",
    "                                                    \"green\":\"GREEN\",\n",
    "                                                    \"custom\":\"UNKNOWN\",\n",
    "                                                    \"brown\":\"BROWN\",\n",
    "                                                    \"orange\":\"ORANGE\",\n",
    "                                                    \"yellow\":\"YELLOW\",\n",
    "                                                    \"purple\":\"PURPLE\"})\n",
    "    data[\"paint_color\"] = data.paint_color.fillna(\"Unknown\")\n",
    "    data[\"cylinders\"] = data.cylinders.replace({\"6 cylinders\":\"Unknown\",\n",
    "                                                \"4 cylinders\":\"Unknown\",\n",
    "                                                \"8 cylinders\":\"Unknown\",\n",
    "                                                \"10 cylinders\":\"V10\",\n",
    "                                                \"5 cylinders\":\"I5\",\n",
    "                                                \"other\":\"Unknown\",\n",
    "                                                \"3 cylinders\":\"I3\",\n",
    "                                                \"12 cylinders\":\"Unknown\"})\n",
    "    data[\"cylinders\"] = data.cylinders.fillna(\"Unknown\")\n",
    "    cars = data[[\"cylinders\", \"fuel\", \"odometer\", \"transmission\", \"VIN\", \"paint_color\", \"mmyt_id\"]]\n",
    "    cars.rename(columns={\n",
    "        \"cylinders\":\"engine_type\",\n",
    "        \"fuel\":\"fuel_type\",\n",
    "        \"odometer\":\"odometer\",\n",
    "        \"transmission\":\"transmission_type\",\n",
    "        \"VIN\":\"vin\",\n",
    "        \"paint_color\": \"exterior_color\",\n",
    "        \"mmyt_id\":\"mmyt_id\"\n",
    "    }, inplace=True)\n",
    "    cars.drop_duplicates(subset=\"vin\", keep=\"first\", inplace=True)\n",
    "    cars[\"is_certified_preowned\"] = \"False\" # Data2 was from Craigslist -> no cpo\n",
    "    cars[\"has_accidents\"] = \"Unknown\"\n",
    "    cars[\"horsepower\"] = -1.0\n",
    "    cars[\"max_horsepower_at_rpm\"] = \"Unknown\"\n",
    "    cars[\"max_torque_at_rpm\"] = \"Unknown\"\n",
    "    cars[\"engine_displacement\"] = -1.0\n",
    "    cars[\"city_mpg\"] = -1.0\n",
    "    cars[\"highway_mpg\"] = -1.0\n",
    "    cars = cars[[\"vin\", \"mmyt_id\", \"odometer\", \"is_certified_preowned\", \"has_accidents\",\n",
    "                 \"transmission_type\", \"exterior_color\", \"horsepower\", \"max_horsepower_at_rpm\",\n",
    "                 \"max_torque_at_rpm\", \"engine_type\", \"engine_displacement\", \"fuel_type\",\n",
    "                 \"city_mpg\", \"highway_mpg\"]]\n",
    "    \n",
    "    \n",
    "    # decomposing: Dealer\n",
    "    dealers = data.groupby([\"long\",\"lat\"]).id.count().reset_index()\n",
    "    dealers.rename(columns={\n",
    "        \"id\":\"total_listings\",\n",
    "        \"long\":\"longitude\",\n",
    "        \"lat\":\"latitude\"\n",
    "    }, inplace=True)\n",
    "    dealers[\"dealer_name\"] = \"Unknown\"\n",
    "    dealers[\"avg_rating\"] = -1.0\n",
    "    dealers[\"location\"] = \"Unknown\"\n",
    "    dealers[\"zipcode\"] = -1.0\n",
    "    dealers[\"is_franchise_dealer\"] = \"False\"\n",
    "    dealers.reset_index(drop=True, inplace=True)\n",
    "    dealers[\"dealer_id\"] = \"D\" + pd.Series(range(450000, 450000 + dealers.shape[0])).astype(str).str.zfill(7)\n",
    "    dealers = dealers[[\"dealer_id\", \"dealer_name\", \"total_listings\", \"avg_rating\",\n",
    "                       \"location\", \"zipcode\", \"longitude\", \"latitude\", \"is_franchise_dealer\"]]\n",
    "\n",
    "    # decomposing: Listing\n",
    "    data.dropna(subset=[\"long\",\"lat\"], how=\"any\", inplace=True)\n",
    "    data = data.merge(dealers, how=\"left\",\n",
    "           left_on=[\"long\",\"lat\"],\n",
    "           right_on=[\"longitude\",\"latitude\"])\n",
    "    data[\"id\"] = \"L\" + data.id.astype(str).str.zfill(10)\n",
    "    listings = data[[\"id\", \"VIN\", \"dealer_id\", \"price\", \"posting_year\", \"posting_month\", \"posting_day\"]]\n",
    "    listings.rename(columns={\n",
    "        \"id\":\"listing_id\",\n",
    "        \"VIN\":\"vin\",\n",
    "        \"dealer_id\":\"dealer_id\",\n",
    "        \"price\":\"price\",\n",
    "        \"posting_year\":\"listing_year\",\n",
    "        \"posting_month\":\"listing_month\",\n",
    "        \"posting_day\":\"listing_day\"\n",
    "    }, inplace=True)\n",
    "    listings[\"days_on_market\"] = -1\n",
    "    listings = listings[[\"listing_id\", \"vin\", \"dealer_id\", \"price\", \"listing_year\",\n",
    "                         \"listing_month\", \"listing_day\", \"days_on_market\"]]\n",
    "    \n",
    "    # return out preprocessed tables\n",
    "    return cars, mmyts, dealers, listings"
   ]
  },
  {
   "cell_type": "markdown",
   "id": "afca6609",
   "metadata": {},
   "source": [
    "# Appendix C: Code to create all database tables and export to csv"
   ]
  },
  {
   "cell_type": "code",
   "execution_count": 198,
   "id": "7087be96",
   "metadata": {},
   "outputs": [],
   "source": [
    "def create_all_database_tables_and_export_to_csv(Data1_raw, Data2_raw):\n",
    "    \n",
    "    # get decomposed tables for Data1\n",
    "    Data1_cars_final, Data1_mmyts_final, Data1_dealers_final, Data1_listings_final = preprocess_Data1(Data1_raw)\n",
    "\n",
    "    # get decomposed tables for Data2\n",
    "    Data2_cars_final, Data2_mmyts_final, Data2_dealers_final, Data2_listings_final = preprocess_Data2(Data2_raw)\n",
    "    \n",
    "    # concatenate tables from Data1 and Data2\n",
    "    cars_final = pd.concat([Data1_cars_final, Data2_cars_final], axis=0)\n",
    "    cars_final.drop_duplicates(subset=\"vin\", keep=\"first\", inplace=True)\n",
    "    mmyts_final = pd.concat([Data1_mmyts_final, Data2_mmyts_final], axis=0)\n",
    "    dealers_final = pd.concat([Data1_dealers_final, Data2_dealers_final], axis=0)\n",
    "    listings_final = pd.concat([Data1_listings_final, Data2_listings_final], axis=0)\n",
    "\n",
    "    # export to csv\n",
    "    cars_final.to_csv(\"./Data/Car.csv\", sep=\";\", index=False, header=False)\n",
    "    mmyts_final.to_csv(\"./Data/MMYT.csv\", sep=\";\", index=False, header=False)\n",
    "    dealers_final.to_csv(\"./Data/Dealer.csv\", sep=\";\", index=False, header=False)\n",
    "    listings_final.to_csv(\"./Data/Listing.csv\", sep=\";\", index=False, header=False)\n",
    "    return"
   ]
  }
 ],
 "metadata": {
  "kernelspec": {
   "display_name": "Python 3 (ipykernel)",
   "language": "python",
   "name": "python3"
  },
  "language_info": {
   "codemirror_mode": {
    "name": "ipython",
    "version": 3
   },
   "file_extension": ".py",
   "mimetype": "text/x-python",
   "name": "python",
   "nbconvert_exporter": "python",
   "pygments_lexer": "ipython3",
   "version": "3.10.9"
  }
 },
 "nbformat": 4,
 "nbformat_minor": 5
}
